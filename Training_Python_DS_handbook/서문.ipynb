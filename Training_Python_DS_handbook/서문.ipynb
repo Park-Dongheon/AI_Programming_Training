{
 "cells": [
  {
   "cell_type": "markdown",
   "id": "061eed80-a654-4a7f-85de-7dc7fa3ce1a1",
   "metadata": {},
   "source": [
    "# 서문"
   ]
  },
  {
   "cell_type": "markdown",
   "id": "09f7ec50-5191-43ff-be5a-e438939292ac",
   "metadata": {},
   "source": [
    "### 대상 독자"
   ]
  },
  {
   "cell_type": "markdown",
   "id": "b20b5ded-6a74-47a3-a4cd-adf76ec4c0a9",
   "metadata": {},
   "source": [
    "+ Python 사용자들이 데이터를 효과적으로 저장, 가공하고 데이터로부터 통찰력을 얻을 수 있도록 IPython, NumPy, Pandas, Matplotlib, Scikit-Learn 같은 라이브러리와 관련된 도구로 구성된 파이썬의 데이터 과학 스택을 배우는 데 도움"
   ]
  },
  {
   "cell_type": "markdown",
   "id": "13610bfd-211a-4994-8ec3-ea0ee9afdf20",
   "metadata": {},
   "source": [
    "### 왜 Python인가?"
   ]
  },
  {
   "cell_type": "markdown",
   "id": "31479e22-b45a-4d17-9c40-d80902a85a78",
   "metadata": {},
   "source": [
    "+ 지난 수십 년에 걸쳐 대용량 데이터세트의 분석과 시각화를 비롯한 과학 계산 작업을 위한 최고의 도구\n",
    "+ Python이 유용한 이유? - 주로 방대하고 활발한 서드파티 패키지의 생태계 덕분\n",
    "+ 서트파트 패키지 : Numpy - 같은 데이터 타입을 가진 배열 기반의 데이터를 처리하기 위해\n",
    "                    Pandas - 여러 가지 데이터 타입의 레이블(label)이 붙은 데이터를 처리하기 위해\n",
    "                    SciPy - 보편적인 과학 계산 작업을 위해\n",
    "                    MatPlotlib - 게재 가능한 수준의 시각화를 위해\n",
    "                    IPython - 대화형 코드 실행과 공유를 위해\n",
    "                    Scikit-Learn - 머신러닝을 위해\n",
    "                    등"
   ]
  },
  {
   "cell_type": "markdown",
   "id": "15892b8c-1c47-4cff-920d-59d6b70ff1cb",
   "metadata": {},
   "source": [
    "+ IPython And Jupyter : 이 패키지는 Python을 사용하는 많은 데이터 과학자들이 이용하는 계산 환경을 제공\n",
    "+ Numpy : 이 라이브러리는 Python에서 복잡한 데이터 배열을 효율적으로 저장하고 처리하기 위한 ndarray 객체를 제공\n",
    "+ Pandas : 이 라이브러리는 분류 표시된(labeled)/칼럼형(columnar) 데이터를 효율적으로 저장하고 가공하기 위한 DataFrame 객체를 제공\n",
    "+ Matplotlib : 이 라이브러리는 Python에서 유연한 데이터 시각화 기능을 제공\n",
    "+ Scikit-Learn : 이 라이브러리는 기존 머신러닝 알고리즘 중 가장 중요한 것들을 Python으로 효율적이면서도 깔끔하게 구현한 구현물을 제공"
   ]
  },
  {
   "cell_type": "code",
   "execution_count": null,
   "id": "197c7064-a771-42d3-bbbb-b8aa92fe6548",
   "metadata": {},
   "outputs": [],
   "source": []
  }
 ],
 "metadata": {
  "kernelspec": {
   "display_name": "Python 3 (ipykernel)",
   "language": "python",
   "name": "python3"
  },
  "language_info": {
   "codemirror_mode": {
    "name": "ipython",
    "version": 3
   },
   "file_extension": ".py",
   "mimetype": "text/x-python",
   "name": "python",
   "nbconvert_exporter": "python",
   "pygments_lexer": "ipython3",
   "version": "3.11.4"
  }
 },
 "nbformat": 4,
 "nbformat_minor": 5
}
