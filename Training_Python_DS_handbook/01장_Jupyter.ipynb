{
 "cells": [
  {
   "cell_type": "markdown",
   "id": "c977ccb9-7b8a-474f-980d-76b9cd305a32",
   "metadata": {},
   "source": [
    "# 01장. Jupyter: 파이썬에 날개를 달자\n",
    "\n",
    "+ 파이썬 개발 환경을 구축하는 방식 여러가지, IPython 과 텍스트 편집기(Emacs, Atoms) 등\n",
    "+ IPython(대화형 파이선(Interactive Python)의 약자), 2001년 페르난도 페레즈(Fernando Perez)에 의해 파이썬 인터프리터의 향상된 버전으로 시작\n",
    "+ 이 후 페레즈의 표현으로 '`리서치 컴퓨팅(Research Computing)` 의 전체 생애주기를 위한 도구' 제공을 목적으로 하는 프로젝트로 발전\n",
    "+ 데이터 과학 작업에서 파이썬이 엔진, IPythondms 대화형 제어 패널로 생각\n",
    "\n",
    "+ IPython 훌륭한 파이썬 대화형 인터페이스일 뿐만 아니라 추가로 다수의 유용한 구문을 제공\n",
    "+ IPython 은 개발, 협업, 공유는 물론이고 데이터 과학 결과를 게시하는 데 유용한 브라우저 기반의 노트북을 제공 Jupyter(http://jupyter.org) 프로젝트와 밀접하게 연결\n",
    "+ IPython 노트북을 실제로 Julia, R, 다른 프로그래밍 언어를 위한 노트북을 포함하는 광범위한 Jupyter 노트북 구조에서 특별 케이스에 해당\n",
    "\n",
    "+ IPython - 대화형 과학 컴퓨팅과 데이터 집약적인 컴퓨팅을 위해 파이썬을 효과적으로 사용하는 방법\n",
    "  + 파이썬의 표준 기능 이상을 제공하는 구문에 초점해 데이터 과학 실무에 유용한 IPython 기능 배움 필요\n",
    "  + 데이터 과학용 코드를 생성하고 사용하는 일반적인 작업 속도를 높이는 몇 가지 유용한 `매직 명령어` 숙지\n",
    "  + 데이터를 이해하고 결과를 공유하는 데 유용한 일부 노트북 기능 숙지"
   ]
  },
  {
   "cell_type": "markdown",
   "id": "4b2dc9bb-0aca-4ffd-96bf-f6e5d33277ea",
   "metadata": {},
   "source": [
    "## IPython과 Jupyter 시작하기\n",
    "***\n",
    "+ 데이터 과학에서 파이썬 코드를 작성할 때 세 가지 방법으로 작업\n",
    "  1. IPython 셸 : 짧은 명령 시퀸스 시험\n",
    "  2. Jupyter Notebook : 더 긴 대화형 분석 작업을 하거나 다른 사람과 콘텐츠를 공유할 때\n",
    "  3. Emacs나 VSCode (대화형 개발 환경 IDE) : 재사용할 수 있는 파이썬 패키지를 만들 때"
   ]
  },
  {
   "cell_type": "markdown",
   "id": "2a2fab09-2f79-48b6-88aa-66c7bfc48a66",
   "metadata": {},
   "source": [
    "### IPython 셸 실행하기\n",
    ">생략\n",
    "### Jupyter 노트북 실행하기\n",
    "+ Jupyter 노트북은 IPython 셸의 브라우저 기반 그래픽 인터페이스, 풍부한 동적 디스플레이 기술을 기반으로 만들어짐\n",
    "+ `노트북`은 `파이썬/IPython` 문장을 실행할 뿐만 아니라 사용자가 `서식 있는 텍스트`와 `정적/동적 시각화`, `수학 공식`, `자바스크립트 위젯` 등을 포함 가능\n",
    "+ 이 문서들은 저장해서 사용자가 자신의 시스템에서 코드를 실행 가능\n",
    "\n",
    "+ Jupyter 노트북은 웹 브라우저 창을 통해 조회하고 편집할 수 있지만, 코드를 실행하려면 실행 중인 파이선 프로세스와 연결해야 함\n",
    "+ '`커널(kernel)`' 이라고도 하는 이 프로세스를 시작하려면 시스템 셸에서 다음 명령어 실행   \n",
    "    `$ jupyter notebook`\n",
    "+ 이 명령어는 브라우저에서 볼 수 있는 로컬 웹 서버를 실행, 명령어가 무엇을 실행하는지 보여주는 로그를 보여줌\n",
    "\n",
    "+ 명령어 실행 시 기본 브라우저가 자동으로 열리고 로컬 URL을 찾아 들어감, 정확한 주소는 시스템에 따라 다름\n",
    "+ 자동으로 열리지 않는 경우 브라우저를 실행하고 직접 해당 주소를 입력"
   ]
  },
  {
   "cell_type": "markdown",
   "id": "092388b9-478d-4319-b526-6cbf9aac379c",
   "metadata": {},
   "source": [
    "### IPython의 도움말과 문서\n",
    "+ 데이터 과학 분야에서 효과적인 전문가가 된다는 것 = 어떤 상황에서도 대처할 수 있도록 도구나 명령어를 외우고 있는 것보다는 웹 검색 엔진이나 다른 도구를 통해 모르는 정보를 효과적으로 찾아내는 법을 배우는 것\n",
    "\n",
    "+ IPython/Jupyter 의 가장 유용한 기능 중 하나 : 사용자와 문서 유형 및 검색 유형 간의 간극을 줄여 효과적으로 업무를 수행하도록 도움을 주는\n",
    "+ IPython 만으로도 많은 양의 정보를 찾을 수 있음\n",
    "  + 이 함수를 어떻게 호출할 수 있지? 이 함수는 어떤 인수와 옵션을 가지고 있을까?\n",
    "  + 이 파이썬 객체의 소스코드는 어떻게 생겼을까?\n",
    "  + 임포트한 이 패키지에는 무엇이 들어 있을까?\n",
    "  + 이 객체는 어떤 속성이나 메서드를 가지고 있을까?\n",
    "+ 이 정보를 빨리 얻을 수 있는 IPython 도구 : `?` - 문서를 탐색, `??` - 소스코드를 탐색, `<TAB>` - 자동 완성"
   ]
  },
  {
   "cell_type": "markdown",
   "id": "a8d0d318-0c94-43e3-8eb7-264a0b74951f",
   "metadata": {},
   "source": [
    "#### ?로 문서 확인하기\n",
    "***\n",
    "+ 파이썬 언어와 파이썬 데이터 과학 생태계는 사용자를 염두에 두고 만들어 짐\n",
    "+ 그중 중요한 부분은 문서에 접근하는 기능\n",
    "+ 모든 파이썬 객체는 객체에 대한 간결한 요약 정보와 사용법이 담겨 있는 `독스트링(docstring)` 이라는 문자열에 대한 참조를 포함\n",
    "+ 파이썬에는 이 정보에 접근해서 결과를 출력하는 `help()` 함수가 내장"
   ]
  },
  {
   "cell_type": "code",
   "execution_count": 1,
   "id": "cfd2555d-7a5e-48c6-9bae-724378e3afe0",
   "metadata": {},
   "outputs": [
    {
     "name": "stdout",
     "output_type": "stream",
     "text": [
      "Help on built-in function len in module builtins:\n",
      "\n",
      "len(obj, /)\n",
      "    Return the number of items in a container.\n",
      "\n"
     ]
    }
   ],
   "source": [
    "# 내장 함수 len 에 대한 문서\n",
    "help(len)"
   ]
  },
  {
   "cell_type": "markdown",
   "id": "7d14b195-f0cb-4182-8a4c-d3639741b2ae",
   "metadata": {},
   "source": [
    "+ 사용하는 인터프리터에 따라 이 정보는 인라인 텍스트로 표시되기도 하고 별도의 팝업 창으로 표시\n",
    "\n",
    "+ 객체에 대한 도움말을 찾는 것은 매우 일반적이고 유용하기 때문에 IPython 은 이 문서와 다른 관련 정보에 접근하는 단축키로 `?` 문자를 도입"
   ]
  },
  {
   "cell_type": "code",
   "execution_count": 3,
   "id": "2519462f-e0d1-4584-97d7-5dd1c425dbfd",
   "metadata": {},
   "outputs": [
    {
     "data": {
      "text/plain": [
       "\u001b[1;31mSignature:\u001b[0m \u001b[0mlen\u001b[0m\u001b[1;33m(\u001b[0m\u001b[0mobj\u001b[0m\u001b[1;33m,\u001b[0m \u001b[1;33m/\u001b[0m\u001b[1;33m)\u001b[0m\u001b[1;33m\u001b[0m\u001b[1;33m\u001b[0m\u001b[0m\n",
       "\u001b[1;31mDocstring:\u001b[0m Return the number of items in a container.\n",
       "\u001b[1;31mType:\u001b[0m      builtin_function_or_method"
      ]
     },
     "metadata": {},
     "output_type": "display_data"
    }
   ],
   "source": [
    "len?"
   ]
  },
  {
   "cell_type": "code",
   "execution_count": 4,
   "id": "e56fc464-5206-4ee2-91ee-6296cda45556",
   "metadata": {},
   "outputs": [
    {
     "data": {
      "text/plain": [
       "\u001b[1;31mSignature:\u001b[0m \u001b[0mL\u001b[0m\u001b[1;33m.\u001b[0m\u001b[0minsert\u001b[0m\u001b[1;33m(\u001b[0m\u001b[0mindex\u001b[0m\u001b[1;33m,\u001b[0m \u001b[0mobject\u001b[0m\u001b[1;33m,\u001b[0m \u001b[1;33m/\u001b[0m\u001b[1;33m)\u001b[0m\u001b[1;33m\u001b[0m\u001b[1;33m\u001b[0m\u001b[0m\n",
       "\u001b[1;31mDocstring:\u001b[0m Insert object before index.\n",
       "\u001b[1;31mType:\u001b[0m      builtin_function_or_method"
      ]
     },
     "metadata": {},
     "output_type": "display_data"
    }
   ],
   "source": [
    "# 객체 메서드를 포함해 거의 모든 경우에 사용 가능\n",
    "L = [1, 2, 3]\n",
    "L.insert?"
   ]
  },
  {
   "cell_type": "code",
   "execution_count": 5,
   "id": "eb59faf3-4385-43f8-aceb-ef51a87c5cd7",
   "metadata": {},
   "outputs": [
    {
     "data": {
      "text/plain": [
       "\u001b[1;31mType:\u001b[0m        list\n",
       "\u001b[1;31mString form:\u001b[0m [1, 2, 3]\n",
       "\u001b[1;31mLength:\u001b[0m      3\n",
       "\u001b[1;31mDocstring:\u001b[0m  \n",
       "Built-in mutable sequence.\n",
       "\n",
       "If no argument is given, the constructor creates a new empty list.\n",
       "The argument must be an iterable if specified."
      ]
     },
     "metadata": {},
     "output_type": "display_data"
    }
   ],
   "source": [
    "# 객체 자체에 대해서도 객체 타입에 대한 문서를 제공\n",
    "L?"
   ]
  },
  {
   "cell_type": "code",
   "execution_count": 6,
   "id": "e4527990-317c-4a7d-a941-face682c2e54",
   "metadata": {},
   "outputs": [],
   "source": [
    "# 직접 만든 함수나 다른 객체에서도 동작\n",
    "def square(a):\n",
    "    \"\"\"a의 제곱을 반환\"\"\"\n",
    "    return a ** 2"
   ]
  },
  {
   "cell_type": "markdown",
   "id": "474a0e76-0866-4be6-aff2-a5d66eeb90f6",
   "metadata": {},
   "source": [
    "> 함수의 독스트링을 만들기 위해 단순히 첫 줄에 문자열 리터럴을 삽입, 일반적으로 여러 줄 작성   \n",
    "> 파이썬에서 여러 줄 문자열 `\"\"\"` 큰 따옴표 세 개를 관례적으로 사용"
   ]
  },
  {
   "cell_type": "code",
   "execution_count": 7,
   "id": "5c9e6024-8340-41b0-a492-14c0df392914",
   "metadata": {},
   "outputs": [
    {
     "data": {
      "text/plain": [
       "\u001b[1;31mSignature:\u001b[0m \u001b[0msquare\u001b[0m\u001b[1;33m(\u001b[0m\u001b[0ma\u001b[0m\u001b[1;33m)\u001b[0m\u001b[1;33m\u001b[0m\u001b[1;33m\u001b[0m\u001b[0m\n",
       "\u001b[1;31mDocstring:\u001b[0m a의 제곱을 반환\n",
       "\u001b[1;31mFile:\u001b[0m      c:\\users\\dongh\\appdata\\local\\temp\\ipykernel_11864\\348279071.py\n",
       "\u001b[1;31mType:\u001b[0m      function"
      ]
     },
     "metadata": {},
     "output_type": "display_data"
    }
   ],
   "source": [
    "square?"
   ]
  },
  {
   "cell_type": "markdown",
   "id": "b96098bf-6f9d-4a13-bd25-f7922592e094",
   "metadata": {},
   "source": [
    "+ 독스트링을 통해 문서에 손쉽게 접근 가능하기 때문에 코드에 항상 인라인 문서를 추가하는 습관 필요"
   ]
  },
  {
   "cell_type": "markdown",
   "id": "faba9bc1-0185-40c8-8659-edad74544ab5",
   "metadata": {},
   "source": [
    "#### ??로 소스코드에 접근하기\n",
    "***\n",
    "+ IPython 은 `??` 물음표 두 개를 소스코드의 단축키로 제공"
   ]
  },
  {
   "cell_type": "code",
   "execution_count": 12,
   "id": "8a52492c-b6e1-4529-9d70-6b631a9820f4",
   "metadata": {},
   "outputs": [
    {
     "data": {
      "text/plain": [
       "\u001b[1;31mSignature:\u001b[0m \u001b[0msquare\u001b[0m\u001b[1;33m(\u001b[0m\u001b[0ma\u001b[0m\u001b[1;33m)\u001b[0m\u001b[1;33m\u001b[0m\u001b[1;33m\u001b[0m\u001b[0m\n",
       "\u001b[1;31mSource:\u001b[0m   \n",
       "\u001b[1;32mdef\u001b[0m \u001b[0msquare\u001b[0m\u001b[1;33m(\u001b[0m\u001b[0ma\u001b[0m\u001b[1;33m)\u001b[0m\u001b[1;33m:\u001b[0m\u001b[1;33m\n",
       "\u001b[0m    \u001b[1;34m\"\"\"a의 제곱을 반환\"\"\"\u001b[0m\u001b[1;33m\n",
       "\u001b[0m    \u001b[1;32mreturn\u001b[0m \u001b[0ma\u001b[0m \u001b[1;33m**\u001b[0m \u001b[1;36m2\u001b[0m\u001b[1;33m\u001b[0m\u001b[1;33m\u001b[0m\u001b[0m\n",
       "\u001b[1;31mFile:\u001b[0m      c:\\users\\dongh\\appdata\\local\\temp\\ipykernel_11864\\348279071.py\n",
       "\u001b[1;31mType:\u001b[0m      function"
      ]
     },
     "metadata": {},
     "output_type": "display_data"
    }
   ],
   "source": [
    "square??"
   ]
  },
  {
   "cell_type": "markdown",
   "id": "22dd5754-817a-4c6f-8ec3-03cf7eaaaf65",
   "metadata": {},
   "source": [
    "+ ?? 접미사가 때때로 소스코드를 보여주지 않을 경우, 보통 질문한 객체가 파이썬에서 구현된 것이 아니라 C나 다른 컴파일된 확장 언어로 구현됐기 때문\n",
    "+ 그러한 경우 ?? 접미사가 ? 접미사와 같은 결과\n",
    "+ 파이썬 내장 객체와 타입에서 이런 경우 많이 나타남"
   ]
  },
  {
   "cell_type": "code",
   "execution_count": 13,
   "id": "4e7b0733-1138-4982-82e7-90f0759bf74b",
   "metadata": {},
   "outputs": [
    {
     "data": {
      "text/plain": [
       "\u001b[1;31mSignature:\u001b[0m \u001b[0mlen\u001b[0m\u001b[1;33m(\u001b[0m\u001b[0mobj\u001b[0m\u001b[1;33m,\u001b[0m \u001b[1;33m/\u001b[0m\u001b[1;33m)\u001b[0m\u001b[1;33m\u001b[0m\u001b[1;33m\u001b[0m\u001b[0m\n",
       "\u001b[1;31mDocstring:\u001b[0m Return the number of items in a container.\n",
       "\u001b[1;31mType:\u001b[0m      builtin_function_or_method"
      ]
     },
     "metadata": {},
     "output_type": "display_data"
    }
   ],
   "source": [
    "len??"
   ]
  },
  {
   "cell_type": "markdown",
   "id": "64b9a7ab-b758-473c-bae1-f96548091d7e",
   "metadata": {},
   "source": [
    "#### 탭 자동 완성으로 모듈 탐색하기\n",
    "***\n",
    "+ IPython 의 다른 유용한 인터페이스 : 객체와 모듈, 네임스페이스의 내용을 자동 완성하고 탐색하기 위한 탭(Tab) 키\n",
    "\n",
    "  + 객체 내용의 탭 자동 완성\n",
    "  ***\n",
    "  + 모든 파이썬 객체는 그것과 연결된 다양한 속성과 메서드 내장\n",
    "  + help 함수와 같이, 파이썬에서 속성과 메서드 목록을 반환하는 내장 함수 dir 있음\n",
    "  + 실제로는 탭(Tab) 완성이 훨씬 더 사용하기 쉬움\n",
    "  + 객체에서 사용할 수 있는 모든 속성의 목록을 보려면 객체명 다음에 마침표(.)를 찍고 탭(Tab) 키를 누름"
   ]
  },
  {
   "cell_type": "code",
   "execution_count": 15,
   "id": "3c7831cc-a17e-4982-80c1-a2dc1d144770",
   "metadata": {},
   "outputs": [],
   "source": [
    "# L.<TAB>"
   ]
  },
  {
   "cell_type": "code",
   "execution_count": 17,
   "id": "327a0000-4262-414d-88bc-7ee1846b60d6",
   "metadata": {},
   "outputs": [],
   "source": [
    "# 더 구체적으로 검색 -> 찾고자 하는 이름의 첫 번째 글자나 몇 자를 입력하고 탭(TAB) 키를 누름 -> 그에 일치하는 속성과 메서드 찾아줌\n",
    "\n",
    "# 목록에 해당하는 항목이 하나뿐이라면 탭 키를 누르면 그 줄이 완성\n",
    "# L.c<TAB>\n",
    "# L.co<TAB>"
   ]
  },
  {
   "cell_type": "code",
   "execution_count": 19,
   "id": "d4955c04-23d4-4681-86f8-fcbdd1aa063f",
   "metadata": {},
   "outputs": [],
   "source": [
    "# 다음 과 같이 입력하면 바로 L.count 로 대치\n",
    "\n",
    "# L.cou<TAB>"
   ]
  },
  {
   "cell_type": "markdown",
   "id": "5e4f97c2-4dd1-48d2-ae4f-357993772170",
   "metadata": {},
   "source": [
    "+ 파이썬은 공개(public)/ 외부 속성과 비공개(private)/ 내부 속성을 엄격하게 구분하지 않지만, 관례상 비공개 속성을 표기할 때 속성 앞에 밑줄(`_`)을 사용\n",
    "+ 비공개 메서드와 특별한 메서드는 기본적으로 이 목록에서 생략되지만, 밑줄(`_`)을 입력함으로써 명확하게 그 메서드들을 목록에 보이게 가능"
   ]
  },
  {
   "cell_type": "code",
   "execution_count": 20,
   "id": "61b02d04-73bf-46ad-b9c6-77c417206a00",
   "metadata": {},
   "outputs": [],
   "source": [
    "# L._<TAB>"
   ]
  },
  {
   "cell_type": "markdown",
   "id": "1e11ef7b-2a7a-4243-ae07-2f6a0ad78f46",
   "metadata": {},
   "source": [
    "> 파이썬의 특별한 `이중 밑줄 표시 메서드` `(double-underscore method, 별명으로 'dunder' 메서드 )`"
   ]
  },
  {
   "cell_type": "markdown",
   "id": "7b0a39ac-9524-4be0-9249-b49100ec6e7a",
   "metadata": {},
   "source": [
    "  #### 임포트할 때 탭 자동 완성 사용하기\n",
    "  ***\n",
    "  + 탭 자동 완성 : 패키지에서 객체를 임포트할 때도 유용\n",
    "  + itertools 패키지에서 co로 시작하는 모든 가능한 임포트를 찾기 위해 탭 키를 사용"
   ]
  },
  {
   "cell_type": "code",
   "execution_count": 23,
   "id": "17cdfbad-e3a1-433f-a159-76fe8c63af83",
   "metadata": {},
   "outputs": [],
   "source": [
    "# from itertools import co<TAB>"
   ]
  },
  {
   "cell_type": "markdown",
   "id": "7af1dc3d-80e3-4979-af35-3d68dff5cea2",
   "metadata": {},
   "source": [
    "+ 각 시스템에서 사용할 수 있는 임포트를 확인하는 데도 탭(Tab) 자동 완성을 사용 가능\n",
    "+ 파이썬 세션에 어떤 서드파티 스크립트와 모듈이 보이느냐에 따라 달라짐"
   ]
  },
  {
   "cell_type": "code",
   "execution_count": 25,
   "id": "0d059dd8-b27f-454a-8f81-15df654904f8",
   "metadata": {},
   "outputs": [],
   "source": [
    "# import <TAB>\n",
    "# import h<TAB>"
   ]
  },
  {
   "cell_type": "markdown",
   "id": "9782172f-27f9-40e0-b372-f96b388d9976",
   "metadata": {},
   "source": [
    "#### 탭 완성을 넘어: 와일드카드 매칭\n",
    "+ 탭 완성 : 찾고자 하는 객체나 속성의 처음 몇 글자를 안다면 유용하지만 단어의 중간이나 마지막 글자로 매칭하고 싶다면 거의 도움되지 않음\n",
    "+ 이러한 경우, IPython 은 `*` 문자를 이용해 이름을 와일드 카드 매칭하는 방법을 제공"
   ]
  },
  {
   "cell_type": "code",
   "execution_count": 27,
   "id": "ad7f3298-6f78-4e23-afb5-96f4a9a25e5a",
   "metadata": {},
   "outputs": [
    {
     "data": {
      "text/plain": [
       "BytesWarning\n",
       "DeprecationWarning\n",
       "EncodingWarning\n",
       "FutureWarning\n",
       "ImportWarning\n",
       "PendingDeprecationWarning\n",
       "ResourceWarning\n",
       "RuntimeWarning\n",
       "SyntaxWarning\n",
       "UnicodeWarning\n",
       "UserWarning\n",
       "Warning"
      ]
     },
     "metadata": {},
     "output_type": "display_data"
    }
   ],
   "source": [
    "# 네임스페이스에서 Warning으로 끝나는 모든 객체를 나열하기 위해 이를 이용\n",
    "*Warning?\n",
    "# 가정 : 비슷하게 이름 어딘가에 find가 포함된 문자열 메서드 찾음"
   ]
  },
  {
   "cell_type": "code",
   "execution_count": 29,
   "id": "de9c0bf9-8089-44f6-bc1a-0807344e4f45",
   "metadata": {},
   "outputs": [
    {
     "data": {
      "text/plain": [
       "str.find\n",
       "str.rfind"
      ]
     },
     "metadata": {},
     "output_type": "display_data"
    }
   ],
   "source": [
    "str.*find*?"
   ]
  },
  {
   "cell_type": "markdown",
   "id": "6bff5249-5f8b-4872-bba8-d9e6389ad86a",
   "metadata": {},
   "source": [
    "+ 새 패키지를 알게 되거나 익숙했던 패키지를 다시 알게 될 때\n",
    "+ 특정 명령어를 발견하는 데 있어 이러한 유형의 유연한 와일드카드 검색이 매우 유용"
   ]
  },
  {
   "cell_type": "markdown",
   "id": "550749ef-c41e-43dc-949b-074ec1bc9869",
   "metadata": {},
   "source": [
    "### IPython 셸에서 사용할 수 있는 키보드 단축키\n",
    "+ Emacs, Vim 등 인기 있는 텍스트 편집기는 복잡한 키 조합을 통해 놀랄 만큼 광범위한 조작을 사용자에게 제공\n",
    "\n",
    "+ IPython 셸은 그렇게까지는 아니더라도 명령어를 입력하는 동안 빠르게 탐색할 수 있는 여러 단축키를 제공\n",
    "+ 단축키들이 실제로 IPython 자체에서 제공되는 것이 아니라 GNU Readline 라이브러리의 종속성을 통해 제공\n",
    "+ 따라서 다음 단축키 중 일부는 시스템 설정에 따라 달라질 수 있음\n",
    "+ 또한, 이 단축키 중 일부는 브라우저 기반의 노트북에서 동작\n",
    "\n",
    "+ 단축키에 익숙해지고 나면 원래 키보드 위치에서 손을 움직이지 않고도 특정 명령어를 빠르게 실행 가능\n",
    "+ Emacs 사용자거나 리눅스 형식의 셸을 사용한 경험이 있다면 매우 익숙\n",
    "+ 단축키를 `탐색`, `텍스트 입력`, `명령어 이력`, `기타 카테고리`로 분류 "
   ]
  },
  {
   "cell_type": "markdown",
   "id": "cb38ae8e-f454-40dd-9a4b-729576f181f5",
   "metadata": {},
   "source": [
    "#### 탐색 단축키\n",
    "***\n",
    "+ 한 줄에서 좌우 화살표 키를 사용해 앞뒤로 움직일 수 있음 -> 원래 키보드 위치에서 손을 움직이지 않고도 할 수 있는 방법 있음\n",
    "\n",
    "#### 텍스트 입력 단축키\n",
    "***\n",
    "+ 이전 문자를 지우기 위해 백스페이스 키 대신 `Ctrl-b` 와 `Ctrl-d` 조합을 사용하게 된다면 명령어 사용하는 것이 습관\n",
    "\n",
    "#### 명령어 이력 단축키\n",
    "***\n",
    "+ 가장 영향력이 큰 것 - IPython 이 명령어 이력을 탐색할 수 있도록 제공하는 단축키일 것이다.\n",
    "+ 이 명령어 이력 단축키 - 현재 IPython 세션을 넘어 IPython 프로파일 디렉터리의 SQLite 데이터베이스에 저장된 전체 명령어 이력을 탐색 가능\n",
    "+ 여기에 접근할 수 있는 가장 간단한 방법 - 위/아래 화살표 키를 이용하는 것이지만 다른 방식 있음\n",
    "\n",
    "\n",
    "+ 역탐색 : 특히 유용, square 함수를 정의, 새로 IPython 셸을 열어서 파이썬 이력을 역탐색,\n",
    "+ 새로 IPython 셰을 열어서 파이썬 이력을 역탐색해서 이 함수의 정의를 찾아봄\n",
    "+ IPython 터미널에서 `Ctrl-r` 을 누르면 다음과 같은 프롬프트 나타남"
   ]
  },
  {
   "cell_type": "markdown",
   "id": "01a6018c-e0db-4841-b4dd-39a0dbdaa834",
   "metadata": {},
   "source": [
    "+ 이 프롬프트에 문자를 입력하면 IPython이 입력 문자에 일치하는 가장 최근 명령어를 자동으로 채움"
   ]
  },
  {
   "cell_type": "code",
   "execution_count": 31,
   "id": "333bc812-b943-4c90-ab1e-633b2b7fe87f",
   "metadata": {},
   "outputs": [
    {
     "data": {
      "text/plain": [
       "\u001b[1;31mSignature:\u001b[0m \u001b[0msquare\u001b[0m\u001b[1;33m(\u001b[0m\u001b[0ma\u001b[0m\u001b[1;33m)\u001b[0m\u001b[1;33m\u001b[0m\u001b[1;33m\u001b[0m\u001b[0m\n",
       "\u001b[1;31mSource:\u001b[0m   \n",
       "\u001b[1;32mdef\u001b[0m \u001b[0msquare\u001b[0m\u001b[1;33m(\u001b[0m\u001b[0ma\u001b[0m\u001b[1;33m)\u001b[0m\u001b[1;33m:\u001b[0m\u001b[1;33m\n",
       "\u001b[0m    \u001b[1;34m\"\"\"a의 제곱을 반환\"\"\"\u001b[0m\u001b[1;33m\n",
       "\u001b[0m    \u001b[1;32mreturn\u001b[0m \u001b[0ma\u001b[0m \u001b[1;33m**\u001b[0m \u001b[1;36m2\u001b[0m\u001b[1;33m\u001b[0m\u001b[1;33m\u001b[0m\u001b[0m\n",
       "\u001b[1;31mFile:\u001b[0m      c:\\users\\dongh\\appdata\\local\\temp\\ipykernel_11864\\348279071.py\n",
       "\u001b[1;31mType:\u001b[0m      function"
      ]
     },
     "metadata": {},
     "output_type": "display_data"
    }
   ],
   "source": [
    "square??"
   ]
  },
  {
   "cell_type": "code",
   "execution_count": 33,
   "id": "5a059396-f116-466e-a055-723617d7741d",
   "metadata": {},
   "outputs": [],
   "source": [
    "# Ctrl-r 을 두 번 더 누르면\n",
    "def square(a):\n",
    "    \"\"\"a의 제곱을 반환\"\"\"\n",
    "    return a ** 2"
   ]
  },
  {
   "cell_type": "code",
   "execution_count": 34,
   "id": "b9a79315-30b2-4913-aa43-cb6e76958c3a",
   "metadata": {},
   "outputs": [
    {
     "data": {
      "text/plain": [
       "4"
      ]
     },
     "execution_count": 34,
     "metadata": {},
     "output_type": "execute_result"
    }
   ],
   "source": [
    "# 검색하고자 했던 명령어를 찾고 나면 엔터키를 눌러 검색 종료, 그렇게 가져온 명령어를 사용해 세션을 이어감\n",
    "def square(a):\n",
    "    \"\"\"a의 제곱을 반환\"\"\"\n",
    "    return a ** 2\n",
    "\n",
    "square(2)"
   ]
  },
  {
   "cell_type": "markdown",
   "id": "02ea5064-252c-4099-9209-0ce0fe7576d6",
   "metadata": {},
   "source": [
    "+ 명령어 이력을 검색하는 데 Ctrl-p/Ctrl-n 이나 위/아래 화살표 키를 이용할 수도 있지만 그것들은 그 줄의 시작 부분 문자만 검색 가능\n",
    "+ 즉, def 를 입력하고 Ctrl-p를 누르면 명령어 이력에서 def로 시작하는 가장 최근 명령어를 찾을 것"
   ]
  },
  {
   "cell_type": "markdown",
   "id": "045e324e-ddc9-4420-bd98-e9b619e6a3da",
   "metadata": {},
   "source": [
    "#### 기타 단축키\n",
    "***\n",
    ">생략"
   ]
  },
  {
   "cell_type": "markdown",
   "id": "9e35e4a3-259f-4ece-a0f7-8d5813ae27a0",
   "metadata": {},
   "source": [
    "## 향상된 대화형 기능"
   ]
  },
  {
   "cell_type": "code",
   "execution_count": null,
   "id": "239d85c4-c689-4ec2-9184-86a0f5f1594e",
   "metadata": {},
   "outputs": [],
   "source": []
  }
 ],
 "metadata": {
  "kernelspec": {
   "display_name": "Python 3 (ipykernel)",
   "language": "python",
   "name": "python3"
  },
  "language_info": {
   "codemirror_mode": {
    "name": "ipython",
    "version": 3
   },
   "file_extension": ".py",
   "mimetype": "text/x-python",
   "name": "python",
   "nbconvert_exporter": "python",
   "pygments_lexer": "ipython3",
   "version": "3.11.4"
  }
 },
 "nbformat": 4,
 "nbformat_minor": 5
}
