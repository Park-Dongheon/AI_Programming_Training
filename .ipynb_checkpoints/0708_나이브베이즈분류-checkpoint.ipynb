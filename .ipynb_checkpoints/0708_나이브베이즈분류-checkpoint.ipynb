{
 "cells": [
  {
   "cell_type": "markdown",
   "id": "07753e7b-0842-46f4-8716-2e41898b026c",
   "metadata": {},
   "source": [
    "### 기저 함수 회귀"
   ]
  },
  {
   "cell_type": "markdown",
   "id": "df4e1df1-e1c7-4a68-be43-ca19e18fad40",
   "metadata": {},
   "source": [
    "조건부 확률\n",
    "\n",
    "P(B|A) = P(A n B) / P(A)\n",
    "\n",
    "-> 베이즈 정리\n",
    "\n",
    "P(B|A) = P(A|B) · P(B) / P(A)\n",
    "------\t         ----\n",
    "사후확률         사전확률\n",
    "\n",
    "P(A n B) = P(A) · P(B|A)\n",
    "P(A|B) ? = \n",
    "\n",
    "\n",
    "*나이브 베이즈 정리\n",
    "https://m.blog.naver.com/arceus2/222072830355\n",
    "나이브(naive) - 사건 A,B가 독립적 서로 영향을 주지 않는다\n",
    "\n",
    "features = x\n",
    "L(레이블) = y\n",
    "\n",
    "P(L | features) = P(features | L) · P( L ) / P(features)\n",
    ".\n",
    ".\n",
    ".\n",
    "n번\n",
    "\n",
    "P(features | Li) ?-- 모델링이 필요 => generative model\n",
    "\t         L1(y,입력) 이 있을 때 feature(x)가  있을 확률\n",
    "\n",
    "학습:\n",
    "가우스 나이브 베이즈 - 데이터 분포가 평균, 분산 형태로 나타냄, 각각의 레이블들의 평규관 분산을 표시함\n",
    "\t                 타원의 중심으로 갈수록 확률이 더 커지는 각 레이블에 대한 가우스 생성 모델을 나타냄\n",
    "\t\t     우도(likelihood) - 주어진 데이터가 특정 모델(Label)에서 발생할 확률\n",
    "                                \t\t   ---------------\n",
    "\t\t\t\t    P(features | L)\n",
    "예측:\n",
    "가우스 나이브 베이즈로 학습한 모델링에 훈련데이터들을 분류\n",
    "\n",
    "\n",
    "*다항분포 나이브 베이즈(Multinomial Naive Bayes)\n",
    "https://hsm-edu.tistory.com/914\n",
    "https://bigdatamaster.tistory.com/109#google_vignette\n",
    "\n",
    "\n",
    "* NLP(자연어 처리) - 6. 카운트 기반 벡터화(CountVectorizer)와 TF-IDF 벡터화\n",
    "https://bkshin.tistory.com/entry/NLP-6-%EC%B9%B4%EC%9A%B4%ED%84%B0-%EA%B8%B0%EB%B0%98-%EB%B2%A1%ED%84%B0%ED%99%94CountVectorizer%EC%99%80-TF-IDF-%EB%B2%A1%ED%84%B0%ED%99%94\n",
    "-TF-IDF는 개별 문서에서 자주 등장하는 단어에 높은 가중치를 주되, 모든 문서에서 전반적으로 자주 등장하는 단어에 대해서는 패널티를페널티를 주는 방식으로 값을 부여합니다.\n",
    "\n",
    "make_pipeline( TfidfVectorizer(), MultinomialNB() )\n",
    "-학습 모델이 벡터화된 데이터를 연결시킴\n",
    "\n",
    "confusion_matrix( test.target, labels )\n",
    "https://shinminyong.tistory.com/28\n",
    "\n",
    "*평가척도\n",
    "Accuracy(정확도)\n",
    "Sensitivity(민감도, 재현도)\n",
    "Precision(정밀도)\n",
    "Specificity(특이도)\n",
    "AUC\n",
    "F1-score\n",
    "\n",
    "\n",
    "Accuracy(정확도) = TP + TN\n",
    "           \t\t-------------\n",
    "          \t\tTP + TN + FP + FN\n",
    "\n",
    "Sensitivity(민감도, 재현도) =  TP\n",
    "               \t\t      \t------\n",
    "             \t\t    \tTP + FN\n",
    "\n",
    "Precision(정밀도) = TP\n",
    "            \t   ------\n",
    "            \t   TP + FP\n",
    "\n",
    "Specificity(특이도) = TN\n",
    "            \t\t----------\n",
    "            \t\tFP + TN\n",
    "\n",
    "\n",
    "F1-score =      Sensitivity   +    Precision\n",
    "    \t  2 * -----------------------------\n",
    "    \t        Sensitivity   +   Precision\n",
    "\n",
    "\n"
   ]
  },
  {
   "cell_type": "code",
   "execution_count": 5,
   "id": "3e18a5ad-7060-466d-906c-eb938424acc3",
   "metadata": {},
   "outputs": [
    {
     "data": {
      "text/plain": [
       "(100,)"
      ]
     },
     "execution_count": 5,
     "metadata": {},
     "output_type": "execute_result"
    }
   ],
   "source": [
    "import numpy as np\n",
    "rng = np.random.RandomState(1)\n",
    "X = 10 * rng.rand(100, 3) # 레코드: 100, feature: 3\n",
    "y = 0.5 + np.dot(X, [1.5, -2., 1.]) # 레코드: 100\n",
    "\n",
    "y.shape"
   ]
  },
  {
   "cell_type": "code",
   "execution_count": 10,
   "id": "b72d13c8-9362-47d1-84f5-af88a46962b6",
   "metadata": {},
   "outputs": [
    {
     "name": "stdout",
     "output_type": "stream",
     "text": [
      "5.5\n"
     ]
    },
    {
     "data": {
      "text/plain": [
       "[<matplotlib.lines.Line2D at 0x1fe2ed7c4f0>]"
      ]
     },
     "execution_count": 10,
     "metadata": {},
     "output_type": "execute_result"
    },
    {
     "data": {
      "image/png": "[encoded data removed]",
      "text/plain": [
       "<Figure size 500x500 with 1 Axes>"
      ]
     },
     "metadata": {},
     "output_type": "display_data"
    }
   ],
   "source": [
    "# 가우스 기저 함수 구현하기 \n",
    "\n",
    "from IPython.core.pylabtools import figsize\n",
    "import matplotlib.pyplot as plt\n",
    "\n",
    "plt.figure(figsize = (5,5))\n",
    "\n",
    "plt.grid(True)\n",
    "\n",
    "input_data = np.linspace(0,11, 100)\n",
    "center = np.mean(input_data) \n",
    "standard_dev = a = 2 # Determines the height of graph \n",
    "print(center) # This is the only point what I would like to give different color\n",
    "gauss_function = a * np.exp(-((input_data-center)**2)/standard_dev**2)\n",
    "plt.plot(input_data, gauss_function)"
   ]
  },
  {
   "cell_type": "code",
   "execution_count": 14,
   "id": "800a110c-2650-45a2-aa3e-fa1747132008",
   "metadata": {},
   "outputs": [
    {
     "name": "stdout",
     "output_type": "stream",
     "text": [
      "[ 5.         13.33333333 21.66666667 30.        ]\n",
      "(4,)\n",
      "Standard Deviation: 8.333333333333334\n"
     ]
    },
    {
     "ename": "NameError",
     "evalue": "name 'x_min' is not defined",
     "output_type": "error",
     "traceback": [
      "\u001b[1;31m---------------------------------------------------------------------------\u001b[0m",
      "\u001b[1;31mNameError\u001b[0m                                 Traceback (most recent call last)",
      "Cell \u001b[1;32mIn[14], line 14\u001b[0m\n\u001b[0;32m     12\u001b[0m s \u001b[38;5;241m=\u001b[39m mu[\u001b[38;5;241m1\u001b[39m] \u001b[38;5;241m-\u001b[39m mu[\u001b[38;5;241m0\u001b[39m] \u001b[38;5;66;03m# 인접한 가우스 함수 간 중심 사이의 거리 \u001b[39;00m\n\u001b[0;32m     13\u001b[0m \u001b[38;5;28mprint\u001b[39m(\u001b[38;5;124m\"\u001b[39m\u001b[38;5;124mStandard Deviation: \u001b[39m\u001b[38;5;132;01m{}\u001b[39;00m\u001b[38;5;124m\"\u001b[39m\u001b[38;5;241m.\u001b[39mformat(s)) \u001b[38;5;66;03m# 가우스 함수간 거리는 8.333333\u001b[39;00m\n\u001b[1;32m---> 14\u001b[0m xb \u001b[38;5;241m=\u001b[39m np\u001b[38;5;241m.\u001b[39mlinspace(\u001b[43mx_min\u001b[49m,x_max, \u001b[38;5;241m40\u001b[39m) \u001b[38;5;66;03m# ndarray로 100개의 value 저장 \u001b[39;00m\n\u001b[0;32m     15\u001b[0m \u001b[38;5;28mprint\u001b[39m(\u001b[38;5;28mtype\u001b[39m(xb)) \u001b[38;5;66;03m# return type - numply.ndarray \u001b[39;00m\n\u001b[0;32m     17\u001b[0m \u001b[38;5;28;01mfor\u001b[39;00m j \u001b[38;5;129;01min\u001b[39;00m \u001b[38;5;28mrange\u001b[39m(M): \u001b[38;5;66;03m# 4번 반복 \u001b[39;00m\n",
      "\u001b[1;31mNameError\u001b[0m: name 'x_min' is not defined"
     ]
    },
    {
     "data": {
      "text/plain": [
       "<Figure size 500x500 with 0 Axes>"
      ]
     },
     "metadata": {},
     "output_type": "display_data"
    }
   ],
   "source": [
    "def gauss(x, mu, s): \n",
    "  return np.exp(-(x-mu)**2 / (2*s**2)) \n",
    "\n",
    "# 4개의 가우스 함수 그리기 \n",
    "\n",
    "M = 4 # 가우스 함수 개수 \n",
    "plt.figure(figsize = (5,5))\n",
    "mu = np.linspace(5,30, M) # 평균 >> 이게 왜 평균이 되지..? \n",
    "print(mu)\n",
    "print(mu.shape)\n",
    "# print(mu)\n",
    "s = mu[1] - mu[0] # 인접한 가우스 함수 간 중심 사이의 거리 \n",
    "print(\"Standard Deviation: {}\".format(s)) # 가우스 함수간 거리는 8.333333\n",
    "xb = np.linspace(x_min,x_max, 40) # ndarray로 100개의 value 저장 \n",
    "print(type(xb)) # return type - numply.ndarray \n",
    "\n",
    "for j in range(M): # 4번 반복 \n",
    "  y = gauss(xb, mu[j], s) # \n",
    "  print(y)\n",
    "  plt.plot(xb, y, color='gray', linewidth=3)\n",
    "\n",
    "print(y.shape)\n",
    "\n",
    "plt.grid(True)\n",
    "plt.xlim(x_min, x_max)\n",
    "plt.ylim(0, 1.2)"
   ]
  },
  {
   "cell_type": "code",
   "execution_count": 15,
   "id": "bbddb5c8-5548-4a32-a1bd-b7d016f60e90",
   "metadata": {},
   "outputs": [
    {
     "ename": "NameError",
     "evalue": "name 'make_pipeline' is not defined",
     "output_type": "error",
     "traceback": [
      "\u001b[1;31m---------------------------------------------------------------------------\u001b[0m",
      "\u001b[1;31mNameError\u001b[0m                                 Traceback (most recent call last)",
      "Cell \u001b[1;32mIn[15], line 17\u001b[0m\n\u001b[0;32m     11\u001b[0m     ax[\u001b[38;5;241m1\u001b[39m]\u001b[38;5;241m.\u001b[39mplot(model\u001b[38;5;241m.\u001b[39msteps[\u001b[38;5;241m0\u001b[39m][\u001b[38;5;241m1\u001b[39m]\u001b[38;5;241m.\u001b[39mcenters_, \u001b[38;5;66;03m# basis location\u001b[39;00m\n\u001b[0;32m     12\u001b[0m                model\u001b[38;5;241m.\u001b[39msteps[\u001b[38;5;241m1\u001b[39m][\u001b[38;5;241m1\u001b[39m]\u001b[38;5;241m.\u001b[39mcoef_) \u001b[38;5;66;03m# a1, a2, a3 (coef) - 계수: 과적합일 수록 범위가 넓어진다\u001b[39;00m\n\u001b[0;32m     13\u001b[0m     ax[\u001b[38;5;241m1\u001b[39m]\u001b[38;5;241m.\u001b[39mset(xlabel\u001b[38;5;241m=\u001b[39m\u001b[38;5;124m'\u001b[39m\u001b[38;5;124mbasis location\u001b[39m\u001b[38;5;124m'\u001b[39m,\n\u001b[0;32m     14\u001b[0m               ylabel\u001b[38;5;241m=\u001b[39m\u001b[38;5;124m'\u001b[39m\u001b[38;5;124mcoefficient\u001b[39m\u001b[38;5;124m'\u001b[39m,\n\u001b[0;32m     15\u001b[0m               xlim\u001b[38;5;241m=\u001b[39m(\u001b[38;5;241m0\u001b[39m, \u001b[38;5;241m10\u001b[39m))\n\u001b[1;32m---> 17\u001b[0m model \u001b[38;5;241m=\u001b[39m \u001b[43mmake_pipeline\u001b[49m(GaussianFeatures(\u001b[38;5;241m30\u001b[39m), LinearRegression()) \u001b[38;5;66;03m# \u001b[39;00m\n\u001b[0;32m     18\u001b[0m basis_plot(model)\n",
      "\u001b[1;31mNameError\u001b[0m: name 'make_pipeline' is not defined"
     ]
    }
   ],
   "source": [
    "def basis_plot(model, title=None):\n",
    "    fig, ax = plt.subplots(2, sharex=True)\n",
    "    model.fit(x[:, np.newaxis], y)\n",
    "    ax[0].scatter(x, y)\n",
    "    ax[0].plot(xfit, model.predict(xfit[:, np.newaxis])) # 학습 모델 생성\n",
    "    ax[0].set(xlabel='x', ylabel='y', ylim=(-1.5, 1.5))\n",
    "    \n",
    "    if title:\n",
    "        ax[0].set_title(title)\n",
    "\n",
    "    ax[1].plot(model.steps[0][1].centers_, # basis location\n",
    "               model.steps[1][1].coef_) # a1, a2, a3 (coef) - 계수: 과적합일 수록 범위가 넓어진다\n",
    "    ax[1].set(xlabel='basis location',\n",
    "              ylabel='coefficient',\n",
    "              xlim=(0, 10))\n",
    "    \n",
    "model = make_pipeline(GaussianFeatures(30), LinearRegression()) # \n",
    "basis_plot(model)"
   ]
  },
  {
   "cell_type": "code",
   "execution_count": 16,
   "id": "1796d9f1-4a0d-426d-be35-6d1687944cd0",
   "metadata": {},
   "outputs": [
    {
     "ename": "NameError",
     "evalue": "name 'model' is not defined",
     "output_type": "error",
     "traceback": [
      "\u001b[1;31m---------------------------------------------------------------------------\u001b[0m",
      "\u001b[1;31mNameError\u001b[0m                                 Traceback (most recent call last)",
      "Cell \u001b[1;32mIn[16], line 3\u001b[0m\n\u001b[0;32m      1\u001b[0m \u001b[38;5;28;01mfrom\u001b[39;00m \u001b[38;5;21;01msklearn\u001b[39;00m\u001b[38;5;21;01m.\u001b[39;00m\u001b[38;5;21;01mutils\u001b[39;00m \u001b[38;5;28;01mimport\u001b[39;00m resample\n\u001b[0;32m      2\u001b[0m np\u001b[38;5;241m.\u001b[39mrandom\u001b[38;5;241m.\u001b[39mseed(\u001b[38;5;241m1\u001b[39m)\n\u001b[1;32m----> 3\u001b[0m err \u001b[38;5;241m=\u001b[39m np\u001b[38;5;241m.\u001b[39mstd([model\u001b[38;5;241m.\u001b[39mfit(\u001b[38;5;241m*\u001b[39mresample(X, y))\u001b[38;5;241m.\u001b[39mcoef_ \u001b[38;5;66;03m# resample() - 부트스트랩 표본 재추출\u001b[39;00m\n\u001b[0;32m      4\u001b[0m               \u001b[38;5;28;01mfor\u001b[39;00m i \u001b[38;5;129;01min\u001b[39;00m \u001b[38;5;28mrange\u001b[39m(\u001b[38;5;241m1000\u001b[39m)], \u001b[38;5;241m0\u001b[39m)\n",
      "Cell \u001b[1;32mIn[16], line 3\u001b[0m, in \u001b[0;36m<listcomp>\u001b[1;34m(.0)\u001b[0m\n\u001b[0;32m      1\u001b[0m \u001b[38;5;28;01mfrom\u001b[39;00m \u001b[38;5;21;01msklearn\u001b[39;00m\u001b[38;5;21;01m.\u001b[39;00m\u001b[38;5;21;01mutils\u001b[39;00m \u001b[38;5;28;01mimport\u001b[39;00m resample\n\u001b[0;32m      2\u001b[0m np\u001b[38;5;241m.\u001b[39mrandom\u001b[38;5;241m.\u001b[39mseed(\u001b[38;5;241m1\u001b[39m)\n\u001b[1;32m----> 3\u001b[0m err \u001b[38;5;241m=\u001b[39m np\u001b[38;5;241m.\u001b[39mstd([\u001b[43mmodel\u001b[49m\u001b[38;5;241m.\u001b[39mfit(\u001b[38;5;241m*\u001b[39mresample(X, y))\u001b[38;5;241m.\u001b[39mcoef_ \u001b[38;5;66;03m# resample() - 부트스트랩 표본 재추출\u001b[39;00m\n\u001b[0;32m      4\u001b[0m               \u001b[38;5;28;01mfor\u001b[39;00m i \u001b[38;5;129;01min\u001b[39;00m \u001b[38;5;28mrange\u001b[39m(\u001b[38;5;241m1000\u001b[39m)], \u001b[38;5;241m0\u001b[39m)\n",
      "\u001b[1;31mNameError\u001b[0m: name 'model' is not defined"
     ]
    }
   ],
   "source": [
    "from sklearn.utils import resample\n",
    "np.random.seed(1)\n",
    "err = np.std([model.fit(*resample(X, y)).coef_ # resample() - 부트스트랩 표본 재추출\n",
    "              for i in range(1000)], 0)"
   ]
  }
 ],
 "metadata": {
  "kernelspec": {
   "display_name": "Python 3 (ipykernel)",
   "language": "python",
   "name": "python3"
  },
  "language_info": {
   "codemirror_mode": {
    "name": "ipython",
    "version": 3
   },
   "file_extension": ".py",
   "mimetype": "text/x-python",
   "name": "python",
   "nbconvert_exporter": "python",
   "pygments_lexer": "ipython3",
   "version": "3.9.13"
  }
 },
 "nbformat": 4,
 "nbformat_minor": 5
}
