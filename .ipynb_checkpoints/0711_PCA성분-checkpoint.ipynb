{
 "cells": [
  {
   "cell_type": "markdown",
   "id": "53b8b122-7c51-4cb3-ab72-171548a8da5a",
   "metadata": {},
   "source": [
    "## 주성분 분석\n",
    "\n",
    "+ 데이터를 가장 잘 설명하고 있는 방향 축 == 주성분"
   ]
  },
  {
   "cell_type": "markdown",
   "id": "d7e317ba-4ba8-4dc4-ae2f-31ac2d2c30d1",
   "metadata": {},
   "source": [
    "### 성분은 무엇을 의미하는가?\n",
    "***\n",
    "+ 8x8 에서 첫 번째 행만 뽑음\n",
    "+ 64pixcel -> 주성분 변환 (c1, c2, ..., c8) 8개(의 주성분)로 차원 축소\n",
    "+ 평균 + c1 * 0 + cn * n => c라는 가중치를 주성분에 곱한다. => 원래 image 복원\n",
    "+ PCA(A) = B\n",
    "+ ex) image(x) = mean + x1.(basis1) + x2.(basis2) + ...\n",
    "                 ----  ----\n",
    "                  m    가중치\n",
    "\n",
    "\n",
    "### 성분의 개수 선택 \n",
    "***"
   ]
  },
  {
   "cell_type": "markdown",
   "id": "7dc5444b-80a5-4ff5-b61f-cc1d3322692a",
   "metadata": {},
   "source": [
    "## PCA분석\n",
    "+ 고유값(eigenvalue), 고유벡터(eigenvector) #(eign, \"아이겐\")\n",
    "+ 행렬 Matrix -> eigenvector <= 선형대수학(linear algebra)\n",
    "+ 공분산 행렬 (covariance) - ex) 키, 몸무게 와의 상관 관계를 나타낸 행렬\n",
    "+ eigenvetor -> eigenfaces - 이미지에 대한 eigenvector\n",
    "+ A(공분산행렬) X(eigenvector) = 람다(eigenvalue) X(eigenvector)\n",
    "+ PCA 분석에서 첫번째 eigenvector 가 주성분 vector가 된다\n",
    "+ (https://bigdatajessie.tistory.com/70)\n",
    "+ (https://recipesds.tistory.com/entry/PCA-%EA%B3%A0%EC%9C%B3%EA%B0%92%EA%B3%BC-%EA%B3%A0%EC%9C%A0%EB%B2%A1%ED%84%B0%EC%97%90-%EA%B7%BC%EA%B1%B0%ED%95%9C-Feature-Extraction)\n",
    "+ (https://velog.io/@cuckoobee/%EA%B3%A0%EC%9C%A0%EA%B0%92eigenvalue%EA%B3%BC-%EA%B3%A0%EC%9C%A0%EB%B2%A1%ED%84%B0eigenvector)\n",
    "+ (https://blog.naver.com/angryking/221206754322)"
   ]
  },
  {
   "cell_type": "markdown",
   "id": "21f8871d-9d67-40b6-9b4d-b15c09c788e1",
   "metadata": {},
   "source": [
    "## 심화 학습: 다양체 학습(Manifold Learning)\n",
    "\n",
    "+ 3차원 -> 2차원 차원축소\n",
    "+ projection (사영) 여러 척도에서 사영하는 형태 (mainfold)\n",
    "+ 다차원 척도법(MDS, MultiDimensional Sacling)\n",
    "+ (https://velog.io/@swan9405/MDS-Multidimensional-Scaling)"
   ]
  },
  {
   "cell_type": "code",
   "execution_count": null,
   "id": "f57da2f9-c906-40b8-a4bd-26c6382fef08",
   "metadata": {},
   "outputs": [],
   "source": []
  }
 ],
 "metadata": {
  "kernelspec": {
   "display_name": "Python 3 (ipykernel)",
   "language": "python",
   "name": "python3"
  },
  "language_info": {
   "codemirror_mode": {
    "name": "ipython",
    "version": 3
   },
   "file_extension": ".py",
   "mimetype": "text/x-python",
   "name": "python",
   "nbconvert_exporter": "python",
   "pygments_lexer": "ipython3",
   "version": "3.9.13"
  }
 },
 "nbformat": 4,
 "nbformat_minor": 5
}
