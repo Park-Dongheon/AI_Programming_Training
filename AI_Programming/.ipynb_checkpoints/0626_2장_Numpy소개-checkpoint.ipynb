{
 "cells": [
  {
   "cell_type": "markdown",
   "id": "4776f785-0c1c-4002-8c10-68b8e9e5b8b7",
   "metadata": {},
   "source": [
    "# 배열 연결 및 분할\n",
    "\n",
    "## 배열연결"
   ]
  },
  {
   "cell_type": "code",
   "execution_count": 3,
   "id": "e922a367-b8ae-4925-92e4-a957c2b89986",
   "metadata": {},
   "outputs": [],
   "source": [
    "import numpy as np"
   ]
  },
  {
   "cell_type": "code",
   "execution_count": 4,
   "id": "23992cde-0dfc-4c6d-8a54-49a1bd0612e7",
   "metadata": {},
   "outputs": [
    {
     "data": {
      "text/plain": [
       "array([1, 2, 3, 4, 5, 6])"
      ]
     },
     "execution_count": 4,
     "metadata": {},
     "output_type": "execute_result"
    }
   ],
   "source": [
    "a = np.array([1, 2, 3])\n",
    "b = np.array([4, 5, 6])\n",
    "np.concatenate([a, b])"
   ]
  },
  {
   "cell_type": "code",
   "execution_count": 5,
   "id": "23fba962-c7be-4c90-8c46-4ef01e2565ea",
   "metadata": {},
   "outputs": [
    {
     "data": {
      "text/plain": [
       "(2, 3)"
      ]
     },
     "execution_count": 5,
     "metadata": {},
     "output_type": "execute_result"
    }
   ],
   "source": [
    "np.vstack([a, b]).shape"
   ]
  },
  {
   "cell_type": "code",
   "execution_count": 8,
   "id": "b1606c5b-6f38-4a3e-8df9-06ce85b584a3",
   "metadata": {},
   "outputs": [
    {
     "data": {
      "text/plain": [
       "array([[1, 2, 3],\n",
       "       [4, 5, 6]])"
      ]
     },
     "execution_count": 8,
     "metadata": {},
     "output_type": "execute_result"
    }
   ],
   "source": [
    "np.vstack([a, b])"
   ]
  },
  {
   "cell_type": "code",
   "execution_count": 6,
   "id": "c7aa7f0c-bc18-40cf-b57a-cc139a3d3549",
   "metadata": {},
   "outputs": [],
   "source": [
    "c = np.vstack([a, b])"
   ]
  },
  {
   "cell_type": "code",
   "execution_count": 9,
   "id": "24b9c1f2-179c-4eb4-8627-a84508f30efd",
   "metadata": {},
   "outputs": [
    {
     "data": {
      "text/plain": [
       "((2, 3), (3,), (3,))"
      ]
     },
     "execution_count": 9,
     "metadata": {},
     "output_type": "execute_result"
    }
   ],
   "source": [
    "c.shape, a.shape, b.shape"
   ]
  },
  {
   "cell_type": "code",
   "execution_count": 10,
   "id": "6e4907cf-47aa-4191-9e99-5feba9f495f9",
   "metadata": {},
   "outputs": [
    {
     "data": {
      "text/plain": [
       "array([[1, 2, 3],\n",
       "       [4, 5, 6]])"
      ]
     },
     "execution_count": 10,
     "metadata": {},
     "output_type": "execute_result"
    }
   ],
   "source": [
    "c"
   ]
  },
  {
   "cell_type": "code",
   "execution_count": 12,
   "id": "0678f488-59b4-4495-a316-eaa1bd4c2131",
   "metadata": {},
   "outputs": [
    {
     "data": {
      "text/plain": [
       "(3, 3)"
      ]
     },
     "execution_count": 12,
     "metadata": {},
     "output_type": "execute_result"
    }
   ],
   "source": [
    "np.concatenate([c, a[np.newaxis, :]]).shape"
   ]
  },
  {
   "cell_type": "code",
   "execution_count": 11,
   "id": "b2053551-77b1-45c5-927d-a04fe38eac28",
   "metadata": {},
   "outputs": [
    {
     "data": {
      "text/plain": [
       "array([[1, 2, 3],\n",
       "       [4, 5, 6],\n",
       "       [1, 2, 3]])"
      ]
     },
     "execution_count": 11,
     "metadata": {},
     "output_type": "execute_result"
    }
   ],
   "source": [
    "np.concatenate([c, a[np.newaxis, :]])"
   ]
  },
  {
   "cell_type": "code",
   "execution_count": 14,
   "id": "6e238389-74c8-4cf8-ba1c-1a3d9c584c47",
   "metadata": {},
   "outputs": [],
   "source": [
    "d = np.array([10, 20]).reshape([2, 1])"
   ]
  },
  {
   "cell_type": "code",
   "execution_count": 17,
   "id": "2cbc835d-9d58-42df-8419-a0a043cde56c",
   "metadata": {},
   "outputs": [
    {
     "data": {
      "text/plain": [
       "array([ 1,  2,  3,  4,  5,  6,  7,  8,  9, 10])"
      ]
     },
     "execution_count": 17,
     "metadata": {},
     "output_type": "execute_result"
    }
   ],
   "source": [
    "arr2 = np.arange(1, 11)\n",
    "arr2"
   ]
  },
  {
   "cell_type": "code",
   "execution_count": 18,
   "id": "3ef6fba6-3892-4468-b15b-8c16b663dcd7",
   "metadata": {},
   "outputs": [
    {
     "data": {
      "text/plain": [
       "[array([1, 2, 3]), array([4, 5]), array([6, 7]), array([ 8,  9, 10])]"
      ]
     },
     "execution_count": 18,
     "metadata": {},
     "output_type": "execute_result"
    }
   ],
   "source": [
    "np.split(arr2, [3, 5, 7])"
   ]
  },
  {
   "cell_type": "code",
   "execution_count": 23,
   "id": "ba01e7ab-6ef1-464a-b18f-f01528ea833f",
   "metadata": {},
   "outputs": [
    {
     "ename": "IndexError",
     "evalue": "tuple index out of range",
     "output_type": "error",
     "traceback": [
      "\u001b[1;31m---------------------------------------------------------------------------\u001b[0m",
      "\u001b[1;31mTypeError\u001b[0m                                 Traceback (most recent call last)",
      "File \u001b[1;32m~\\AppData\\Local\\Programs\\Python\\Python39\\lib\\site-packages\\numpy\\lib\\shape_base.py:859\u001b[0m, in \u001b[0;36msplit\u001b[1;34m(ary, indices_or_sections, axis)\u001b[0m\n\u001b[0;32m    858\u001b[0m \u001b[38;5;28;01mtry\u001b[39;00m:\n\u001b[1;32m--> 859\u001b[0m     \u001b[38;5;28;43mlen\u001b[39;49m\u001b[43m(\u001b[49m\u001b[43mindices_or_sections\u001b[49m\u001b[43m)\u001b[49m\n\u001b[0;32m    860\u001b[0m \u001b[38;5;28;01mexcept\u001b[39;00m \u001b[38;5;167;01mTypeError\u001b[39;00m:\n",
      "\u001b[1;31mTypeError\u001b[0m: object of type 'int' has no len()",
      "\nDuring handling of the above exception, another exception occurred:\n",
      "\u001b[1;31mIndexError\u001b[0m                                Traceback (most recent call last)",
      "Cell \u001b[1;32mIn[23], line 3\u001b[0m\n\u001b[0;32m      1\u001b[0m train_n \u001b[38;5;241m=\u001b[39m \u001b[38;5;28mlen\u001b[39m(arr2) \u001b[38;5;241m/\u001b[39m\u001b[38;5;241m/\u001b[39m \u001b[38;5;241m2\u001b[39m\n\u001b[0;32m      2\u001b[0m test_n \u001b[38;5;241m=\u001b[39m \u001b[38;5;28mlen\u001b[39m(arr2) \u001b[38;5;241m-\u001b[39m train_n\n\u001b[1;32m----> 3\u001b[0m \u001b[43mnp\u001b[49m\u001b[38;5;241;43m.\u001b[39;49m\u001b[43msplit\u001b[49m\u001b[43m(\u001b[49m\u001b[43marr2\u001b[49m\u001b[43m,\u001b[49m\u001b[43m \u001b[49m\u001b[43mtrain_n\u001b[49m\u001b[43m,\u001b[49m\u001b[43m \u001b[49m\u001b[43mtest_n\u001b[49m\u001b[43m)\u001b[49m\n",
      "File \u001b[1;32m~\\AppData\\Local\\Programs\\Python\\Python39\\lib\\site-packages\\numpy\\lib\\shape_base.py:862\u001b[0m, in \u001b[0;36msplit\u001b[1;34m(ary, indices_or_sections, axis)\u001b[0m\n\u001b[0;32m    860\u001b[0m \u001b[38;5;28;01mexcept\u001b[39;00m \u001b[38;5;167;01mTypeError\u001b[39;00m:\n\u001b[0;32m    861\u001b[0m     sections \u001b[38;5;241m=\u001b[39m indices_or_sections\n\u001b[1;32m--> 862\u001b[0m     N \u001b[38;5;241m=\u001b[39m \u001b[43mary\u001b[49m\u001b[38;5;241;43m.\u001b[39;49m\u001b[43mshape\u001b[49m\u001b[43m[\u001b[49m\u001b[43maxis\u001b[49m\u001b[43m]\u001b[49m\n\u001b[0;32m    863\u001b[0m     \u001b[38;5;28;01mif\u001b[39;00m N \u001b[38;5;241m%\u001b[39m sections:\n\u001b[0;32m    864\u001b[0m         \u001b[38;5;28;01mraise\u001b[39;00m \u001b[38;5;167;01mValueError\u001b[39;00m(\n\u001b[0;32m    865\u001b[0m             \u001b[38;5;124m'\u001b[39m\u001b[38;5;124marray split does not result in an equal division\u001b[39m\u001b[38;5;124m'\u001b[39m) \u001b[38;5;28;01mfrom\u001b[39;00m \u001b[38;5;28;01mNone\u001b[39;00m\n",
      "\u001b[1;31mIndexError\u001b[0m: tuple index out of range"
     ]
    }
   ],
   "source": [
    "train_n = len(arr2) // 2\n",
    "test_n = len(arr2) - train_n\n",
    "np.split(arr2, train_n, test_n)"
   ]
  },
  {
   "cell_type": "markdown",
   "id": "7672ccf6-54c5-4845-9856-2fbd0d8f9160",
   "metadata": {},
   "source": [
    "# NumPy 배열 연산: 유니버설 함수\n",
    "\n",
    "## 2.2. Universal Function"
   ]
  },
  {
   "cell_type": "code",
   "execution_count": 25,
   "id": "49ec9b6e-a0ee-42ea-9a22-dfedefdccc91",
   "metadata": {},
   "outputs": [],
   "source": [
    "import numpy as np"
   ]
  },
  {
   "cell_type": "code",
   "execution_count": 26,
   "id": "ad24dd25-2d49-49f7-a4c4-bc92c188375f",
   "metadata": {},
   "outputs": [],
   "source": [
    "def calc(values):\n",
    "    results = []\n",
    "    for i in values:\n",
    "        results.append(1 / i)\n",
    "    return results"
   ]
  },
  {
   "cell_type": "code",
   "execution_count": 54,
   "id": "a94b0516-0006-4ef2-b7bb-9c3235f8949d",
   "metadata": {},
   "outputs": [
    {
     "data": {
      "text/plain": [
       "999999"
      ]
     },
     "execution_count": 54,
     "metadata": {},
     "output_type": "execute_result"
    }
   ],
   "source": [
    "data = range(1, 1000000)\n",
    "len(calc(data))"
   ]
  },
  {
   "cell_type": "code",
   "execution_count": 55,
   "id": "bceb5e83-2993-4cdb-869d-269ac091e6d5",
   "metadata": {},
   "outputs": [
    {
     "ename": "SyntaxError",
     "evalue": "'return' outside function (2605060599.py, line 4)",
     "output_type": "error",
     "traceback": [
      "\u001b[1;36m  Cell \u001b[1;32mIn[55], line 4\u001b[1;36m\u001b[0m\n\u001b[1;33m    return result\u001b[0m\n\u001b[1;37m    ^\u001b[0m\n\u001b[1;31mSyntaxError\u001b[0m\u001b[1;31m:\u001b[0m 'return' outside function\n"
     ]
    }
   ],
   "source": [
    "result = []\n",
    "for d in data:\n",
    "    result.append(1/d)\n",
    "return result"
   ]
  },
  {
   "cell_type": "code",
   "execution_count": 32,
   "id": "06647204-9c01-4359-83d2-64e839b7111f",
   "metadata": {},
   "outputs": [
    {
     "name": "stdout",
     "output_type": "stream",
     "text": [
      "121 ms ± 1.55 ms per loop (mean ± std. dev. of 7 runs, 10 loops each)\n"
     ]
    }
   ],
   "source": [
    "%timeit calc(data)"
   ]
  },
  {
   "cell_type": "code",
   "execution_count": 33,
   "id": "f7f6095c-6981-43bd-aba4-915104b94279",
   "metadata": {},
   "outputs": [
    {
     "data": {
      "text/plain": [
       "1000000"
      ]
     },
     "execution_count": 33,
     "metadata": {},
     "output_type": "execute_result"
    }
   ],
   "source": [
    "data = np.random.randint(1, 100, 1000000)\n",
    "len(calc(data))"
   ]
  },
  {
   "cell_type": "code",
   "execution_count": 34,
   "id": "4ba4e92d-37ad-4baf-aeec-8e1552c151b6",
   "metadata": {},
   "outputs": [
    {
     "name": "stdout",
     "output_type": "stream",
     "text": [
      "121 ms ± 309 µs per loop (mean ± std. dev. of 7 runs, 10 loops each)\n"
     ]
    }
   ],
   "source": [
    "%timeit calc(data)"
   ]
  },
  {
   "cell_type": "code",
   "execution_count": 38,
   "id": "aafa2029-f0d9-48c7-9288-c7ae449f0d75",
   "metadata": {},
   "outputs": [
    {
     "data": {
      "text/plain": [
       "(999999,)"
      ]
     },
     "execution_count": 38,
     "metadata": {},
     "output_type": "execute_result"
    }
   ],
   "source": [
    "data = np.arange(1, 1000000)\n",
    "(1/data).shape"
   ]
  },
  {
   "cell_type": "code",
   "execution_count": 39,
   "id": "ce39b14b-167b-4750-bc7b-82f60e2ba417",
   "metadata": {},
   "outputs": [
    {
     "name": "stdout",
     "output_type": "stream",
     "text": [
      "1.96 ms ± 7.64 µs per loop (mean ± std. dev. of 7 runs, 1,000 loops each)\n"
     ]
    }
   ],
   "source": [
    "%timeit 1 / data"
   ]
  },
  {
   "cell_type": "code",
   "execution_count": 48,
   "id": "5e5bd5d9-dd22-4c27-8b96-789fb5698d50",
   "metadata": {},
   "outputs": [],
   "source": [
    "class Int:\n",
    "    def __init__(self, x):\n",
    "        self._x = x\n",
    "        \n",
    "    def __add__(self, other):\n",
    "        return self._x + other._x\n",
    "\n",
    "    def __sub__(self, other):\n",
    "        return self._x - other._x"
   ]
  },
  {
   "cell_type": "code",
   "execution_count": 50,
   "id": "1bf29bb2-0663-47bc-8ac7-bdd7e4537cfa",
   "metadata": {},
   "outputs": [
    {
     "data": {
      "text/plain": [
       "(3, -1)"
      ]
     },
     "execution_count": 50,
     "metadata": {},
     "output_type": "execute_result"
    }
   ],
   "source": [
    "a = Int(1)\n",
    "b = Int(2)\n",
    "a + b, a - b"
   ]
  },
  {
   "cell_type": "code",
   "execution_count": 52,
   "id": "5058e267-47f7-430e-8bc0-a86dbd10dc19",
   "metadata": {},
   "outputs": [
    {
     "ename": "TypeError",
     "evalue": "unsupported operand type(s) for /: 'int' and 'list'",
     "output_type": "error",
     "traceback": [
      "\u001b[1;31m---------------------------------------------------------------------------\u001b[0m",
      "\u001b[1;31mTypeError\u001b[0m                                 Traceback (most recent call last)",
      "Cell \u001b[1;32mIn[52], line 2\u001b[0m\n\u001b[0;32m      1\u001b[0m d \u001b[38;5;241m=\u001b[39m [\u001b[38;5;241m1\u001b[39m, \u001b[38;5;241m2\u001b[39m, \u001b[38;5;241m3\u001b[39m]\n\u001b[1;32m----> 2\u001b[0m \u001b[38;5;241;43m1\u001b[39;49m\u001b[38;5;241;43m/\u001b[39;49m\u001b[43md\u001b[49m\n",
      "\u001b[1;31mTypeError\u001b[0m: unsupported operand type(s) for /: 'int' and 'list'"
     ]
    }
   ],
   "source": [
    "d = [1, 2, 3]\n",
    "1/d"
   ]
  },
  {
   "cell_type": "markdown",
   "id": "88bd93f0-d5bb-402d-b7cc-cc528447d11b",
   "metadata": {},
   "source": [
    "# NumPy 유니버설 함수(Ufuncs)\n",
    "## 배열 산술 연산"
   ]
  },
  {
   "cell_type": "code",
   "execution_count": 56,
   "id": "e1b395bb-28b0-42f8-a70e-b2cc70ccafd9",
   "metadata": {},
   "outputs": [],
   "source": [
    "import numpy as np"
   ]
  },
  {
   "cell_type": "code",
   "execution_count": 58,
   "id": "50965ef0-523d-4f27-bef9-f01ea1093c8a",
   "metadata": {},
   "outputs": [
    {
     "name": "stdout",
     "output_type": "stream",
     "text": [
      "x     = [0 1 2 3]\n",
      "x + 5 = [5 6 7 8]\n",
      "x - 5 = [-5 -4 -3 -2]\n",
      "x * 2 = [0 2 4 6]\n",
      "x / 2 = [0.  0.5 1.  1.5]\n",
      "x // 2 = [0 0 1 1]\n"
     ]
    }
   ],
   "source": [
    "x = np.arange(4)\n",
    "print(\"x     =\", x)\n",
    "print(\"x + 5 =\", x + 5)\n",
    "print(\"x - 5 =\", x - 5)\n",
    "print(\"x * 2 =\", x * 2)\n",
    "print(\"x / 2 =\", x / 2)\n",
    "print(\"x // 2 =\", x // 2) # 바닥 나눗셈(나머지는 버림)"
   ]
  },
  {
   "cell_type": "code",
   "execution_count": 59,
   "id": "8d5f1ece-dfdd-4468-bee7-faf2d2727711",
   "metadata": {},
   "outputs": [
    {
     "name": "stdout",
     "output_type": "stream",
     "text": [
      "-x     =  [ 0 -1 -2 -3]\n",
      "x ** 2 =  [0 1 4 9]\n",
      "x % 2 =  [0 1 0 1]\n"
     ]
    }
   ],
   "source": [
    "print(\"-x     = \", -x)\n",
    "print(\"x ** 2 = \", x ** 2)\n",
    "print(\"x % 2 = \", x % 2)"
   ]
  },
  {
   "cell_type": "code",
   "execution_count": 60,
   "id": "8c372740-abdb-49a0-82b5-00c0e19951b0",
   "metadata": {},
   "outputs": [
    {
     "data": {
      "text/plain": [
       "array([-1.  , -2.25, -4.  , -6.25])"
      ]
     },
     "execution_count": 60,
     "metadata": {},
     "output_type": "execute_result"
    }
   ],
   "source": [
    "-(0.5 * x + 1) ** 2"
   ]
  },
  {
   "cell_type": "code",
   "execution_count": 61,
   "id": "dca3da7e-3be3-4c64-a029-5a9d34d4585b",
   "metadata": {},
   "outputs": [
    {
     "data": {
      "text/plain": [
       "array([2, 3, 4, 5])"
      ]
     },
     "execution_count": 61,
     "metadata": {},
     "output_type": "execute_result"
    }
   ],
   "source": [
    "np.add(x, 2)"
   ]
  },
  {
   "cell_type": "markdown",
   "id": "39bf56ef-9bc1-4329-8ef9-f8816ce493c2",
   "metadata": {},
   "source": [
    "# 절댓값 함수"
   ]
  },
  {
   "cell_type": "code",
   "execution_count": 62,
   "id": "6268c9c4-1af0-481e-97e3-b6a84183fb8c",
   "metadata": {},
   "outputs": [
    {
     "data": {
      "text/plain": [
       "array([2, 1, 0, 1, 2])"
      ]
     },
     "execution_count": 62,
     "metadata": {},
     "output_type": "execute_result"
    }
   ],
   "source": [
    "x = np.array([-2, -1, 0, 1, 2])\n",
    "abs(x)"
   ]
  },
  {
   "cell_type": "code",
   "execution_count": 63,
   "id": "0895f0e9-af23-45b6-bacd-50888c15588a",
   "metadata": {},
   "outputs": [
    {
     "data": {
      "text/plain": [
       "array([2, 1, 0, 1, 2])"
      ]
     },
     "execution_count": 63,
     "metadata": {},
     "output_type": "execute_result"
    }
   ],
   "source": [
    "np.absolute(x)"
   ]
  },
  {
   "cell_type": "code",
   "execution_count": 64,
   "id": "3c3c1f6f-b455-48c9-b2a9-f2380abd4fb5",
   "metadata": {},
   "outputs": [
    {
     "data": {
      "text/plain": [
       "array([2, 1, 0, 1, 2])"
      ]
     },
     "execution_count": 64,
     "metadata": {},
     "output_type": "execute_result"
    }
   ],
   "source": [
    "np.abs(x)"
   ]
  },
  {
   "cell_type": "code",
   "execution_count": 65,
   "id": "d0066f93-9121-4137-b240-5d4a83c3ca0e",
   "metadata": {},
   "outputs": [
    {
     "data": {
      "text/plain": [
       "array([5., 5., 2., 1.])"
      ]
     },
     "execution_count": 65,
     "metadata": {},
     "output_type": "execute_result"
    }
   ],
   "source": [
    "x = np.array([3 - 4j, 4 - 3j, 2 + 0j, 0 + 1j])\n",
    "np.abs(x)"
   ]
  },
  {
   "cell_type": "markdown",
   "id": "702db1e1-9ad4-4f9c-9651-46447f42936e",
   "metadata": {},
   "source": [
    "## 삼각함수"
   ]
  },
  {
   "cell_type": "code",
   "execution_count": 66,
   "id": "92082c43-3ecd-45f1-b699-3da9050100ab",
   "metadata": {},
   "outputs": [],
   "source": [
    "theta = np.linspace(0, np.pi, 3)"
   ]
  },
  {
   "cell_type": "code",
   "execution_count": 68,
   "id": "de4130cf-7293-41ec-81be-aa01ca196855",
   "metadata": {},
   "outputs": [
    {
     "name": "stdout",
     "output_type": "stream",
     "text": [
      "theta      =  [0.         1.57079633 3.14159265]\n",
      "sin(theta) =  [0.0000000e+00 1.0000000e+00 1.2246468e-16]\n",
      "cos(theta) =  [ 1.000000e+00  6.123234e-17 -1.000000e+00]\n",
      "tan(theta) =  [ 0.00000000e+00  1.63312394e+16 -1.22464680e-16]\n"
     ]
    }
   ],
   "source": [
    "print(\"theta      = \", theta)\n",
    "print(\"sin(theta) = \", np.sin(theta))\n",
    "print(\"cos(theta) = \", np.cos(theta))\n",
    "print(\"tan(theta) = \", np.tan(theta))"
   ]
  },
  {
   "cell_type": "code",
   "execution_count": 70,
   "id": "898fdbd5-b476-4ffd-a120-995248a564ca",
   "metadata": {},
   "outputs": [
    {
     "name": "stdout",
     "output_type": "stream",
     "text": [
      "x        =  [-1, 0, 1]\n",
      "arcsin(x) =  [-1.57079633  0.          1.57079633]\n",
      "arccos(x) =  [3.14159265 1.57079633 0.        ]\n",
      "arctan(x) =  [-0.78539816  0.          0.78539816]\n"
     ]
    }
   ],
   "source": [
    "x = [-1, 0, 1]\n",
    "print(\"x        = \", x)\n",
    "print(\"arcsin(x) = \", np.arcsin(x))\n",
    "print(\"arccos(x) = \", np.arccos(x))\n",
    "print(\"arctan(x) = \", np.arctan(x))"
   ]
  },
  {
   "cell_type": "markdown",
   "id": "c0230267-21cd-4992-85ef-cf64e3cb404f",
   "metadata": {},
   "source": [
    "## 지수와 로그"
   ]
  },
  {
   "cell_type": "code",
   "execution_count": 71,
   "id": "661016dc-a577-437b-8928-a12e23e75415",
   "metadata": {},
   "outputs": [
    {
     "name": "stdout",
     "output_type": "stream",
     "text": [
      "x    = [1, 2, 3]\n",
      "e^x  = [ 2.71828183  7.3890561  20.08553692]\n",
      "2^x  = [2. 4. 8.]\n",
      "3^x  = [ 3  9 27]\n"
     ]
    }
   ],
   "source": [
    "x = [1, 2, 3]\n",
    "print(\"x    =\", x)\n",
    "print(\"e^x  =\", np.exp(x))\n",
    "print(\"2^x  =\", np.exp2(x))\n",
    "print(\"3^x  =\", np.power(3,x))"
   ]
  },
  {
   "cell_type": "code",
   "execution_count": 73,
   "id": "e5d6f1f0-6f5c-458a-8875-267bac2785ac",
   "metadata": {},
   "outputs": [
    {
     "name": "stdout",
     "output_type": "stream",
     "text": [
      "x        = [1, 2, 4, 10]\n",
      "ln(x)    = [0.         0.69314718 1.38629436 2.30258509]\n",
      "log2(x)  = [0.         1.         2.         3.32192809]\n",
      "log10(x) = [0.         0.30103    0.60205999 1.        ]\n"
     ]
    }
   ],
   "source": [
    "x = [1, 2, 4, 10]\n",
    "print(\"x        =\", x)\n",
    "print(\"ln(x)    =\", np.log(x))\n",
    "print(\"log2(x)  =\", np.log2(x))\n",
    "print(\"log10(x) =\", np.log10(x))"
   ]
  },
  {
   "cell_type": "code",
   "execution_count": 74,
   "id": "39889439-d07d-4b90-ada1-9158bb40321f",
   "metadata": {},
   "outputs": [
    {
     "name": "stdout",
     "output_type": "stream",
     "text": [
      "exp(x) - 1 = [0.         0.0010005  0.01005017 0.10517092]\n",
      "log(1 + x) = [0.         0.0009995  0.00995033 0.09531018]\n"
     ]
    }
   ],
   "source": [
    "x = [0, 0.001, 0.01, 0.1]\n",
    "print(\"exp(x) - 1 =\", np.expm1(x))\n",
    "print(\"log(1 + x) =\", np.log1p(x))"
   ]
  },
  {
   "cell_type": "markdown",
   "id": "229ca5bf-5555-478d-aa58-29fd363f1488",
   "metadata": {},
   "source": [
    "## 특화된 유니버설 함수"
   ]
  },
  {
   "cell_type": "code",
   "execution_count": null,
   "id": "0c968f77-3503-4b6c-9f17-c63599bc8b4c",
   "metadata": {},
   "outputs": [],
   "source": [
    "pip install scipy"
   ]
  },
  {
   "cell_type": "code",
   "execution_count": 78,
   "id": "e37e4056-7315-4c91-83d2-949707ede2c2",
   "metadata": {},
   "outputs": [],
   "source": [
    "from scipy import special"
   ]
  },
  {
   "cell_type": "code",
   "execution_count": 79,
   "id": "8a0837d9-de85-4b70-9b6b-56d135448623",
   "metadata": {},
   "outputs": [],
   "source": [
    "# 감마 함수(일반화된 계승)와 관련 함수"
   ]
  },
  {
   "cell_type": "code",
   "execution_count": 81,
   "id": "9901ab72-c663-49a7-b1c3-f5effc4ba844",
   "metadata": {},
   "outputs": [
    {
     "name": "stdout",
     "output_type": "stream",
     "text": [
      "gamma(x)     = [1.0000e+00 2.4000e+01 3.6288e+05]\n",
      "ln|gamma(x)| = [ 0.          3.17805383 12.80182748]\n",
      "beta(x, 2)   = [0.5        0.03333333 0.00909091]\n"
     ]
    }
   ],
   "source": [
    "x = [1, 5, 10]\n",
    "print(\"gamma(x)     =\", special.gamma(x))\n",
    "print(\"ln|gamma(x)| =\", special.gammaln(x))\n",
    "print(\"beta(x, 2)   =\", special.beta(x, 2))"
   ]
  },
  {
   "cell_type": "code",
   "execution_count": 82,
   "id": "14575654-7562-4592-83d8-cbd8d04ef42c",
   "metadata": {},
   "outputs": [],
   "source": [
    "# 오차 함수(가우스 적분), 그 보수(complement)와 역수(inverse)"
   ]
  },
  {
   "cell_type": "code",
   "execution_count": 83,
   "id": "cc8947a7-3320-44b4-ad60-b3635edc0494",
   "metadata": {},
   "outputs": [
    {
     "name": "stdout",
     "output_type": "stream",
     "text": [
      "erf(x)    = [0.         0.32862676 0.67780119 0.84270079]\n",
      "erfc(x)   = [1.         0.67137324 0.32219881 0.15729921]\n",
      "erfinv(x) = [0.         0.27246271 0.73286908        inf]\n"
     ]
    }
   ],
   "source": [
    "x = np.array([0, 0.3, 0.7, 1.0])\n",
    "print(\"erf(x)    =\", special.erf(x))\n",
    "print(\"erfc(x)   =\", special.erfc(x))\n",
    "print(\"erfinv(x) =\", special.erfinv(x))"
   ]
  },
  {
   "cell_type": "markdown",
   "id": "d6cbe4bb-b90b-4abb-86be-90585135f037",
   "metadata": {},
   "source": [
    "# 고급 Ufunc 기능\n",
    "## 출력 지정"
   ]
  },
  {
   "cell_type": "code",
   "execution_count": 87,
   "id": "966eb14a-c68d-482d-a79a-f7c04dd1a282",
   "metadata": {},
   "outputs": [
    {
     "name": "stdout",
     "output_type": "stream",
     "text": [
      "[ 0. 10. 20. 30. 40.]\n"
     ]
    }
   ],
   "source": [
    "x = np.arange(5)\n",
    "y = np.empty(5)\n",
    "np.multiply(x, 10, out=y)\n",
    "print(y)"
   ]
  },
  {
   "cell_type": "code",
   "execution_count": 88,
   "id": "b3abea98-7c30-44c7-b830-a70bf2fa9683",
   "metadata": {},
   "outputs": [
    {
     "name": "stdout",
     "output_type": "stream",
     "text": [
      "[ 1.  0.  2.  0.  4.  0.  8.  0. 16.  0.]\n"
     ]
    }
   ],
   "source": [
    "y = np.zeros(10)\n",
    "np.power(2, x, out=y[::2])\n",
    "print(y)"
   ]
  },
  {
   "cell_type": "markdown",
   "id": "6b1a899e-5e73-469f-b8dd-f9441d8aafd7",
   "metadata": {},
   "source": [
    "## 집계"
   ]
  },
  {
   "cell_type": "code",
   "execution_count": 89,
   "id": "d3b056b7-4271-4bce-949b-326740417245",
   "metadata": {},
   "outputs": [],
   "source": [
    "import numpy as np"
   ]
  },
  {
   "cell_type": "code",
   "execution_count": 91,
   "id": "30d126e4-1bf8-4ce7-a058-9c105aedb6b8",
   "metadata": {},
   "outputs": [],
   "source": [
    "# 알아두기\n",
    "# np.sort(values)\n",
    "# np.argsort(values)"
   ]
  },
  {
   "cell_type": "code",
   "execution_count": 92,
   "id": "03375ab8-c062-4c37-8e7c-5e847cadf9a4",
   "metadata": {},
   "outputs": [
    {
     "data": {
      "text/plain": [
       "15"
      ]
     },
     "execution_count": 92,
     "metadata": {},
     "output_type": "execute_result"
    }
   ],
   "source": [
    "x = np.arange(1, 6)\n",
    "np.add.reduce(x) # 배열의 모든 요소의 합"
   ]
  },
  {
   "cell_type": "code",
   "execution_count": 93,
   "id": "eabc3727-db65-4894-aca6-b93eff0c25a6",
   "metadata": {},
   "outputs": [
    {
     "data": {
      "text/plain": [
       "120"
      ]
     },
     "execution_count": 93,
     "metadata": {},
     "output_type": "execute_result"
    }
   ],
   "source": [
    "np.multiply.reduce(x) # 배열의 모든 요소의 곱"
   ]
  },
  {
   "cell_type": "code",
   "execution_count": 94,
   "id": "3dfb7b3e-d961-4241-8727-de36229b75e8",
   "metadata": {},
   "outputs": [
    {
     "data": {
      "text/plain": [
       "array([ 1,  3,  6, 10, 15])"
      ]
     },
     "execution_count": 94,
     "metadata": {},
     "output_type": "execute_result"
    }
   ],
   "source": [
    "np.add.accumulate(x) # 배열의 누적 합 중간 결과"
   ]
  },
  {
   "cell_type": "code",
   "execution_count": 95,
   "id": "83cd21c1-b913-49cd-83c9-3d7695527cdc",
   "metadata": {},
   "outputs": [
    {
     "data": {
      "text/plain": [
       "array([  1,   2,   6,  24, 120])"
      ]
     },
     "execution_count": 95,
     "metadata": {},
     "output_type": "execute_result"
    }
   ],
   "source": [
    "np.multiply.accumulate(x) # 배열의 누적 곱 중간 결과"
   ]
  },
  {
   "cell_type": "markdown",
   "id": "3169a15a-0734-40dc-a489-9341464e4412",
   "metadata": {},
   "source": [
    "## 외적(Outer products)"
   ]
  },
  {
   "cell_type": "code",
   "execution_count": 96,
   "id": "0d36401b-7d21-4ca4-9811-775adeafb675",
   "metadata": {},
   "outputs": [
    {
     "data": {
      "text/plain": [
       "array([[ 1,  2,  3,  4,  5],\n",
       "       [ 2,  4,  6,  8, 10],\n",
       "       [ 3,  6,  9, 12, 15],\n",
       "       [ 4,  8, 12, 16, 20],\n",
       "       [ 5, 10, 15, 20, 25]])"
      ]
     },
     "execution_count": 96,
     "metadata": {},
     "output_type": "execute_result"
    }
   ],
   "source": [
    "x = np.arange(1, 6)\n",
    "np.multiply.outer(x, x)"
   ]
  },
  {
   "cell_type": "markdown",
   "id": "853bf1ab-44df-4de9-8990-2167197a3cee",
   "metadata": {},
   "source": [
    "# Ufuncs: 더 알아보기\n",
    "## 집계: 최솟값, 최댓값, 그리고 그 사이의 모든 것"
   ]
  },
  {
   "cell_type": "markdown",
   "id": "d1802c3d-de29-4065-b43c-5206471e0c58",
   "metadata": {},
   "source": [
    "## 배열의 값의 합 구하기"
   ]
  },
  {
   "cell_type": "markdown",
   "id": "878cf889-0f00-4e68-929e-943f3031441d",
   "metadata": {},
   "source": [
    "## practice"
   ]
  },
  {
   "cell_type": "code",
   "execution_count": 99,
   "id": "a087f329-c653-46e1-99ae-d34858ff3ac0",
   "metadata": {},
   "outputs": [
    {
     "name": "stdout",
     "output_type": "stream",
     "text": [
      "['1,George', 'Washington,189']\n",
      "['2,John', 'Adams,170']\n",
      "['3,Thomas', 'Jefferson,189']\n",
      "['4,James', 'Madison,163']\n",
      "['5,James', 'Monroe,183']\n",
      "['6,John', 'Quincy', 'Adams,171']\n",
      "['7,Andrew', 'Jackson,185']\n",
      "['8,Martin', 'Van', 'Buren,168']\n",
      "['9,William', 'Henry', 'Harrison,173']\n",
      "['10,John', 'Tyler,183']\n",
      "['11,James', 'K.', 'Polk,173']\n",
      "['12,Zachary', 'Taylor,173']\n",
      "['13,Millard', 'Fillmore,175']\n",
      "['14,Franklin', 'Pierce,178']\n",
      "['15,James', 'Buchanan,183']\n",
      "['16,Abraham', 'Lincoln,193']\n",
      "['17,Andrew', 'Johnson,178']\n",
      "['18,Ulysses', 'S.', 'Grant,173']\n",
      "['19,Rutherford', 'B.', 'Hayes,174']\n",
      "['20,James', 'A.', 'Garfield,183']\n",
      "['21,Chester', 'A.', 'Arthur,183']\n",
      "['23,Benjamin', 'Harrison,168']\n",
      "['25,William', 'McKinley,170']\n",
      "['26,Theodore', 'Roosevelt,178']\n",
      "['27,William', 'Howard', 'Taft,182']\n",
      "['28,Woodrow', 'Wilson,180']\n",
      "['29,Warren', 'G.', 'Harding,183']\n",
      "['30,Calvin', 'Coolidge,178']\n",
      "['31,Herbert', 'Hoover,182']\n",
      "['32,Franklin', 'D.', 'Roosevelt,188']\n",
      "['33,Harry', 'S.', 'Truman,175']\n",
      "['34,Dwight', 'D.', 'Eisenhower,179']\n",
      "['35,John', 'F.', 'Kennedy,183']\n",
      "['36,Lyndon', 'B.', 'Johnson,193']\n",
      "['37,Richard', 'Nixon,182']\n",
      "['38,Gerald', 'Ford,183']\n",
      "['39,Jimmy', 'Carter,177']\n",
      "['40,Ronald', 'Reagan,185']\n",
      "['41,George', 'H.', 'W.', 'Bush,188']\n",
      "['42,Bill', 'Clinton,188']\n",
      "['43,George', 'W.', 'Bush,182']\n",
      "['44,Barack', 'Obama,185']\n"
     ]
    },
    {
     "data": {
      "text/plain": [
       "(179.73809523809524, numpy.float64)"
      ]
     },
     "execution_count": 99,
     "metadata": {},
     "output_type": "execute_result"
    }
   ],
   "source": [
    "with open('data/president_heights.csv') as f:\n",
    "\n",
    "    f.readline()\n",
    "\n",
    "    heights=[]\n",
    "\n",
    "    for line in f.readlines():\n",
    "\n",
    "        print(line.rstrip().split())\n",
    "\n",
    "        heights.append(int(line.rstrip().split(',')[-1]))\n",
    "\n",
    "\n",
    "\n",
    "heights_np = np.asarray(heights)\n",
    "\n",
    "np.average(heights_np), type(np.average(heights_np))"
   ]
  },
  {
   "cell_type": "code",
   "execution_count": 102,
   "id": "3fcdb516-d341-4720-83be-89e9696b55ff",
   "metadata": {},
   "outputs": [
    {
     "name": "stdout",
     "output_type": "stream",
     "text": [
      "Collecting seaborn\n",
      "  Downloading seaborn-0.13.2-py3-none-any.whl.metadata (5.4 kB)\n",
      "Requirement already satisfied: numpy!=1.24.0,>=1.20 in c:\\users\\user\\appdata\\local\\programs\\python\\python39\\lib\\site-packages (from seaborn) (1.26.4)\n",
      "Requirement already satisfied: pandas>=1.2 in c:\\users\\user\\appdata\\local\\programs\\python\\python39\\lib\\site-packages (from seaborn) (2.2.2)\n",
      "Requirement already satisfied: matplotlib!=3.6.1,>=3.4 in c:\\users\\user\\appdata\\local\\programs\\python\\python39\\lib\\site-packages (from seaborn) (3.9.0)\n",
      "Requirement already satisfied: contourpy>=1.0.1 in c:\\users\\user\\appdata\\local\\programs\\python\\python39\\lib\\site-packages (from matplotlib!=3.6.1,>=3.4->seaborn) (1.2.1)\n",
      "Requirement already satisfied: cycler>=0.10 in c:\\users\\user\\appdata\\local\\programs\\python\\python39\\lib\\site-packages (from matplotlib!=3.6.1,>=3.4->seaborn) (0.12.1)\n",
      "Requirement already satisfied: fonttools>=4.22.0 in c:\\users\\user\\appdata\\local\\programs\\python\\python39\\lib\\site-packages (from matplotlib!=3.6.1,>=3.4->seaborn) (4.51.0)\n",
      "Requirement already satisfied: kiwisolver>=1.3.1 in c:\\users\\user\\appdata\\local\\programs\\python\\python39\\lib\\site-packages (from matplotlib!=3.6.1,>=3.4->seaborn) (1.4.5)\n",
      "Requirement already satisfied: packaging>=20.0 in c:\\users\\user\\appdata\\local\\programs\\python\\python39\\lib\\site-packages (from matplotlib!=3.6.1,>=3.4->seaborn) (24.0)\n",
      "Requirement already satisfied: pillow>=8 in c:\\users\\user\\appdata\\local\\programs\\python\\python39\\lib\\site-packages (from matplotlib!=3.6.1,>=3.4->seaborn) (10.3.0)\n",
      "Requirement already satisfied: pyparsing>=2.3.1 in c:\\users\\user\\appdata\\local\\programs\\python\\python39\\lib\\site-packages (from matplotlib!=3.6.1,>=3.4->seaborn) (3.1.2)\n",
      "Requirement already satisfied: python-dateutil>=2.7 in c:\\users\\user\\appdata\\local\\programs\\python\\python39\\lib\\site-packages (from matplotlib!=3.6.1,>=3.4->seaborn) (2.9.0.post0)\n",
      "Requirement already satisfied: importlib-resources>=3.2.0 in c:\\users\\user\\appdata\\local\\programs\\python\\python39\\lib\\site-packages (from matplotlib!=3.6.1,>=3.4->seaborn) (6.4.0)\n",
      "Requirement already satisfied: pytz>=2020.1 in c:\\users\\user\\appdata\\local\\programs\\python\\python39\\lib\\site-packages (from pandas>=1.2->seaborn) (2024.1)\n",
      "Requirement already satisfied: tzdata>=2022.7 in c:\\users\\user\\appdata\\local\\programs\\python\\python39\\lib\\site-packages (from pandas>=1.2->seaborn) (2024.1)\n",
      "Requirement already satisfied: zipp>=3.1.0 in c:\\users\\user\\appdata\\local\\programs\\python\\python39\\lib\\site-packages (from importlib-resources>=3.2.0->matplotlib!=3.6.1,>=3.4->seaborn) (3.18.2)\n",
      "Requirement already satisfied: six>=1.5 in c:\\users\\user\\appdata\\local\\programs\\python\\python39\\lib\\site-packages (from python-dateutil>=2.7->matplotlib!=3.6.1,>=3.4->seaborn) (1.16.0)\n",
      "Downloading seaborn-0.13.2-py3-none-any.whl (294 kB)\n",
      "   ---------------------------------------- 0.0/294.9 kB ? eta -:--:--\n",
      "   -------------------------------------- - 286.7/294.9 kB 6.0 MB/s eta 0:00:01\n",
      "   ---------------------------------------- 294.9/294.9 kB 6.2 MB/s eta 0:00:00\n",
      "Installing collected packages: seaborn\n",
      "Successfully installed seaborn-0.13.2\n",
      "Note: you may need to restart the kernel to use updated packages.\n"
     ]
    }
   ],
   "source": [
    "pip install seaborn"
   ]
  },
  {
   "cell_type": "code",
   "execution_count": 108,
   "id": "dcdaf46a-4a75-4fde-b9cd-11f0e6d93384",
   "metadata": {},
   "outputs": [
    {
     "name": "stdout",
     "output_type": "stream",
     "text": [
      "[189 170 189 163 183 171 185 168 173 183 173 173 175 178 183 193 178 173\n",
      " 174 183 183 168 170 178 182 180 183 178 182 188 175 179 183 193 182 183\n",
      " 177 185 188 188 182 185]\n"
     ]
    }
   ],
   "source": [
    "import pandas as pd\n",
    "data = pd.read_csv('data/president_heights.csv')\n",
    "heights = np.array(data['height(cm)'])\n",
    "print(heights)"
   ]
  },
  {
   "cell_type": "code",
   "execution_count": 111,
   "id": "b36e209b-bcb8-4d46-8cf0-dca5ec5f3640",
   "metadata": {},
   "outputs": [
    {
     "name": "stdout",
     "output_type": "stream",
     "text": [
      "Mean height:        179.73809523809524\n",
      "Standard deviation: 6.931843442745892\n",
      "Minimum height:     163\n",
      "Maximum height:     193\n"
     ]
    }
   ],
   "source": [
    "print(\"Mean height:       \", heights.mean())\n",
    "print(\"Standard deviation:\", heights.std())\n",
    "print(\"Minimum height:    \", heights.min())\n",
    "print(\"Maximum height:    \", heights.max())"
   ]
  },
  {
   "cell_type": "code",
   "execution_count": 113,
   "id": "159e77fd-ebe4-4158-9621-3c629966a00c",
   "metadata": {},
   "outputs": [
    {
     "name": "stdout",
     "output_type": "stream",
     "text": [
      "25th percentile:  174.25\n",
      "Median:           182.0\n",
      "75th percentile:  183.0\n"
     ]
    }
   ],
   "source": [
    "print(\"25th percentile: \", np.percentile(heights, 25))\n",
    "print(\"Median:          \", np.median(heights))\n",
    "print(\"75th percentile: \", np.percentile(heights, 75))"
   ]
  },
  {
   "cell_type": "code",
   "execution_count": 114,
   "id": "bc27fdde-2b12-4394-957d-1160f788fa30",
   "metadata": {},
   "outputs": [],
   "source": [
    "%matplotlib inline\n",
    "import matplotlib.pyplot as plt\n",
    "import seaborn; seaborn.set() # 플롯 스타일 설정"
   ]
  },
  {
   "cell_type": "code",
   "execution_count": 115,
   "id": "803ff67d-065e-459b-8a65-2ab44e2a8e94",
   "metadata": {},
   "outputs": [
    {
     "data": {
      "text/plain": [
       "Text(0, 0.5, 'number')"
      ]
     },
     "execution_count": 115,
     "metadata": {},
     "output_type": "execute_result"
    },
    {
     "data": {
      "image/png": "[encoded data removed]",
      "text/plain": [
       "<Figure size 640x480 with 1 Axes>"
      ]
     },
     "metadata": {},
     "output_type": "display_data"
    }
   ],
   "source": [
    "plt.hist(heights)\n",
    "plt.title('Height Distribution of US Presidents')\n",
    "plt.xlabel('height (cm)')\n",
    "plt.ylabel('number')"
   ]
  },
  {
   "cell_type": "markdown",
   "id": "1aae4a85-7d19-4406-bf3c-12869acc4f9a",
   "metadata": {},
   "source": [
    "# 배열 연산: 브로드캐스팅 (Broadcasting)"
   ]
  },
  {
   "cell_type": "code",
   "execution_count": 105,
   "id": "964ffef5-7f05-455e-a526-9de6233f0641",
   "metadata": {},
   "outputs": [
    {
     "data": {
      "text/plain": [
       "array([4, 5, 6])"
      ]
     },
     "execution_count": 105,
     "metadata": {},
     "output_type": "execute_result"
    }
   ],
   "source": [
    "np.array([1, 2, 3]) + np.array([3])"
   ]
  },
  {
   "cell_type": "code",
   "execution_count": 106,
   "id": "ac10c4af-b46f-4f84-8f7d-a50f76575d8b",
   "metadata": {},
   "outputs": [
    {
     "data": {
      "text/plain": [
       "array([2, 4, 6])"
      ]
     },
     "execution_count": 106,
     "metadata": {},
     "output_type": "execute_result"
    }
   ],
   "source": [
    "np.array([1, 2, 3]) + np.array([1, 2, 3])"
   ]
  },
  {
   "cell_type": "code",
   "execution_count": 107,
   "id": "c4ee78a7-33f8-4275-8955-025c9077407d",
   "metadata": {},
   "outputs": [
    {
     "ename": "ValueError",
     "evalue": "operands could not be broadcast together with shapes (3,) (2,) ",
     "output_type": "error",
     "traceback": [
      "\u001b[1;31m---------------------------------------------------------------------------\u001b[0m",
      "\u001b[1;31mValueError\u001b[0m                                Traceback (most recent call last)",
      "Cell \u001b[1;32mIn[107], line 1\u001b[0m\n\u001b[1;32m----> 1\u001b[0m \u001b[43mnp\u001b[49m\u001b[38;5;241;43m.\u001b[39;49m\u001b[43marray\u001b[49m\u001b[43m(\u001b[49m\u001b[43m[\u001b[49m\u001b[38;5;241;43m1\u001b[39;49m\u001b[43m,\u001b[49m\u001b[43m \u001b[49m\u001b[38;5;241;43m2\u001b[39;49m\u001b[43m,\u001b[49m\u001b[43m \u001b[49m\u001b[38;5;241;43m3\u001b[39;49m\u001b[43m]\u001b[49m\u001b[43m)\u001b[49m\u001b[43m \u001b[49m\u001b[38;5;241;43m+\u001b[39;49m\u001b[43m \u001b[49m\u001b[43mnp\u001b[49m\u001b[38;5;241;43m.\u001b[39;49m\u001b[43marray\u001b[49m\u001b[43m(\u001b[49m\u001b[43m[\u001b[49m\u001b[38;5;241;43m3\u001b[39;49m\u001b[43m,\u001b[49m\u001b[43m \u001b[49m\u001b[38;5;241;43m3\u001b[39;49m\u001b[43m]\u001b[49m\u001b[43m)\u001b[49m\n",
      "\u001b[1;31mValueError\u001b[0m: operands could not be broadcast together with shapes (3,) (2,) "
     ]
    }
   ],
   "source": [
    "np.array([1, 2, 3]) + np.array([3, 3])"
   ]
  },
  {
   "cell_type": "markdown",
   "id": "3e57d636-f432-4734-bc11-77d38d8af297",
   "metadata": {},
   "source": [
    "### 브로드캐스팅 소개"
   ]
  },
  {
   "cell_type": "code",
   "execution_count": 116,
   "id": "e1a96307-31b3-4b86-8290-8f782aeb1b2b",
   "metadata": {},
   "outputs": [],
   "source": [
    "import numpy as np"
   ]
  },
  {
   "cell_type": "code",
   "execution_count": 118,
   "id": "99228cc4-3f10-4b33-9eea-e7f01c08146d",
   "metadata": {},
   "outputs": [
    {
     "data": {
      "text/plain": [
       "array([5, 6, 7])"
      ]
     },
     "execution_count": 118,
     "metadata": {},
     "output_type": "execute_result"
    }
   ],
   "source": [
    "a = np.array([0, 1, 2]) # 배열에서 이항 연산은 배열의 요소 단위로 수행\n",
    "b = np.array([5, 5, 5])\n",
    "a + b"
   ]
  },
  {
   "cell_type": "code",
   "execution_count": 120,
   "id": "c2335197-19c6-4108-bd54-78bd0a1ba88d",
   "metadata": {},
   "outputs": [
    {
     "data": {
      "text/plain": [
       "array([5, 6, 7])"
      ]
     },
     "execution_count": 120,
     "metadata": {},
     "output_type": "execute_result"
    }
   ],
   "source": [
    "a + 5  # 이항 연산을 서로 다른 크기의 배열에서 수행, 5 == [5, 5, 5], 복제 발생x"
   ]
  },
  {
   "cell_type": "code",
   "execution_count": 121,
   "id": "65f75cb6-702f-40ae-aaca-affa05df3538",
   "metadata": {},
   "outputs": [
    {
     "data": {
      "text/plain": [
       "array([[1., 1., 1.],\n",
       "       [1., 1., 1.],\n",
       "       [1., 1., 1.]])"
      ]
     },
     "execution_count": 121,
     "metadata": {},
     "output_type": "execute_result"
    }
   ],
   "source": [
    "M = np.ones((3, 3))\n",
    "M"
   ]
  },
  {
   "cell_type": "code",
   "execution_count": 122,
   "id": "3c58d3e0-f355-40a4-b887-55f2ad2a20aa",
   "metadata": {},
   "outputs": [
    {
     "data": {
      "text/plain": [
       "array([[1., 2., 3.],\n",
       "       [1., 2., 3.],\n",
       "       [1., 2., 3.]])"
      ]
     },
     "execution_count": 122,
     "metadata": {},
     "output_type": "execute_result"
    }
   ],
   "source": [
    "M + a # 1차원 배열 a는 M의 형상에 맞추기 위해 두 번째 차원까지 확장 또는 브로드캐스팅"
   ]
  },
  {
   "cell_type": "code",
   "execution_count": 123,
   "id": "4d3fd5d8-c6c7-4add-84d2-dd0ee6511d7a",
   "metadata": {},
   "outputs": [
    {
     "name": "stdout",
     "output_type": "stream",
     "text": [
      "[0 1 2]\n",
      "[[0]\n",
      " [1]\n",
      " [2]]\n"
     ]
    }
   ],
   "source": [
    "a = np.arange(3)\n",
    "b = np.arange(3)[:, np.newaxis]\n",
    "print(a)\n",
    "print(b)"
   ]
  },
  {
   "cell_type": "code",
   "execution_count": 124,
   "id": "d1fb66db-8ef7-44e6-97f8-e3efd15708df",
   "metadata": {},
   "outputs": [
    {
     "data": {
      "text/plain": [
       "array([[0, 1, 2],\n",
       "       [1, 2, 3],\n",
       "       [2, 3, 4]])"
      ]
     },
     "execution_count": 124,
     "metadata": {},
     "output_type": "execute_result"
    }
   ],
   "source": [
    "a + b # 공통 형상에 맞추기 위해 a와 b 모두 확장, 결과 2차원 배열"
   ]
  },
  {
   "cell_type": "markdown",
   "id": "816e7253-f1a2-45d2-81e4-5f3e44ea4683",
   "metadata": {},
   "source": [
    "### 브로드캐스팅 규칙\n",
    "+ 규칙 1: 두 배열의 차원 수가 다르면 더 작은 수의 차원을 가진 배열 형상의 앞쪽(왼쪽)을 1로 채운다\n",
    "+ 규칙 2: 두 배열의 형상이 어떤 차원에서도 일치하지 않는다면 해당 차원의 형상이 1인 배열이 다른 형상과 일치하도록 늘어난다.\n",
    "+ 규칙 3: 임의의 차원에서 크기가 일치하지 않고 1도 아니라면 오류가 발생한다"
   ]
  },
  {
   "cell_type": "markdown",
   "id": "b307de2f-8e99-47ce-bd29-c41f14d0407e",
   "metadata": {},
   "source": [
    "### 브로드캐스팅 예제1"
   ]
  },
  {
   "cell_type": "code",
   "execution_count": 125,
   "id": "a24003e4-0f49-46d1-bb71-a6f369c97d6c",
   "metadata": {},
   "outputs": [],
   "source": [
    "M = np.ones((2, 3))\n",
    "a = np.arange(3)"
   ]
  },
  {
   "cell_type": "code",
   "execution_count": 128,
   "id": "12d3bc56-c7f3-4cdb-8f6b-e570b97aedfc",
   "metadata": {},
   "outputs": [],
   "source": [
    "# M.shape = (2, 3)\n",
    "# a.shape = (3, )"
   ]
  },
  {
   "cell_type": "code",
   "execution_count": 130,
   "id": "b3e0250e-6255-45c1-9ed9-b84e3c4043dd",
   "metadata": {},
   "outputs": [],
   "source": [
    "# 규칙 1\n",
    "# M.shape -> (2, 3)\n",
    "# a.shape -> (1, 3)"
   ]
  },
  {
   "cell_type": "code",
   "execution_count": 132,
   "id": "9936a680-396a-44b6-b600-de3ad982b814",
   "metadata": {},
   "outputs": [],
   "source": [
    "# 규칙 2\n",
    "# M.shape -> (2, 3)\n",
    "# a.shape -> (2, 3)"
   ]
  },
  {
   "cell_type": "code",
   "execution_count": 133,
   "id": "b530853e-2a33-49b1-9068-97a1ef572d48",
   "metadata": {},
   "outputs": [
    {
     "data": {
      "text/plain": [
       "array([[1., 2., 3.],\n",
       "       [1., 2., 3.]])"
      ]
     },
     "execution_count": 133,
     "metadata": {},
     "output_type": "execute_result"
    }
   ],
   "source": [
    "M + a"
   ]
  },
  {
   "cell_type": "markdown",
   "id": "52281d0b-990c-43ff-a029-d679e3694f33",
   "metadata": {},
   "source": [
    "### 브로드캐스팅 예제2 - 두 배열 모두 브로드캐스팅이 필요"
   ]
  },
  {
   "cell_type": "code",
   "execution_count": 134,
   "id": "ab231f92-e69c-42e7-9812-8ac6cf711d6b",
   "metadata": {},
   "outputs": [],
   "source": [
    "a = np.arange(3).reshape((3, 1))\n",
    "b = np.arange(3)"
   ]
  },
  {
   "cell_type": "code",
   "execution_count": 135,
   "id": "8d467b11-22f5-463a-a77b-18a26ea9d770",
   "metadata": {},
   "outputs": [],
   "source": [
    "# a.shape = (3, 1)\n",
    "# b.shape = (3,)"
   ]
  },
  {
   "cell_type": "code",
   "execution_count": 136,
   "id": "2ecacc62-37cb-4b25-ac85-5f54d5f4e1dd",
   "metadata": {},
   "outputs": [],
   "source": [
    "# 규칙 1\n",
    "# a.shape -> (3, 1)\n",
    "# b.shape -> (1, 3)"
   ]
  },
  {
   "cell_type": "code",
   "execution_count": 137,
   "id": "a19ab2a6-6790-42eb-b11f-3fbf60138a5f",
   "metadata": {},
   "outputs": [],
   "source": [
    "# 규칙 2\n",
    "# a.shape -> (3, 3)\n",
    "# b.shape -> (3, 3)"
   ]
  },
  {
   "cell_type": "code",
   "execution_count": 138,
   "id": "97712569-b3c3-4613-b3f6-b7a2d3b28fd0",
   "metadata": {},
   "outputs": [
    {
     "data": {
      "text/plain": [
       "array([[0, 1, 2],\n",
       "       [1, 2, 3],\n",
       "       [2, 3, 4]])"
      ]
     },
     "execution_count": 138,
     "metadata": {},
     "output_type": "execute_result"
    }
   ],
   "source": [
    "a + b"
   ]
  },
  {
   "cell_type": "markdown",
   "id": "49a6cd24-b9f9-4687-9ca1-b8c5d482db68",
   "metadata": {},
   "source": [
    "### 브로드캐스팅 예제3 - 두 개의 배열이 호환되지 않는 경우"
   ]
  },
  {
   "cell_type": "code",
   "execution_count": 140,
   "id": "54bdff9c-09b4-4487-87b0-75205105c8c1",
   "metadata": {},
   "outputs": [],
   "source": [
    "M = np.ones((3, 2))\n",
    "a = np.arange(3)"
   ]
  },
  {
   "cell_type": "code",
   "execution_count": 142,
   "id": "745f4ebb-47a5-4924-bea9-23a9b6ac00c7",
   "metadata": {},
   "outputs": [],
   "source": [
    "# M.shape = (3, 2)\n",
    "# a.shape = (3,)"
   ]
  },
  {
   "cell_type": "code",
   "execution_count": 143,
   "id": "fbf70254-20e8-4b88-82e2-dadf49cd88fc",
   "metadata": {},
   "outputs": [],
   "source": [
    "# 규칙 1\n",
    "# M.shape -> (3, 2)\n",
    "# a.shape -> (1, 3)"
   ]
  },
  {
   "cell_type": "code",
   "execution_count": 144,
   "id": "200b3394-0619-437c-ba8a-97ac4845a7b9",
   "metadata": {},
   "outputs": [],
   "source": [
    "# 규칙 2\n",
    "# M.shape -> (3, 2)\n",
    "# a.shape -> (3, 3)"
   ]
  },
  {
   "cell_type": "code",
   "execution_count": 145,
   "id": "ccbc4910-5da8-47a6-9e28-5e39cccddc0a",
   "metadata": {},
   "outputs": [],
   "source": [
    "# 규칙 3 : 호환 x"
   ]
  },
  {
   "cell_type": "code",
   "execution_count": 146,
   "id": "ccf4119c-6d83-4dcf-9442-ba2875ce8250",
   "metadata": {},
   "outputs": [
    {
     "ename": "ValueError",
     "evalue": "operands could not be broadcast together with shapes (3,2) (3,) ",
     "output_type": "error",
     "traceback": [
      "\u001b[1;31m---------------------------------------------------------------------------\u001b[0m",
      "\u001b[1;31mValueError\u001b[0m                                Traceback (most recent call last)",
      "Cell \u001b[1;32mIn[146], line 1\u001b[0m\n\u001b[1;32m----> 1\u001b[0m \u001b[43mM\u001b[49m\u001b[43m \u001b[49m\u001b[38;5;241;43m+\u001b[39;49m\u001b[43m \u001b[49m\u001b[43ma\u001b[49m\n",
      "\u001b[1;31mValueError\u001b[0m: operands could not be broadcast together with shapes (3,2) (3,) "
     ]
    }
   ],
   "source": [
    "M + a"
   ]
  },
  {
   "cell_type": "code",
   "execution_count": 148,
   "id": "3ebb6afb-2a8f-4c61-8d5b-86cfec26ee1c",
   "metadata": {},
   "outputs": [
    {
     "data": {
      "text/plain": [
       "(3, 1)"
      ]
     },
     "execution_count": 148,
     "metadata": {},
     "output_type": "execute_result"
    }
   ],
   "source": [
    "# 명시적으로 배열의 형상을 변경\n",
    "a[:, np.newaxis].shape"
   ]
  },
  {
   "cell_type": "code",
   "execution_count": 149,
   "id": "cc7fd041-9aef-467d-b428-0c63d14278a6",
   "metadata": {},
   "outputs": [
    {
     "data": {
      "text/plain": [
       "array([[1., 1.],\n",
       "       [2., 2.],\n",
       "       [3., 3.]])"
      ]
     },
     "execution_count": 149,
     "metadata": {},
     "output_type": "execute_result"
    }
   ],
   "source": [
    "M + a[:, np.newaxis]"
   ]
  },
  {
   "cell_type": "code",
   "execution_count": 150,
   "id": "8fe54fd3-7fd4-47c4-abf7-4d1cf4cc1c91",
   "metadata": {},
   "outputs": [
    {
     "data": {
      "text/plain": [
       "array([[1.31326169, 1.31326169],\n",
       "       [1.69314718, 1.69314718],\n",
       "       [2.31326169, 2.31326169]])"
      ]
     },
     "execution_count": 150,
     "metadata": {},
     "output_type": "execute_result"
    }
   ],
   "source": [
    "np.logaddexp(M, a[:, np.newaxis]) # 브로드캐스팅 규칙 모든 이항 ufunc에 적용"
   ]
  },
  {
   "cell_type": "markdown",
   "id": "49c769c1-3fc8-4dbd-adb5-4cf641aca8d4",
   "metadata": {},
   "source": [
    "## 실전 브로드캐스팅"
   ]
  },
  {
   "cell_type": "markdown",
   "id": "905d54f4-5e77-4fb7-8bf4-c1450caee09b",
   "metadata": {},
   "source": [
    "### 배열을 중앙 정렬하기"
   ]
  },
  {
   "cell_type": "code",
   "execution_count": 153,
   "id": "3df93bcb-9e3a-4f83-945e-80461232ad86",
   "metadata": {},
   "outputs": [],
   "source": [
    "X = np.random.random((10, 3))"
   ]
  },
  {
   "cell_type": "code",
   "execution_count": 154,
   "id": "281756bb-f098-405d-b2f3-cddd295378e8",
   "metadata": {},
   "outputs": [
    {
     "data": {
      "text/plain": [
       "array([0.4243225 , 0.54782422, 0.53641145])"
      ]
     },
     "execution_count": 154,
     "metadata": {},
     "output_type": "execute_result"
    }
   ],
   "source": [
    "Xmean = X.mean(0)\n",
    "Xmean"
   ]
  },
  {
   "cell_type": "code",
   "execution_count": 155,
   "id": "881e5ab4-e839-4e77-a214-4fdd2641dd35",
   "metadata": {},
   "outputs": [],
   "source": [
    "X_centered = X - Xmean # 평균값을 뺌 => X 배열을 중앙 정렬"
   ]
  },
  {
   "cell_type": "code",
   "execution_count": 158,
   "id": "07faedc1-702c-4873-8403-9bf30fc791a0",
   "metadata": {},
   "outputs": [],
   "source": [
    "# centered_x = X - np.mean(X, axis=0)\n",
    "# centered_x"
   ]
  },
  {
   "cell_type": "code",
   "execution_count": 156,
   "id": "293d9940-c38d-4912-85f7-dce41552ac74",
   "metadata": {},
   "outputs": [
    {
     "data": {
      "text/plain": [
       "array([6.66133815e-17, 1.11022302e-17, 4.44089210e-17])"
      ]
     },
     "execution_count": 156,
     "metadata": {},
     "output_type": "execute_result"
    }
   ],
   "source": [
    "X_centered.mean(0) # 중앙 정렬된 배열의 평균이 거의 0에 가까운지 확인, 기계 정밀도 내에서 평균값이 0"
   ]
  },
  {
   "cell_type": "markdown",
   "id": "34072370-46fd-499a-afb2-6eb1d6e05b1b",
   "metadata": {},
   "source": [
    "### 2차원 함수 플로팅하기"
   ]
  },
  {
   "cell_type": "code",
   "execution_count": 164,
   "id": "ebd67a12-4e04-4a8b-98e2-d77df5c5fd01",
   "metadata": {},
   "outputs": [],
   "source": [
    "## 브로드캐스팅은 2차원 함수를 기반으로 이미지를 그릴 때 유용, 함수를 정의하여 브로드캐스팅을 사용 그리드에 이 함수를 계산\n",
    "# x와 y는 0에서 5까지 50단계로 나눈 배열임\n",
    "x = np.linspace(0, 5, 50)\n",
    "y = np.linspace(0, 5, 50)[:, np.newaxis]\n",
    "z = np.sin(x) ** 10 + np.cos(10 + y * x) * np.cos(x)"
   ]
  },
  {
   "cell_type": "code",
   "execution_count": 165,
   "id": "2cd0bb21-142b-4d26-83f4-ab15f996f15b",
   "metadata": {},
   "outputs": [],
   "source": [
    "%matplotlib inline\n",
    "import matplotlib.pyplot as plt"
   ]
  },
  {
   "cell_type": "code",
   "execution_count": 166,
   "id": "5e44e391-3170-48b8-a864-c1e996aa12ce",
   "metadata": {},
   "outputs": [
    {
     "data": {
      "image/png": "[encoded data removed]",
      "text/plain": [
       "<Figure size 640x480 with 2 Axes>"
      ]
     },
     "metadata": {},
     "output_type": "display_data"
    }
   ],
   "source": [
    "plt.imshow(z, origin='lower', extent=[0, 5, 0, 5], cmap='viridis')\n",
    "plt.colorbar();"
   ]
  },
  {
   "cell_type": "code",
   "execution_count": 160,
   "id": "e63af400-f72c-4bd6-b6e6-93473286940e",
   "metadata": {},
   "outputs": [],
   "source": [
    "X, Y = np.meshgrid(x, y, indexing='ij')"
   ]
  },
  {
   "cell_type": "code",
   "execution_count": 167,
   "id": "93c170ce-e7e5-4661-a474-a5a55022ca3a",
   "metadata": {},
   "outputs": [
    {
     "data": {
      "text/plain": [
       "((50, 10), (50, 10))"
      ]
     },
     "execution_count": 167,
     "metadata": {},
     "output_type": "execute_result"
    }
   ],
   "source": [
    "X.shape, Y.shape"
   ]
  },
  {
   "cell_type": "code",
   "execution_count": 169,
   "id": "fef2a790-3f0d-487a-9281-7b40596b32e9",
   "metadata": {},
   "outputs": [],
   "source": [
    "Z = np.sin(X) ** 10 + np.cos(10 + Y * X) * np.cos(X)"
   ]
  },
  {
   "cell_type": "code",
   "execution_count": 170,
   "id": "1c3d0aca-c6f2-40ef-bd3e-ecb3bc49ca77",
   "metadata": {},
   "outputs": [
    {
     "data": {
      "image/png": "[encoded data removed]",
      "text/plain": [
       "<Figure size 640x480 with 2 Axes>"
      ]
     },
     "metadata": {},
     "output_type": "display_data"
    }
   ],
   "source": [
    "plt.imshow(Z, origin='lower', extent=[0, 5, 0, 5], cmap='viridis')\n",
    "plt.colorbar();"
   ]
  },
  {
   "cell_type": "markdown",
   "id": "708e8892-9aba-4a16-8ca6-03c6f558b999",
   "metadata": {},
   "source": [
    "## 비교, 마스크, 부울 로직"
   ]
  },
  {
   "cell_type": "markdown",
   "id": "3235f5bf-e87c-44d4-95a6-716c3ec02359",
   "metadata": {},
   "source": [
    "### 예제: 비온 날 세기"
   ]
  },
  {
   "cell_type": "code",
   "execution_count": 172,
   "id": "b198ece0-8027-4771-81b2-7829b4126e8c",
   "metadata": {},
   "outputs": [
    {
     "name": "stdout",
     "output_type": "stream",
     "text": [
      "['GHCND:USW00024233,SEATTLE', 'TACOMA', 'INTERNATIONAL', 'AIRPORT', 'WA', 'US,20140101,0,0,0,72,33,12,340,310,36,40,-9999,-9999,-9999,-9999']\n",
      "['GHCND:USW00024233,SEATTLE', 'TACOMA', 'INTERNATIONAL', 'AIRPORT', 'WA', 'US,20140102,41,0,0,106,61,32,190,200,94,116,-9999,-9999,-9999,-9999']\n",
      "['GHCND:USW00024233,SEATTLE', 'TACOMA', 'INTERNATIONAL', 'AIRPORT', 'WA', 'US,20140103,15,0,0,89,28,26,30,50,63,72,1,-9999,-9999,-9999']\n",
      "['GHCND:USW00024233,SEATTLE', 'TACOMA', 'INTERNATIONAL', 'AIRPORT', 'WA', 'US,20140104,0,0,0,78,6,27,40,40,45,58,1,-9999,-9999,-9999']\n",
      "['GHCND:USW00024233,SEATTLE', 'TACOMA', 'INTERNATIONAL', 'AIRPORT', 'WA', 'US,20140105,0,0,0,83,-5,37,10,10,67,76,-9999,-9999,-9999,-9999']\n",
      "['GHCND:USW00024233,SEATTLE', 'TACOMA', 'INTERNATIONAL', 'AIRPORT', 'WA', 'US,20140106,3,0,0,78,-5,26,210,210,112,125,1,-9999,-9999,-9999']\n",
      "['GHCND:USW00024233,SEATTLE', 'TACOMA', 'INTERNATIONAL', 'AIRPORT', 'WA', 'US,20140107,122,0,0,83,50,16,160,150,45,54,-9999,-9999,-9999,-9999']\n",
      "['GHCND:USW00024233,SEATTLE', 'TACOMA', 'INTERNATIONAL', 'AIRPORT', 'WA', 'US,20140108,97,0,0,100,72,46,180,180,107,143,1,-9999,-9999,-9999']\n",
      "['GHCND:USW00024233,SEATTLE', 'TACOMA', 'INTERNATIONAL', 'AIRPORT', 'WA', 'US,20140109,58,0,0,94,56,63,210,230,143,183,1,-9999,-9999,-9999']\n",
      "['GHCND:USW00024233,SEATTLE', 'TACOMA', 'INTERNATIONAL', 'AIRPORT', 'WA', 'US,20140110,43,0,0,128,83,70,200,200,134,183,-9999,-9999,-9999,-9999']\n",
      "['GHCND:USW00024233,SEATTLE', 'TACOMA', 'INTERNATIONAL', 'AIRPORT', 'WA', 'US,20140111,213,0,0,144,72,88,210,200,183,250,1,-9999,-9999,-9999']\n",
      "['GHCND:USW00024233,SEATTLE', 'TACOMA', 'INTERNATIONAL', 'AIRPORT', 'WA', 'US,20140112,15,0,0,111,56,81,200,210,134,174,1,-9999,-9999,-9999']\n",
      "['GHCND:USW00024233,SEATTLE', 'TACOMA', 'INTERNATIONAL', 'AIRPORT', 'WA', 'US,20140113,0,0,0,106,100,71,200,210,148,201,-9999,-9999,-9999,-9999']\n",
      "['GHCND:USW00024233,SEATTLE', 'TACOMA', 'INTERNATIONAL', 'AIRPORT', 'WA', 'US,20140114,0,0,0,111,72,13,180,180,58,72,-9999,-9999,-9999,-9999']\n",
      "['GHCND:USW00024233,SEATTLE', 'TACOMA', 'INTERNATIONAL', 'AIRPORT', 'WA', 'US,20140115,0,0,0,111,56,25,20,10,58,67,-9999,-9999,-9999,-9999']\n",
      "['GHCND:USW00024233,SEATTLE', 'TACOMA', 'INTERNATIONAL', 'AIRPORT', 'WA', 'US,20140116,0,0,0,67,44,27,30,30,63,67,-9999,-9999,-9999,-9999']\n",
      "['GHCND:USW00024233,SEATTLE', 'TACOMA', 'INTERNATIONAL', 'AIRPORT', 'WA', 'US,20140117,0,0,0,56,28,23,30,10,45,58,-9999,-9999,-9999,-9999']\n",
      "['GHCND:USW00024233,SEATTLE', 'TACOMA', 'INTERNATIONAL', 'AIRPORT', 'WA', 'US,20140118,0,0,0,94,6,22,120,120,63,67,-9999,-9999,-9999,-9999']\n",
      "['GHCND:USW00024233,SEATTLE', 'TACOMA', 'INTERNATIONAL', 'AIRPORT', 'WA', 'US,20140119,0,0,0,61,33,25,30,-9999,40,-9999,-9999,-9999,-9999,-9999']\n",
      "['GHCND:USW00024233,SEATTLE', 'TACOMA', 'INTERNATIONAL', 'AIRPORT', 'WA', 'US,20140120,0,0,0,100,28,22,20,10,54,63,-9999,-9999,-9999,-9999']\n",
      "['GHCND:USW00024233,SEATTLE', 'TACOMA', 'INTERNATIONAL', 'AIRPORT', 'WA', 'US,20140121,0,0,0,100,17,15,240,240,72,94,-9999,-9999,-9999,-9999']\n",
      "['GHCND:USW00024233,SEATTLE', 'TACOMA', 'INTERNATIONAL', 'AIRPORT', 'WA', 'US,20140122,5,0,0,94,56,26,40,40,72,98,-9999,-9999,-9999,-9999']\n",
      "['GHCND:USW00024233,SEATTLE', 'TACOMA', 'INTERNATIONAL', 'AIRPORT', 'WA', 'US,20140123,0,0,0,100,28,52,20,20,103,125,1,-9999,-9999,-9999']\n",
      "['GHCND:USW00024233,SEATTLE', 'TACOMA', 'INTERNATIONAL', 'AIRPORT', 'WA', 'US,20140124,0,0,0,128,11,19,10,10,45,58,-9999,-9999,-9999,-9999']\n",
      "['GHCND:USW00024233,SEATTLE', 'TACOMA', 'INTERNATIONAL', 'AIRPORT', 'WA', 'US,20140125,0,0,0,122,11,8,110,120,45,54,-9999,-9999,-9999,-9999']\n",
      "['GHCND:USW00024233,SEATTLE', 'TACOMA', 'INTERNATIONAL', 'AIRPORT', 'WA', 'US,20140126,0,0,0,83,6,13,270,270,36,40,-9999,-9999,-9999,-9999']\n",
      "['GHCND:USW00024233,SEATTLE', 'TACOMA', 'INTERNATIONAL', 'AIRPORT', 'WA', 'US,20140127,0,0,0,94,17,13,130,130,40,54,-9999,-9999,-9999,-9999']\n",
      "['GHCND:USW00024233,SEATTLE', 'TACOMA', 'INTERNATIONAL', 'AIRPORT', 'WA', 'US,20140128,89,0,0,111,61,16,40,40,40,54,1,-9999,-9999,-9999']\n",
      "['GHCND:USW00024233,SEATTLE', 'TACOMA', 'INTERNATIONAL', 'AIRPORT', 'WA', 'US,20140129,216,0,0,111,72,34,210,200,89,112,1,-9999,-9999,-9999']\n",
      "['GHCND:USW00024233,SEATTLE', 'TACOMA', 'INTERNATIONAL', 'AIRPORT', 'WA', 'US,20140130,0,0,0,83,61,64,210,210,103,139,-9999,-9999,-9999,-9999']\n",
      "['GHCND:USW00024233,SEATTLE', 'TACOMA', 'INTERNATIONAL', 'AIRPORT', 'WA', 'US,20140131,23,0,0,78,56,26,200,200,67,81,1,-9999,-9999,-9999']\n",
      "['GHCND:USW00024233,SEATTLE', 'TACOMA', 'INTERNATIONAL', 'AIRPORT', 'WA', 'US,20140201,20,0,0,78,28,8,30,280,40,54,-9999,-9999,-9999,-9999']\n",
      "['GHCND:USW00024233,SEATTLE', 'TACOMA', 'INTERNATIONAL', 'AIRPORT', 'WA', 'US,20140202,0,0,0,89,11,25,330,350,72,94,-9999,-9999,-9999,-9999']\n",
      "['GHCND:USW00024233,SEATTLE', 'TACOMA', 'INTERNATIONAL', 'AIRPORT', 'WA', 'US,20140203,0,0,0,50,0,43,350,340,98,130,-9999,-9999,-9999,-9999']\n",
      "['GHCND:USW00024233,SEATTLE', 'TACOMA', 'INTERNATIONAL', 'AIRPORT', 'WA', 'US,20140204,0,0,0,28,-21,47,80,90,89,112,-9999,-9999,-9999,-9999']\n",
      "['GHCND:USW00024233,SEATTLE', 'TACOMA', 'INTERNATIONAL', 'AIRPORT', 'WA', 'US,20140205,0,0,0,-5,-55,66,80,180,103,174,-9999,-9999,-9999,-9999']\n",
      "['GHCND:USW00024233,SEATTLE', 'TACOMA', 'INTERNATIONAL', 'AIRPORT', 'WA', 'US,20140206,0,0,0,-16,-60,45,70,80,81,103,-9999,-9999,-9999,-9999']\n",
      "['GHCND:USW00024233,SEATTLE', 'TACOMA', 'INTERNATIONAL', 'AIRPORT', 'WA', 'US,20140207,0,0,0,33,-49,42,10,10,98,112,-9999,-9999,-9999,-9999']\n",
      "['GHCND:USW00024233,SEATTLE', 'TACOMA', 'INTERNATIONAL', 'AIRPORT', 'WA', 'US,20140208,51,0,74,56,-5,46,110,110,116,148,1,-9999,-9999,-9999']\n",
      "['GHCND:USW00024233,SEATTLE', 'TACOMA', 'INTERNATIONAL', 'AIRPORT', 'WA', 'US,20140209,5,80,0,39,0,24,150,150,58,67,1,-9999,-9999,-9999']\n",
      "['GHCND:USW00024233,SEATTLE', 'TACOMA', 'INTERNATIONAL', 'AIRPORT', 'WA', 'US,20140210,183,0,0,100,22,47,210,200,103,134,1,-9999,-9999,-9999']\n",
      "['GHCND:USW00024233,SEATTLE', 'TACOMA', 'INTERNATIONAL', 'AIRPORT', 'WA', 'US,20140211,170,0,0,122,56,38,160,160,94,107,1,-9999,-9999,-9999']\n",
      "['GHCND:USW00024233,SEATTLE', 'TACOMA', 'INTERNATIONAL', 'AIRPORT', 'WA', 'US,20140212,46,0,0,122,72,64,220,210,157,219,1,-9999,-9999,-9999']\n",
      "['GHCND:USW00024233,SEATTLE', 'TACOMA', 'INTERNATIONAL', 'AIRPORT', 'WA', 'US,20140213,18,0,0,128,78,63,220,220,125,174,1,-9999,-9999,-9999']\n",
      "['GHCND:USW00024233,SEATTLE', 'TACOMA', 'INTERNATIONAL', 'AIRPORT', 'WA', 'US,20140214,94,0,0,117,61,64,200,220,112,139,1,-9999,-9999,-9999']\n",
      "['GHCND:USW00024233,SEATTLE', 'TACOMA', 'INTERNATIONAL', 'AIRPORT', 'WA', 'US,20140215,117,0,0,111,50,51,210,220,161,233,1,-9999,-9999,-9999']\n",
      "['GHCND:USW00024233,SEATTLE', 'TACOMA', 'INTERNATIONAL', 'AIRPORT', 'WA', 'US,20140216,264,0,0,94,39,79,230,220,130,183,1,-9999,-9999,-9999']\n",
      "['GHCND:USW00024233,SEATTLE', 'TACOMA', 'INTERNATIONAL', 'AIRPORT', 'WA', 'US,20140217,145,0,0,83,44,55,220,220,103,134,1,-9999,-9999,-9999']\n",
      "['GHCND:USW00024233,SEATTLE', 'TACOMA', 'INTERNATIONAL', 'AIRPORT', 'WA', 'US,20140218,152,0,0,89,50,62,220,220,143,183,1,-9999,-9999,-9999']\n",
      "['GHCND:USW00024233,SEATTLE', 'TACOMA', 'INTERNATIONAL', 'AIRPORT', 'WA', 'US,20140219,10,0,0,83,39,60,210,210,94,125,-9999,-9999,-9999,-9999']\n",
      "['GHCND:USW00024233,SEATTLE', 'TACOMA', 'INTERNATIONAL', 'AIRPORT', 'WA', 'US,20140220,30,0,0,100,56,69,220,210,134,170,1,-9999,-9999,-9999']\n",
      "['GHCND:USW00024233,SEATTLE', 'TACOMA', 'INTERNATIONAL', 'AIRPORT', 'WA', 'US,20140221,28,0,0,67,39,29,240,230,67,94,1,-9999,-9999,-9999']\n",
      "['GHCND:USW00024233,SEATTLE', 'TACOMA', 'INTERNATIONAL', 'AIRPORT', 'WA', 'US,20140222,25,0,0,56,28,31,160,130,58,76,1,-9999,-9999,-9999']\n",
      "['GHCND:USW00024233,SEATTLE', 'TACOMA', 'INTERNATIONAL', 'AIRPORT', 'WA', 'US,20140223,61,0,0,72,39,26,170,180,58,67,1,-9999,-9999,-9999']\n",
      "['GHCND:USW00024233,SEATTLE', 'TACOMA', 'INTERNATIONAL', 'AIRPORT', 'WA', 'US,20140224,130,0,0,67,33,32,10,10,54,63,1,-9999,-9999,-9999']\n",
      "['GHCND:USW00024233,SEATTLE', 'TACOMA', 'INTERNATIONAL', 'AIRPORT', 'WA', 'US,20140225,3,0,0,122,39,45,10,80,72,81,1,-9999,-9999,-9999']\n",
      "['GHCND:USW00024233,SEATTLE', 'TACOMA', 'INTERNATIONAL', 'AIRPORT', 'WA', 'US,20140226,0,0,0,139,56,25,30,90,54,67,-9999,-9999,-9999,-9999']\n",
      "['GHCND:USW00024233,SEATTLE', 'TACOMA', 'INTERNATIONAL', 'AIRPORT', 'WA', 'US,20140227,0,0,0,128,44,23,10,10,63,67,-9999,-9999,-9999,-9999']\n",
      "['GHCND:USW00024233,SEATTLE', 'TACOMA', 'INTERNATIONAL', 'AIRPORT', 'WA', 'US,20140228,0,0,0,144,44,59,20,10,107,134,-9999,-9999,-9999,-9999']\n",
      "['GHCND:USW00024233,SEATTLE', 'TACOMA', 'INTERNATIONAL', 'AIRPORT', 'WA', 'US,20140301,5,0,0,72,44,47,110,120,76,94,-9999,-9999,-9999,-9999']\n",
      "['GHCND:USW00024233,SEATTLE', 'TACOMA', 'INTERNATIONAL', 'AIRPORT', 'WA', 'US,20140302,191,0,0,111,28,57,210,180,107,139,1,-9999,-9999,-9999']\n",
      "['GHCND:USW00024233,SEATTLE', 'TACOMA', 'INTERNATIONAL', 'AIRPORT', 'WA', 'US,20140303,107,0,0,144,89,51,200,240,89,134,1,-9999,-9999,-9999']\n",
      "['GHCND:USW00024233,SEATTLE', 'TACOMA', 'INTERNATIONAL', 'AIRPORT', 'WA', 'US,20140304,165,0,0,139,78,39,200,210,89,116,1,-9999,-9999,-9999']\n",
      "['GHCND:USW00024233,SEATTLE', 'TACOMA', 'INTERNATIONAL', 'AIRPORT', 'WA', 'US,20140305,467,0,0,156,106,39,190,200,112,157,1,-9999,-9999,-9999']\n",
      "['GHCND:USW00024233,SEATTLE', 'TACOMA', 'INTERNATIONAL', 'AIRPORT', 'WA', 'US,20140306,30,0,0,133,100,62,220,220,125,174,1,-9999,-9999,-9999']\n",
      "['GHCND:USW00024233,SEATTLE', 'TACOMA', 'INTERNATIONAL', 'AIRPORT', 'WA', 'US,20140307,0,0,0,156,89,42,220,210,94,116,-9999,-9999,-9999,-9999']\n",
      "['GHCND:USW00024233,SEATTLE', 'TACOMA', 'INTERNATIONAL', 'AIRPORT', 'WA', 'US,20140308,323,0,0,128,67,27,200,210,76,103,1,-9999,-9999,-9999']\n",
      "['GHCND:USW00024233,SEATTLE', 'TACOMA', 'INTERNATIONAL', 'AIRPORT', 'WA', 'US,20140309,43,0,0,150,94,43,210,220,76,112,1,-9999,-9999,-9999']\n",
      "['GHCND:USW00024233,SEATTLE', 'TACOMA', 'INTERNATIONAL', 'AIRPORT', 'WA', 'US,20140310,188,0,0,122,61,22,210,200,54,67,1,-9999,-9999,-9999']\n",
      "['GHCND:USW00024233,SEATTLE', 'TACOMA', 'INTERNATIONAL', 'AIRPORT', 'WA', 'US,20140311,0,0,0,144,44,23,20,30,54,63,1,-9999,-9999,-9999']\n",
      "['GHCND:USW00024233,SEATTLE', 'TACOMA', 'INTERNATIONAL', 'AIRPORT', 'WA', 'US,20140312,0,0,0,161,33,19,10,20,67,81,1,-9999,-9999,-9999']\n",
      "['GHCND:USW00024233,SEATTLE', 'TACOMA', 'INTERNATIONAL', 'AIRPORT', 'WA', 'US,20140313,5,0,0,139,50,25,230,220,58,76,1,-9999,-9999,-9999']\n",
      "['GHCND:USW00024233,SEATTLE', 'TACOMA', 'INTERNATIONAL', 'AIRPORT', 'WA', 'US,20140314,69,0,0,144,83,61,220,200,107,143,1,-9999,-9999,-9999']\n",
      "['GHCND:USW00024233,SEATTLE', 'TACOMA', 'INTERNATIONAL', 'AIRPORT', 'WA', 'US,20140315,81,0,0,167,44,30,200,210,76,103,1,-9999,-9999,-9999']\n",
      "['GHCND:USW00024233,SEATTLE', 'TACOMA', 'INTERNATIONAL', 'AIRPORT', 'WA', 'US,20140316,277,0,0,106,44,38,230,240,76,103,1,-9999,-9999,-9999']\n",
      "['GHCND:USW00024233,SEATTLE', 'TACOMA', 'INTERNATIONAL', 'AIRPORT', 'WA', 'US,20140317,3,0,0,100,28,32,190,90,89,143,1,-9999,-9999,-9999']\n",
      "['GHCND:USW00024233,SEATTLE', 'TACOMA', 'INTERNATIONAL', 'AIRPORT', 'WA', 'US,20140318,0,0,0,100,33,16,140,100,45,58,-9999,-9999,-9999,-9999']\n",
      "['GHCND:USW00024233,SEATTLE', 'TACOMA', 'INTERNATIONAL', 'AIRPORT', 'WA', 'US,20140319,5,0,0,111,33,51,200,200,107,143,-9999,-9999,-9999,-9999']\n",
      "['GHCND:USW00024233,SEATTLE', 'TACOMA', 'INTERNATIONAL', 'AIRPORT', 'WA', 'US,20140320,0,0,0,111,17,30,30,40,72,81,-9999,-9999,-9999,-9999']\n",
      "['GHCND:USW00024233,SEATTLE', 'TACOMA', 'INTERNATIONAL', 'AIRPORT', 'WA', 'US,20140321,0,0,0,106,28,38,340,340,67,94,-9999,-9999,-9999,-9999']\n",
      "['GHCND:USW00024233,SEATTLE', 'TACOMA', 'INTERNATIONAL', 'AIRPORT', 'WA', 'US,20140322,0,0,0,111,11,18,330,120,40,58,-9999,-9999,-9999,-9999']\n",
      "['GHCND:USW00024233,SEATTLE', 'TACOMA', 'INTERNATIONAL', 'AIRPORT', 'WA', 'US,20140323,0,0,0,128,44,33,30,290,49,72,-9999,-9999,-9999,-9999']\n",
      "['GHCND:USW00024233,SEATTLE', 'TACOMA', 'INTERNATIONAL', 'AIRPORT', 'WA', 'US,20140324,0,0,0,189,28,22,160,170,40,45,-9999,-9999,-9999,-9999']\n",
      "['GHCND:USW00024233,SEATTLE', 'TACOMA', 'INTERNATIONAL', 'AIRPORT', 'WA', 'US,20140325,41,0,0,139,67,44,200,190,134,192,1,-9999,-9999,-9999']\n",
      "['GHCND:USW00024233,SEATTLE', 'TACOMA', 'INTERNATIONAL', 'AIRPORT', 'WA', 'US,20140326,36,0,0,111,56,24,190,210,54,76,1,-9999,-9999,-9999']\n",
      "['GHCND:USW00024233,SEATTLE', 'TACOMA', 'INTERNATIONAL', 'AIRPORT', 'WA', 'US,20140327,3,0,0,122,67,28,320,330,103,134,1,-9999,-9999,-9999']\n",
      "['GHCND:USW00024233,SEATTLE', 'TACOMA', 'INTERNATIONAL', 'AIRPORT', 'WA', 'US,20140328,221,0,0,117,72,39,240,210,89,107,1,-9999,-9999,-9999']\n",
      "['GHCND:USW00024233,SEATTLE', 'TACOMA', 'INTERNATIONAL', 'AIRPORT', 'WA', 'US,20140329,140,0,0,117,72,51,190,190,94,139,1,-9999,-9999,-9999']\n",
      "['GHCND:USW00024233,SEATTLE', 'TACOMA', 'INTERNATIONAL', 'AIRPORT', 'WA', 'US,20140330,0,0,0,111,50,51,190,180,103,125,-9999,-9999,-9999,-9999']\n",
      "['GHCND:USW00024233,SEATTLE', 'TACOMA', 'INTERNATIONAL', 'AIRPORT', 'WA', 'US,20140331,0,0,0,156,22,38,360,220,72,94,-9999,-9999,-9999,-9999']\n",
      "['GHCND:USW00024233,SEATTLE', 'TACOMA', 'INTERNATIONAL', 'AIRPORT', 'WA', 'US,20140401,0,0,0,144,67,28,20,10,58,67,-9999,-9999,-9999,-9999']\n",
      "['GHCND:USW00024233,SEATTLE', 'TACOMA', 'INTERNATIONAL', 'AIRPORT', 'WA', 'US,20140402,0,0,0,144,56,42,210,200,72,103,-9999,-9999,-9999,-9999']\n",
      "['GHCND:USW00024233,SEATTLE', 'TACOMA', 'INTERNATIONAL', 'AIRPORT', 'WA', 'US,20140403,25,0,0,133,61,39,220,220,89,116,-9999,-9999,-9999,-9999']\n",
      "['GHCND:USW00024233,SEATTLE', 'TACOMA', 'INTERNATIONAL', 'AIRPORT', 'WA', 'US,20140404,0,0,0,128,61,47,210,220,89,107,-9999,-9999,-9999,-9999']\n",
      "['GHCND:USW00024233,SEATTLE', 'TACOMA', 'INTERNATIONAL', 'AIRPORT', 'WA', 'US,20140405,46,0,0,117,78,43,210,230,98,130,1,-9999,-9999,-9999']\n",
      "['GHCND:USW00024233,SEATTLE', 'TACOMA', 'INTERNATIONAL', 'AIRPORT', 'WA', 'US,20140406,0,0,0,139,83,26,220,220,72,107,-9999,-9999,-9999,-9999']\n",
      "['GHCND:USW00024233,SEATTLE', 'TACOMA', 'INTERNATIONAL', 'AIRPORT', 'WA', 'US,20140407,0,0,0,211,94,25,200,320,63,98,-9999,-9999,-9999,-9999']\n",
      "['GHCND:USW00024233,SEATTLE', 'TACOMA', 'INTERNATIONAL', 'AIRPORT', 'WA', 'US,20140408,46,0,0,156,83,42,40,40,81,98,1,-9999,-9999,-9999']\n",
      "['GHCND:USW00024233,SEATTLE', 'TACOMA', 'INTERNATIONAL', 'AIRPORT', 'WA', 'US,20140409,0,0,0,144,67,29,30,30,67,81,-9999,-9999,-9999,-9999']\n",
      "['GHCND:USW00024233,SEATTLE', 'TACOMA', 'INTERNATIONAL', 'AIRPORT', 'WA', 'US,20140410,0,0,0,150,67,36,30,30,63,72,-9999,-9999,-9999,-9999']\n",
      "['GHCND:USW00024233,SEATTLE', 'TACOMA', 'INTERNATIONAL', 'AIRPORT', 'WA', 'US,20140411,0,0,0,172,50,28,30,-9999,72,-9999,-9999,-9999,-9999,-9999']\n",
      "['GHCND:USW00024233,SEATTLE', 'TACOMA', 'INTERNATIONAL', 'AIRPORT', 'WA', 'US,20140412,0,0,0,161,78,44,360,360,67,89,-9999,-9999,-9999,-9999']\n",
      "['GHCND:USW00024233,SEATTLE', 'TACOMA', 'INTERNATIONAL', 'AIRPORT', 'WA', 'US,20140413,0,0,0,206,56,31,300,290,67,81,-9999,-9999,-9999,-9999']\n",
      "['GHCND:USW00024233,SEATTLE', 'TACOMA', 'INTERNATIONAL', 'AIRPORT', 'WA', 'US,20140414,0,0,0,200,56,26,220,280,76,116,-9999,-9999,-9999,-9999']\n",
      "['GHCND:USW00024233,SEATTLE', 'TACOMA', 'INTERNATIONAL', 'AIRPORT', 'WA', 'US,20140415,5,0,0,144,78,40,210,220,76,98,-9999,-9999,-9999,-9999']\n",
      "['GHCND:USW00024233,SEATTLE', 'TACOMA', 'INTERNATIONAL', 'AIRPORT', 'WA', 'US,20140416,109,0,0,111,89,46,190,210,72,94,1,-9999,-9999,-9999']\n",
      "['GHCND:USW00024233,SEATTLE', 'TACOMA', 'INTERNATIONAL', 'AIRPORT', 'WA', 'US,20140417,185,0,0,117,72,47,220,230,103,130,1,-9999,-9999,-9999']\n",
      "['GHCND:USW00024233,SEATTLE', 'TACOMA', 'INTERNATIONAL', 'AIRPORT', 'WA', 'US,20140418,0,0,0,144,56,38,210,310,76,170,-9999,-9999,-9999,-9999']\n",
      "['GHCND:USW00024233,SEATTLE', 'TACOMA', 'INTERNATIONAL', 'AIRPORT', 'WA', 'US,20140419,137,0,0,117,56,47,210,230,103,139,1,-9999,-9999,-9999']\n",
      "['GHCND:USW00024233,SEATTLE', 'TACOMA', 'INTERNATIONAL', 'AIRPORT', 'WA', 'US,20140420,0,0,0,156,56,27,200,210,94,112,-9999,-9999,-9999,-9999']\n",
      "['GHCND:USW00024233,SEATTLE', 'TACOMA', 'INTERNATIONAL', 'AIRPORT', 'WA', 'US,20140421,51,0,0,172,78,25,340,-9999,63,-9999,1,-9999,-9999,-9999']\n",
      "['GHCND:USW00024233,SEATTLE', 'TACOMA', 'INTERNATIONAL', 'AIRPORT', 'WA', 'US,20140422,142,0,0,122,50,42,260,250,98,130,1,-9999,-9999,-9999']\n",
      "['GHCND:USW00024233,SEATTLE', 'TACOMA', 'INTERNATIONAL', 'AIRPORT', 'WA', 'US,20140423,89,0,0,117,61,50,280,320,81,143,1,-9999,-9999,-9999']\n",
      "['GHCND:USW00024233,SEATTLE', 'TACOMA', 'INTERNATIONAL', 'AIRPORT', 'WA', 'US,20140424,124,0,0,139,61,53,200,210,116,161,1,-9999,-9999,-9999']\n",
      "['GHCND:USW00024233,SEATTLE', 'TACOMA', 'INTERNATIONAL', 'AIRPORT', 'WA', 'US,20140425,0,0,0,144,56,23,320,290,63,76,-9999,-9999,-9999,-9999']\n",
      "['GHCND:USW00024233,SEATTLE', 'TACOMA', 'INTERNATIONAL', 'AIRPORT', 'WA', 'US,20140426,33,0,0,150,56,39,190,210,63,89,-9999,-9999,-9999,-9999']\n",
      "['GHCND:USW00024233,SEATTLE', 'TACOMA', 'INTERNATIONAL', 'AIRPORT', 'WA', 'US,20140427,69,0,0,111,61,58,200,200,98,112,1,-9999,-9999,-9999']\n",
      "['GHCND:USW00024233,SEATTLE', 'TACOMA', 'INTERNATIONAL', 'AIRPORT', 'WA', 'US,20140428,0,0,0,161,44,26,280,280,58,72,-9999,-9999,-9999,-9999']\n",
      "['GHCND:USW00024233,SEATTLE', 'TACOMA', 'INTERNATIONAL', 'AIRPORT', 'WA', 'US,20140429,0,0,0,250,94,23,100,90,67,89,-9999,-9999,-9999,-9999']\n",
      "['GHCND:USW00024233,SEATTLE', 'TACOMA', 'INTERNATIONAL', 'AIRPORT', 'WA', 'US,20140430,0,0,0,278,94,39,350,10,76,89,-9999,-9999,-9999,-9999']\n",
      "['GHCND:USW00024233,SEATTLE', 'TACOMA', 'INTERNATIONAL', 'AIRPORT', 'WA', 'US,20140501,0,0,0,294,111,30,240,240,58,81,-9999,-9999,-9999,-9999']\n",
      "['GHCND:USW00024233,SEATTLE', 'TACOMA', 'INTERNATIONAL', 'AIRPORT', 'WA', 'US,20140502,0,0,0,183,106,47,220,230,81,103,-9999,-9999,-9999,-9999']\n",
      "['GHCND:USW00024233,SEATTLE', 'TACOMA', 'INTERNATIONAL', 'AIRPORT', 'WA', 'US,20140503,333,0,0,150,89,34,210,200,98,130,1,-9999,-9999,-9999']\n",
      "['GHCND:USW00024233,SEATTLE', 'TACOMA', 'INTERNATIONAL', 'AIRPORT', 'WA', 'US,20140504,160,0,0,144,89,42,190,200,89,112,1,-9999,-9999,-9999']\n",
      "['GHCND:USW00024233,SEATTLE', 'TACOMA', 'INTERNATIONAL', 'AIRPORT', 'WA', 'US,20140505,51,0,0,156,94,38,220,230,72,98,1,-9999,-9999,-9999']\n",
      "['GHCND:USW00024233,SEATTLE', 'TACOMA', 'INTERNATIONAL', 'AIRPORT', 'WA', 'US,20140506,0,0,0,167,83,26,220,250,58,72,-9999,-9999,-9999,-9999']\n",
      "['GHCND:USW00024233,SEATTLE', 'TACOMA', 'INTERNATIONAL', 'AIRPORT', 'WA', 'US,20140507,0,0,0,183,72,17,240,250,58,72,-9999,-9999,-9999,-9999']\n",
      "['GHCND:USW00024233,SEATTLE', 'TACOMA', 'INTERNATIONAL', 'AIRPORT', 'WA', 'US,20140508,137,0,0,139,94,34,200,200,89,116,1,-9999,-9999,-9999']\n",
      "['GHCND:USW00024233,SEATTLE', 'TACOMA', 'INTERNATIONAL', 'AIRPORT', 'WA', 'US,20140509,20,0,0,133,72,56,210,220,98,130,-9999,-9999,-9999,-9999']\n",
      "['GHCND:USW00024233,SEATTLE', 'TACOMA', 'INTERNATIONAL', 'AIRPORT', 'WA', 'US,20140510,5,0,0,156,72,21,270,240,40,81,1,-9999,-9999,-9999']\n",
      "['GHCND:USW00024233,SEATTLE', 'TACOMA', 'INTERNATIONAL', 'AIRPORT', 'WA', 'US,20140511,0,0,0,189,83,17,200,200,116,116,-9999,-9999,-9999,-9999']\n",
      "['GHCND:USW00024233,SEATTLE', 'TACOMA', 'INTERNATIONAL', 'AIRPORT', 'WA', 'US,20140512,0,0,0,244,94,27,320,310,54,67,-9999,-9999,-9999,-9999']\n",
      "['GHCND:USW00024233,SEATTLE', 'TACOMA', 'INTERNATIONAL', 'AIRPORT', 'WA', 'US,20140513,0,0,0,267,128,38,350,350,67,81,-9999,-9999,-9999,-9999']\n",
      "['GHCND:USW00024233,SEATTLE', 'TACOMA', 'INTERNATIONAL', 'AIRPORT', 'WA', 'US,20140514,0,0,0,278,133,33,350,30,67,116,-9999,-9999,-9999,-9999']\n",
      "['GHCND:USW00024233,SEATTLE', 'TACOMA', 'INTERNATIONAL', 'AIRPORT', 'WA', 'US,20140515,0,0,0,267,128,30,240,240,89,107,-9999,-9999,-9999,-9999']\n",
      "['GHCND:USW00024233,SEATTLE', 'TACOMA', 'INTERNATIONAL', 'AIRPORT', 'WA', 'US,20140516,0,0,0,200,117,41,220,200,72,98,-9999,-9999,-9999,-9999']\n",
      "['GHCND:USW00024233,SEATTLE', 'TACOMA', 'INTERNATIONAL', 'AIRPORT', 'WA', 'US,20140517,0,0,0,200,117,32,190,260,63,89,-9999,-9999,-9999,-9999']\n",
      "['GHCND:USW00024233,SEATTLE', 'TACOMA', 'INTERNATIONAL', 'AIRPORT', 'WA', 'US,20140518,0,0,0,200,106,32,210,210,112,148,-9999,-9999,-9999,-9999']\n",
      "['GHCND:USW00024233,SEATTLE', 'TACOMA', 'INTERNATIONAL', 'AIRPORT', 'WA', 'US,20140519,0,0,0,211,100,22,340,350,63,72,-9999,-9999,-9999,-9999']\n",
      "['GHCND:USW00024233,SEATTLE', 'TACOMA', 'INTERNATIONAL', 'AIRPORT', 'WA', 'US,20140520,0,0,0,222,100,27,300,280,58,67,-9999,-9999,-9999,-9999']\n",
      "['GHCND:USW00024233,SEATTLE', 'TACOMA', 'INTERNATIONAL', 'AIRPORT', 'WA', 'US,20140521,0,0,0,200,106,17,250,250,40,54,-9999,-9999,-9999,-9999']\n",
      "['GHCND:USW00024233,SEATTLE', 'TACOMA', 'INTERNATIONAL', 'AIRPORT', 'WA', 'US,20140522,0,0,0,244,117,25,300,300,67,81,-9999,-9999,-9999,-9999']\n",
      "['GHCND:USW00024233,SEATTLE', 'TACOMA', 'INTERNATIONAL', 'AIRPORT', 'WA', 'US,20140523,38,0,0,200,128,40,220,110,81,130,1,-9999,-9999,-9999']\n",
      "['GHCND:USW00024233,SEATTLE', 'TACOMA', 'INTERNATIONAL', 'AIRPORT', 'WA', 'US,20140524,0,0,0,183,111,24,230,220,54,67,-9999,-9999,-9999,-9999']\n",
      "['GHCND:USW00024233,SEATTLE', 'TACOMA', 'INTERNATIONAL', 'AIRPORT', 'WA', 'US,20140525,56,0,0,150,106,14,230,320,45,107,1,-9999,-9999,-9999']\n",
      "['GHCND:USW00024233,SEATTLE', 'TACOMA', 'INTERNATIONAL', 'AIRPORT', 'WA', 'US,20140526,0,0,0,183,111,45,210,210,94,112,-9999,-9999,-9999,-9999']\n",
      "['GHCND:USW00024233,SEATTLE', 'TACOMA', 'INTERNATIONAL', 'AIRPORT', 'WA', 'US,20140527,0,0,0,200,100,25,280,280,58,81,-9999,-9999,-9999,-9999']\n",
      "['GHCND:USW00024233,SEATTLE', 'TACOMA', 'INTERNATIONAL', 'AIRPORT', 'WA', 'US,20140528,0,0,0,189,100,34,210,200,76,98,-9999,-9999,-9999,-9999']\n",
      "['GHCND:USW00024233,SEATTLE', 'TACOMA', 'INTERNATIONAL', 'AIRPORT', 'WA', 'US,20140529,0,0,0,189,111,43,180,170,81,107,-9999,-9999,-9999,-9999']\n",
      "['GHCND:USW00024233,SEATTLE', 'TACOMA', 'INTERNATIONAL', 'AIRPORT', 'WA', 'US,20140530,0,0,0,206,89,45,340,350,89,103,-9999,-9999,-9999,-9999']\n",
      "['GHCND:USW00024233,SEATTLE', 'TACOMA', 'INTERNATIONAL', 'AIRPORT', 'WA', 'US,20140531,0,0,0,233,100,22,200,210,54,72,-9999,-9999,-9999,-9999']\n",
      "['GHCND:USW00024233,SEATTLE', 'TACOMA', 'INTERNATIONAL', 'AIRPORT', 'WA', 'US,20140601,0,0,0,222,106,23,250,220,45,67,-9999,-9999,-9999,-9999']\n",
      "['GHCND:USW00024233,SEATTLE', 'TACOMA', 'INTERNATIONAL', 'AIRPORT', 'WA', 'US,20140602,0,0,0,233,111,24,210,200,58,72,-9999,-9999,-9999,-9999']\n",
      "['GHCND:USW00024233,SEATTLE', 'TACOMA', 'INTERNATIONAL', 'AIRPORT', 'WA', 'US,20140603,0,0,0,183,111,32,220,250,63,72,-9999,-9999,-9999,-9999']\n",
      "['GHCND:USW00024233,SEATTLE', 'TACOMA', 'INTERNATIONAL', 'AIRPORT', 'WA', 'US,20140604,0,0,0,194,100,26,260,260,54,72,-9999,-9999,-9999,-9999']\n",
      "['GHCND:USW00024233,SEATTLE', 'TACOMA', 'INTERNATIONAL', 'AIRPORT', 'WA', 'US,20140605,0,0,0,222,100,24,350,250,45,89,-9999,-9999,-9999,-9999']\n",
      "['GHCND:USW00024233,SEATTLE', 'TACOMA', 'INTERNATIONAL', 'AIRPORT', 'WA', 'US,20140606,0,0,0,250,106,32,40,40,94,107,-9999,-9999,-9999,-9999']\n",
      "['GHCND:USW00024233,SEATTLE', 'TACOMA', 'INTERNATIONAL', 'AIRPORT', 'WA', 'US,20140607,0,0,0,244,133,31,300,290,67,89,-9999,-9999,-9999,-9999']\n",
      "['GHCND:USW00024233,SEATTLE', 'TACOMA', 'INTERNATIONAL', 'AIRPORT', 'WA', 'US,20140608,0,0,0,233,122,21,50,40,58,67,-9999,-9999,-9999,-9999']\n",
      "['GHCND:USW00024233,SEATTLE', 'TACOMA', 'INTERNATIONAL', 'AIRPORT', 'WA', 'US,20140609,0,0,0,211,133,36,30,30,72,89,-9999,-9999,-9999,-9999']\n",
      "['GHCND:USW00024233,SEATTLE', 'TACOMA', 'INTERNATIONAL', 'AIRPORT', 'WA', 'US,20140610,0,0,0,200,122,29,40,40,67,81,-9999,-9999,-9999,-9999']\n",
      "['GHCND:USW00024233,SEATTLE', 'TACOMA', 'INTERNATIONAL', 'AIRPORT', 'WA', 'US,20140611,0,0,0,239,111,27,290,300,63,72,-9999,-9999,-9999,-9999']\n",
      "['GHCND:USW00024233,SEATTLE', 'TACOMA', 'INTERNATIONAL', 'AIRPORT', 'WA', 'US,20140612,18,0,0,217,122,40,240,230,103,139,-9999,-9999,-9999,-9999']\n",
      "['GHCND:USW00024233,SEATTLE', 'TACOMA', 'INTERNATIONAL', 'AIRPORT', 'WA', 'US,20140613,64,0,0,156,111,50,220,220,98,139,1,-9999,-9999,-9999']\n",
      "['GHCND:USW00024233,SEATTLE', 'TACOMA', 'INTERNATIONAL', 'AIRPORT', 'WA', 'US,20140614,0,0,0,178,117,32,190,190,76,98,-9999,-9999,-9999,-9999']\n",
      "['GHCND:USW00024233,SEATTLE', 'TACOMA', 'INTERNATIONAL', 'AIRPORT', 'WA', 'US,20140615,5,0,0,183,100,36,50,50,98,112,1,-9999,-9999,-9999']\n",
      "['GHCND:USW00024233,SEATTLE', 'TACOMA', 'INTERNATIONAL', 'AIRPORT', 'WA', 'US,20140616,36,0,-9999,178,89,24,210,210,58,72,1,-9999,-9999,-9999']\n",
      "['GHCND:USW00024233,SEATTLE', 'TACOMA', 'INTERNATIONAL', 'AIRPORT', 'WA', 'US,20140617,13,0,0,178,100,30,230,210,54,72,1,-9999,-9999,-9999']\n",
      "['GHCND:USW00024233,SEATTLE', 'TACOMA', 'INTERNATIONAL', 'AIRPORT', 'WA', 'US,20140618,0,0,0,189,111,27,210,180,54,81,-9999,-9999,-9999,-9999']\n",
      "['GHCND:USW00024233,SEATTLE', 'TACOMA', 'INTERNATIONAL', 'AIRPORT', 'WA', 'US,20140619,8,0,0,256,117,37,240,230,81,112,-9999,-9999,-9999,-9999']\n",
      "['GHCND:USW00024233,SEATTLE', 'TACOMA', 'INTERNATIONAL', 'AIRPORT', 'WA', 'US,20140620,3,0,0,200,100,34,30,230,76,103,-9999,-9999,-9999,-9999']\n",
      "['GHCND:USW00024233,SEATTLE', 'TACOMA', 'INTERNATIONAL', 'AIRPORT', 'WA', 'US,20140621,0,0,0,222,106,36,20,300,67,89,-9999,-9999,-9999,-9999']\n",
      "['GHCND:USW00024233,SEATTLE', 'TACOMA', 'INTERNATIONAL', 'AIRPORT', 'WA', 'US,20140622,0,0,0,250,111,27,20,360,58,72,-9999,-9999,-9999,-9999']\n",
      "['GHCND:USW00024233,SEATTLE', 'TACOMA', 'INTERNATIONAL', 'AIRPORT', 'WA', 'US,20140623,0,0,0,250,133,25,250,230,63,81,-9999,-9999,-9999,-9999']\n",
      "['GHCND:USW00024233,SEATTLE', 'TACOMA', 'INTERNATIONAL', 'AIRPORT', 'WA', 'US,20140624,0,0,0,244,144,25,190,260,58,94,-9999,-9999,-9999,-9999']\n",
      "['GHCND:USW00024233,SEATTLE', 'TACOMA', 'INTERNATIONAL', 'AIRPORT', 'WA', 'US,20140625,0,0,0,261,139,24,360,280,63,76,-9999,-9999,-9999,-9999']\n",
      "['GHCND:USW00024233,SEATTLE', 'TACOMA', 'INTERNATIONAL', 'AIRPORT', 'WA', 'US,20140626,0,0,0,211,144,41,230,240,76,98,-9999,-9999,-9999,-9999']\n",
      "['GHCND:USW00024233,SEATTLE', 'TACOMA', 'INTERNATIONAL', 'AIRPORT', 'WA', 'US,20140627,18,0,0,211,139,45,240,230,98,134,1,-9999,-9999,-9999']\n",
      "['GHCND:USW00024233,SEATTLE', 'TACOMA', 'INTERNATIONAL', 'AIRPORT', 'WA', 'US,20140628,23,0,0,200,133,43,220,230,76,98,1,-9999,-9999,-9999']\n",
      "['GHCND:USW00024233,SEATTLE', 'TACOMA', 'INTERNATIONAL', 'AIRPORT', 'WA', 'US,20140629,0,0,0,206,128,32,210,200,72,94,-9999,-9999,-9999,-9999']\n",
      "['GHCND:USW00024233,SEATTLE', 'TACOMA', 'INTERNATIONAL', 'AIRPORT', 'WA', 'US,20140630,0,0,0,256,128,44,330,340,67,98,-9999,-9999,-9999,-9999']\n",
      "['GHCND:USW00024233,SEATTLE', 'TACOMA', 'INTERNATIONAL', 'AIRPORT', 'WA', 'US,20140701,0,0,0,344,156,35,350,10,67,81,-9999,-9999,-9999,-9999']\n",
      "['GHCND:USW00024233,SEATTLE', 'TACOMA', 'INTERNATIONAL', 'AIRPORT', 'WA', 'US,20140702,0,0,0,272,144,36,210,230,72,94,-9999,-9999,-9999,-9999']\n",
      "['GHCND:USW00024233,SEATTLE', 'TACOMA', 'INTERNATIONAL', 'AIRPORT', 'WA', 'US,20140703,0,0,0,217,139,31,230,330,54,72,-9999,-9999,-9999,-9999']\n",
      "['GHCND:USW00024233,SEATTLE', 'TACOMA', 'INTERNATIONAL', 'AIRPORT', 'WA', 'US,20140704,0,0,0,239,139,36,340,-9999,63,-9999,-9999,-9999,-9999,-9999']\n",
      "['GHCND:USW00024233,SEATTLE', 'TACOMA', 'INTERNATIONAL', 'AIRPORT', 'WA', 'US,20140705,0,0,0,244,133,22,200,230,63,81,1,-9999,-9999,-9999']\n",
      "['GHCND:USW00024233,SEATTLE', 'TACOMA', 'INTERNATIONAL', 'AIRPORT', 'WA', 'US,20140706,0,0,0,289,150,30,340,330,76,94,-9999,-9999,-9999,-9999']\n",
      "['GHCND:USW00024233,SEATTLE', 'TACOMA', 'INTERNATIONAL', 'AIRPORT', 'WA', 'US,20140707,0,0,0,272,178,41,340,340,67,148,1,-9999,-9999,-9999']\n",
      "['GHCND:USW00024233,SEATTLE', 'TACOMA', 'INTERNATIONAL', 'AIRPORT', 'WA', 'US,20140708,0,0,0,300,156,35,350,350,72,94,-9999,-9999,-9999,-9999']\n",
      "['GHCND:USW00024233,SEATTLE', 'TACOMA', 'INTERNATIONAL', 'AIRPORT', 'WA', 'US,20140709,0,0,0,267,139,23,250,320,67,112,-9999,-9999,-9999,-9999']\n",
      "['GHCND:USW00024233,SEATTLE', 'TACOMA', 'INTERNATIONAL', 'AIRPORT', 'WA', 'US,20140710,0,0,0,289,128,22,10,270,40,72,1,-9999,-9999,-9999']\n",
      "['GHCND:USW00024233,SEATTLE', 'TACOMA', 'INTERNATIONAL', 'AIRPORT', 'WA', 'US,20140711,0,0,0,311,150,22,35,35,49,67,-9999,-9999,-9999,-9999']\n",
      "['GHCND:USW00024233,SEATTLE', 'TACOMA', 'INTERNATIONAL', 'AIRPORT', 'WA', 'US,20140712,0,0,0,322,167,22,20,20,54,63,-9999,-9999,-9999,-9999']\n",
      "['GHCND:USW00024233,SEATTLE', 'TACOMA', 'INTERNATIONAL', 'AIRPORT', 'WA', 'US,20140713,0,0,0,294,150,26,360,350,76,94,-9999,-9999,-9999,1']\n",
      "['GHCND:USW00024233,SEATTLE', 'TACOMA', 'INTERNATIONAL', 'AIRPORT', 'WA', 'US,20140714,0,0,0,278,150,28,250,250,45,49,-9999,-9999,-9999,-9999']\n",
      "['GHCND:USW00024233,SEATTLE', 'TACOMA', 'INTERNATIONAL', 'AIRPORT', 'WA', 'US,20140715,0,0,0,311,139,23,360,210,67,107,-9999,-9999,-9999,-9999']\n",
      "['GHCND:USW00024233,SEATTLE', 'TACOMA', 'INTERNATIONAL', 'AIRPORT', 'WA', 'US,20140716,0,0,0,311,144,24,200,100,58,94,-9999,-9999,-9999,-9999']\n",
      "['GHCND:USW00024233,SEATTLE', 'TACOMA', 'INTERNATIONAL', 'AIRPORT', 'WA', 'US,20140717,0,0,0,267,139,37,280,170,81,116,-9999,-9999,-9999,-9999']\n",
      "['GHCND:USW00024233,SEATTLE', 'TACOMA', 'INTERNATIONAL', 'AIRPORT', 'WA', 'US,20140718,0,0,0,239,117,28,260,240,63,81,-9999,-9999,-9999,-9999']\n",
      "['GHCND:USW00024233,SEATTLE', 'TACOMA', 'INTERNATIONAL', 'AIRPORT', 'WA', 'US,20140719,0,0,0,256,150,54,220,220,125,161,1,-9999,-9999,-9999']\n",
      "['GHCND:USW00024233,SEATTLE', 'TACOMA', 'INTERNATIONAL', 'AIRPORT', 'WA', 'US,20140720,0,0,0,194,144,28,320,300,89,116,-9999,-9999,-9999,-9999']\n",
      "['GHCND:USW00024233,SEATTLE', 'TACOMA', 'INTERNATIONAL', 'AIRPORT', 'WA', 'US,20140721,0,0,0,239,133,22,260,220,54,67,-9999,-9999,-9999,-9999']\n",
      "['GHCND:USW00024233,SEATTLE', 'TACOMA', 'INTERNATIONAL', 'AIRPORT', 'WA', 'US,20140722,3,0,0,211,133,11,200,220,40,72,1,-9999,-9999,-9999']\n",
      "['GHCND:USW00024233,SEATTLE', 'TACOMA', 'INTERNATIONAL', 'AIRPORT', 'WA', 'US,20140723,193,0,0,189,133,33,150,210,63,112,-9999,-9999,-9999,-9999']\n",
      "['GHCND:USW00024233,SEATTLE', 'TACOMA', 'INTERNATIONAL', 'AIRPORT', 'WA', 'US,20140724,0,0,0,206,128,47,210,210,89,112,-9999,-9999,-9999,-9999']\n",
      "['GHCND:USW00024233,SEATTLE', 'TACOMA', 'INTERNATIONAL', 'AIRPORT', 'WA', 'US,20140725,0,0,0,228,122,27,20,250,58,76,-9999,-9999,-9999,-9999']\n",
      "['GHCND:USW00024233,SEATTLE', 'TACOMA', 'INTERNATIONAL', 'AIRPORT', 'WA', 'US,20140726,0,0,0,261,133,36,20,20,72,76,-9999,-9999,-9999,-9999']\n",
      "['GHCND:USW00024233,SEATTLE', 'TACOMA', 'INTERNATIONAL', 'AIRPORT', 'WA', 'US,20140727,0,0,0,283,150,41,350,360,67,81,-9999,-9999,-9999,-9999']\n",
      "['GHCND:USW00024233,SEATTLE', 'TACOMA', 'INTERNATIONAL', 'AIRPORT', 'WA', 'US,20140728,0,0,0,306,150,37,40,360,67,98,-9999,-9999,-9999,-9999']\n",
      "['GHCND:USW00024233,SEATTLE', 'TACOMA', 'INTERNATIONAL', 'AIRPORT', 'WA', 'US,20140729,0,0,0,300,156,28,10,350,76,94,-9999,-9999,-9999,-9999']\n",
      "['GHCND:USW00024233,SEATTLE', 'TACOMA', 'INTERNATIONAL', 'AIRPORT', 'WA', 'US,20140730,0,0,0,294,144,34,40,350,76,103,-9999,-9999,-9999,-9999']\n",
      "['GHCND:USW00024233,SEATTLE', 'TACOMA', 'INTERNATIONAL', 'AIRPORT', 'WA', 'US,20140731,0,0,0,306,178,41,40,350,67,125,-9999,-9999,-9999,-9999']\n",
      "['GHCND:USW00024233,SEATTLE', 'TACOMA', 'INTERNATIONAL', 'AIRPORT', 'WA', 'US,20140801,0,0,0,289,150,33,30,360,98,143,-9999,-9999,-9999,-9999']\n",
      "['GHCND:USW00024233,SEATTLE', 'TACOMA', 'INTERNATIONAL', 'AIRPORT', 'WA', 'US,20140802,5,0,0,294,156,17,20,-9999,45,-9999,-9999,-9999,-9999,-9999']\n",
      "['GHCND:USW00024233,SEATTLE', 'TACOMA', 'INTERNATIONAL', 'AIRPORT', 'WA', 'US,20140803,0,0,0,317,144,26,360,330,54,72,-9999,-9999,-9999,-9999']\n",
      "['GHCND:USW00024233,SEATTLE', 'TACOMA', 'INTERNATIONAL', 'AIRPORT', 'WA', 'US,20140804,0,0,0,328,161,26,350,10,58,67,-9999,-9999,-9999,-9999']\n",
      "['GHCND:USW00024233,SEATTLE', 'TACOMA', 'INTERNATIONAL', 'AIRPORT', 'WA', 'US,20140805,0,0,0,250,139,27,240,210,58,72,-9999,-9999,-9999,-9999']\n",
      "['GHCND:USW00024233,SEATTLE', 'TACOMA', 'INTERNATIONAL', 'AIRPORT', 'WA', 'US,20140806,0,0,0,261,150,22,250,320,45,54,1,-9999,-9999,-9999']\n",
      "['GHCND:USW00024233,SEATTLE', 'TACOMA', 'INTERNATIONAL', 'AIRPORT', 'WA', 'US,20140807,0,0,0,256,133,24,190,210,40,63,1,-9999,-9999,-9999']\n",
      "['GHCND:USW00024233,SEATTLE', 'TACOMA', 'INTERNATIONAL', 'AIRPORT', 'WA', 'US,20140808,0,0,0,256,133,29,40,230,76,98,-9999,-9999,-9999,-9999']\n",
      "['GHCND:USW00024233,SEATTLE', 'TACOMA', 'INTERNATIONAL', 'AIRPORT', 'WA', 'US,20140809,0,0,0,272,156,41,40,340,72,94,-9999,-9999,-9999,-9999']\n",
      "['GHCND:USW00024233,SEATTLE', 'TACOMA', 'INTERNATIONAL', 'AIRPORT', 'WA', 'US,20140810,0,0,0,306,139,34,360,350,63,94,-9999,-9999,-9999,-9999']\n",
      "['GHCND:USW00024233,SEATTLE', 'TACOMA', 'INTERNATIONAL', 'AIRPORT', 'WA', 'US,20140811,5,0,0,356,178,26,70,70,81,98,-9999,-9999,-9999,1']\n",
      "['GHCND:USW00024233,SEATTLE', 'TACOMA', 'INTERNATIONAL', 'AIRPORT', 'WA', 'US,20140812,127,0,0,272,172,31,60,350,81,148,1,-9999,-9999,-9999']\n",
      "['GHCND:USW00024233,SEATTLE', 'TACOMA', 'INTERNATIONAL', 'AIRPORT', 'WA', 'US,20140813,216,0,0,233,150,27,200,200,63,63,1,-9999,-9999,-9999']\n",
      "['GHCND:USW00024233,SEATTLE', 'TACOMA', 'INTERNATIONAL', 'AIRPORT', 'WA', 'US,20140814,0,0,0,211,172,6,330,-9999,31,-9999,-9999,-9999,-9999,-9999']\n",
      "['GHCND:USW00024233,SEATTLE', 'TACOMA', 'INTERNATIONAL', 'AIRPORT', 'WA', 'US,20140815,10,0,0,244,167,15,280,180,40,72,1,-9999,-9999,-9999']\n",
      "['GHCND:USW00024233,SEATTLE', 'TACOMA', 'INTERNATIONAL', 'AIRPORT', 'WA', 'US,20140816,0,0,0,256,156,22,290,320,67,76,-9999,-9999,-9999,-9999']\n",
      "['GHCND:USW00024233,SEATTLE', 'TACOMA', 'INTERNATIONAL', 'AIRPORT', 'WA', 'US,20140817,0,0,0,278,150,28,360,-9999,58,-9999,-9999,-9999,-9999,-9999']\n",
      "['GHCND:USW00024233,SEATTLE', 'TACOMA', 'INTERNATIONAL', 'AIRPORT', 'WA', 'US,20140818,0,0,0,294,156,33,340,-9999,67,-9999,-9999,-9999,-9999,-9999']\n",
      "['GHCND:USW00024233,SEATTLE', 'TACOMA', 'INTERNATIONAL', 'AIRPORT', 'WA', 'US,20140819,0,0,0,272,156,24,210,210,72,89,-9999,-9999,-9999,-9999']\n",
      "['GHCND:USW00024233,SEATTLE', 'TACOMA', 'INTERNATIONAL', 'AIRPORT', 'WA', 'US,20140820,0,0,0,217,139,36,230,220,58,76,-9999,-9999,-9999,-9999']\n",
      "['GHCND:USW00024233,SEATTLE', 'TACOMA', 'INTERNATIONAL', 'AIRPORT', 'WA', 'US,20140821,0,0,0,211,111,17,220,220,45,67,-9999,-9999,-9999,-9999']\n",
      "['GHCND:USW00024233,SEATTLE', 'TACOMA', 'INTERNATIONAL', 'AIRPORT', 'WA', 'US,20140822,0,0,0,239,133,29,330,20,72,94,-9999,-9999,-9999,-9999']\n",
      "['GHCND:USW00024233,SEATTLE', 'TACOMA', 'INTERNATIONAL', 'AIRPORT', 'WA', 'US,20140823,0,0,0,278,139,20,280,280,54,72,-9999,-9999,-9999,-9999']\n",
      "['GHCND:USW00024233,SEATTLE', 'TACOMA', 'INTERNATIONAL', 'AIRPORT', 'WA', 'US,20140824,0,0,0,250,133,23,10,270,45,67,-9999,-9999,-9999,-9999']\n",
      "['GHCND:USW00024233,SEATTLE', 'TACOMA', 'INTERNATIONAL', 'AIRPORT', 'WA', 'US,20140825,0,0,0,289,144,20,360,10,67,94,-9999,-9999,-9999,-9999']\n",
      "['GHCND:USW00024233,SEATTLE', 'TACOMA', 'INTERNATIONAL', 'AIRPORT', 'WA', 'US,20140826,0,0,0,311,156,18,20,-9999,45,-9999,-9999,-9999,-9999,-9999']\n",
      "['GHCND:USW00024233,SEATTLE', 'TACOMA', 'INTERNATIONAL', 'AIRPORT', 'WA', 'US,20140827,0,0,0,289,161,16,30,100,54,98,-9999,-9999,-9999,-9999']\n",
      "['GHCND:USW00024233,SEATTLE', 'TACOMA', 'INTERNATIONAL', 'AIRPORT', 'WA', 'US,20140828,0,0,0,233,144,23,180,180,54,72,-9999,-9999,-9999,-9999']\n",
      "['GHCND:USW00024233,SEATTLE', 'TACOMA', 'INTERNATIONAL', 'AIRPORT', 'WA', 'US,20140829,0,0,0,228,150,34,210,200,72,89,-9999,-9999,-9999,-9999']\n",
      "['GHCND:USW00024233,SEATTLE', 'TACOMA', 'INTERNATIONAL', 'AIRPORT', 'WA', 'US,20140830,84,0,0,178,150,22,120,130,58,67,1,-9999,-9999,-9999']\n",
      "['GHCND:USW00024233,SEATTLE', 'TACOMA', 'INTERNATIONAL', 'AIRPORT', 'WA', 'US,20140831,13,0,0,211,139,19,210,190,45,63,1,-9999,-9999,-9999']\n",
      "['GHCND:USW00024233,SEATTLE', 'TACOMA', 'INTERNATIONAL', 'AIRPORT', 'WA', 'US,20140901,0,0,0,233,128,25,260,240,54,67,-9999,-9999,-9999,-9999']\n",
      "['GHCND:USW00024233,SEATTLE', 'TACOMA', 'INTERNATIONAL', 'AIRPORT', 'WA', 'US,20140902,30,0,0,200,139,43,210,210,103,130,1,-9999,-9999,-9999']\n",
      "['GHCND:USW00024233,SEATTLE', 'TACOMA', 'INTERNATIONAL', 'AIRPORT', 'WA', 'US,20140903,0,0,0,206,128,27,230,220,67,94,-9999,-9999,-9999,-9999']\n",
      "['GHCND:USW00024233,SEATTLE', 'TACOMA', 'INTERNATIONAL', 'AIRPORT', 'WA', 'US,20140904,0,0,0,239,111,31,350,350,63,81,1,-9999,-9999,-9999']\n",
      "['GHCND:USW00024233,SEATTLE', 'TACOMA', 'INTERNATIONAL', 'AIRPORT', 'WA', 'US,20140905,0,0,0,278,139,65,20,10,98,116,1,-9999,-9999,-9999']\n",
      "['GHCND:USW00024233,SEATTLE', 'TACOMA', 'INTERNATIONAL', 'AIRPORT', 'WA', 'US,20140906,0,0,0,322,150,29,10,20,54,63,-9999,-9999,-9999,-9999']\n",
      "['GHCND:USW00024233,SEATTLE', 'TACOMA', 'INTERNATIONAL', 'AIRPORT', 'WA', 'US,20140907,0,0,0,283,133,21,210,210,54,63,-9999,-9999,-9999,-9999']\n",
      "['GHCND:USW00024233,SEATTLE', 'TACOMA', 'INTERNATIONAL', 'AIRPORT', 'WA', 'US,20140908,0,0,0,211,133,28,230,220,58,76,-9999,-9999,-9999,-9999']\n",
      "['GHCND:USW00024233,SEATTLE', 'TACOMA', 'INTERNATIONAL', 'AIRPORT', 'WA', 'US,20140909,0,0,0,217,133,23,240,230,45,67,-9999,-9999,-9999,-9999']\n",
      "['GHCND:USW00024233,SEATTLE', 'TACOMA', 'INTERNATIONAL', 'AIRPORT', 'WA', 'US,20140910,0,0,0,222,122,39,350,350,89,107,-9999,-9999,-9999,-9999']\n",
      "['GHCND:USW00024233,SEATTLE', 'TACOMA', 'INTERNATIONAL', 'AIRPORT', 'WA', 'US,20140911,0,0,0,244,128,53,70,80,94,112,-9999,-9999,-9999,-9999']\n",
      "['GHCND:USW00024233,SEATTLE', 'TACOMA', 'INTERNATIONAL', 'AIRPORT', 'WA', 'US,20140912,0,0,0,244,128,59,340,340,89,107,-9999,-9999,-9999,-9999']\n",
      "['GHCND:USW00024233,SEATTLE', 'TACOMA', 'INTERNATIONAL', 'AIRPORT', 'WA', 'US,20140913,0,0,0,283,100,42,20,20,81,94,-9999,-9999,-9999,-9999']\n",
      "['GHCND:USW00024233,SEATTLE', 'TACOMA', 'INTERNATIONAL', 'AIRPORT', 'WA', 'US,20140914,0,0,0,300,117,18,20,30,58,63,-9999,-9999,-9999,-9999']\n",
      "['GHCND:USW00024233,SEATTLE', 'TACOMA', 'INTERNATIONAL', 'AIRPORT', 'WA', 'US,20140915,0,0,0,306,122,12,290,280,40,54,-9999,-9999,-9999,-9999']\n",
      "['GHCND:USW00024233,SEATTLE', 'TACOMA', 'INTERNATIONAL', 'AIRPORT', 'WA', 'US,20140916,0,0,0,222,139,28,210,190,67,81,-9999,-9999,-9999,-9999']\n",
      "['GHCND:USW00024233,SEATTLE', 'TACOMA', 'INTERNATIONAL', 'AIRPORT', 'WA', 'US,20140917,5,0,0,228,144,23,350,350,76,94,-9999,-9999,-9999,-9999']\n",
      "['GHCND:USW00024233,SEATTLE', 'TACOMA', 'INTERNATIONAL', 'AIRPORT', 'WA', 'US,20140918,3,0,0,194,150,31,210,210,67,130,1,-9999,-9999,-9999']\n",
      "['GHCND:USW00024233,SEATTLE', 'TACOMA', 'INTERNATIONAL', 'AIRPORT', 'WA', 'US,20140919,0,0,0,239,161,28,220,200,58,72,-9999,-9999,-9999,-9999']\n",
      "['GHCND:USW00024233,SEATTLE', 'TACOMA', 'INTERNATIONAL', 'AIRPORT', 'WA', 'US,20140920,0,0,0,244,144,44,10,360,81,98,1,-9999,-9999,-9999']\n",
      "['GHCND:USW00024233,SEATTLE', 'TACOMA', 'INTERNATIONAL', 'AIRPORT', 'WA', 'US,20140921,0,0,0,261,128,30,220,220,72,89,-9999,-9999,-9999,-9999']\n",
      "['GHCND:USW00024233,SEATTLE', 'TACOMA', 'INTERNATIONAL', 'AIRPORT', 'WA', 'US,20140922,3,0,0,222,150,21,230,230,54,72,1,-9999,-9999,-9999']\n",
      "['GHCND:USW00024233,SEATTLE', 'TACOMA', 'INTERNATIONAL', 'AIRPORT', 'WA', 'US,20140923,183,0,0,189,144,25,70,150,58,72,1,-9999,-9999,-9999']\n",
      "['GHCND:USW00024233,SEATTLE', 'TACOMA', 'INTERNATIONAL', 'AIRPORT', 'WA', 'US,20140924,203,0,0,189,144,27,140,150,72,81,1,-9999,-9999,-9999']\n",
      "['GHCND:USW00024233,SEATTLE', 'TACOMA', 'INTERNATIONAL', 'AIRPORT', 'WA', 'US,20140925,43,0,0,217,144,25,240,250,89,116,1,-9999,-9999,-9999']\n",
      "['GHCND:USW00024233,SEATTLE', 'TACOMA', 'INTERNATIONAL', 'AIRPORT', 'WA', 'US,20140926,89,0,0,200,139,33,140,130,72,107,1,-9999,-9999,-9999']\n",
      "['GHCND:USW00024233,SEATTLE', 'TACOMA', 'INTERNATIONAL', 'AIRPORT', 'WA', 'US,20140927,0,0,0,206,117,32,340,10,63,76,1,-9999,-9999,-9999']\n",
      "['GHCND:USW00024233,SEATTLE', 'TACOMA', 'INTERNATIONAL', 'AIRPORT', 'WA', 'US,20140928,0,0,0,189,122,20,280,280,40,54,1,-9999,-9999,-9999']\n",
      "['GHCND:USW00024233,SEATTLE', 'TACOMA', 'INTERNATIONAL', 'AIRPORT', 'WA', 'US,20140929,8,0,0,167,111,35,170,220,63,76,1,-9999,1,-9999']\n",
      "['GHCND:USW00024233,SEATTLE', 'TACOMA', 'INTERNATIONAL', 'AIRPORT', 'WA', 'US,20140930,0,0,0,194,122,26,30,80,54,81,-9999,-9999,-9999,-9999']\n",
      "['GHCND:USW00024233,SEATTLE', 'TACOMA', 'INTERNATIONAL', 'AIRPORT', 'WA', 'US,20141001,0,0,0,183,111,21,50,230,54,67,-9999,-9999,-9999,-9999']\n",
      "['GHCND:USW00024233,SEATTLE', 'TACOMA', 'INTERNATIONAL', 'AIRPORT', 'WA', 'US,20141002,0,0,0,194,100,20,300,10,54,72,-9999,-9999,-9999,-9999']\n",
      "['GHCND:USW00024233,SEATTLE', 'TACOMA', 'INTERNATIONAL', 'AIRPORT', 'WA', 'US,20141003,0,0,0,222,89,10,290,290,36,40,-9999,-9999,-9999,-9999']\n",
      "['GHCND:USW00024233,SEATTLE', 'TACOMA', 'INTERNATIONAL', 'AIRPORT', 'WA', 'US,20141004,0,0,0,217,122,12,310,310,36,40,-9999,-9999,-9999,-9999']\n",
      "['GHCND:USW00024233,SEATTLE', 'TACOMA', 'INTERNATIONAL', 'AIRPORT', 'WA', 'US,20141005,0,0,0,239,117,14,20,340,40,54,1,-9999,1,-9999']\n",
      "['GHCND:USW00024233,SEATTLE', 'TACOMA', 'INTERNATIONAL', 'AIRPORT', 'WA', 'US,20141006,0,0,0,256,133,25,10,360,63,76,1,-9999,1,-9999']\n",
      "['GHCND:USW00024233,SEATTLE', 'TACOMA', 'INTERNATIONAL', 'AIRPORT', 'WA', 'US,20141007,0,0,0,189,139,10,20,20,40,54,1,-9999,1,-9999']\n",
      "['GHCND:USW00024233,SEATTLE', 'TACOMA', 'INTERNATIONAL', 'AIRPORT', 'WA', 'US,20141008,0,0,0,206,128,18,310,310,40,63,1,-9999,1,-9999']\n",
      "['GHCND:USW00024233,SEATTLE', 'TACOMA', 'INTERNATIONAL', 'AIRPORT', 'WA', 'US,20141009,0,0,0,172,111,10,290,290,40,45,1,-9999,1,-9999']\n",
      "['GHCND:USW00024233,SEATTLE', 'TACOMA', 'INTERNATIONAL', 'AIRPORT', 'WA', 'US,20141010,3,0,0,183,100,38,200,190,72,94,1,-9999,1,-9999']\n",
      "['GHCND:USW00024233,SEATTLE', 'TACOMA', 'INTERNATIONAL', 'AIRPORT', 'WA', 'US,20141011,74,0,0,183,117,35,210,200,112,130,1,-9999,-9999,1']\n",
      "['GHCND:USW00024233,SEATTLE', 'TACOMA', 'INTERNATIONAL', 'AIRPORT', 'WA', 'US,20141012,0,0,0,178,117,21,250,220,45,63,-9999,-9999,-9999,-9999']\n",
      "['GHCND:USW00024233,SEATTLE', 'TACOMA', 'INTERNATIONAL', 'AIRPORT', 'WA', 'US,20141013,76,0,0,211,100,31,210,200,81,116,1,-9999,-9999,-9999']\n",
      "['GHCND:USW00024233,SEATTLE', 'TACOMA', 'INTERNATIONAL', 'AIRPORT', 'WA', 'US,20141014,71,0,0,167,117,22,140,140,58,72,1,-9999,-9999,-9999']\n",
      "['GHCND:USW00024233,SEATTLE', 'TACOMA', 'INTERNATIONAL', 'AIRPORT', 'WA', 'US,20141015,86,0,0,161,117,47,200,200,103,125,1,-9999,-9999,-9999']\n",
      "['GHCND:USW00024233,SEATTLE', 'TACOMA', 'INTERNATIONAL', 'AIRPORT', 'WA', 'US,20141016,0,0,0,206,111,33,120,120,76,103,-9999,-9999,-9999,-9999']\n",
      "['GHCND:USW00024233,SEATTLE', 'TACOMA', 'INTERNATIONAL', 'AIRPORT', 'WA', 'US,20141017,33,0,0,167,117,30,120,120,76,94,1,-9999,-9999,-9999']\n",
      "['GHCND:USW00024233,SEATTLE', 'TACOMA', 'INTERNATIONAL', 'AIRPORT', 'WA', 'US,20141018,150,0,0,194,139,19,140,320,54,103,1,-9999,-9999,-9999']\n",
      "['GHCND:USW00024233,SEATTLE', 'TACOMA', 'INTERNATIONAL', 'AIRPORT', 'WA', 'US,20141019,0,0,0,222,128,32,210,220,89,107,-9999,-9999,-9999,-9999']\n",
      "['GHCND:USW00024233,SEATTLE', 'TACOMA', 'INTERNATIONAL', 'AIRPORT', 'WA', 'US,20141020,117,0,0,161,122,31,190,-9999,49,-9999,1,-9999,-9999,-9999']\n",
      "['GHCND:USW00024233,SEATTLE', 'TACOMA', 'INTERNATIONAL', 'AIRPORT', 'WA', 'US,20141021,10,0,0,161,117,47,180,180,81,103,-9999,-9999,-9999,-9999']\n",
      "['GHCND:USW00024233,SEATTLE', 'TACOMA', 'INTERNATIONAL', 'AIRPORT', 'WA', 'US,20141022,320,0,0,156,117,50,200,130,81,125,1,-9999,-9999,-9999']\n",
      "['GHCND:USW00024233,SEATTLE', 'TACOMA', 'INTERNATIONAL', 'AIRPORT', 'WA', 'US,20141023,94,0,0,144,83,46,270,270,103,143,-9999,-9999,-9999,-9999']\n",
      "['GHCND:USW00024233,SEATTLE', 'TACOMA', 'INTERNATIONAL', 'AIRPORT', 'WA', 'US,20141024,41,0,0,144,89,32,360,30,63,134,-9999,-9999,-9999,-9999']\n",
      "['GHCND:USW00024233,SEATTLE', 'TACOMA', 'INTERNATIONAL', 'AIRPORT', 'WA', 'US,20141025,61,0,0,167,83,54,200,210,165,219,1,-9999,-9999,-9999']\n",
      "['GHCND:USW00024233,SEATTLE', 'TACOMA', 'INTERNATIONAL', 'AIRPORT', 'WA', 'US,20141026,15,0,0,128,78,50,210,210,98,125,1,-9999,-9999,-9999']\n",
      "['GHCND:USW00024233,SEATTLE', 'TACOMA', 'INTERNATIONAL', 'AIRPORT', 'WA', 'US,20141027,8,0,0,156,67,24,190,200,76,130,-9999,-9999,-9999,-9999']\n",
      "['GHCND:USW00024233,SEATTLE', 'TACOMA', 'INTERNATIONAL', 'AIRPORT', 'WA', 'US,20141028,127,0,0,150,94,39,190,170,76,103,1,-9999,-9999,-9999']\n",
      "['GHCND:USW00024233,SEATTLE', 'TACOMA', 'INTERNATIONAL', 'AIRPORT', 'WA', 'US,20141029,5,0,0,167,117,31,180,180,76,98,1,-9999,-9999,-9999']\n",
      "['GHCND:USW00024233,SEATTLE', 'TACOMA', 'INTERNATIONAL', 'AIRPORT', 'WA', 'US,20141030,254,0,0,156,111,32,100,110,72,94,1,-9999,-9999,-9999']\n",
      "['GHCND:USW00024233,SEATTLE', 'TACOMA', 'INTERNATIONAL', 'AIRPORT', 'WA', 'US,20141031,170,0,0,128,83,20,230,-9999,45,-9999,1,-9999,-9999,-9999']\n",
      "['GHCND:USW00024233,SEATTLE', 'TACOMA', 'INTERNATIONAL', 'AIRPORT', 'WA', 'US,20141101,0,0,0,111,72,12,120,-9999,31,-9999,1,-9999,1,-9999']\n",
      "['GHCND:USW00024233,SEATTLE', 'TACOMA', 'INTERNATIONAL', 'AIRPORT', 'WA', 'US,20141102,18,0,0,133,72,29,180,150,58,72,1,-9999,-9999,-9999']\n",
      "['GHCND:USW00024233,SEATTLE', 'TACOMA', 'INTERNATIONAL', 'AIRPORT', 'WA', 'US,20141103,109,0,0,139,111,48,170,170,89,112,1,-9999,-9999,-9999']\n",
      "['GHCND:USW00024233,SEATTLE', 'TACOMA', 'INTERNATIONAL', 'AIRPORT', 'WA', 'US,20141104,41,0,0,144,106,33,200,210,94,130,1,-9999,-9999,-9999']\n",
      "['GHCND:USW00024233,SEATTLE', 'TACOMA', 'INTERNATIONAL', 'AIRPORT', 'WA', 'US,20141105,48,0,0,150,106,21,100,100,45,58,1,-9999,-9999,-9999']\n",
      "['GHCND:USW00024233,SEATTLE', 'TACOMA', 'INTERNATIONAL', 'AIRPORT', 'WA', 'US,20141106,41,0,0,167,106,67,210,200,148,192,1,-9999,-9999,-9999']\n",
      "['GHCND:USW00024233,SEATTLE', 'TACOMA', 'INTERNATIONAL', 'AIRPORT', 'WA', 'US,20141107,0,0,0,144,72,23,350,240,45,76,-9999,-9999,-9999,-9999']\n",
      "['GHCND:USW00024233,SEATTLE', 'TACOMA', 'INTERNATIONAL', 'AIRPORT', 'WA', 'US,20141108,0,0,0,128,39,8,150,280,31,40,1,-9999,1,-9999']\n",
      "['GHCND:USW00024233,SEATTLE', 'TACOMA', 'INTERNATIONAL', 'AIRPORT', 'WA', 'US,20141109,51,0,0,133,78,30,30,190,81,103,1,-9999,-9999,-9999']\n",
      "['GHCND:USW00024233,SEATTLE', 'TACOMA', 'INTERNATIONAL', 'AIRPORT', 'WA', 'US,20141110,0,0,0,111,56,39,20,30,67,81,-9999,-9999,-9999,-9999']\n",
      "['GHCND:USW00024233,SEATTLE', 'TACOMA', 'INTERNATIONAL', 'AIRPORT', 'WA', 'US,20141111,0,0,0,78,11,77,100,100,139,192,-9999,-9999,-9999,-9999']\n",
      "['GHCND:USW00024233,SEATTLE', 'TACOMA', 'INTERNATIONAL', 'AIRPORT', 'WA', 'US,20141112,0,0,0,67,0,76,80,80,130,174,-9999,-9999,-9999,-9999']\n",
      "['GHCND:USW00024233,SEATTLE', 'TACOMA', 'INTERNATIONAL', 'AIRPORT', 'WA', 'US,20141113,0,0,0,72,6,47,110,110,94,139,-9999,-9999,-9999,-9999']\n",
      "['GHCND:USW00024233,SEATTLE', 'TACOMA', 'INTERNATIONAL', 'AIRPORT', 'WA', 'US,20141114,0,0,0,72,-21,45,10,10,76,89,-9999,-9999,-9999,-9999']\n",
      "['GHCND:USW00024233,SEATTLE', 'TACOMA', 'INTERNATIONAL', 'AIRPORT', 'WA', 'US,20141115,0,0,0,83,-16,42,90,90,134,148,-9999,-9999,-9999,-9999']\n",
      "['GHCND:USW00024233,SEATTLE', 'TACOMA', 'INTERNATIONAL', 'AIRPORT', 'WA', 'US,20141116,0,0,0,94,-21,42,10,10,76,94,-9999,-9999,-9999,-9999']\n",
      "['GHCND:USW00024233,SEATTLE', 'TACOMA', 'INTERNATIONAL', 'AIRPORT', 'WA', 'US,20141117,0,0,0,106,-21,19,230,-9999,81,-9999,-9999,-9999,-9999,-9999']\n",
      "['GHCND:USW00024233,SEATTLE', 'TACOMA', 'INTERNATIONAL', 'AIRPORT', 'WA', 'US,20141118,0,0,0,72,-5,9,20,10,45,54,-9999,-9999,-9999,-9999']\n",
      "['GHCND:USW00024233,SEATTLE', 'TACOMA', 'INTERNATIONAL', 'AIRPORT', 'WA', 'US,20141119,0,0,0,111,22,19,10,130,45,58,-9999,-9999,-9999,-9999']\n",
      "['GHCND:USW00024233,SEATTLE', 'TACOMA', 'INTERNATIONAL', 'AIRPORT', 'WA', 'US,20141120,36,0,0,111,56,21,100,140,54,67,1,-9999,-9999,-9999']\n",
      "['GHCND:USW00024233,SEATTLE', 'TACOMA', 'INTERNATIONAL', 'AIRPORT', 'WA', 'US,20141121,152,0,0,111,83,47,210,200,125,161,1,-9999,-9999,-9999']\n",
      "['GHCND:USW00024233,SEATTLE', 'TACOMA', 'INTERNATIONAL', 'AIRPORT', 'WA', 'US,20141122,5,0,0,94,67,47,210,210,125,165,-9999,-9999,-9999,-9999']\n",
      "['GHCND:USW00024233,SEATTLE', 'TACOMA', 'INTERNATIONAL', 'AIRPORT', 'WA', 'US,20141123,119,0,0,128,56,51,220,220,112,170,1,-9999,-9999,-9999']\n",
      "['GHCND:USW00024233,SEATTLE', 'TACOMA', 'INTERNATIONAL', 'AIRPORT', 'WA', 'US,20141124,13,0,0,117,44,38,190,190,107,139,1,-9999,-9999,-9999']\n",
      "['GHCND:USW00024233,SEATTLE', 'TACOMA', 'INTERNATIONAL', 'AIRPORT', 'WA', 'US,20141125,183,0,0,139,94,45,210,190,112,148,1,-9999,-9999,-9999']\n",
      "['GHCND:USW00024233,SEATTLE', 'TACOMA', 'INTERNATIONAL', 'AIRPORT', 'WA', 'US,20141126,3,0,0,150,122,39,210,200,89,116,-9999,-9999,-9999,-9999']\n",
      "['GHCND:USW00024233,SEATTLE', 'TACOMA', 'INTERNATIONAL', 'AIRPORT', 'WA', 'US,20141127,33,0,0,144,117,66,190,190,125,165,1,-9999,-9999,-9999']\n",
      "['GHCND:USW00024233,SEATTLE', 'TACOMA', 'INTERNATIONAL', 'AIRPORT', 'WA', 'US,20141128,343,0,0,128,33,58,10,10,103,143,1,-9999,-9999,-9999']\n",
      "['GHCND:USW00024233,SEATTLE', 'TACOMA', 'INTERNATIONAL', 'AIRPORT', 'WA', 'US,20141129,36,0,20,44,-43,53,360,350,139,174,1,-9999,-9999,-9999']\n",
      "['GHCND:USW00024233,SEATTLE', 'TACOMA', 'INTERNATIONAL', 'AIRPORT', 'WA', 'US,20141130,0,0,0,28,-49,44,10,-9999,72,-9999,-9999,-9999,-9999,-9999']\n",
      "['GHCND:USW00024233,SEATTLE', 'TACOMA', 'INTERNATIONAL', 'AIRPORT', 'WA', 'US,20141201,0,0,0,44,-32,22,30,100,45,58,-9999,-9999,-9999,-9999']\n",
      "['GHCND:USW00024233,SEATTLE', 'TACOMA', 'INTERNATIONAL', 'AIRPORT', 'WA', 'US,20141202,0,0,0,56,-32,57,20,20,103,125,1,-9999,-9999,-9999']\n",
      "['GHCND:USW00024233,SEATTLE', 'TACOMA', 'INTERNATIONAL', 'AIRPORT', 'WA', 'US,20141203,0,0,0,100,0,36,210,210,125,130,-9999,-9999,-9999,-9999']\n",
      "['GHCND:USW00024233,SEATTLE', 'TACOMA', 'INTERNATIONAL', 'AIRPORT', 'WA', 'US,20141204,8,0,0,83,39,11,110,110,45,58,1,-9999,-9999,-9999']\n",
      "['GHCND:USW00024233,SEATTLE', 'TACOMA', 'INTERNATIONAL', 'AIRPORT', 'WA', 'US,20141205,30,0,0,128,67,31,110,110,81,107,1,-9999,-9999,-9999']\n",
      "['GHCND:USW00024233,SEATTLE', 'TACOMA', 'INTERNATIONAL', 'AIRPORT', 'WA', 'US,20141206,74,0,0,117,78,36,200,200,72,94,1,-9999,-9999,-9999']\n",
      "['GHCND:USW00024233,SEATTLE', 'TACOMA', 'INTERNATIONAL', 'AIRPORT', 'WA', 'US,20141207,0,0,0,144,61,28,130,340,89,107,-9999,-9999,-9999,-9999']\n",
      "['GHCND:USW00024233,SEATTLE', 'TACOMA', 'INTERNATIONAL', 'AIRPORT', 'WA', 'US,20141208,91,0,0,144,89,42,100,120,76,94,1,-9999,-9999,-9999']\n",
      "['GHCND:USW00024233,SEATTLE', 'TACOMA', 'INTERNATIONAL', 'AIRPORT', 'WA', 'US,20141209,99,0,0,161,106,51,160,150,103,134,1,-9999,-9999,-9999']\n",
      "['GHCND:USW00024233,SEATTLE', 'TACOMA', 'INTERNATIONAL', 'AIRPORT', 'WA', 'US,20141210,130,0,0,189,100,67,170,160,157,206,1,-9999,-9999,-9999']\n",
      "['GHCND:USW00024233,SEATTLE', 'TACOMA', 'INTERNATIONAL', 'AIRPORT', 'WA', 'US,20141211,69,0,0,144,83,64,190,180,161,219,1,-9999,-9999,-9999']\n",
      "['GHCND:USW00024233,SEATTLE', 'TACOMA', 'INTERNATIONAL', 'AIRPORT', 'WA', 'US,20141212,0,0,0,111,72,37,190,200,116,157,-9999,-9999,-9999,-9999']\n",
      "['GHCND:USW00024233,SEATTLE', 'TACOMA', 'INTERNATIONAL', 'AIRPORT', 'WA', 'US,20141213,0,0,0,100,39,11,180,320,36,36,1,-9999,1,-9999']\n",
      "['GHCND:USW00024233,SEATTLE', 'TACOMA', 'INTERNATIONAL', 'AIRPORT', 'WA', 'US,20141214,0,0,0,128,17,35,110,120,98,134,1,-9999,1,-9999']\n",
      "['GHCND:USW00024233,SEATTLE', 'TACOMA', 'INTERNATIONAL', 'AIRPORT', 'WA', 'US,20141215,0,0,0,122,67,59,120,120,98,130,-9999,-9999,-9999,-9999']\n",
      "['GHCND:USW00024233,SEATTLE', 'TACOMA', 'INTERNATIONAL', 'AIRPORT', 'WA', 'US,20141216,0,0,-9999,100,83,40,110,110,67,98,-9999,-9999,-9999,-9999']\n",
      "['GHCND:USW00024233,SEATTLE', 'TACOMA', 'INTERNATIONAL', 'AIRPORT', 'WA', 'US,20141217,28,0,0,89,61,16,100,100,54,67,1,-9999,-9999,-9999']\n",
      "['GHCND:USW00024233,SEATTLE', 'TACOMA', 'INTERNATIONAL', 'AIRPORT', 'WA', 'US,20141218,130,0,0,94,67,31,120,110,67,98,1,-9999,-9999,-9999']\n",
      "['GHCND:USW00024233,SEATTLE', 'TACOMA', 'INTERNATIONAL', 'AIRPORT', 'WA', 'US,20141219,30,0,0,111,72,43,200,200,81,98,-9999,-9999,-9999,-9999']\n",
      "['GHCND:USW00024233,SEATTLE', 'TACOMA', 'INTERNATIONAL', 'AIRPORT', 'WA', 'US,20141220,196,0,0,128,67,55,220,220,125,206,1,-9999,-9999,-9999']\n",
      "['GHCND:USW00024233,SEATTLE', 'TACOMA', 'INTERNATIONAL', 'AIRPORT', 'WA', 'US,20141221,0,0,0,128,100,52,230,220,107,148,-9999,-9999,-9999,-9999']\n",
      "['GHCND:USW00024233,SEATTLE', 'TACOMA', 'INTERNATIONAL', 'AIRPORT', 'WA', 'US,20141222,0,0,0,106,61,15,220,220,58,76,-9999,-9999,-9999,-9999']\n",
      "['GHCND:USW00024233,SEATTLE', 'TACOMA', 'INTERNATIONAL', 'AIRPORT', 'WA', 'US,20141223,206,0,0,122,50,38,40,60,103,125,1,-9999,-9999,-9999']\n",
      "['GHCND:USW00024233,SEATTLE', 'TACOMA', 'INTERNATIONAL', 'AIRPORT', 'WA', 'US,20141224,53,0,0,72,39,18,170,190,40,58,1,-9999,-9999,-9999']\n",
      "['GHCND:USW00024233,SEATTLE', 'TACOMA', 'INTERNATIONAL', 'AIRPORT', 'WA', 'US,20141225,0,0,0,78,28,22,130,130,45,54,1,-9999,1,-9999']\n",
      "['GHCND:USW00024233,SEATTLE', 'TACOMA', 'INTERNATIONAL', 'AIRPORT', 'WA', 'US,20141226,0,0,0,56,17,12,160,160,45,54,1,-9999,1,-9999']\n",
      "['GHCND:USW00024233,SEATTLE', 'TACOMA', 'INTERNATIONAL', 'AIRPORT', 'WA', 'US,20141227,33,0,0,94,44,49,210,210,112,161,1,-9999,-9999,-9999']\n",
      "['GHCND:USW00024233,SEATTLE', 'TACOMA', 'INTERNATIONAL', 'AIRPORT', 'WA', 'US,20141228,41,0,0,67,28,18,50,30,58,72,1,-9999,-9999,-9999']\n",
      "['GHCND:USW00024233,SEATTLE', 'TACOMA', 'INTERNATIONAL', 'AIRPORT', 'WA', 'US,20141229,0,0,0,61,6,43,350,350,76,103,1,-9999,-9999,-9999']\n",
      "['GHCND:USW00024233,SEATTLE', 'TACOMA', 'INTERNATIONAL', 'AIRPORT', 'WA', 'US,20141230,0,0,0,33,-21,36,90,70,63,76,-9999,-9999,-9999,-9999']\n",
      "['GHCND:USW00024233,SEATTLE', 'TACOMA', 'INTERNATIONAL', 'AIRPORT', 'WA', 'US,20141231,0,0,0,33,-27,30,30,-9999,58,-9999,-9999,-9999,-9999,-9999']\n"
     ]
    },
    {
     "data": {
      "text/plain": [
       "(-9916.808219178081, numpy.float64)"
      ]
     },
     "execution_count": 172,
     "metadata": {},
     "output_type": "execute_result"
    }
   ],
   "source": [
    "with open('data/Seattle2014.csv') as f:\n",
    "\n",
    "    f.readline()\n",
    "\n",
    "    heights=[]\n",
    "\n",
    "    for line in f.readlines():\n",
    "\n",
    "        print(line.rstrip().split())\n",
    "\n",
    "        heights.append(int(line.rstrip().split(',')[-1]))\n",
    "\n",
    "\n",
    "\n",
    "heights_np = np.asarray(heights)\n",
    "\n",
    "np.average(heights_np), type(np.average(heights_np))"
   ]
  },
  {
   "cell_type": "code",
   "execution_count": 173,
   "id": "30b2c9de-be6b-4cc9-b766-af534fe08ccd",
   "metadata": {},
   "outputs": [],
   "source": [
    "%matplotlib inline\n",
    "import matplotlib.pyplot as plt\n",
    "import seaborn; seaborn.set() # 플롯 스타일 설정"
   ]
  },
  {
   "cell_type": "code",
   "execution_count": 175,
   "id": "afd72b72-6a7e-422e-a173-ed962339c7c6",
   "metadata": {},
   "outputs": [
    {
     "data": {
      "text/plain": [
       "(365,)"
      ]
     },
     "execution_count": 175,
     "metadata": {},
     "output_type": "execute_result"
    }
   ],
   "source": [
    "import numpy as np\n",
    "import pandas as pd\n",
    "rainfall = pd.read_csv('data/Seattle2014.csv')['PRCP'].values\n",
    "inches = rainfall / 254\n",
    "inches.shape"
   ]
  },
  {
   "cell_type": "code",
   "execution_count": 177,
   "id": "da900de6-1ca6-419e-9b50-386856aec549",
   "metadata": {},
   "outputs": [
    {
     "data": {
      "image/png": "[encoded data removed]",
      "text/plain": [
       "<Figure size 640x480 with 1 Axes>"
      ]
     },
     "metadata": {},
     "output_type": "display_data"
    }
   ],
   "source": [
    "plt.hist(inches, 40);"
   ]
  },
  {
   "cell_type": "code",
   "execution_count": 178,
   "id": "fa50be1a-770e-411d-948d-ab80758b3359",
   "metadata": {},
   "outputs": [
    {
     "data": {
      "text/plain": [
       "array([ True,  True, False, False, False])"
      ]
     },
     "execution_count": 178,
     "metadata": {},
     "output_type": "execute_result"
    }
   ],
   "source": [
    "a = np.array([1, 2, 3, 4, 5])\n",
    "a < 3"
   ]
  },
  {
   "cell_type": "markdown",
   "id": "e1e1af97-f95e-496d-b36f-87f52dcd1b84",
   "metadata": {},
   "source": [
    "# A B AND(&) OR(|)\n",
    "# 0 0  0      0\n",
    "# 0 1  0      1\n",
    "# 1 0  0      1\n",
    "# 1 1  1      1"
   ]
  },
  {
   "cell_type": "code",
   "execution_count": 181,
   "id": "910cb090-242a-4999-9b53-3e9a3a3d4ccc",
   "metadata": {},
   "outputs": [
    {
     "data": {
      "text/plain": [
       "1"
      ]
     },
     "execution_count": 181,
     "metadata": {},
     "output_type": "execute_result"
    }
   ],
   "source": [
    "np.sum((x % 2 == 0) & (x % 3 == 0))"
   ]
  },
  {
   "cell_type": "code",
   "execution_count": 183,
   "id": "6eb17aab-8503-4596-ad8d-8e87b81c334f",
   "metadata": {},
   "outputs": [
    {
     "data": {
      "text/plain": [
       "array([ True, False, False, False, False, False, False, False, False,\n",
       "       False, False, False, False, False, False, False, False, False,\n",
       "       False, False, False, False, False, False, False, False, False,\n",
       "       False, False, False, False, False, False, False, False, False,\n",
       "       False, False, False, False, False, False, False, False, False,\n",
       "       False, False, False, False, False])"
      ]
     },
     "execution_count": 183,
     "metadata": {},
     "output_type": "execute_result"
    }
   ],
   "source": [
    "even_mask = (x % 2 == 0)\n",
    "even_mask"
   ]
  },
  {
   "cell_type": "code",
   "execution_count": 184,
   "id": "ead2c0b4-fb93-4eea-9478-5103f165020f",
   "metadata": {},
   "outputs": [
    {
     "data": {
      "text/plain": [
       "1"
      ]
     },
     "execution_count": 184,
     "metadata": {},
     "output_type": "execute_result"
    }
   ],
   "source": [
    "np.sum(even_mask & (x % 3 == 0))"
   ]
  },
  {
   "cell_type": "markdown",
   "id": "ca2bf3b8-e037-45ef-a9b4-dc97bb36706f",
   "metadata": {},
   "source": [
    "## 팬시 인덱싱\n",
    "+ 복잡한 배열 값의 하위 집합에 매우 빠르게 접근해 그것을 수정"
   ]
  },
  {
   "cell_type": "markdown",
   "id": "7f2de4d8-98f0-4ffa-8aab-09f7b0da6472",
   "metadata": {},
   "source": [
    "### 팬시 인덱싱 알아보기 - 한 번에 여러 배열 요소에 접근하기 위해 인덱스의 배열을 전달"
   ]
  },
  {
   "cell_type": "code",
   "execution_count": 186,
   "id": "d66882a8-a2ac-4183-9ae8-93de6db2a21b",
   "metadata": {},
   "outputs": [
    {
     "name": "stdout",
     "output_type": "stream",
     "text": [
      "[51 92 14 71 60 20 82 86 74 74]\n"
     ]
    }
   ],
   "source": [
    "import numpy as np\n",
    "rand = np.random.RandomState(42)\n",
    "x = rand.randint(100, size=10)\n",
    "print(x)"
   ]
  },
  {
   "cell_type": "code",
   "execution_count": 187,
   "id": "8c336b7e-7ebb-4b8a-8688-a3579545ba36",
   "metadata": {},
   "outputs": [
    {
     "data": {
      "text/plain": [
       "[71, 86, 14]"
      ]
     },
     "execution_count": 187,
     "metadata": {},
     "output_type": "execute_result"
    }
   ],
   "source": [
    "[x[3], x[7], x[2]] # 세 개의 다른 요소에 접근"
   ]
  },
  {
   "cell_type": "code",
   "execution_count": 189,
   "id": "e531d07a-bd08-4313-b628-cd155d02b328",
   "metadata": {},
   "outputs": [
    {
     "data": {
      "text/plain": [
       "array([71, 86, 14])"
      ]
     },
     "execution_count": 189,
     "metadata": {},
     "output_type": "execute_result"
    }
   ],
   "source": [
    "ind = [3, 7, 2] # 인덱스의 단일 리스트나 배열을 전달\n",
    "x[ind]"
   ]
  },
  {
   "cell_type": "code",
   "execution_count": 192,
   "id": "4fcd5cb7-f0a7-4948-8e5f-77ac7f7f911b",
   "metadata": {},
   "outputs": [
    {
     "data": {
      "text/plain": [
       "array([[71, 86],\n",
       "       [60, 20]])"
      ]
     },
     "execution_count": 192,
     "metadata": {},
     "output_type": "execute_result"
    }
   ],
   "source": [
    "# 팬시 인덱싱 사용 : 결과의 형상이 인덱싱 대상 배열의 형상이 아니라, 인덱스 배열의 형상을 반영\n",
    "ind = np.array([[3, 7],\n",
    "                [4, 5]])\n",
    "x[i+nd]"
   ]
  },
  {
   "cell_type": "code",
   "execution_count": 193,
   "id": "197f47ee-040d-4e06-8351-d96630d10f21",
   "metadata": {},
   "outputs": [
    {
     "data": {
      "text/plain": [
       "array([[ 0,  1,  2,  3],\n",
       "       [ 4,  5,  6,  7],\n",
       "       [ 8,  9, 10, 11]])"
      ]
     },
     "execution_count": 193,
     "metadata": {},
     "output_type": "execute_result"
    }
   ],
   "source": [
    "# 팬시 인덱싱 : 여러 차원에서도 동작\n",
    "X = np.arange(12).reshape((3, 4))\n",
    "X"
   ]
  },
  {
   "cell_type": "code",
   "execution_count": 194,
   "id": "e7a3aaf2-b471-40a0-ab21-63b8f01053c2",
   "metadata": {},
   "outputs": [
    {
     "data": {
      "text/plain": [
       "array([ 2,  5, 11])"
      ]
     },
     "execution_count": 194,
     "metadata": {},
     "output_type": "execute_result"
    }
   ],
   "source": [
    "# 표준 인덱싱과 마찬가지로 첫 번째 인데스는 행, 두 번째 인덱스는 열\n",
    "row = np.array([0, 1, 2])\n",
    "col = np.array([2, 1, 3])\n",
    "X[row, col]"
   ]
  },
  {
   "cell_type": "code",
   "execution_count": 195,
   "id": "6d53edb2-d83f-4332-bd24-d9c2f7528043",
   "metadata": {},
   "outputs": [
    {
     "data": {
      "text/plain": [
       "array([[ 2,  1,  3],\n",
       "       [ 6,  5,  7],\n",
       "       [10,  9, 11]])"
      ]
     },
     "execution_count": 195,
     "metadata": {},
     "output_type": "execute_result"
    }
   ],
   "source": [
    "# 팬시 인덱싱에서 인덱스 쌍을 만드는 것 : 모든 브로드캐스팅 규칙을 따름\n",
    "# 인덱스 내의 열 벡터와 행 벡터를 결함 => 2차원\n",
    "X[row[:, np.newaxis], col]"
   ]
  },
  {
   "cell_type": "code",
   "execution_count": 196,
   "id": "8829d977-0e5d-4564-a8cd-8a2f1480ae74",
   "metadata": {},
   "outputs": [
    {
     "data": {
      "text/plain": [
       "array([[0, 0, 0],\n",
       "       [2, 1, 3],\n",
       "       [4, 2, 6]])"
      ]
     },
     "execution_count": 196,
     "metadata": {},
     "output_type": "execute_result"
    }
   ],
   "source": [
    "# 각 행의 값은 각 열 벡터와 일치\n",
    "row[:, np.newaxis] * col"
   ]
  },
  {
   "cell_type": "code",
   "execution_count": 197,
   "id": "98f0c151-b77b-44cc-a390-70840a9f511b",
   "metadata": {},
   "outputs": [],
   "source": [
    "# 팬시 인덱싱 사용 : 반환값 = 브로드캐스팅된 인덱스의 형상"
   ]
  },
  {
   "cell_type": "markdown",
   "id": "165e8bfb-9990-4b8c-a5f5-6d931a8275fe",
   "metadata": {},
   "source": [
    "### 결합 인덱싱 - 팬시 인덱싱을 다른 인덱싱 방식과 결합\n",
    "+ 결합된 인덱싱 방식 모두 배열값에 접근하고 수정하기에 매우 유연한 연산을 수행"
   ]
  },
  {
   "cell_type": "code",
   "execution_count": 199,
   "id": "eadb6054-2098-4f89-86eb-d0fe2e7b826c",
   "metadata": {},
   "outputs": [
    {
     "name": "stdout",
     "output_type": "stream",
     "text": [
      "[[ 0  1  2  3]\n",
      " [ 4  5  6  7]\n",
      " [ 8  9 10 11]]\n"
     ]
    }
   ],
   "source": [
    "print(X)"
   ]
  },
  {
   "cell_type": "code",
   "execution_count": 201,
   "id": "41dfb55b-b5a3-4772-bf56-ddfcac5812e9",
   "metadata": {},
   "outputs": [
    {
     "data": {
      "text/plain": [
       "array([10,  8,  9])"
      ]
     },
     "execution_count": 201,
     "metadata": {},
     "output_type": "execute_result"
    }
   ],
   "source": [
    "# 팬시 인덱스 + 단순 인덱스\n",
    "X[2, [2, 0, 1]]"
   ]
  },
  {
   "cell_type": "code",
   "execution_count": 202,
   "id": "fe26862c-b642-4d6f-a905-27b431facc2d",
   "metadata": {},
   "outputs": [
    {
     "data": {
      "text/plain": [
       "array([[ 6,  4,  5],\n",
       "       [10,  8,  9]])"
      ]
     },
     "execution_count": 202,
     "metadata": {},
     "output_type": "execute_result"
    }
   ],
   "source": [
    "# 팬시 인덱싱 + 슬라이싱\n",
    "X[1:, [2, 0, 1]]"
   ]
  },
  {
   "cell_type": "code",
   "execution_count": 203,
   "id": "429852d8-8d03-4bf0-92b7-1416366fcae0",
   "metadata": {},
   "outputs": [
    {
     "data": {
      "text/plain": [
       "array([[ 0,  2],\n",
       "       [ 4,  6],\n",
       "       [ 8, 10]])"
      ]
     },
     "execution_count": 203,
     "metadata": {},
     "output_type": "execute_result"
    }
   ],
   "source": [
    "# 팬시 인덱싱 + 마스킹\n",
    "mask = np.array([1, 0, 1, 0], dtype=bool)\n",
    "X[row[:, np.newaxis], mask]"
   ]
  },
  {
   "cell_type": "markdown",
   "id": "dd92bcfe-d13f-4b71-922a-4f0411febe7e",
   "metadata": {},
   "source": [
    "### 예제: 임의의 점 선택하기"
   ]
  },
  {
   "cell_type": "code",
   "execution_count": 206,
   "id": "ab5f192c-25e8-4226-971d-ab417da117d9",
   "metadata": {},
   "outputs": [
    {
     "data": {
      "text/plain": [
       "array([[ 3.57137686e-01,  2.35807765e+00],\n",
       "       [-6.05119455e-01, -2.11454898e+00],\n",
       "       [-3.79703356e-01, -6.38285610e-01],\n",
       "       [-3.55777152e-01,  8.48308764e-02],\n",
       "       [-1.33074012e+00, -3.20478249e+00],\n",
       "       [-1.60774279e+00, -2.81181164e+00],\n",
       "       [-2.82035186e-01, -4.90196315e-01],\n",
       "       [ 1.63915076e+00,  2.33283998e+00],\n",
       "       [ 1.75088631e-01, -5.03749438e-01],\n",
       "       [ 2.41225594e-01,  3.65531806e-03],\n",
       "       [ 1.51562079e+00,  4.04577591e+00],\n",
       "       [ 3.52286732e-01,  9.37301867e-01],\n",
       "       [ 9.53264554e-01,  1.93898064e+00],\n",
       "       [-1.49079761e+00, -3.45996122e+00],\n",
       "       [-2.14007516e-02, -1.42724772e+00],\n",
       "       [-2.91262533e+00, -5.03640289e+00],\n",
       "       [-1.57680515e+00, -2.90969456e+00],\n",
       "       [-1.83164967e-01,  3.62981204e-02],\n",
       "       [-7.27700763e-01, -2.43718404e+00],\n",
       "       [ 1.04941259e+00,  7.26850266e-01],\n",
       "       [ 7.73152003e-02,  1.98483544e+00],\n",
       "       [ 4.30438791e-01,  6.95136156e-01],\n",
       "       [ 3.23394222e-01, -9.64319545e-01],\n",
       "       [-1.35805172e+00, -1.90787797e+00],\n",
       "       [-9.80520961e-01, -5.79777574e-01],\n",
       "       [ 5.20273222e-01,  3.25167427e+00],\n",
       "       [ 1.16492110e+00,  1.42699319e+00],\n",
       "       [-4.97063985e-01,  8.26225733e-01],\n",
       "       [ 3.74849572e-01, -1.04463014e-01],\n",
       "       [ 1.23659796e+00,  2.87163211e+00],\n",
       "       [ 2.34066642e+00,  4.24355003e+00],\n",
       "       [-1.93199976e+00, -3.23196959e+00],\n",
       "       [ 2.96839547e-01,  2.12602144e-01],\n",
       "       [-9.52594701e-01,  2.41686515e-01],\n",
       "       [-7.22290311e-01, -7.59069560e-01],\n",
       "       [ 1.63742242e-01,  4.61222753e-01],\n",
       "       [-6.46154771e-01, -1.42347155e+00],\n",
       "       [ 1.26290603e+00,  4.43497219e+00],\n",
       "       [-2.39656867e-01,  1.70669089e+00],\n",
       "       [-6.61725251e-01, -1.52072609e+00],\n",
       "       [-3.64365008e-01, -9.97092213e-01],\n",
       "       [ 3.69960861e-01,  1.11786727e+00],\n",
       "       [-6.39856740e-01, -2.04755420e+00],\n",
       "       [ 7.10911794e-01,  1.33151476e+00],\n",
       "       [-1.43541048e+00, -1.89315839e+00],\n",
       "       [-5.56916532e-01, -7.15305560e-01],\n",
       "       [ 2.46248255e-01,  1.54348827e+00],\n",
       "       [-2.37984327e-01, -1.34318195e+00],\n",
       "       [ 2.11868517e+00,  3.79382291e+00],\n",
       "       [ 1.73608543e-01,  1.67679999e+00],\n",
       "       [-1.26645915e+00, -3.53323359e+00],\n",
       "       [ 2.76745836e-01,  9.51302307e-01],\n",
       "       [-3.67474962e-01,  1.20472755e-01],\n",
       "       [ 1.20141475e-01,  1.31739215e+00],\n",
       "       [-1.05787079e-01,  6.68942965e-01],\n",
       "       [ 4.85029913e-01,  5.07356892e-01],\n",
       "       [-2.17439588e+00, -4.09646255e+00],\n",
       "       [ 1.82660661e+00,  3.92623429e+00],\n",
       "       [-6.55261490e-01, -2.87719713e+00],\n",
       "       [-9.67285254e-01, -1.61321686e+00],\n",
       "       [ 6.49301351e-01,  1.55800863e+00],\n",
       "       [ 1.25340981e+00,  4.94230023e+00],\n",
       "       [-2.20416946e-02,  8.16827619e-01],\n",
       "       [-1.08675393e+00, -1.15389651e+00],\n",
       "       [ 3.22320568e-01,  9.98766817e-01],\n",
       "       [-8.50456760e-01, -1.10875203e+00],\n",
       "       [-8.83798267e-01, -2.65039203e+00],\n",
       "       [ 9.31740538e-02,  1.69711600e+00],\n",
       "       [ 1.28118742e+00,  4.79245074e+00],\n",
       "       [ 2.81057298e-01,  6.73593571e-01],\n",
       "       [ 6.48845977e-01,  1.51428634e+00],\n",
       "       [-1.46937513e+00, -2.71300915e+00],\n",
       "       [-4.89193185e-01, -1.08482137e+00],\n",
       "       [ 1.65860668e+00,  3.09054352e+00],\n",
       "       [ 1.41931402e-01,  8.38038139e-01],\n",
       "       [-4.40721475e-01,  5.41628376e-04],\n",
       "       [-4.58373715e-01, -1.04778340e+00],\n",
       "       [-2.25798551e+00, -5.01156264e+00],\n",
       "       [-3.12715999e-01,  1.25825058e+00],\n",
       "       [-1.80402237e+00, -2.38957601e+00],\n",
       "       [-2.71129583e-01,  4.02184668e-01],\n",
       "       [ 1.04223161e+00,  3.36477212e+00],\n",
       "       [ 6.64276166e-01,  1.37000368e-01],\n",
       "       [-2.61291110e-01, -2.59008457e+00],\n",
       "       [ 1.62839667e+00,  4.32363901e+00],\n",
       "       [-8.99259657e-01, -1.12051745e+00],\n",
       "       [-1.25057724e+00, -1.42083675e+00],\n",
       "       [-5.96311327e-01, -1.58282278e+00],\n",
       "       [ 1.76009177e-01,  1.19449727e-01],\n",
       "       [ 1.46950446e-01, -8.32988849e-01],\n",
       "       [-2.81902024e-01, -7.74104995e-01],\n",
       "       [-3.61316369e-01, -5.70607238e-01],\n",
       "       [ 2.61050729e+00,  5.32676869e+00],\n",
       "       [ 1.21592974e-01,  2.33494920e-01],\n",
       "       [-3.55348155e-01, -5.30626904e-01],\n",
       "       [-1.52038962e+00, -3.33234261e+00],\n",
       "       [ 9.01154256e-01,  4.44700054e-01],\n",
       "       [ 1.05948855e+00,  3.13744379e+00],\n",
       "       [-1.56958225e+00, -2.12093881e+00],\n",
       "       [ 8.81157356e-01,  1.79840154e+00]])"
      ]
     },
     "execution_count": 206,
     "metadata": {},
     "output_type": "execute_result"
    }
   ],
   "source": [
    "# 2차원 정규분포에서 뽑아낸 다음 점, D차원에 N개의 점을 표시, NxD\n",
    "mean = [0, 0]\n",
    "cov = [[1, 2],\n",
    "       [2, 5]]\n",
    "X = rand.multivariate_normal(mean, cov, 100)\n",
    "X.shape\n",
    "X"
   ]
  },
  {
   "cell_type": "code",
   "execution_count": 207,
   "id": "10c25f3c-929c-4005-aaa1-a710911d66b1",
   "metadata": {},
   "outputs": [
    {
     "data": {
      "image/png": "[encoded data removed]",
      "text/plain": [
       "<Figure size 640x480 with 1 Axes>"
      ]
     },
     "metadata": {},
     "output_type": "display_data"
    }
   ],
   "source": [
    "# 플로팅 도구(plotting tools)를 사용, 산점도로 이 점들을 시각화\n",
    "%matplotlib inline\n",
    "import matplotlib.pyplot as plt\n",
    "import seaborn; seaborn.set() # 플롯 스타일 설정\n",
    "plt.scatter(X[:, 0], X[:, 1]);"
   ]
  },
  {
   "cell_type": "code",
   "execution_count": 208,
   "id": "16b9638a-8472-4d4a-a9c7-b33e177cabd3",
   "metadata": {},
   "outputs": [
    {
     "data": {
      "text/plain": [
       "array([ 7, 13, 59, 50, 26, 55, 36, 92, 58, 17,  5, 89, 91, 14, 62, 68, 69,\n",
       "       10, 94, 44])"
      ]
     },
     "execution_count": 208,
     "metadata": {},
     "output_type": "execute_result"
    }
   ],
   "source": [
    "# 팬시 인덱싱을 이용, 임의의 점 20개를 선택, 우선 반복 없이 임의로 인덱스를 20개 선택하고 그 인덱스를 사용해 원본 배열의 일부를 선택\n",
    "indices = np.random.choice(X.shape[0], 20, replace=False)\n",
    "indices"
   ]
  },
  {
   "cell_type": "code",
   "execution_count": 209,
   "id": "9a77054d-f6a2-4964-8b30-cb9457e04ae9",
   "metadata": {},
   "outputs": [
    {
     "data": {
      "text/plain": [
       "(20, 2)"
      ]
     },
     "execution_count": 209,
     "metadata": {},
     "output_type": "execute_result"
    }
   ],
   "source": [
    "selection = X[indices] # 여기에 팬시 인덱싱 사용\n",
    "selection.shape"
   ]
  },
  {
   "cell_type": "code",
   "execution_count": 211,
   "id": "0c475ea1-94e0-4592-8577-7c3aa64599cc",
   "metadata": {},
   "outputs": [
    {
     "data": {
      "image/png": "[encoded data removed]",
      "text/plain": [
       "<Figure size 640x480 with 1 Axes>"
      ]
     },
     "metadata": {},
     "output_type": "display_data"
    }
   ],
   "source": [
    "plt.scatter(X[:, 0], X[:, 1], alpha=0.3)\n",
    "plt.scatter(selection[:, 0], selection[:, 1], facecolor='none', s=200);"
   ]
  },
  {
   "cell_type": "markdown",
   "id": "70d1a9aa-355d-4b19-b69d-a481fbe93765",
   "metadata": {},
   "source": [
    "##### 팬시 인덱싱"
   ]
  },
  {
   "cell_type": "code",
   "execution_count": 218,
   "id": "2861e03e-28ed-4ee5-b348-c5754be9a940",
   "metadata": {},
   "outputs": [
    {
     "data": {
      "text/plain": [
       "([1, 2, 3, 4, 5, 6, 7, 8, 9], [3, 4, 6], list)"
      ]
     },
     "execution_count": 218,
     "metadata": {},
     "output_type": "execute_result"
    }
   ],
   "source": [
    "data = list(range(1, 10))\n",
    "data, [ data[2], data[3], data[5] ], type(data)"
   ]
  },
  {
   "cell_type": "code",
   "execution_count": 215,
   "id": "63b672db-28e9-4920-8f91-b8090264fe56",
   "metadata": {},
   "outputs": [
    {
     "data": {
      "text/plain": [
       "array([ 1,  2,  3,  4,  5,  6,  7,  8,  9, 10])"
      ]
     },
     "execution_count": 215,
     "metadata": {},
     "output_type": "execute_result"
    }
   ],
   "source": [
    "data = np.arange(1, 11)\n",
    "data"
   ]
  },
  {
   "cell_type": "code",
   "execution_count": 217,
   "id": "32e7914a-60f2-423d-a7b9-ccb8e2840d98",
   "metadata": {},
   "outputs": [
    {
     "data": {
      "text/plain": [
       "(array([3, 4, 6]), numpy.ndarray)"
      ]
     },
     "execution_count": 217,
     "metadata": {},
     "output_type": "execute_result"
    }
   ],
   "source": [
    "data [[2, 3, 5]], type(data)"
   ]
  },
  {
   "cell_type": "code",
   "execution_count": null,
   "id": "61457ac9-82be-444e-8344-fe16fae7e034",
   "metadata": {},
   "outputs": [],
   "source": []
  }
 ],
 "metadata": {
  "kernelspec": {
   "display_name": "Python 3 (ipykernel)",
   "language": "python",
   "name": "python3"
  },
  "language_info": {
   "codemirror_mode": {
    "name": "ipython",
    "version": 3
   },
   "file_extension": ".py",
   "mimetype": "text/x-python",
   "name": "python",
   "nbconvert_exporter": "python",
   "pygments_lexer": "ipython3",
   "version": "3.9.13"
  }
 },
 "nbformat": 4,
 "nbformat_minor": 5
}
