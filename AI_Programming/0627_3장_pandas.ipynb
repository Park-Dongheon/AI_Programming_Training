{
 "cells": [
  {
   "cell_type": "markdown",
   "id": "8e5d2830-8cbb-4f46-9a7b-834500ec3ab1",
   "metadata": {},
   "source": [
    "# Pandas"
   ]
  },
  {
   "cell_type": "code",
   "execution_count": 11,
   "id": "62626363-20ef-4539-a538-9dc9c192b294",
   "metadata": {},
   "outputs": [
    {
     "name": "stdout",
     "output_type": "stream",
     "text": [
      "Requirement already satisfied: pandas in c:\\users\\user\\appdata\\local\\programs\\python\\python39\\lib\\site-packages (2.2.2)\n",
      "Requirement already satisfied: numpy>=1.22.4 in c:\\users\\user\\appdata\\local\\programs\\python\\python39\\lib\\site-packages (from pandas) (1.26.4)\n",
      "Requirement already satisfied: python-dateutil>=2.8.2 in c:\\users\\user\\appdata\\local\\programs\\python\\python39\\lib\\site-packages (from pandas) (2.9.0.post0)\n",
      "Requirement already satisfied: pytz>=2020.1 in c:\\users\\user\\appdata\\local\\programs\\python\\python39\\lib\\site-packages (from pandas) (2024.1)\n",
      "Requirement already satisfied: tzdata>=2022.7 in c:\\users\\user\\appdata\\local\\programs\\python\\python39\\lib\\site-packages (from pandas) (2024.1)\n",
      "Requirement already satisfied: six>=1.5 in c:\\users\\user\\appdata\\local\\programs\\python\\python39\\lib\\site-packages (from python-dateutil>=2.8.2->pandas) (1.16.0)\n",
      "Note: you may need to restart the kernel to use updated packages.\n"
     ]
    }
   ],
   "source": [
    "pip install pandas"
   ]
  },
  {
   "cell_type": "code",
   "execution_count": 12,
   "id": "efa6de66-b9a3-4af2-a0d0-8fb725a348f5",
   "metadata": {},
   "outputs": [],
   "source": [
    "import pandas as pd"
   ]
  },
  {
   "cell_type": "code",
   "execution_count": 13,
   "id": "bdfcd84f-cec9-43b1-bab5-38c938cca310",
   "metadata": {},
   "outputs": [
    {
     "data": {
      "text/plain": [
       "'2.2.2'"
      ]
     },
     "execution_count": 13,
     "metadata": {},
     "output_type": "execute_result"
    }
   ],
   "source": [
    "pd.__version__"
   ]
  },
  {
   "cell_type": "markdown",
   "id": "ca17f123-e9ea-4f19-a7a0-4bb04565f9cb",
   "metadata": {},
   "source": [
    "## pandas 객체 소개 - Series, DataFrame,"
   ]
  },
  {
   "cell_type": "markdown",
   "id": "fbc2d164-d71f-4cc4-a8ca-52993d111cd1",
   "metadata": {},
   "source": [
    "### Pandas Series 객체"
   ]
  },
  {
   "cell_type": "code",
   "execution_count": 18,
   "id": "b75b0dfa-eec9-4b9a-abf7-8bfa3a7bbeef",
   "metadata": {},
   "outputs": [],
   "source": [
    "import pandas as pd"
   ]
  },
  {
   "cell_type": "code",
   "execution_count": 38,
   "id": "e94e34a1-81f1-4a7b-9789-b74786b9b6d4",
   "metadata": {},
   "outputs": [
    {
     "data": {
      "text/plain": [
       "0    0.25\n",
       "1    0.50\n",
       "2    0.75\n",
       "3    1.00\n",
       "dtype: float64"
      ]
     },
     "execution_count": 38,
     "metadata": {},
     "output_type": "execute_result"
    }
   ],
   "source": [
    "# 인덱싱된 데이터의 1찬원 배열, 리스트나 배열로부터 만듬\n",
    "data = pd.Series([0.25, 0.5, 0.75, 1.0])\n",
    "data"
   ]
  },
  {
   "cell_type": "code",
   "execution_count": 39,
   "id": "431d4ae7-b799-4a74-acf2-c83e8f5a427c",
   "metadata": {},
   "outputs": [],
   "source": [
    "# - Series는 일련의 값과 인덱스를 모두 감싸고 있으며, 각각 values와 index 속성으로 접근, values는 NumPy 배열"
   ]
  },
  {
   "cell_type": "code",
   "execution_count": 40,
   "id": "f43b03c3-e788-43f9-8fb2-cb76e310e0f2",
   "metadata": {},
   "outputs": [
    {
     "data": {
      "text/plain": [
       "array([0.25, 0.5 , 0.75, 1.  ])"
      ]
     },
     "execution_count": 40,
     "metadata": {},
     "output_type": "execute_result"
    }
   ],
   "source": [
    "data.values"
   ]
  },
  {
   "cell_type": "code",
   "execution_count": 41,
   "id": "bea27509-be5b-4d41-9e63-0d8766d753f8",
   "metadata": {},
   "outputs": [
    {
     "data": {
      "text/plain": [
       "RangeIndex(start=0, stop=4, step=1)"
      ]
     },
     "execution_count": 41,
     "metadata": {},
     "output_type": "execute_result"
    }
   ],
   "source": [
    "data.index # index는 pd.Index 타입의 배열과 비슷한 객체"
   ]
  },
  {
   "cell_type": "code",
   "execution_count": 42,
   "id": "a52d6caf-2fac-4309-8649-f3909796f332",
   "metadata": {},
   "outputs": [
    {
     "data": {
      "text/plain": [
       "(0.5, pandas.core.series.Series)"
      ]
     },
     "execution_count": 42,
     "metadata": {},
     "output_type": "execute_result"
    }
   ],
   "source": [
    "data[1], type(data) # NumPy 배열과 마찬가지로 데이터는 친숙한 파이썬 대괄호 표기법을 통해 연결된 인덱스로 접근 가능"
   ]
  },
  {
   "cell_type": "code",
   "execution_count": 27,
   "id": "5150cbe8-0cba-4f4d-a410-b5f32c9d22e0",
   "metadata": {},
   "outputs": [
    {
     "data": {
      "text/plain": [
       "1    0.50\n",
       "2    0.75\n",
       "dtype: float64"
      ]
     },
     "execution_count": 27,
     "metadata": {},
     "output_type": "execute_result"
    }
   ],
   "source": [
    "data[1:3] # Pandas Series가 1차원 NumPy 배열보다 훨씬 더 일반적이고 유연"
   ]
  },
  {
   "cell_type": "markdown",
   "id": "29c53ce1-af89-4a47-9fb3-406597a3d36e",
   "metadata": {},
   "source": [
    "### Series: 일반화된 NumPy 배열"
   ]
  },
  {
   "cell_type": "code",
   "execution_count": 29,
   "id": "14dbe24e-dbeb-4327-9727-6eecfa8265eb",
   "metadata": {},
   "outputs": [],
   "source": [
    "# 근본적인 차이 : 인덱스 존재 여부, NumPy 배열에는 값에 접근하는 데 사용되는 암묵적으로 정의된 정수형 인덱스가 있음\n",
    "#                 Pandas Series에는 값에 연결된 명시적으로 정의된 인덱스가 있음\n",
    "# 추가적인 기능을 제공 -> ex) 인덱스는 정수일 필요가 없음, 어떤 값으로도 구성 가능"
   ]
  },
  {
   "cell_type": "code",
   "execution_count": 31,
   "id": "76fce9ec-3c12-4d7e-a5f0-23ea162a3e51",
   "metadata": {},
   "outputs": [
    {
     "data": {
      "text/plain": [
       "a    0.25\n",
       "b    0.50\n",
       "c    0.75\n",
       "d    1.00\n",
       "dtype: float64"
      ]
     },
     "execution_count": 31,
     "metadata": {},
     "output_type": "execute_result"
    }
   ],
   "source": [
    "data = pd.Series([0.25, 0.5, 0.75, 1.0], index=['a', 'b', 'c', 'd'])\n",
    "data"
   ]
  },
  {
   "cell_type": "code",
   "execution_count": 32,
   "id": "28b3a5c7-35f1-4ee0-82f8-c0419cc9cb92",
   "metadata": {},
   "outputs": [
    {
     "data": {
      "text/plain": [
       "0.5"
      ]
     },
     "execution_count": 32,
     "metadata": {},
     "output_type": "execute_result"
    }
   ],
   "source": [
    "data['b']"
   ]
  },
  {
   "cell_type": "code",
   "execution_count": 35,
   "id": "740fb791-ddd5-481c-b0a7-eb21e76426b8",
   "metadata": {},
   "outputs": [
    {
     "data": {
      "text/plain": [
       "2    0.25\n",
       "5    0.50\n",
       "3    0.75\n",
       "7    1.00\n",
       "dtype: float64"
      ]
     },
     "execution_count": 35,
     "metadata": {},
     "output_type": "execute_result"
    }
   ],
   "source": [
    "data = pd.Series([0.25, 0.5, 0.75, 1.0], index=[2, 5, 3, 7]) # 인접하지 않거나 연속적이지 않은 인덱스 사용 가능\n",
    "data"
   ]
  },
  {
   "cell_type": "code",
   "execution_count": 36,
   "id": "9559df20-4051-48a3-9fd4-4b589cf51dc6",
   "metadata": {},
   "outputs": [
    {
     "data": {
      "text/plain": [
       "0.5"
      ]
     },
     "execution_count": 36,
     "metadata": {},
     "output_type": "execute_result"
    }
   ],
   "source": [
    "data[5]"
   ]
  },
  {
   "cell_type": "markdown",
   "id": "447a2088-fac7-4601-aca4-8dc67c43baaa",
   "metadata": {},
   "source": [
    "### Series: 특수한 딕셔너리"
   ]
  },
  {
   "cell_type": "code",
   "execution_count": 43,
   "id": "8c431c05-1f20-4343-a2a5-1d5b2a264a60",
   "metadata": {},
   "outputs": [],
   "source": [
    "# 딕셔너리: 일련의 임의의 값에 임의의 키를 매핑하는 구조, Series는 타입이 지정된 키를 일련의 타입이 지정된 값에 매핑하는 구조\n",
    "# Pandas Series 타입이 지정, 특정 연산에서 NumPy 배열 뒤의 타입 특정 컴파일된 코드가 그것을 파이썬 리스트보다 더 효율적으로 만들어 주는 것처럼\n",
    "# Pandas Series의 타입 정보는 특정 연산에서 파이썬 딕셔너리보다 Pandas Series를 훨씬 더 효율적으로 만듬"
   ]
  },
  {
   "cell_type": "code",
   "execution_count": 64,
   "id": "92e57741-960f-4d14-ac09-b6db8e1195b3",
   "metadata": {},
   "outputs": [
    {
     "data": {
      "text/plain": [
       "California    38332521\n",
       "Texas         26448193\n",
       "New York      19651127\n",
       "Florida       19552860\n",
       "Illinois      12882135\n",
       "dtype: int64"
      ]
     },
     "execution_count": 64,
     "metadata": {},
     "output_type": "execute_result"
    }
   ],
   "source": [
    "population_dict = {'California' : 38332521,\n",
    "                   'Texas' : 26448193,\n",
    "                   'New York' : 19651127,\n",
    "                   'Florida' : 19552860,\n",
    "                   'Illinois' : 12882135} \n",
    "population = pd.Series(population_dict)\n",
    "population"
   ]
  },
  {
   "cell_type": "code",
   "execution_count": 46,
   "id": "ba91d27f-9e9e-41b8-9820-9622ee1b5bc4",
   "metadata": {},
   "outputs": [
    {
     "data": {
      "text/plain": [
       "38332521"
      ]
     },
     "execution_count": 46,
     "metadata": {},
     "output_type": "execute_result"
    }
   ],
   "source": [
    "# Series는 인덱스가 정렬된 키에서 추출되는 경우에 생성, 거기서부터 딕셔너리 스타일로 아이템에 접근 가능\n",
    "population['California']"
   ]
  },
  {
   "cell_type": "code",
   "execution_count": 49,
   "id": "e1c4ff9f-3030-4e7a-8ce2-b1e28f099f5f",
   "metadata": {},
   "outputs": [
    {
     "data": {
      "text/plain": [
       "California    38332521\n",
       "Texas         26448193\n",
       "New York      19651127\n",
       "Florida       19552860\n",
       "Illinois      12882135\n",
       "dtype: int64"
      ]
     },
     "execution_count": 49,
     "metadata": {},
     "output_type": "execute_result"
    }
   ],
   "source": [
    "population['California' : 'Illinois'] # 딕셔너리와 달리 Series는 슬라이싱 같이 배열 스타일의 연산도 지원, 'California' ~ 'Illinois'"
   ]
  },
  {
   "cell_type": "markdown",
   "id": "1e3835d9-5059-470b-b67d-c18a97087414",
   "metadata": {},
   "source": [
    "### Series 객체 구성하기"
   ]
  },
  {
   "cell_type": "code",
   "execution_count": 51,
   "id": "719e8703-744a-4ccf-873a-26cdd3e0e0fa",
   "metadata": {},
   "outputs": [],
   "source": [
    "# pd.Series(data, index=index) : index는 선택 인수, data는 많은 요소 중 하나일 수 있음"
   ]
  },
  {
   "cell_type": "code",
   "execution_count": 52,
   "id": "4f3fa194-0024-4564-b78d-f296c70024e5",
   "metadata": {},
   "outputs": [
    {
     "data": {
      "text/plain": [
       "0    2\n",
       "1    4\n",
       "2    6\n",
       "dtype: int64"
      ]
     },
     "execution_count": 52,
     "metadata": {},
     "output_type": "execute_result"
    }
   ],
   "source": [
    "pd.Series([2, 4, 6]) # data는 리스트나 NumPy 배열일 수 있고, 그런 경우 index는 정수가 기본"
   ]
  },
  {
   "cell_type": "code",
   "execution_count": 54,
   "id": "21217ceb-d64d-44d9-ad5d-bfc54e814c6f",
   "metadata": {},
   "outputs": [
    {
     "data": {
      "text/plain": [
       "100    5\n",
       "200    5\n",
       "300    5\n",
       "dtype: int64"
      ]
     },
     "execution_count": 54,
     "metadata": {},
     "output_type": "execute_result"
    }
   ],
   "source": [
    "pd.Series(5, index=[100, 200, 300]) # data는 지정된 인덱스를 채우기 위해 반복되는 스칼라 값일 수 있음"
   ]
  },
  {
   "cell_type": "code",
   "execution_count": 56,
   "id": "7362fd6b-2f41-4397-94ba-a61c4d3f230a",
   "metadata": {},
   "outputs": [
    {
     "data": {
      "text/plain": [
       "2    a\n",
       "1    b\n",
       "3    c\n",
       "dtype: object"
      ]
     },
     "execution_count": 56,
     "metadata": {},
     "output_type": "execute_result"
    }
   ],
   "source": [
    "pd.Series({2:'a', 1:'b', 3:'c'}) # data는 딕셔너리일 수도 있는데, 그 경우 index는 기본적으로 딕셔너리 키를 정렬"
   ]
  },
  {
   "cell_type": "code",
   "execution_count": 58,
   "id": "0784e0ff-50b7-4026-80ce-68145a0e2b72",
   "metadata": {},
   "outputs": [
    {
     "data": {
      "text/plain": [
       "3    c\n",
       "2    a\n",
       "dtype: object"
      ]
     },
     "execution_count": 58,
     "metadata": {},
     "output_type": "execute_result"
    }
   ],
   "source": [
    "pd.Series({2:'a', 1:'b', 3:'c'}, index=[3, 2]) # 인덱스를 명시적으로 설정, Series를 명시적으로 정의된 키로만 채울 수 있음"
   ]
  },
  {
   "cell_type": "markdown",
   "id": "62e0e585-937c-4499-9ef2-88d82100b1fe",
   "metadata": {},
   "source": [
    "## Pandas DataFrame 객체 ex) 엑셀"
   ]
  },
  {
   "cell_type": "code",
   "execution_count": 59,
   "id": "aa8862c5-f22a-4a6c-a75c-71bf30ec10c3",
   "metadata": {},
   "outputs": [],
   "source": [
    "# NumPy 배열의 일반화된 버전이나 파이썬 딕셔너리의 특수한 버전으로 생각 할 수 있음"
   ]
  },
  {
   "cell_type": "markdown",
   "id": "0f0da959-83d2-4e38-abbc-18f76b908622",
   "metadata": {},
   "source": [
    "### DataFrame: 일반화된 NumPy 배열"
   ]
  },
  {
   "cell_type": "code",
   "execution_count": 61,
   "id": "49d570a9-10d0-4695-baea-4c353f2f096c",
   "metadata": {},
   "outputs": [],
   "source": [
    "# 유연한 행 인덱스와 유연한 열 이름을 가진 2차원 배열\n",
    "# 정렬된 1차원 열의 연속으로 볼 수 있듯이, DataFrame은 정렬된 Series 객체의 연속으로 볼 수 있음\n",
    "# '정렬'은 같은 인덱스를 공유한다는 뜻"
   ]
  },
  {
   "cell_type": "code",
   "execution_count": 65,
   "id": "6b238c76-601a-47c0-b97a-dbc7ea90eca8",
   "metadata": {},
   "outputs": [
    {
     "data": {
      "text/plain": [
       "California    423967\n",
       "Texas         695662\n",
       "New York      141297\n",
       "Florida       170312\n",
       "Illinois      149995\n",
       "dtype: int64"
      ]
     },
     "execution_count": 65,
     "metadata": {},
     "output_type": "execute_result"
    }
   ],
   "source": [
    "# Series 구성\n",
    "area_dict = {'California' : 423967,\n",
    "             'Texas' : 695662,\n",
    "             'New York' : 141297,\n",
    "             'Florida' : 170312,\n",
    "             'Illinois' : 149995}\n",
    "area = pd.Series(area_dict)\n",
    "area"
   ]
  },
  {
   "cell_type": "code",
   "execution_count": 73,
   "id": "abc816c0-d4ad-443f-b5ce-40a162fe5b2a",
   "metadata": {},
   "outputs": [
    {
     "data": {
      "text/html": [
       "<div>\n",
       "<style scoped>\n",
       "    .dataframe tbody tr th:only-of-type {\n",
       "        vertical-align: middle;\n",
       "    }\n",
       "\n",
       "    .dataframe tbody tr th {\n",
       "        vertical-align: top;\n",
       "    }\n",
       "\n",
       "    .dataframe thead th {\n",
       "        text-align: right;\n",
       "    }\n",
       "</style>\n",
       "<table border=\"1\" class=\"dataframe\">\n",
       "  <thead>\n",
       "    <tr style=\"text-align: right;\">\n",
       "      <th></th>\n",
       "      <th>population</th>\n",
       "      <th>area</th>\n",
       "    </tr>\n",
       "  </thead>\n",
       "  <tbody>\n",
       "    <tr>\n",
       "      <th>California</th>\n",
       "      <td>38332521</td>\n",
       "      <td>423967</td>\n",
       "    </tr>\n",
       "    <tr>\n",
       "      <th>Texas</th>\n",
       "      <td>26448193</td>\n",
       "      <td>695662</td>\n",
       "    </tr>\n",
       "    <tr>\n",
       "      <th>New York</th>\n",
       "      <td>19651127</td>\n",
       "      <td>141297</td>\n",
       "    </tr>\n",
       "    <tr>\n",
       "      <th>Florida</th>\n",
       "      <td>19552860</td>\n",
       "      <td>170312</td>\n",
       "    </tr>\n",
       "    <tr>\n",
       "      <th>Illinois</th>\n",
       "      <td>12882135</td>\n",
       "      <td>149995</td>\n",
       "    </tr>\n",
       "  </tbody>\n",
       "</table>\n",
       "</div>"
      ],
      "text/plain": [
       "            population    area\n",
       "California    38332521  423967\n",
       "Texas         26448193  695662\n",
       "New York      19651127  141297\n",
       "Florida       19552860  170312\n",
       "Illinois      12882135  149995"
      ]
     },
     "execution_count": 73,
     "metadata": {},
     "output_type": "execute_result"
    }
   ],
   "source": [
    "# 딕셔너리를 사용, 2차원 객체를 구성\n",
    "states = pd.DataFrame({'population' : population,\n",
    "                      'area' : area})\n",
    "states"
   ]
  },
  {
   "cell_type": "code",
   "execution_count": 68,
   "id": "b5f59a37-4cab-4999-adf1-464ead3cb276",
   "metadata": {},
   "outputs": [
    {
     "data": {
      "text/plain": [
       "Index(['California', 'Texas', 'New York', 'Florida', 'Illinois'], dtype='object')"
      ]
     },
     "execution_count": 68,
     "metadata": {},
     "output_type": "execute_result"
    }
   ],
   "source": [
    "state.index # DataFrame도 인덱스 레이블에 접근할 수 있는 index 속성을 가지고 있음"
   ]
  },
  {
   "cell_type": "code",
   "execution_count": 70,
   "id": "13a5b829-e688-4b10-a049-a358b0a44efa",
   "metadata": {},
   "outputs": [
    {
     "data": {
      "text/plain": [
       "Index(['population', 'area'], dtype='object')"
      ]
     },
     "execution_count": 70,
     "metadata": {},
     "output_type": "execute_result"
    }
   ],
   "source": [
    "state.columns # DataFrame은 열 레이블을 가지고 있는 Index 객체인 column 속성을 가지고 있음"
   ]
  },
  {
   "cell_type": "markdown",
   "id": "e120765c-06a3-412e-ad49-dcd3adde16a9",
   "metadata": {},
   "source": [
    "### DataFrame: 특수한 딕셔너리"
   ]
  },
  {
   "cell_type": "code",
   "execution_count": 71,
   "id": "bb7cab89-f42c-4e46-9029-d4a22ea574b1",
   "metadata": {},
   "outputs": [],
   "source": [
    "# 딕셔너리의 특수 버전, DataFrame은 열 이름을 열 데이터로 이뤄진 Series에 매핑\n",
    "# ex) 'area'속성을 질의하면 앞에서 본 면적을 담고 있는 Series 객체를 반환"
   ]
  },
  {
   "cell_type": "code",
   "execution_count": 74,
   "id": "e2d1ed9d-8c08-4c86-ac36-963962835b8d",
   "metadata": {},
   "outputs": [
    {
     "data": {
      "text/plain": [
       "California    423967\n",
       "Texas         695662\n",
       "New York      141297\n",
       "Florida       170312\n",
       "Illinois      149995\n",
       "Name: area, dtype: int64"
      ]
     },
     "execution_count": 74,
     "metadata": {},
     "output_type": "execute_result"
    }
   ],
   "source": [
    "states['area']"
   ]
  },
  {
   "cell_type": "code",
   "execution_count": 75,
   "id": "b67fe015-d94c-42ad-926c-84df80b6da46",
   "metadata": {},
   "outputs": [],
   "source": [
    "# 2차원 NumPy 배열에서는 data[0]이 첫 번째 행을 반환\n",
    "# DataFrame의 경우에는 data['col0'] 이 첫 번째 열을 반환\n",
    "# 일반화된 배열보다 일반화된 딕셔너리로 보는 것이 더 적합"
   ]
  },
  {
   "cell_type": "markdown",
   "id": "00922709-40e4-4d63-957b-004b801565c9",
   "metadata": {},
   "source": [
    "### DataFrame 객체 구성하기"
   ]
  },
  {
   "cell_type": "code",
   "execution_count": 77,
   "id": "2b784bb9-2a82-4c7e-953e-78fa996821da",
   "metadata": {},
   "outputs": [],
   "source": [
    "# 단일 Series 객체에서 구성하기\n",
    "# DataFrame은 Series 객체의 집합체로서 열 하나짜리 DataFrame은 단일 Series로부터 구성 가능"
   ]
  },
  {
   "cell_type": "code",
   "execution_count": 78,
   "id": "112a58ef-95a7-4ff1-91e2-b3df8682af1c",
   "metadata": {},
   "outputs": [
    {
     "data": {
      "text/html": [
       "<div>\n",
       "<style scoped>\n",
       "    .dataframe tbody tr th:only-of-type {\n",
       "        vertical-align: middle;\n",
       "    }\n",
       "\n",
       "    .dataframe tbody tr th {\n",
       "        vertical-align: top;\n",
       "    }\n",
       "\n",
       "    .dataframe thead th {\n",
       "        text-align: right;\n",
       "    }\n",
       "</style>\n",
       "<table border=\"1\" class=\"dataframe\">\n",
       "  <thead>\n",
       "    <tr style=\"text-align: right;\">\n",
       "      <th></th>\n",
       "      <th>population</th>\n",
       "    </tr>\n",
       "  </thead>\n",
       "  <tbody>\n",
       "    <tr>\n",
       "      <th>California</th>\n",
       "      <td>38332521</td>\n",
       "    </tr>\n",
       "    <tr>\n",
       "      <th>Texas</th>\n",
       "      <td>26448193</td>\n",
       "    </tr>\n",
       "    <tr>\n",
       "      <th>New York</th>\n",
       "      <td>19651127</td>\n",
       "    </tr>\n",
       "    <tr>\n",
       "      <th>Florida</th>\n",
       "      <td>19552860</td>\n",
       "    </tr>\n",
       "    <tr>\n",
       "      <th>Illinois</th>\n",
       "      <td>12882135</td>\n",
       "    </tr>\n",
       "  </tbody>\n",
       "</table>\n",
       "</div>"
      ],
      "text/plain": [
       "            population\n",
       "California    38332521\n",
       "Texas         26448193\n",
       "New York      19651127\n",
       "Florida       19552860\n",
       "Illinois      12882135"
      ]
     },
     "execution_count": 78,
     "metadata": {},
     "output_type": "execute_result"
    }
   ],
   "source": [
    "pd.DataFrame(population, columns=['population'])"
   ]
  },
  {
   "cell_type": "code",
   "execution_count": 79,
   "id": "2af42094-3d07-4600-92e6-49744c589ee0",
   "metadata": {},
   "outputs": [],
   "source": [
    "# 딕셔너리의 리스트에서 구성하기\n",
    "# 리스트 컴프리헨션을 사용해 데이터 만들 수 있음"
   ]
  },
  {
   "cell_type": "code",
   "execution_count": 95,
   "id": "244df64f-4e83-4fbe-8cc5-5ca03714a5f6",
   "metadata": {},
   "outputs": [
    {
     "data": {
      "text/html": [
       "<div>\n",
       "<style scoped>\n",
       "    .dataframe tbody tr th:only-of-type {\n",
       "        vertical-align: middle;\n",
       "    }\n",
       "\n",
       "    .dataframe tbody tr th {\n",
       "        vertical-align: top;\n",
       "    }\n",
       "\n",
       "    .dataframe thead th {\n",
       "        text-align: right;\n",
       "    }\n",
       "</style>\n",
       "<table border=\"1\" class=\"dataframe\">\n",
       "  <thead>\n",
       "    <tr style=\"text-align: right;\">\n",
       "      <th></th>\n",
       "      <th>order</th>\n",
       "      <th>name</th>\n",
       "      <th>height(cm)</th>\n",
       "    </tr>\n",
       "  </thead>\n",
       "  <tbody>\n",
       "    <tr>\n",
       "      <th>0</th>\n",
       "      <td>1</td>\n",
       "      <td>George Washington</td>\n",
       "      <td>189</td>\n",
       "    </tr>\n",
       "    <tr>\n",
       "      <th>1</th>\n",
       "      <td>2</td>\n",
       "      <td>John Adams</td>\n",
       "      <td>170</td>\n",
       "    </tr>\n",
       "    <tr>\n",
       "      <th>2</th>\n",
       "      <td>3</td>\n",
       "      <td>Thomas Jefferson</td>\n",
       "      <td>189</td>\n",
       "    </tr>\n",
       "    <tr>\n",
       "      <th>3</th>\n",
       "      <td>4</td>\n",
       "      <td>James Madison</td>\n",
       "      <td>163</td>\n",
       "    </tr>\n",
       "    <tr>\n",
       "      <th>4</th>\n",
       "      <td>5</td>\n",
       "      <td>James Monroe</td>\n",
       "      <td>183</td>\n",
       "    </tr>\n",
       "  </tbody>\n",
       "</table>\n",
       "</div>"
      ],
      "text/plain": [
       "   order               name  height(cm)\n",
       "0      1  George Washington         189\n",
       "1      2         John Adams         170\n",
       "2      3   Thomas Jefferson         189\n",
       "3      4      James Madison         163\n",
       "4      5       James Monroe         183"
      ]
     },
     "execution_count": 95,
     "metadata": {},
     "output_type": "execute_result"
    }
   ],
   "source": [
    "df = pd.read_csv('data/president_heights.csv')\n",
    "df.head()"
   ]
  },
  {
   "cell_type": "code",
   "execution_count": 96,
   "id": "88e20523-3f41-4bc1-84d9-74fa4b5c1402",
   "metadata": {},
   "outputs": [],
   "source": [
    "import numpy as np"
   ]
  },
  {
   "cell_type": "code",
   "execution_count": 97,
   "id": "9fe451c2-424f-4ef5-8a7f-8677e4a8d08f",
   "metadata": {},
   "outputs": [
    {
     "data": {
      "text/plain": [
       "array([189, 170, 189, 163, 183, 171, 185, 168, 173, 183, 173, 173, 175,\n",
       "       178, 183, 193, 178, 173, 174, 183, 183, 168, 170, 178, 182, 180,\n",
       "       183, 178, 182, 188, 175, 179, 183, 193, 182, 183, 177, 185, 188,\n",
       "       188, 182, 185], dtype=int64)"
      ]
     },
     "execution_count": 97,
     "metadata": {},
     "output_type": "execute_result"
    }
   ],
   "source": [
    "np.array(df['height(cm)'])"
   ]
  },
  {
   "cell_type": "code",
   "execution_count": 101,
   "id": "9de2f2ca-0d22-4767-8473-8ccc8fa9520f",
   "metadata": {},
   "outputs": [
    {
     "data": {
      "text/plain": [
       "179.73809523809524"
      ]
     },
     "execution_count": 101,
     "metadata": {},
     "output_type": "execute_result"
    }
   ],
   "source": [
    "np.average(df['height(cm)'])"
   ]
  },
  {
   "cell_type": "code",
   "execution_count": 99,
   "id": "e802150c-5068-4576-8477-83cf46baadd4",
   "metadata": {},
   "outputs": [
    {
     "name": "stdout",
     "output_type": "stream",
     "text": [
      "<class 'pandas.core.frame.DataFrame'>\n",
      "RangeIndex: 42 entries, 0 to 41\n",
      "Data columns (total 3 columns):\n",
      " #   Column      Non-Null Count  Dtype \n",
      "---  ------      --------------  ----- \n",
      " 0   order       42 non-null     int64 \n",
      " 1   name        42 non-null     object\n",
      " 2   height(cm)  42 non-null     int64 \n",
      "dtypes: int64(2), object(1)\n",
      "memory usage: 1.1+ KB\n"
     ]
    }
   ],
   "source": [
    "df.info()"
   ]
  },
  {
   "cell_type": "code",
   "execution_count": 100,
   "id": "09151830-125e-4c42-acfd-080f949bf745",
   "metadata": {},
   "outputs": [
    {
     "data": {
      "text/html": [
       "<div>\n",
       "<style scoped>\n",
       "    .dataframe tbody tr th:only-of-type {\n",
       "        vertical-align: middle;\n",
       "    }\n",
       "\n",
       "    .dataframe tbody tr th {\n",
       "        vertical-align: top;\n",
       "    }\n",
       "\n",
       "    .dataframe thead th {\n",
       "        text-align: right;\n",
       "    }\n",
       "</style>\n",
       "<table border=\"1\" class=\"dataframe\">\n",
       "  <thead>\n",
       "    <tr style=\"text-align: right;\">\n",
       "      <th></th>\n",
       "      <th>order</th>\n",
       "      <th>height(cm)</th>\n",
       "    </tr>\n",
       "  </thead>\n",
       "  <tbody>\n",
       "    <tr>\n",
       "      <th>count</th>\n",
       "      <td>42.000000</td>\n",
       "      <td>42.000000</td>\n",
       "    </tr>\n",
       "    <tr>\n",
       "      <th>mean</th>\n",
       "      <td>22.476190</td>\n",
       "      <td>179.738095</td>\n",
       "    </tr>\n",
       "    <tr>\n",
       "      <th>std</th>\n",
       "      <td>13.152461</td>\n",
       "      <td>7.015869</td>\n",
       "    </tr>\n",
       "    <tr>\n",
       "      <th>min</th>\n",
       "      <td>1.000000</td>\n",
       "      <td>163.000000</td>\n",
       "    </tr>\n",
       "    <tr>\n",
       "      <th>25%</th>\n",
       "      <td>11.250000</td>\n",
       "      <td>174.250000</td>\n",
       "    </tr>\n",
       "    <tr>\n",
       "      <th>50%</th>\n",
       "      <td>22.000000</td>\n",
       "      <td>182.000000</td>\n",
       "    </tr>\n",
       "    <tr>\n",
       "      <th>75%</th>\n",
       "      <td>33.750000</td>\n",
       "      <td>183.000000</td>\n",
       "    </tr>\n",
       "    <tr>\n",
       "      <th>max</th>\n",
       "      <td>44.000000</td>\n",
       "      <td>193.000000</td>\n",
       "    </tr>\n",
       "  </tbody>\n",
       "</table>\n",
       "</div>"
      ],
      "text/plain": [
       "           order  height(cm)\n",
       "count  42.000000   42.000000\n",
       "mean   22.476190  179.738095\n",
       "std    13.152461    7.015869\n",
       "min     1.000000  163.000000\n",
       "25%    11.250000  174.250000\n",
       "50%    22.000000  182.000000\n",
       "75%    33.750000  183.000000\n",
       "max    44.000000  193.000000"
      ]
     },
     "execution_count": 100,
     "metadata": {},
     "output_type": "execute_result"
    }
   ],
   "source": [
    "df.describe()"
   ]
  },
  {
   "cell_type": "code",
   "execution_count": 102,
   "id": "c0d2ac74-91a3-4694-b4de-41d7bff58eda",
   "metadata": {},
   "outputs": [],
   "source": [
    "# df = pd.read_csv('data/president_heights.csv')\n",
    "# df.head()\n",
    "# np.average(df['height(cm)'])\n",
    "# df.info()\n",
    "# df.describe()"
   ]
  },
  {
   "cell_type": "markdown",
   "id": "47686b3b-0034-44dd-8c23-d98879014e1d",
   "metadata": {},
   "source": [
    "## Pandas Index 객체"
   ]
  },
  {
   "cell_type": "code",
   "execution_count": 104,
   "id": "329fe7b7-2bfa-45f2-bab0-74b8d5572cff",
   "metadata": {},
   "outputs": [],
   "source": [
    "# Series와 DataFrame 객체가 데이터를 참조하고 수정하게 해주는 명시적인 인덱스를 포함\n",
    "# Index 객체는 그 자체로 흥미로운 구조체, 불변의 배열 or 정렬된 집합(Index 객체가 중복되는 값을 포함할 수 있으므로 기술적으로 중복집합)\n",
    "# Index 객체에서 사용할 수 있는 연산에 몇 가지 흥미로운 결과를 살펴봄"
   ]
  },
  {
   "cell_type": "code",
   "execution_count": 105,
   "id": "d9f61b0d-305c-4047-81a7-39a88c3c6b82",
   "metadata": {},
   "outputs": [
    {
     "data": {
      "text/plain": [
       "Index([2, 3, 5, 7, 11], dtype='int64')"
      ]
     },
     "execution_count": 105,
     "metadata": {},
     "output_type": "execute_result"
    }
   ],
   "source": [
    "ind = pd.Index([2, 3, 5, 7, 11])\n",
    "ind"
   ]
  },
  {
   "cell_type": "markdown",
   "id": "574606b6-086a-45bc-9b55-f22fa6866e62",
   "metadata": {},
   "source": [
    "### Index: 불변의 배열"
   ]
  },
  {
   "cell_type": "code",
   "execution_count": 106,
   "id": "37a36b91-7a4d-4082-92a0-77bdee6e7702",
   "metadata": {},
   "outputs": [],
   "source": [
    "# Index 객체는 여러 면에서 배열처럼 동작, ex) 표준 파이썬 인덱싱 표기법을 사용해 값이나 슬라이스를 가져올 수 있음"
   ]
  },
  {
   "cell_type": "code",
   "execution_count": 107,
   "id": "1a817ef0-c1b2-4412-a253-b103ce187eff",
   "metadata": {},
   "outputs": [
    {
     "data": {
      "text/plain": [
       "3"
      ]
     },
     "execution_count": 107,
     "metadata": {},
     "output_type": "execute_result"
    }
   ],
   "source": [
    "ind[1]"
   ]
  },
  {
   "cell_type": "code",
   "execution_count": 108,
   "id": "c99625b9-cefc-476f-98cc-570004df58d3",
   "metadata": {},
   "outputs": [
    {
     "data": {
      "text/plain": [
       "Index([2, 5, 11], dtype='int64')"
      ]
     },
     "execution_count": 108,
     "metadata": {},
     "output_type": "execute_result"
    }
   ],
   "source": [
    "ind[::2]"
   ]
  },
  {
   "cell_type": "code",
   "execution_count": 110,
   "id": "a2b5bfb7-872f-4578-b185-9c91ae6af795",
   "metadata": {},
   "outputs": [
    {
     "name": "stdout",
     "output_type": "stream",
     "text": [
      "5 (5,) 1 int64\n"
     ]
    }
   ],
   "source": [
    "print(ind.size, ind.shape, ind.ndim, ind.dtype) # Index 객체에는 NumPy 배열에서 익숙한 속성이 많이 있음"
   ]
  },
  {
   "cell_type": "code",
   "execution_count": 113,
   "id": "eeacfb36-1b8f-4051-bb26-e405589ade6d",
   "metadata": {},
   "outputs": [
    {
     "ename": "TypeError",
     "evalue": "Index does not support mutable operations",
     "output_type": "error",
     "traceback": [
      "\u001b[1;31m---------------------------------------------------------------------------\u001b[0m",
      "\u001b[1;31mTypeError\u001b[0m                                 Traceback (most recent call last)",
      "Cell \u001b[1;32mIn[113], line 1\u001b[0m\n\u001b[1;32m----> 1\u001b[0m \u001b[43mind\u001b[49m\u001b[43m[\u001b[49m\u001b[38;5;241;43m1\u001b[39;49m\u001b[43m]\u001b[49m \u001b[38;5;241m=\u001b[39m \u001b[38;5;241m0\u001b[39m \u001b[38;5;66;03m# Index 객체와 NumPy 배열의 한 가지 차이점 : Index 객체는 일반적인 방법으로는 변경 불가, 불변의 값\u001b[39;00m\n\u001b[0;32m      2\u001b[0m \u001b[38;5;66;03m# 불변성 : 예기치 않은 인덱스 변경으로 인한 부작용 없이 여러 DataFrame과 배열 사이에서 인덱스를 더 안전하게 공유 가능\u001b[39;00m\n",
      "File \u001b[1;32m~\\AppData\\Local\\Programs\\Python\\Python39\\lib\\site-packages\\pandas\\core\\indexes\\base.py:5371\u001b[0m, in \u001b[0;36mIndex.__setitem__\u001b[1;34m(self, key, value)\u001b[0m\n\u001b[0;32m   5369\u001b[0m \u001b[38;5;129m@final\u001b[39m\n\u001b[0;32m   5370\u001b[0m \u001b[38;5;28;01mdef\u001b[39;00m \u001b[38;5;21m__setitem__\u001b[39m(\u001b[38;5;28mself\u001b[39m, key, value) \u001b[38;5;241m-\u001b[39m\u001b[38;5;241m>\u001b[39m \u001b[38;5;28;01mNone\u001b[39;00m:\n\u001b[1;32m-> 5371\u001b[0m     \u001b[38;5;28;01mraise\u001b[39;00m \u001b[38;5;167;01mTypeError\u001b[39;00m(\u001b[38;5;124m\"\u001b[39m\u001b[38;5;124mIndex does not support mutable operations\u001b[39m\u001b[38;5;124m\"\u001b[39m)\n",
      "\u001b[1;31mTypeError\u001b[0m: Index does not support mutable operations"
     ]
    }
   ],
   "source": [
    "ind[1] = 0 # Index 객체와 NumPy 배열의 한 가지 차이점 : Index 객체는 일반적인 방법으로는 변경 불가, 불변의 값\n",
    "# 불변성 : 예기치 않은 인덱스 변경으로 인한 부작용 없이 여러 DataFrame과 배열 사이에서 인덱스를 더 안전하게 공유 가능"
   ]
  },
  {
   "cell_type": "markdown",
   "id": "56e61cf0-bf4c-4ead-81fc-a12c651deb68",
   "metadata": {},
   "source": [
    "### Index: 정렬된 집합"
   ]
  },
  {
   "cell_type": "code",
   "execution_count": 114,
   "id": "57465042-e9c0-468a-bbde-bb79399ae8ca",
   "metadata": {},
   "outputs": [],
   "source": [
    "# Pandas 객체는 집합 연산의 여러 측면에 의존하는 데이터세트 간의 조인과 같은 연산을 할 수 있게 하려고 고안\n",
    "# Index 객체는 대체로 파이썬에 내장된 set 데이터 구조에서 사용하는 표기법을 따름\n",
    "# 합집합, 교집합, 차집합을 비롯해 그 밖의 조합들이 익숙한 방식으로 계산"
   ]
  },
  {
   "cell_type": "code",
   "execution_count": 116,
   "id": "13009cb5-df31-4f79-908f-4ea0c4621910",
   "metadata": {},
   "outputs": [],
   "source": [
    "indA = pd.Index([1, 3, 5, 7, 9])\n",
    "indB = pd.Index([2, 3, 5, 7, 11])"
   ]
  },
  {
   "cell_type": "code",
   "execution_count": 119,
   "id": "0b3282ce-fb9d-4d91-b45d-219a83f42ec8",
   "metadata": {},
   "outputs": [
    {
     "data": {
      "text/plain": [
       "(Index([0, 3, 5, 7, 9], dtype='int64'), Index([3, 5, 7], dtype='int64'))"
      ]
     },
     "execution_count": 119,
     "metadata": {},
     "output_type": "execute_result"
    }
   ],
   "source": [
    "indA & indB, indA.intersection(indB) # 교집합"
   ]
  },
  {
   "cell_type": "code",
   "execution_count": 120,
   "id": "285218f8-1ca2-426f-ace8-529307540b2b",
   "metadata": {},
   "outputs": [
    {
     "data": {
      "text/plain": [
       "(Index([3, 3, 5, 7, 11], dtype='int64'), Index([1, 9], dtype='int64'))"
      ]
     },
     "execution_count": 120,
     "metadata": {},
     "output_type": "execute_result"
    }
   ],
   "source": [
    "indA | indB, indA.difference(indB) # 합집합"
   ]
  },
  {
   "cell_type": "code",
   "execution_count": 121,
   "id": "fb63ebba-2931-4e38-a471-15f0721536a1",
   "metadata": {},
   "outputs": [
    {
     "data": {
      "text/plain": [
       "Index([3, 0, 0, 0, 2], dtype='int64')"
      ]
     },
     "execution_count": 121,
     "metadata": {},
     "output_type": "execute_result"
    }
   ],
   "source": [
    "indA ^ indB # 대치 차집합(두 집합의 상대 여집합의 합-옮긴이)"
   ]
  },
  {
   "cell_type": "markdown",
   "id": "a03e5e7e-6959-451a-848c-ac174b2c7a7b",
   "metadata": {},
   "source": [
    "## 데이터 인덱싱과 선택"
   ]
  },
  {
   "cell_type": "code",
   "execution_count": 123,
   "id": "d0ea5187-10b7-4a5c-a818-634b4d8b08c2",
   "metadata": {},
   "outputs": [],
   "source": [
    "# 인덱싱(arr[2, 1])과 슬라이싱(arr[:, 1:5]), 마스킹(arr[arr > 0]), 팬시 인덱싱(arr[0, [1, 5]]), 조합(arr[:, [1, 5\n",
    "# Pandas Series와 DataFrame 객체의 값에 접ㄱ느하고 그 값을 수정하는 도구"
   ]
  },
  {
   "cell_type": "markdown",
   "id": "288e19a5-5f94-428b-9f93-712e098f5035",
   "metadata": {},
   "source": [
    "### Series에서 데이터 선택"
   ]
  },
  {
   "cell_type": "code",
   "execution_count": 124,
   "id": "4358a2a9-ad37-4377-9819-7e07cb9ef6b6",
   "metadata": {},
   "outputs": [
    {
     "data": {
      "text/plain": [
       "a    0.25\n",
       "b    0.50\n",
       "c    0.75\n",
       "d    1.00\n",
       "dtype: float64"
      ]
     },
     "execution_count": 124,
     "metadata": {},
     "output_type": "execute_result"
    }
   ],
   "source": [
    "# Series: 딕셔너리 - 딕셔너리와 마찬가지로 키의 집합을 값의 집합에 매핑\n",
    "import pandas as pd\n",
    "data = pd.Series([0.25, 0.5, 0.75, 1.0], index=['a', 'b', 'c', 'd'])\n",
    "data"
   ]
  },
  {
   "cell_type": "code",
   "execution_count": 127,
   "id": "ba9a4fcb-47d8-4970-9335-822b49de7ecb",
   "metadata": {},
   "outputs": [
    {
     "data": {
      "text/plain": [
       "0.5"
      ]
     },
     "execution_count": 127,
     "metadata": {},
     "output_type": "execute_result"
    }
   ],
   "source": [
    "data['b'] # 키/인덱스와 값을 조사하기 위해 딕셔너리와 유사한 파이썬 표현식과 메서드를 사용 가능"
   ]
  },
  {
   "cell_type": "code",
   "execution_count": 128,
   "id": "384d4d43-cbda-43aa-bc03-ca6d84da449b",
   "metadata": {},
   "outputs": [
    {
     "data": {
      "text/plain": [
       "True"
      ]
     },
     "execution_count": 128,
     "metadata": {},
     "output_type": "execute_result"
    }
   ],
   "source": [
    "'a' in data"
   ]
  },
  {
   "cell_type": "code",
   "execution_count": 130,
   "id": "0534ac60-6c6f-4c7d-af2b-86b6ad7695fc",
   "metadata": {},
   "outputs": [
    {
     "data": {
      "text/plain": [
       "Index(['a', 'b', 'c', 'd'], dtype='object')"
      ]
     },
     "execution_count": 130,
     "metadata": {},
     "output_type": "execute_result"
    }
   ],
   "source": [
    "data.keys()"
   ]
  },
  {
   "cell_type": "code",
   "execution_count": 134,
   "id": "03728f59-1792-42c3-a383-7ad69da9c01a",
   "metadata": {},
   "outputs": [
    {
     "data": {
      "text/plain": [
       "array([0.25, 0.5 , 0.75, 1.  ])"
      ]
     },
     "execution_count": 134,
     "metadata": {},
     "output_type": "execute_result"
    }
   ],
   "source": [
    "data.values"
   ]
  },
  {
   "cell_type": "code",
   "execution_count": 131,
   "id": "72b7aac6-c35c-4314-aec4-d337d007e1fc",
   "metadata": {},
   "outputs": [
    {
     "data": {
      "text/plain": [
       "[('a', 0.25), ('b', 0.5), ('c', 0.75), ('d', 1.0)]"
      ]
     },
     "execution_count": 131,
     "metadata": {},
     "output_type": "execute_result"
    }
   ],
   "source": [
    "list(data.items())"
   ]
  },
  {
   "cell_type": "code",
   "execution_count": 132,
   "id": "fe14e095-3b6c-4324-b443-5fffa614d3f4",
   "metadata": {},
   "outputs": [],
   "source": [
    "# Series 객체는 딕셔너리와 유사한 구문을 사용해 수정 가능\n",
    "# 새로운 인덱스 값에 할당함으로써 Series를 확장 가능"
   ]
  },
  {
   "cell_type": "code",
   "execution_count": 146,
   "id": "21ce03aa-f398-49e9-a7e1-67e21a1a8e34",
   "metadata": {},
   "outputs": [
    {
     "data": {
      "text/plain": [
       "a    0.25\n",
       "b    0.50\n",
       "c    0.75\n",
       "d    1.00\n",
       "e    1.25\n",
       "dtype: float64"
      ]
     },
     "execution_count": 146,
     "metadata": {},
     "output_type": "execute_result"
    }
   ],
   "source": [
    "data['e'] = 1.25\n",
    "data"
   ]
  },
  {
   "cell_type": "code",
   "execution_count": null,
   "id": "95c6b429-d67c-4ef9-8f28-6c66d24e38fa",
   "metadata": {},
   "outputs": [],
   "source": [
    "# 객체의 변경이 쉽다는 것은 편리한 특징, 그 내부에서 Pandas가 이 변경에 수반돼야 할 메모리 배치와 데이터 복사에 대한 결정을 수행\n",
    "# 일반적으로 사용자는 이러한 이슈에 대해 걱정할 필요가 없다"
   ]
  },
  {
   "cell_type": "code",
   "execution_count": 135,
   "id": "2aa9b900-9332-4c65-8bfb-e0f048272d45",
   "metadata": {},
   "outputs": [
    {
     "data": {
      "text/plain": [
       "a    False\n",
       "b    False\n",
       "c    False\n",
       "d    False\n",
       "dtype: bool"
      ]
     },
     "execution_count": 135,
     "metadata": {},
     "output_type": "execute_result"
    }
   ],
   "source": [
    "data > 20000"
   ]
  },
  {
   "cell_type": "code",
   "execution_count": 138,
   "id": "b93521fc-c492-4eb0-b75b-f8a85ff0fe58",
   "metadata": {},
   "outputs": [],
   "source": [
    "xxx_mask = data > 20000"
   ]
  },
  {
   "cell_type": "code",
   "execution_count": 141,
   "id": "4cde1308-cb82-4450-a415-da88949747e3",
   "metadata": {},
   "outputs": [
    {
     "data": {
      "text/plain": [
       "Series([], dtype: float64)"
      ]
     },
     "execution_count": 141,
     "metadata": {},
     "output_type": "execute_result"
    }
   ],
   "source": [
    "data[xxx_mask]"
   ]
  },
  {
   "cell_type": "code",
   "execution_count": 143,
   "id": "ede78a31-a0ff-4064-91a4-389007b9cc55",
   "metadata": {},
   "outputs": [],
   "source": [
    "df = pd.read_csv('data/president_heights.csv')"
   ]
  },
  {
   "cell_type": "code",
   "execution_count": 144,
   "id": "cfdf611d-2478-41ed-95ba-269be01f1de9",
   "metadata": {},
   "outputs": [
    {
     "data": {
      "text/plain": [
       "name          George W. Bush\n",
       "height(cm)               182\n",
       "Name: 40, dtype: object"
      ]
     },
     "execution_count": 144,
     "metadata": {},
     "output_type": "execute_result"
    }
   ],
   "source": [
    "df.loc[40, 'name' : 'height']"
   ]
  },
  {
   "cell_type": "code",
   "execution_count": 145,
   "id": "aefc45bf-c9d6-4dfd-8037-8604abb82df0",
   "metadata": {},
   "outputs": [
    {
     "data": {
      "text/plain": [
       "name    George W. Bush\n",
       "Name: 40, dtype: object"
      ]
     },
     "execution_count": 145,
     "metadata": {},
     "output_type": "execute_result"
    }
   ],
   "source": [
    "df.iloc[40, 1:2]"
   ]
  },
  {
   "cell_type": "code",
   "execution_count": 150,
   "id": "ca9fd129-72e7-430e-9fcc-b8f4e2a4ddc4",
   "metadata": {},
   "outputs": [
    {
     "data": {
      "text/html": [
       "<div>\n",
       "<style scoped>\n",
       "    .dataframe tbody tr th:only-of-type {\n",
       "        vertical-align: middle;\n",
       "    }\n",
       "\n",
       "    .dataframe tbody tr th {\n",
       "        vertical-align: top;\n",
       "    }\n",
       "\n",
       "    .dataframe thead th {\n",
       "        text-align: right;\n",
       "    }\n",
       "</style>\n",
       "<table border=\"1\" class=\"dataframe\">\n",
       "  <thead>\n",
       "    <tr style=\"text-align: right;\">\n",
       "      <th></th>\n",
       "      <th>Survived</th>\n",
       "      <th>Pclass</th>\n",
       "      <th>Name</th>\n",
       "      <th>Sex</th>\n",
       "      <th>Age</th>\n",
       "      <th>Siblings/Spouses Aboard</th>\n",
       "      <th>Parents/Children Aboard</th>\n",
       "      <th>Fare</th>\n",
       "    </tr>\n",
       "  </thead>\n",
       "  <tbody>\n",
       "    <tr>\n",
       "      <th>0</th>\n",
       "      <td>0</td>\n",
       "      <td>3</td>\n",
       "      <td>Mr. Owen Harris Braund</td>\n",
       "      <td>male</td>\n",
       "      <td>22.0</td>\n",
       "      <td>1</td>\n",
       "      <td>0</td>\n",
       "      <td>7.2500</td>\n",
       "    </tr>\n",
       "    <tr>\n",
       "      <th>1</th>\n",
       "      <td>1</td>\n",
       "      <td>1</td>\n",
       "      <td>Mrs. John Bradley (Florence Briggs Thayer) Cum...</td>\n",
       "      <td>female</td>\n",
       "      <td>38.0</td>\n",
       "      <td>1</td>\n",
       "      <td>0</td>\n",
       "      <td>71.2833</td>\n",
       "    </tr>\n",
       "    <tr>\n",
       "      <th>2</th>\n",
       "      <td>1</td>\n",
       "      <td>3</td>\n",
       "      <td>Miss. Laina Heikkinen</td>\n",
       "      <td>female</td>\n",
       "      <td>26.0</td>\n",
       "      <td>0</td>\n",
       "      <td>0</td>\n",
       "      <td>7.9250</td>\n",
       "    </tr>\n",
       "    <tr>\n",
       "      <th>3</th>\n",
       "      <td>1</td>\n",
       "      <td>1</td>\n",
       "      <td>Mrs. Jacques Heath (Lily May Peel) Futrelle</td>\n",
       "      <td>female</td>\n",
       "      <td>35.0</td>\n",
       "      <td>1</td>\n",
       "      <td>0</td>\n",
       "      <td>53.1000</td>\n",
       "    </tr>\n",
       "    <tr>\n",
       "      <th>4</th>\n",
       "      <td>0</td>\n",
       "      <td>3</td>\n",
       "      <td>Mr. William Henry Allen</td>\n",
       "      <td>male</td>\n",
       "      <td>35.0</td>\n",
       "      <td>0</td>\n",
       "      <td>0</td>\n",
       "      <td>8.0500</td>\n",
       "    </tr>\n",
       "    <tr>\n",
       "      <th>...</th>\n",
       "      <td>...</td>\n",
       "      <td>...</td>\n",
       "      <td>...</td>\n",
       "      <td>...</td>\n",
       "      <td>...</td>\n",
       "      <td>...</td>\n",
       "      <td>...</td>\n",
       "      <td>...</td>\n",
       "    </tr>\n",
       "    <tr>\n",
       "      <th>882</th>\n",
       "      <td>0</td>\n",
       "      <td>2</td>\n",
       "      <td>Rev. Juozas Montvila</td>\n",
       "      <td>male</td>\n",
       "      <td>27.0</td>\n",
       "      <td>0</td>\n",
       "      <td>0</td>\n",
       "      <td>13.0000</td>\n",
       "    </tr>\n",
       "    <tr>\n",
       "      <th>883</th>\n",
       "      <td>1</td>\n",
       "      <td>1</td>\n",
       "      <td>Miss. Margaret Edith Graham</td>\n",
       "      <td>female</td>\n",
       "      <td>19.0</td>\n",
       "      <td>0</td>\n",
       "      <td>0</td>\n",
       "      <td>30.0000</td>\n",
       "    </tr>\n",
       "    <tr>\n",
       "      <th>884</th>\n",
       "      <td>0</td>\n",
       "      <td>3</td>\n",
       "      <td>Miss. Catherine Helen Johnston</td>\n",
       "      <td>female</td>\n",
       "      <td>7.0</td>\n",
       "      <td>1</td>\n",
       "      <td>2</td>\n",
       "      <td>23.4500</td>\n",
       "    </tr>\n",
       "    <tr>\n",
       "      <th>885</th>\n",
       "      <td>1</td>\n",
       "      <td>1</td>\n",
       "      <td>Mr. Karl Howell Behr</td>\n",
       "      <td>male</td>\n",
       "      <td>26.0</td>\n",
       "      <td>0</td>\n",
       "      <td>0</td>\n",
       "      <td>30.0000</td>\n",
       "    </tr>\n",
       "    <tr>\n",
       "      <th>886</th>\n",
       "      <td>0</td>\n",
       "      <td>3</td>\n",
       "      <td>Mr. Patrick Dooley</td>\n",
       "      <td>male</td>\n",
       "      <td>32.0</td>\n",
       "      <td>0</td>\n",
       "      <td>0</td>\n",
       "      <td>7.7500</td>\n",
       "    </tr>\n",
       "  </tbody>\n",
       "</table>\n",
       "<p>887 rows × 8 columns</p>\n",
       "</div>"
      ],
      "text/plain": [
       "     Survived  Pclass                                               Name  \\\n",
       "0           0       3                             Mr. Owen Harris Braund   \n",
       "1           1       1  Mrs. John Bradley (Florence Briggs Thayer) Cum...   \n",
       "2           1       3                              Miss. Laina Heikkinen   \n",
       "3           1       1        Mrs. Jacques Heath (Lily May Peel) Futrelle   \n",
       "4           0       3                            Mr. William Henry Allen   \n",
       "..        ...     ...                                                ...   \n",
       "882         0       2                               Rev. Juozas Montvila   \n",
       "883         1       1                        Miss. Margaret Edith Graham   \n",
       "884         0       3                     Miss. Catherine Helen Johnston   \n",
       "885         1       1                               Mr. Karl Howell Behr   \n",
       "886         0       3                                 Mr. Patrick Dooley   \n",
       "\n",
       "        Sex   Age  Siblings/Spouses Aboard  Parents/Children Aboard     Fare  \n",
       "0      male  22.0                        1                        0   7.2500  \n",
       "1    female  38.0                        1                        0  71.2833  \n",
       "2    female  26.0                        0                        0   7.9250  \n",
       "3    female  35.0                        1                        0  53.1000  \n",
       "4      male  35.0                        0                        0   8.0500  \n",
       "..      ...   ...                      ...                      ...      ...  \n",
       "882    male  27.0                        0                        0  13.0000  \n",
       "883  female  19.0                        0                        0  30.0000  \n",
       "884  female   7.0                        1                        2  23.4500  \n",
       "885    male  26.0                        0                        0  30.0000  \n",
       "886    male  32.0                        0                        0   7.7500  \n",
       "\n",
       "[887 rows x 8 columns]"
      ]
     },
     "execution_count": 150,
     "metadata": {},
     "output_type": "execute_result"
    }
   ],
   "source": [
    "data = pd.read_csv('data/titanic.csv')\n",
    "data"
   ]
  },
  {
   "cell_type": "code",
   "execution_count": 152,
   "id": "63ce5df4-1f57-4c79-88c0-eba07ffe52a6",
   "metadata": {},
   "outputs": [
    {
     "data": {
      "text/plain": [
       "array([[0, 3, 'Mr. Owen Harris Braund', ..., 1, 0, 7.25],\n",
       "       [1, 1, 'Mrs. John Bradley (Florence Briggs Thayer) Cumings', ...,\n",
       "        1, 0, 71.2833],\n",
       "       [1, 3, 'Miss. Laina Heikkinen', ..., 0, 0, 7.925],\n",
       "       ...,\n",
       "       [0, 3, 'Miss. Catherine Helen Johnston', ..., 1, 2, 23.45],\n",
       "       [1, 1, 'Mr. Karl Howell Behr', ..., 0, 0, 30.0],\n",
       "       [0, 3, 'Mr. Patrick Dooley', ..., 0, 0, 7.75]], dtype=object)"
      ]
     },
     "execution_count": 152,
     "metadata": {},
     "output_type": "execute_result"
    }
   ],
   "source": [
    "data.values"
   ]
  },
  {
   "cell_type": "code",
   "execution_count": 162,
   "id": "d808542b-f755-448e-86cf-31d44af4f8c4",
   "metadata": {},
   "outputs": [],
   "source": [
    "# DataFrame 1\n",
    "pop_dict = {'Cal': 38000000,\n",
    "\n",
    "            'Tex': 2640000,\n",
    "\n",
    "            'NY': 1960000,\n",
    "\n",
    "            'Flo': 1950000,\n",
    "\n",
    "            'Ill': 1280000}\n",
    "\n",
    "pop = pd.Series(pop_dict)"
   ]
  },
  {
   "cell_type": "code",
   "execution_count": 163,
   "id": "14b31c94-2079-4598-bc51-5c8539f95a04",
   "metadata": {},
   "outputs": [
    {
     "data": {
      "text/plain": [
       "(          pop    area\n",
       " Cal  38000000  420000\n",
       " Tex   2640000  690000\n",
       " NY    1960000  141000\n",
       " Flo   1950000  170000\n",
       " Ill   1280000  149000,\n",
       " Index(['pop', 'area'], dtype='object'),\n",
       " 5)"
      ]
     },
     "execution_count": 163,
     "metadata": {},
     "output_type": "execute_result"
    }
   ],
   "source": [
    "area_dict = {'Cal': 420000,\n",
    "\n",
    "            'Tex': 690000,\n",
    "\n",
    "            'NY': 141000,\n",
    "\n",
    "            'Flo': 170000,\n",
    "\n",
    "            'Ill': 149000}\n",
    "\n",
    "area = pd.Series(area_dict)\n",
    "\n",
    "\n",
    "\n",
    "df = pd.DataFrame({'pop' : pop, 'area': area})\n",
    "\n",
    "df.head(), df.columns, len(df)"
   ]
  },
  {
   "cell_type": "code",
   "execution_count": 158,
   "id": "b7d9476b-d128-46fc-b43f-30d0162c7f10",
   "metadata": {},
   "outputs": [
    {
     "data": {
      "text/html": [
       "<div>\n",
       "<style scoped>\n",
       "    .dataframe tbody tr th:only-of-type {\n",
       "        vertical-align: middle;\n",
       "    }\n",
       "\n",
       "    .dataframe tbody tr th {\n",
       "        vertical-align: top;\n",
       "    }\n",
       "\n",
       "    .dataframe thead th {\n",
       "        text-align: right;\n",
       "    }\n",
       "</style>\n",
       "<table border=\"1\" class=\"dataframe\">\n",
       "  <thead>\n",
       "    <tr style=\"text-align: right;\">\n",
       "      <th></th>\n",
       "      <th>order</th>\n",
       "      <th>name</th>\n",
       "      <th>height</th>\n",
       "    </tr>\n",
       "  </thead>\n",
       "  <tbody>\n",
       "    <tr>\n",
       "      <th>0</th>\n",
       "      <td>order</td>\n",
       "      <td>name</td>\n",
       "      <td>height(cm)</td>\n",
       "    </tr>\n",
       "    <tr>\n",
       "      <th>1</th>\n",
       "      <td>1</td>\n",
       "      <td>George Washington</td>\n",
       "      <td>189</td>\n",
       "    </tr>\n",
       "    <tr>\n",
       "      <th>2</th>\n",
       "      <td>2</td>\n",
       "      <td>John Adams</td>\n",
       "      <td>170</td>\n",
       "    </tr>\n",
       "    <tr>\n",
       "      <th>3</th>\n",
       "      <td>3</td>\n",
       "      <td>Thomas Jefferson</td>\n",
       "      <td>189</td>\n",
       "    </tr>\n",
       "    <tr>\n",
       "      <th>4</th>\n",
       "      <td>4</td>\n",
       "      <td>James Madison</td>\n",
       "      <td>163</td>\n",
       "    </tr>\n",
       "  </tbody>\n",
       "</table>\n",
       "</div>"
      ],
      "text/plain": [
       "   order               name      height\n",
       "0  order               name  height(cm)\n",
       "1      1  George Washington         189\n",
       "2      2         John Adams         170\n",
       "3      3   Thomas Jefferson         189\n",
       "4      4      James Madison         163"
      ]
     },
     "execution_count": 158,
     "metadata": {},
     "output_type": "execute_result"
    }
   ],
   "source": [
    "# DataFrame2\n",
    "\n",
    "df = pd.read_csv('data/president_heights.csv', names=['order', 'name', 'height'])\n",
    "\n",
    "df.head()"
   ]
  },
  {
   "cell_type": "code",
   "execution_count": 159,
   "id": "296bd41f-7a0d-4504-9a85-7ccad015f750",
   "metadata": {},
   "outputs": [
    {
     "data": {
      "text/html": [
       "<div>\n",
       "<style scoped>\n",
       "    .dataframe tbody tr th:only-of-type {\n",
       "        vertical-align: middle;\n",
       "    }\n",
       "\n",
       "    .dataframe tbody tr th {\n",
       "        vertical-align: top;\n",
       "    }\n",
       "\n",
       "    .dataframe thead th {\n",
       "        text-align: right;\n",
       "    }\n",
       "</style>\n",
       "<table border=\"1\" class=\"dataframe\">\n",
       "  <thead>\n",
       "    <tr style=\"text-align: right;\">\n",
       "      <th></th>\n",
       "      <th>PassengerId</th>\n",
       "      <th>Survived</th>\n",
       "      <th>Pclass</th>\n",
       "      <th>Name</th>\n",
       "      <th>Sex</th>\n",
       "      <th>Age</th>\n",
       "      <th>SibSp</th>\n",
       "      <th>Parch</th>\n",
       "      <th>Ticket</th>\n",
       "      <th>Fare</th>\n",
       "      <th>Cabin</th>\n",
       "      <th>Embarked</th>\n",
       "    </tr>\n",
       "  </thead>\n",
       "  <tbody>\n",
       "    <tr>\n",
       "      <th>0</th>\n",
       "      <td>1</td>\n",
       "      <td>0</td>\n",
       "      <td>3</td>\n",
       "      <td>Braund, Mr. Owen Harris</td>\n",
       "      <td>male</td>\n",
       "      <td>22.0</td>\n",
       "      <td>1</td>\n",
       "      <td>0</td>\n",
       "      <td>A/5 21171</td>\n",
       "      <td>7.2500</td>\n",
       "      <td>NaN</td>\n",
       "      <td>S</td>\n",
       "    </tr>\n",
       "    <tr>\n",
       "      <th>1</th>\n",
       "      <td>2</td>\n",
       "      <td>1</td>\n",
       "      <td>1</td>\n",
       "      <td>Cumings, Mrs. John Bradley (Florence Briggs Th...</td>\n",
       "      <td>female</td>\n",
       "      <td>38.0</td>\n",
       "      <td>1</td>\n",
       "      <td>0</td>\n",
       "      <td>PC 17599</td>\n",
       "      <td>71.2833</td>\n",
       "      <td>C85</td>\n",
       "      <td>C</td>\n",
       "    </tr>\n",
       "    <tr>\n",
       "      <th>2</th>\n",
       "      <td>3</td>\n",
       "      <td>1</td>\n",
       "      <td>3</td>\n",
       "      <td>Heikkinen, Miss. Laina</td>\n",
       "      <td>female</td>\n",
       "      <td>26.0</td>\n",
       "      <td>0</td>\n",
       "      <td>0</td>\n",
       "      <td>STON/O2. 3101282</td>\n",
       "      <td>7.9250</td>\n",
       "      <td>NaN</td>\n",
       "      <td>S</td>\n",
       "    </tr>\n",
       "    <tr>\n",
       "      <th>3</th>\n",
       "      <td>4</td>\n",
       "      <td>1</td>\n",
       "      <td>1</td>\n",
       "      <td>Futrelle, Mrs. Jacques Heath (Lily May Peel)</td>\n",
       "      <td>female</td>\n",
       "      <td>35.0</td>\n",
       "      <td>1</td>\n",
       "      <td>0</td>\n",
       "      <td>113803</td>\n",
       "      <td>53.1000</td>\n",
       "      <td>C123</td>\n",
       "      <td>S</td>\n",
       "    </tr>\n",
       "    <tr>\n",
       "      <th>4</th>\n",
       "      <td>5</td>\n",
       "      <td>0</td>\n",
       "      <td>3</td>\n",
       "      <td>Allen, Mr. William Henry</td>\n",
       "      <td>male</td>\n",
       "      <td>35.0</td>\n",
       "      <td>0</td>\n",
       "      <td>0</td>\n",
       "      <td>373450</td>\n",
       "      <td>8.0500</td>\n",
       "      <td>NaN</td>\n",
       "      <td>S</td>\n",
       "    </tr>\n",
       "  </tbody>\n",
       "</table>\n",
       "</div>"
      ],
      "text/plain": [
       "   PassengerId  Survived  Pclass  \\\n",
       "0            1         0       3   \n",
       "1            2         1       1   \n",
       "2            3         1       3   \n",
       "3            4         1       1   \n",
       "4            5         0       3   \n",
       "\n",
       "                                                Name     Sex   Age  SibSp  \\\n",
       "0                            Braund, Mr. Owen Harris    male  22.0      1   \n",
       "1  Cumings, Mrs. John Bradley (Florence Briggs Th...  female  38.0      1   \n",
       "2                             Heikkinen, Miss. Laina  female  26.0      0   \n",
       "3       Futrelle, Mrs. Jacques Heath (Lily May Peel)  female  35.0      1   \n",
       "4                           Allen, Mr. William Henry    male  35.0      0   \n",
       "\n",
       "   Parch            Ticket     Fare Cabin Embarked  \n",
       "0      0         A/5 21171   7.2500   NaN        S  \n",
       "1      0          PC 17599  71.2833   C85        C  \n",
       "2      0  STON/O2. 3101282   7.9250   NaN        S  \n",
       "3      0            113803  53.1000  C123        S  \n",
       "4      0            373450   8.0500   NaN        S  "
      ]
     },
     "execution_count": 159,
     "metadata": {},
     "output_type": "execute_result"
    }
   ],
   "source": [
    "# DataFrame3\n",
    "\n",
    "titanic_df = pd.read_csv('https://raw.githubusercontent.com/datasciencedojo/datasets/master/titanic.csv')\n",
    "\n",
    "titanic_df.head()"
   ]
  },
  {
   "cell_type": "markdown",
   "id": "84caf586-d2e2-48a2-92d8-5d351fa938f4",
   "metadata": {},
   "source": [
    "## DataFrame에서 데이터 선택"
   ]
  },
  {
   "cell_type": "code",
   "execution_count": 154,
   "id": "ad2cb9b0-a6be-4b7e-805c-fb94d047be37",
   "metadata": {},
   "outputs": [],
   "source": [
    "# DataFrame은 여러 면에서 2차원 배열이나 구조화된 배열과 비슷, 다른 면에서는 동일 인덱스를 공유하는 Series 구조체의 딕셔너리와 비슷\n",
    "# 이런 구조체에서 데이터를 선택하는 법 살펴봄"
   ]
  },
  {
   "cell_type": "code",
   "execution_count": 155,
   "id": "3b6c7076-3ce3-47c9-a489-1cbb210ace22",
   "metadata": {},
   "outputs": [],
   "source": [
    "# DataFrame: 딕셔너리\n",
    "# DataFrame이 관련 Series 객체의 딕셔너리라는 것, 미국 주의 면적과 인구 예제"
   ]
  },
  {
   "cell_type": "code",
   "execution_count": 165,
   "id": "72e11ee1-b201-4d37-9e12-7ee3067e1574",
   "metadata": {},
   "outputs": [
    {
     "data": {
      "text/plain": [
       "Cal    420000\n",
       "Tex    690000\n",
       "NY     141000\n",
       "Flo    170000\n",
       "Ill    149000\n",
       "Name: area, dtype: int64"
      ]
     },
     "execution_count": 165,
     "metadata": {},
     "output_type": "execute_result"
    }
   ],
   "source": [
    "# DataFrame의 열을 이루는 각 Serise는 열 이름으로 된 딕셔너리 스타일의 인덱싱을 통해 접근 가능\n",
    "df['area']"
   ]
  },
  {
   "cell_type": "code",
   "execution_count": 166,
   "id": "bc7b83ed-3540-46ef-ad65-4125abe1413a",
   "metadata": {},
   "outputs": [
    {
     "data": {
      "text/plain": [
       "Cal    420000\n",
       "Tex    690000\n",
       "NY     141000\n",
       "Flo    170000\n",
       "Ill    149000\n",
       "Name: area, dtype: int64"
      ]
     },
     "execution_count": 166,
     "metadata": {},
     "output_type": "execute_result"
    }
   ],
   "source": [
    "df.area"
   ]
  },
  {
   "cell_type": "code",
   "execution_count": 167,
   "id": "4e26f908-34fe-49a7-9a7d-5224c85b66c7",
   "metadata": {},
   "outputs": [],
   "source": [
    "# 열 이름이 문자열이 아니거나 DataFrame의 메서드와 충돌할 때는 이 속성 스타일로 접근x\n",
    "# DataFrame은 pop() 메서드를 가지고 있음, df.pop은 'pop' 열이 아니라 그 메서드를 가리킴"
   ]
  },
  {
   "cell_type": "code",
   "execution_count": 168,
   "id": "26cf39f2-707a-48c5-92f2-c1c0d2c4ff57",
   "metadata": {},
   "outputs": [
    {
     "data": {
      "text/plain": [
       "False"
      ]
     },
     "execution_count": 168,
     "metadata": {},
     "output_type": "execute_result"
    }
   ],
   "source": [
    "df.pop is df['pop']"
   ]
  },
  {
   "cell_type": "code",
   "execution_count": 169,
   "id": "d51b7ea4-9538-4209-b780-281822aee658",
   "metadata": {},
   "outputs": [],
   "source": [
    "# 속성을 통해 열을 할당 x (즉, data.pop = z가 아니라 data['pop'] = z를 사용)"
   ]
  },
  {
   "cell_type": "code",
   "execution_count": 171,
   "id": "befd0655-17aa-4ab2-b511-f96c201819fd",
   "metadata": {},
   "outputs": [
    {
     "data": {
      "text/html": [
       "<div>\n",
       "<style scoped>\n",
       "    .dataframe tbody tr th:only-of-type {\n",
       "        vertical-align: middle;\n",
       "    }\n",
       "\n",
       "    .dataframe tbody tr th {\n",
       "        vertical-align: top;\n",
       "    }\n",
       "\n",
       "    .dataframe thead th {\n",
       "        text-align: right;\n",
       "    }\n",
       "</style>\n",
       "<table border=\"1\" class=\"dataframe\">\n",
       "  <thead>\n",
       "    <tr style=\"text-align: right;\">\n",
       "      <th></th>\n",
       "      <th>pop</th>\n",
       "      <th>area</th>\n",
       "      <th>density</th>\n",
       "    </tr>\n",
       "  </thead>\n",
       "  <tbody>\n",
       "    <tr>\n",
       "      <th>Cal</th>\n",
       "      <td>38000000</td>\n",
       "      <td>420000</td>\n",
       "      <td>90.476190</td>\n",
       "    </tr>\n",
       "    <tr>\n",
       "      <th>Tex</th>\n",
       "      <td>2640000</td>\n",
       "      <td>690000</td>\n",
       "      <td>3.826087</td>\n",
       "    </tr>\n",
       "    <tr>\n",
       "      <th>NY</th>\n",
       "      <td>1960000</td>\n",
       "      <td>141000</td>\n",
       "      <td>13.900709</td>\n",
       "    </tr>\n",
       "    <tr>\n",
       "      <th>Flo</th>\n",
       "      <td>1950000</td>\n",
       "      <td>170000</td>\n",
       "      <td>11.470588</td>\n",
       "    </tr>\n",
       "    <tr>\n",
       "      <th>Ill</th>\n",
       "      <td>1280000</td>\n",
       "      <td>149000</td>\n",
       "      <td>8.590604</td>\n",
       "    </tr>\n",
       "  </tbody>\n",
       "</table>\n",
       "</div>"
      ],
      "text/plain": [
       "          pop    area    density\n",
       "Cal  38000000  420000  90.476190\n",
       "Tex   2640000  690000   3.826087\n",
       "NY    1960000  141000  13.900709\n",
       "Flo   1950000  170000  11.470588\n",
       "Ill   1280000  149000   8.590604"
      ]
     },
     "execution_count": 171,
     "metadata": {},
     "output_type": "execute_result"
    }
   ],
   "source": [
    "df['density'] = df['pop'] / df['area'] # Series 객체와 마찬가지로 이 딕셔너리 형태의 구문은 객체를 변경할 때도 사용 가능\n",
    "df                                     # Series 객체 간에 요소 단위로 산술 연산을 하는 간단한 구문"
   ]
  },
  {
   "cell_type": "code",
   "execution_count": 176,
   "id": "5873686d-3cbe-41e9-86cd-6ab5a62fd3cf",
   "metadata": {},
   "outputs": [
    {
     "data": {
      "text/plain": [
       "(Cal    90.476190\n",
       " Tex     3.826087\n",
       " NY     13.900709\n",
       " Flo    11.470588\n",
       " Ill     8.590604\n",
       " Name: density, dtype: float64,\n",
       " pandas.core.series.Series)"
      ]
     },
     "execution_count": 176,
     "metadata": {},
     "output_type": "execute_result"
    }
   ],
   "source": [
    "df.density, type(df.density)"
   ]
  },
  {
   "cell_type": "code",
   "execution_count": 172,
   "id": "e88ac400-82b9-46d8-bcb6-42aaa7ed4ea9",
   "metadata": {},
   "outputs": [
    {
     "data": {
      "text/html": [
       "<div>\n",
       "<style scoped>\n",
       "    .dataframe tbody tr th:only-of-type {\n",
       "        vertical-align: middle;\n",
       "    }\n",
       "\n",
       "    .dataframe tbody tr th {\n",
       "        vertical-align: top;\n",
       "    }\n",
       "\n",
       "    .dataframe thead th {\n",
       "        text-align: right;\n",
       "    }\n",
       "</style>\n",
       "<table border=\"1\" class=\"dataframe\">\n",
       "  <thead>\n",
       "    <tr style=\"text-align: right;\">\n",
       "      <th></th>\n",
       "      <th>pop</th>\n",
       "      <th>area</th>\n",
       "      <th>density</th>\n",
       "    </tr>\n",
       "  </thead>\n",
       "  <tbody>\n",
       "    <tr>\n",
       "      <th>Cal</th>\n",
       "      <td>38000000</td>\n",
       "      <td>420000</td>\n",
       "      <td>90.476190</td>\n",
       "    </tr>\n",
       "    <tr>\n",
       "      <th>Tex</th>\n",
       "      <td>2640000</td>\n",
       "      <td>690000</td>\n",
       "      <td>3.826087</td>\n",
       "    </tr>\n",
       "    <tr>\n",
       "      <th>NY</th>\n",
       "      <td>1960000</td>\n",
       "      <td>141000</td>\n",
       "      <td>13.900709</td>\n",
       "    </tr>\n",
       "    <tr>\n",
       "      <th>Flo</th>\n",
       "      <td>1950000</td>\n",
       "      <td>170000</td>\n",
       "      <td>11.470588</td>\n",
       "    </tr>\n",
       "    <tr>\n",
       "      <th>Ill</th>\n",
       "      <td>1280000</td>\n",
       "      <td>149000</td>\n",
       "      <td>8.590604</td>\n",
       "    </tr>\n",
       "  </tbody>\n",
       "</table>\n",
       "</div>"
      ],
      "text/plain": [
       "          pop    area    density\n",
       "Cal  38000000  420000  90.476190\n",
       "Tex   2640000  690000   3.826087\n",
       "NY    1960000  141000  13.900709\n",
       "Flo   1950000  170000  11.470588\n",
       "Ill   1280000  149000   8.590604"
      ]
     },
     "execution_count": 172,
     "metadata": {},
     "output_type": "execute_result"
    }
   ],
   "source": [
    "df.head()"
   ]
  },
  {
   "cell_type": "markdown",
   "id": "a04901d1-52b7-4849-a8b9-08d2bf14928f",
   "metadata": {},
   "source": [
    "### DataFrame: 2차원 배열"
   ]
  },
  {
   "cell_type": "code",
   "execution_count": 178,
   "id": "2704af51-1c37-4ae2-8106-59f4149778d1",
   "metadata": {},
   "outputs": [
    {
     "data": {
      "text/plain": [
       "array([[3.80000000e+07, 4.20000000e+05, 9.04761905e+01],\n",
       "       [2.64000000e+06, 6.90000000e+05, 3.82608696e+00],\n",
       "       [1.96000000e+06, 1.41000000e+05, 1.39007092e+01],\n",
       "       [1.95000000e+06, 1.70000000e+05, 1.14705882e+01],\n",
       "       [1.28000000e+06, 1.49000000e+05, 8.59060403e+00]])"
      ]
     },
     "execution_count": 178,
     "metadata": {},
     "output_type": "execute_result"
    }
   ],
   "source": [
    "df.values"
   ]
  },
  {
   "cell_type": "code",
   "execution_count": 179,
   "id": "14016ff7-3b53-43f1-bf43-56ca21f61b92",
   "metadata": {},
   "outputs": [
    {
     "data": {
      "text/plain": [
       "(numpy.ndarray, (5, 3), (3, 5))"
      ]
     },
     "execution_count": 179,
     "metadata": {},
     "output_type": "execute_result"
    }
   ],
   "source": [
    "df_np = df.values\n",
    "type(df.values), df_np.shape, df_np.T.shape # col 과 row의 뒤 바뀜"
   ]
  },
  {
   "cell_type": "code",
   "execution_count": 180,
   "id": "e346ff34-6546-4c2a-a81d-c16900bc1d5d",
   "metadata": {},
   "outputs": [
    {
     "data": {
      "text/plain": [
       "array([[3.80000000e+07, 2.64000000e+06, 1.96000000e+06, 1.95000000e+06,\n",
       "        1.28000000e+06],\n",
       "       [4.20000000e+05, 6.90000000e+05, 1.41000000e+05, 1.70000000e+05,\n",
       "        1.49000000e+05],\n",
       "       [9.04761905e+01, 3.82608696e+00, 1.39007092e+01, 1.14705882e+01,\n",
       "        8.59060403e+00]])"
      ]
     },
     "execution_count": 180,
     "metadata": {},
     "output_type": "execute_result"
    }
   ],
   "source": [
    "df_np.T"
   ]
  },
  {
   "cell_type": "code",
   "execution_count": 184,
   "id": "345a723d-587c-4ac6-b5e8-f89991282c3f",
   "metadata": {},
   "outputs": [
    {
     "data": {
      "text/plain": [
       "array([[4.20000000e+05, 9.04761905e+01],\n",
       "       [6.90000000e+05, 3.82608696e+00],\n",
       "       [1.41000000e+05, 1.39007092e+01]])"
      ]
     },
     "execution_count": 184,
     "metadata": {},
     "output_type": "execute_result"
    }
   ],
   "source": [
    "df.values[0:3, 1:3]"
   ]
  },
  {
   "cell_type": "code",
   "execution_count": 182,
   "id": "0b79a615-c577-4970-b9aa-b29fd02773de",
   "metadata": {},
   "outputs": [
    {
     "data": {
      "text/plain": [
       "Cal    420000\n",
       "Tex    690000\n",
       "NY     141000\n",
       "Flo    170000\n",
       "Ill    149000\n",
       "Name: area, dtype: int64"
      ]
     },
     "execution_count": 182,
     "metadata": {},
     "output_type": "execute_result"
    }
   ],
   "source": [
    "df['area']"
   ]
  },
  {
   "cell_type": "code",
   "execution_count": 194,
   "id": "15161b66-bda2-4ee9-9f56-30637e449de5",
   "metadata": {},
   "outputs": [
    {
     "data": {
      "text/html": [
       "<div>\n",
       "<style scoped>\n",
       "    .dataframe tbody tr th:only-of-type {\n",
       "        vertical-align: middle;\n",
       "    }\n",
       "\n",
       "    .dataframe tbody tr th {\n",
       "        vertical-align: top;\n",
       "    }\n",
       "\n",
       "    .dataframe thead th {\n",
       "        text-align: right;\n",
       "    }\n",
       "</style>\n",
       "<table border=\"1\" class=\"dataframe\">\n",
       "  <thead>\n",
       "    <tr style=\"text-align: right;\">\n",
       "      <th></th>\n",
       "      <th>pop</th>\n",
       "      <th>area</th>\n",
       "      <th>density</th>\n",
       "    </tr>\n",
       "  </thead>\n",
       "  <tbody>\n",
       "    <tr>\n",
       "      <th>Cal</th>\n",
       "      <td>38000000</td>\n",
       "      <td>420000</td>\n",
       "      <td>90.476190</td>\n",
       "    </tr>\n",
       "    <tr>\n",
       "      <th>Tex</th>\n",
       "      <td>2640000</td>\n",
       "      <td>690000</td>\n",
       "      <td>3.826087</td>\n",
       "    </tr>\n",
       "  </tbody>\n",
       "</table>\n",
       "</div>"
      ],
      "text/plain": [
       "          pop    area    density\n",
       "Cal  38000000  420000  90.476190\n",
       "Tex   2640000  690000   3.826087"
      ]
     },
     "execution_count": 194,
     "metadata": {},
     "output_type": "execute_result"
    }
   ],
   "source": [
    "df.loc[df.area > 200000] # 리턴 타입 : DataFrame"
   ]
  },
  {
   "cell_type": "code",
   "execution_count": 191,
   "id": "e257e166-06c0-4ad4-bbb8-8ed30720db99",
   "metadata": {},
   "outputs": [
    {
     "data": {
      "text/plain": [
       "(          pop    area\n",
       " Cal  38000000  420000\n",
       " Tex   2640000  690000\n",
       " NY    1960000  141000,\n",
       " pandas.core.indexing._iLocIndexer)"
      ]
     },
     "execution_count": 191,
     "metadata": {},
     "output_type": "execute_result"
    }
   ],
   "source": [
    "df.iloc[:3, :2], type(df.iloc)"
   ]
  },
  {
   "cell_type": "code",
   "execution_count": 193,
   "id": "012fd5eb-fc20-4c31-bcc6-88f96caf3343",
   "metadata": {},
   "outputs": [
    {
     "data": {
      "text/plain": [
       "Cal    False\n",
       "Tex    False\n",
       "NY      True\n",
       "Flo     True\n",
       "Ill     True\n",
       "Name: area, dtype: bool"
      ]
     },
     "execution_count": 193,
     "metadata": {},
     "output_type": "execute_result"
    }
   ],
   "source": [
    "(df.area > 10000) & (df.area < 200000)"
   ]
  },
  {
   "cell_type": "markdown",
   "id": "5ede4fd6-0415-4e85-a34a-90e438562b82",
   "metadata": {},
   "source": [
    "## Pandas에서 데이터 연산하기"
   ]
  },
  {
   "cell_type": "code",
   "execution_count": 196,
   "id": "4aabe15b-a835-4f98-90d5-149c992d9080",
   "metadata": {},
   "outputs": [],
   "source": [
    "# NumPy의 기본 중 하나는 기본 산술 연산(덧셈, 뺄셈, 곱셈 등)과 복잡한 연산(삼각함수, 지수와 로드함수 등) 모두에서 요소 단위의 연산을 빠르게 수행 할 수 있음\n",
    "# Pandas는 NumPy로부터 이 기능의 대부분을 상속\n",
    "# 몇 가지 유요한 특수 기능을 포함\n",
    "# 부정 함수와 삼각함수 같은 단항 연산의 경우에는 이 유니버셜 함수가 결과물에 인덱스와 열 레이블을 보존\n",
    "# 덧셈과 곱셈 같은 이항 연산의 경우 Pandas가 유니버셜 함수에 객체를 전달할 때 자동으로 인덱스를 정렬\n",
    "# Pandas를 이용하면 데이터의 맥락을 유지, 다른 소스에서 가져온 데이터를 결합하는 작업(둘 다 원시 NumPy 배열로는 오류가 발생하기 쉬운 작업)을 근본적으로 실패할 일이 없다\n",
    "# 1차원 Series 구조체와 2차원 DataFrame 구조체 사이에 잘 정의된 연산 확인"
   ]
  },
  {
   "cell_type": "markdown",
   "id": "af8a2d65-e8c2-42b0-a5f0-1a3002776757",
   "metadata": {},
   "source": [
    "## 유니버설 함수: 인덱스 보존"
   ]
  },
  {
   "cell_type": "code",
   "execution_count": 197,
   "id": "4cf4faa1-5966-4e06-be0b-8d68841c3b43",
   "metadata": {},
   "outputs": [],
   "source": [
    "# Pandas는 NumPy와 함께 작업하도록 설계됐기 때문에 NumPy의 유니버설 함수가 Pandas Series와 DataFrame 객체에 동작"
   ]
  },
  {
   "cell_type": "code",
   "execution_count": 201,
   "id": "6ccfa949-869b-4aec-a3ed-57bd398bc240",
   "metadata": {},
   "outputs": [
    {
     "data": {
      "text/plain": [
       "0    6\n",
       "1    3\n",
       "2    7\n",
       "3    4\n",
       "dtype: int32"
      ]
     },
     "execution_count": 201,
     "metadata": {},
     "output_type": "execute_result"
    }
   ],
   "source": [
    "import pandas as pd\n",
    "import numpy as np\n",
    "rng = np.random.RandomState(42)\n",
    "ser = pd.Series(rng.randint(0, 10, 4))\n",
    "ser"
   ]
  },
  {
   "cell_type": "code",
   "execution_count": 202,
   "id": "36ccbe3c-a461-4771-bdb0-d80cc895026e",
   "metadata": {},
   "outputs": [],
   "source": [
    "df = pd.DataFrame(rng.randint(0, 10, (3, 4)), columns=['A', 'B', 'C', 'D'])"
   ]
  },
  {
   "cell_type": "code",
   "execution_count": 203,
   "id": "bbce5094-bea5-4b74-abb1-3cfd143c3b6c",
   "metadata": {},
   "outputs": [
    {
     "data": {
      "text/html": [
       "<div>\n",
       "<style scoped>\n",
       "    .dataframe tbody tr th:only-of-type {\n",
       "        vertical-align: middle;\n",
       "    }\n",
       "\n",
       "    .dataframe tbody tr th {\n",
       "        vertical-align: top;\n",
       "    }\n",
       "\n",
       "    .dataframe thead th {\n",
       "        text-align: right;\n",
       "    }\n",
       "</style>\n",
       "<table border=\"1\" class=\"dataframe\">\n",
       "  <thead>\n",
       "    <tr style=\"text-align: right;\">\n",
       "      <th></th>\n",
       "      <th>A</th>\n",
       "      <th>B</th>\n",
       "      <th>C</th>\n",
       "      <th>D</th>\n",
       "    </tr>\n",
       "  </thead>\n",
       "  <tbody>\n",
       "    <tr>\n",
       "      <th>0</th>\n",
       "      <td>6</td>\n",
       "      <td>9</td>\n",
       "      <td>2</td>\n",
       "      <td>6</td>\n",
       "    </tr>\n",
       "    <tr>\n",
       "      <th>1</th>\n",
       "      <td>7</td>\n",
       "      <td>4</td>\n",
       "      <td>3</td>\n",
       "      <td>7</td>\n",
       "    </tr>\n",
       "    <tr>\n",
       "      <th>2</th>\n",
       "      <td>7</td>\n",
       "      <td>2</td>\n",
       "      <td>5</td>\n",
       "      <td>4</td>\n",
       "    </tr>\n",
       "  </tbody>\n",
       "</table>\n",
       "</div>"
      ],
      "text/plain": [
       "   A  B  C  D\n",
       "0  6  9  2  6\n",
       "1  7  4  3  7\n",
       "2  7  2  5  4"
      ]
     },
     "execution_count": 203,
     "metadata": {},
     "output_type": "execute_result"
    }
   ],
   "source": [
    "df"
   ]
  },
  {
   "cell_type": "code",
   "execution_count": 204,
   "id": "c8a27ff0-96a2-4180-9063-c1d626b93edd",
   "metadata": {},
   "outputs": [
    {
     "data": {
      "text/plain": [
       "0     403.428793\n",
       "1      20.085537\n",
       "2    1096.633158\n",
       "3      54.598150\n",
       "dtype: float64"
      ]
     },
     "execution_count": 204,
     "metadata": {},
     "output_type": "execute_result"
    }
   ],
   "source": [
    "np.exp(ser) # NumPy 유니버설 함수를 이 객체 중 하나에 적용하면 그 결과는 인덱스가 그대로 보존된 다른 Pandas객체가 될 것"
   ]
  },
  {
   "cell_type": "code",
   "execution_count": 205,
   "id": "acaa2932-bf88-44cc-a28f-fda4302219c4",
   "metadata": {},
   "outputs": [
    {
     "data": {
      "text/html": [
       "<div>\n",
       "<style scoped>\n",
       "    .dataframe tbody tr th:only-of-type {\n",
       "        vertical-align: middle;\n",
       "    }\n",
       "\n",
       "    .dataframe tbody tr th {\n",
       "        vertical-align: top;\n",
       "    }\n",
       "\n",
       "    .dataframe thead th {\n",
       "        text-align: right;\n",
       "    }\n",
       "</style>\n",
       "<table border=\"1\" class=\"dataframe\">\n",
       "  <thead>\n",
       "    <tr style=\"text-align: right;\">\n",
       "      <th></th>\n",
       "      <th>A</th>\n",
       "      <th>B</th>\n",
       "      <th>C</th>\n",
       "      <th>D</th>\n",
       "    </tr>\n",
       "  </thead>\n",
       "  <tbody>\n",
       "    <tr>\n",
       "      <th>0</th>\n",
       "      <td>-1.000000</td>\n",
       "      <td>7.071068e-01</td>\n",
       "      <td>1.000000</td>\n",
       "      <td>-1.000000e+00</td>\n",
       "    </tr>\n",
       "    <tr>\n",
       "      <th>1</th>\n",
       "      <td>-0.707107</td>\n",
       "      <td>1.224647e-16</td>\n",
       "      <td>0.707107</td>\n",
       "      <td>-7.071068e-01</td>\n",
       "    </tr>\n",
       "    <tr>\n",
       "      <th>2</th>\n",
       "      <td>-0.707107</td>\n",
       "      <td>1.000000e+00</td>\n",
       "      <td>-0.707107</td>\n",
       "      <td>1.224647e-16</td>\n",
       "    </tr>\n",
       "  </tbody>\n",
       "</table>\n",
       "</div>"
      ],
      "text/plain": [
       "          A             B         C             D\n",
       "0 -1.000000  7.071068e-01  1.000000 -1.000000e+00\n",
       "1 -0.707107  1.224647e-16  0.707107 -7.071068e-01\n",
       "2 -0.707107  1.000000e+00 -0.707107  1.224647e-16"
      ]
     },
     "execution_count": 205,
     "metadata": {},
     "output_type": "execute_result"
    }
   ],
   "source": [
    "np.sin(df * np.pi / 4)"
   ]
  },
  {
   "cell_type": "markdown",
   "id": "43c420c8-f9f0-4003-9db1-13111a84fdbd",
   "metadata": {},
   "source": [
    "## 유니버설함수: 인덱스 정렬"
   ]
  },
  {
   "cell_type": "code",
   "execution_count": 206,
   "id": "17789a4e-c3c1-4f5c-8d62-552d98342c85",
   "metadata": {},
   "outputs": [],
   "source": [
    "# 두 개의 Series 또는 DataFrame 객체에 이항 연산을 적용하는 경우, Pandas는 연산을 수행하는 과정에서 인덱스를 정렬\n",
    "# 불완전한 데이터로 작업할 때 매우 편리"
   ]
  },
  {
   "cell_type": "markdown",
   "id": "3751dfa9-9427-44c2-ad5d-171e165bf5f3",
   "metadata": {},
   "source": [
    "### Series에서 인덱스 정렬"
   ]
  },
  {
   "cell_type": "code",
   "execution_count": 207,
   "id": "39c5bd8c-867d-4a8b-8595-8c83a5b3d923",
   "metadata": {},
   "outputs": [],
   "source": [
    "# 두 개의 다른 데이터 소스를 결합, 미국 주에서 면적 기준 상위 세 개의 주와 인구 기준 상위 세 개의 주를 찾는다고 가정"
   ]
  },
  {
   "cell_type": "code",
   "execution_count": 208,
   "id": "9027185a-c389-4bc0-bfa0-5554b50fb294",
   "metadata": {},
   "outputs": [],
   "source": [
    "area = pd.Series({'Alaska' : 1723337,\n",
    "                  'Texas' : 695662,\n",
    "                  'California' : 423967}, name='area')\n",
    "population = pd.Series({'California' : 38332521,\n",
    "                        'Texas' : 26448193,\n",
    "                        'New York' : 19651127}, name='population')"
   ]
  },
  {
   "cell_type": "code",
   "execution_count": 212,
   "id": "3546c6f1-6081-41a6-b0f3-157746d3dec7",
   "metadata": {},
   "outputs": [
    {
     "data": {
      "text/plain": [
       "Alaska              NaN\n",
       "California    90.413926\n",
       "New York            NaN\n",
       "Texas         38.018740\n",
       "dtype: float64"
      ]
     },
     "execution_count": 212,
     "metadata": {},
     "output_type": "execute_result"
    }
   ],
   "source": [
    "population / area # 결과 : 두 입력 배열의 인덱스의 합집합을 담고 있음, 이 인덱스에 표준 파이썬 집합 연산을 사용해 결정\n",
    "                  # 둘 중 하나라도 값이 없는 항목 : Pandas가 누락된 데이터를 표시하는 방식에 따라 NaN, 즉, '숫자가 아님' 표시\n",
    "                  # 이 인덱스 매칭은 파이썬에 내장된 산술 표현식에 대해서도 같은 방식으로 구현"
   ]
  },
  {
   "cell_type": "code",
   "execution_count": 213,
   "id": "351d1d46-65e3-4913-9a1a-2edab153b57d",
   "metadata": {},
   "outputs": [
    {
     "data": {
      "text/plain": [
       "0    NaN\n",
       "1    5.0\n",
       "2    9.0\n",
       "3    NaN\n",
       "dtype: float64"
      ]
     },
     "execution_count": 213,
     "metadata": {},
     "output_type": "execute_result"
    }
   ],
   "source": [
    "A = pd.Series([2, 4, 6], index=[0, 1, 2])\n",
    "B = pd.Series([1, 3, 5], index=[1, 2, 3])\n",
    "A + B"
   ]
  },
  {
   "cell_type": "code",
   "execution_count": 216,
   "id": "d2a851d1-6570-4965-99e5-bc36390cbffd",
   "metadata": {},
   "outputs": [],
   "source": [
    "# 연산자 대신에 적절한 객체 메서드를 사용해 채우기 값을 수정 가능\n",
    "# A.add(B)를 호출하면 A + B를 호출하는 것과 같지만, A나 B에서 누락된 요소의 채우기 값을 선택해 명시적으로 지정 가능"
   ]
  },
  {
   "cell_type": "code",
   "execution_count": 217,
   "id": "9455f91d-59fa-4795-8cb1-969c5eae2c97",
   "metadata": {},
   "outputs": [
    {
     "data": {
      "text/plain": [
       "0    2.0\n",
       "1    5.0\n",
       "2    9.0\n",
       "3    5.0\n",
       "dtype: float64"
      ]
     },
     "execution_count": 217,
     "metadata": {},
     "output_type": "execute_result"
    }
   ],
   "source": [
    "A.add(B, fill_value=0)"
   ]
  },
  {
   "cell_type": "markdown",
   "id": "dd3bf92d-f178-464d-af28-817bc7ae530f",
   "metadata": {},
   "source": [
    "### DataFrame에서 인덱스 정렬"
   ]
  },
  {
   "cell_type": "code",
   "execution_count": 220,
   "id": "3cc01d55-5337-4fb8-bfd0-2edf79d2a09e",
   "metadata": {},
   "outputs": [],
   "source": [
    "# DataFrame에서 연산을 수행할 때 열과 인덱스 모두에서 비슷한 유형의 정렬이 발생"
   ]
  },
  {
   "cell_type": "code",
   "execution_count": 225,
   "id": "347dcdb2-664d-47fa-b26f-6f474ee02423",
   "metadata": {},
   "outputs": [
    {
     "data": {
      "text/html": [
       "<div>\n",
       "<style scoped>\n",
       "    .dataframe tbody tr th:only-of-type {\n",
       "        vertical-align: middle;\n",
       "    }\n",
       "\n",
       "    .dataframe tbody tr th {\n",
       "        vertical-align: top;\n",
       "    }\n",
       "\n",
       "    .dataframe thead th {\n",
       "        text-align: right;\n",
       "    }\n",
       "</style>\n",
       "<table border=\"1\" class=\"dataframe\">\n",
       "  <thead>\n",
       "    <tr style=\"text-align: right;\">\n",
       "      <th></th>\n",
       "      <th>A</th>\n",
       "      <th>B</th>\n",
       "    </tr>\n",
       "  </thead>\n",
       "  <tbody>\n",
       "    <tr>\n",
       "      <th>0</th>\n",
       "      <td>5</td>\n",
       "      <td>9</td>\n",
       "    </tr>\n",
       "    <tr>\n",
       "      <th>1</th>\n",
       "      <td>3</td>\n",
       "      <td>17</td>\n",
       "    </tr>\n",
       "  </tbody>\n",
       "</table>\n",
       "</div>"
      ],
      "text/plain": [
       "   A   B\n",
       "0  5   9\n",
       "1  3  17"
      ]
     },
     "execution_count": 225,
     "metadata": {},
     "output_type": "execute_result"
    }
   ],
   "source": [
    "A = pd.DataFrame(rng.randint(0, 20, (2, 2)), columns=list('AB'))\n",
    "A"
   ]
  },
  {
   "cell_type": "code",
   "execution_count": 226,
   "id": "4e630102-bba4-4e38-b280-e2828398dfc2",
   "metadata": {},
   "outputs": [
    {
     "data": {
      "text/html": [
       "<div>\n",
       "<style scoped>\n",
       "    .dataframe tbody tr th:only-of-type {\n",
       "        vertical-align: middle;\n",
       "    }\n",
       "\n",
       "    .dataframe tbody tr th {\n",
       "        vertical-align: top;\n",
       "    }\n",
       "\n",
       "    .dataframe thead th {\n",
       "        text-align: right;\n",
       "    }\n",
       "</style>\n",
       "<table border=\"1\" class=\"dataframe\">\n",
       "  <thead>\n",
       "    <tr style=\"text-align: right;\">\n",
       "      <th></th>\n",
       "      <th>B</th>\n",
       "      <th>A</th>\n",
       "      <th>C</th>\n",
       "    </tr>\n",
       "  </thead>\n",
       "  <tbody>\n",
       "    <tr>\n",
       "      <th>0</th>\n",
       "      <td>9</td>\n",
       "      <td>1</td>\n",
       "      <td>9</td>\n",
       "    </tr>\n",
       "    <tr>\n",
       "      <th>1</th>\n",
       "      <td>3</td>\n",
       "      <td>7</td>\n",
       "      <td>6</td>\n",
       "    </tr>\n",
       "    <tr>\n",
       "      <th>2</th>\n",
       "      <td>8</td>\n",
       "      <td>7</td>\n",
       "      <td>4</td>\n",
       "    </tr>\n",
       "  </tbody>\n",
       "</table>\n",
       "</div>"
      ],
      "text/plain": [
       "   B  A  C\n",
       "0  9  1  9\n",
       "1  3  7  6\n",
       "2  8  7  4"
      ]
     },
     "execution_count": 226,
     "metadata": {},
     "output_type": "execute_result"
    }
   ],
   "source": [
    "B = pd.DataFrame(rng.randint(0, 10, (3, 3)), columns=list('BAC'))\n",
    "B"
   ]
  },
  {
   "cell_type": "code",
   "execution_count": 227,
   "id": "2384cc8c-5315-4fd3-adf2-895d34bb1bbb",
   "metadata": {},
   "outputs": [
    {
     "data": {
      "text/html": [
       "<div>\n",
       "<style scoped>\n",
       "    .dataframe tbody tr th:only-of-type {\n",
       "        vertical-align: middle;\n",
       "    }\n",
       "\n",
       "    .dataframe tbody tr th {\n",
       "        vertical-align: top;\n",
       "    }\n",
       "\n",
       "    .dataframe thead th {\n",
       "        text-align: right;\n",
       "    }\n",
       "</style>\n",
       "<table border=\"1\" class=\"dataframe\">\n",
       "  <thead>\n",
       "    <tr style=\"text-align: right;\">\n",
       "      <th></th>\n",
       "      <th>A</th>\n",
       "      <th>B</th>\n",
       "      <th>C</th>\n",
       "    </tr>\n",
       "  </thead>\n",
       "  <tbody>\n",
       "    <tr>\n",
       "      <th>0</th>\n",
       "      <td>6.0</td>\n",
       "      <td>18.0</td>\n",
       "      <td>NaN</td>\n",
       "    </tr>\n",
       "    <tr>\n",
       "      <th>1</th>\n",
       "      <td>10.0</td>\n",
       "      <td>20.0</td>\n",
       "      <td>NaN</td>\n",
       "    </tr>\n",
       "    <tr>\n",
       "      <th>2</th>\n",
       "      <td>NaN</td>\n",
       "      <td>NaN</td>\n",
       "      <td>NaN</td>\n",
       "    </tr>\n",
       "  </tbody>\n",
       "</table>\n",
       "</div>"
      ],
      "text/plain": [
       "      A     B   C\n",
       "0   6.0  18.0 NaN\n",
       "1  10.0  20.0 NaN\n",
       "2   NaN   NaN NaN"
      ]
     },
     "execution_count": 227,
     "metadata": {},
     "output_type": "execute_result"
    }
   ],
   "source": [
    "A + B"
   ]
  },
  {
   "cell_type": "code",
   "execution_count": 228,
   "id": "514c6f94-9b61-497e-975e-7fb0bd2014b9",
   "metadata": {},
   "outputs": [
    {
     "data": {
      "text/html": [
       "<div>\n",
       "<style scoped>\n",
       "    .dataframe tbody tr th:only-of-type {\n",
       "        vertical-align: middle;\n",
       "    }\n",
       "\n",
       "    .dataframe tbody tr th {\n",
       "        vertical-align: top;\n",
       "    }\n",
       "\n",
       "    .dataframe thead th {\n",
       "        text-align: right;\n",
       "    }\n",
       "</style>\n",
       "<table border=\"1\" class=\"dataframe\">\n",
       "  <thead>\n",
       "    <tr style=\"text-align: right;\">\n",
       "      <th></th>\n",
       "      <th>A</th>\n",
       "      <th>B</th>\n",
       "      <th>C</th>\n",
       "    </tr>\n",
       "  </thead>\n",
       "  <tbody>\n",
       "    <tr>\n",
       "      <th>0</th>\n",
       "      <td>6.0</td>\n",
       "      <td>18.0</td>\n",
       "      <td>NaN</td>\n",
       "    </tr>\n",
       "    <tr>\n",
       "      <th>1</th>\n",
       "      <td>10.0</td>\n",
       "      <td>20.0</td>\n",
       "      <td>NaN</td>\n",
       "    </tr>\n",
       "    <tr>\n",
       "      <th>2</th>\n",
       "      <td>NaN</td>\n",
       "      <td>NaN</td>\n",
       "      <td>NaN</td>\n",
       "    </tr>\n",
       "  </tbody>\n",
       "</table>\n",
       "</div>"
      ],
      "text/plain": [
       "      A     B   C\n",
       "0   6.0  18.0 NaN\n",
       "1  10.0  20.0 NaN\n",
       "2   NaN   NaN NaN"
      ]
     },
     "execution_count": 228,
     "metadata": {},
     "output_type": "execute_result"
    }
   ],
   "source": [
    "A.add(B)"
   ]
  },
  {
   "cell_type": "markdown",
   "id": "d3546078-2415-4363-bce4-f5e77ea2e21f",
   "metadata": {},
   "source": [
    "## 누락된 데이터 처리하기"
   ]
  },
  {
   "cell_type": "code",
   "execution_count": 229,
   "id": "5ed77414-bcd0-42bd-9c4f-54b19f2db98c",
   "metadata": {},
   "outputs": [],
   "source": [
    "# 현실 세계의 데이터는 깨끗하거나 형태가 단일한 경우가 드물다는 것, 데이터세트는 데이터가 어느 정도 누락돼 있는 경우가 많음\n",
    "# 데이터 소스가 다르면 전혀 다른 방식으로 데이터가 누락 됐다는 뜻일 수도 있음\n",
    "# 누락 데이터를 처리하는 파이썬의 내장된 Pandas 도구 몇 가지를 설명"
   ]
  },
  {
   "cell_type": "markdown",
   "id": "c684f303-7d49-4b6a-9177-7c71d7970dd1",
   "metadata": {},
   "source": [
    "## Pandas에서 누락된 데이터"
   ]
  },
  {
   "cell_type": "code",
   "execution_count": 231,
   "id": "60847a23-0070-470c-b0c0-cfbf0d93e6f1",
   "metadata": {},
   "outputs": [],
   "source": [
    "# Pandas에서 누락된 값을 처리하는 방식은 Pandas의 기반이 되는 NumPy 패키지가 부동 소수점이 아닌 다른 데이터 타입에는 NA 값 표기법이 기본으로 없다는 사실로 인해 제약을 받음\n",
    "# Pandas가 값없음을 표시하기 위해 각 데이터 타입에 비트 패턴을 지정하는 R의 방식이 다루기가 까다로움 -> R은 4 개의 기본 데이터 타입, NumPy는 많은 데이터 타입\n",
    "# NumPy의 모든 데이터 타입에 대해 특정 비트 패턴을 예약하게 되면 다양한 데이터 타입에 대한 여러가지 연산으로 많은 오버헤드가 발생, 해결하기 위해 새로운 유형의 NumPy 패키지가 필요\n",
    "# 작은 데이터 타입(=8비트 정수)에서 마스크로 사용하기 위해 1비트를 별도로 뺀다면 표현할 수 있는 값의 범위가 상당히 줄어듬\n",
    "# 제약과 장단점 때문에 Pandas에는 널 값을 저장하고 조작한는 두 가지 '모드' 존재\n",
    "# - 기본모드 : 센티널 기반 누락 데이터 체꼐를 사용, 데이터 타입에 따라 센티널 값이 NaN 또는 None으로 설정\n",
    "# - Pandas에서 제공하는 널 값이 들어갈 수 있는 데이터 타입(dtype)을 사용하는 것, 마스크 배열이 함께 생성되어 누락된 항목을 추적, 누락된 항목은 특수한 pd.NA 값으로 사용자에게 표시\n"
   ]
  },
  {
   "cell_type": "code",
   "execution_count": 232,
   "id": "03c5e452-a9ec-4452-a95a-92f03994b1b4",
   "metadata": {},
   "outputs": [],
   "source": [
    "import numpy as np\n",
    "import pandas as pd"
   ]
  },
  {
   "cell_type": "code",
   "execution_count": 233,
   "id": "ddb410d3-6ebf-400f-8dda-95911ac51553",
   "metadata": {},
   "outputs": [
    {
     "data": {
      "text/plain": [
       "array([1, None, 2, 3], dtype=object)"
      ]
     },
     "execution_count": 233,
     "metadata": {},
     "output_type": "execute_result"
    }
   ],
   "source": [
    "vals1 = np.array([1, None, 2, 3])\n",
    "vals1"
   ]
  },
  {
   "cell_type": "code",
   "execution_count": 234,
   "id": "75a0b7ff-6f01-4e53-a92e-cb9652acc456",
   "metadata": {},
   "outputs": [
    {
     "name": "stdout",
     "output_type": "stream",
     "text": [
      "1.16 ms ± 25.2 µs per loop (mean ± std. dev. of 7 runs, 1,000 loops each)\n"
     ]
    }
   ],
   "source": [
    "%timeit np.arange(1E6, dtype=int).sum()"
   ]
  },
  {
   "cell_type": "code",
   "execution_count": 235,
   "id": "f63699d4-b5b8-4d2b-8dba-25817b74674a",
   "metadata": {},
   "outputs": [
    {
     "name": "stdout",
     "output_type": "stream",
     "text": [
      "35.5 ms ± 683 µs per loop (mean ± std. dev. of 7 runs, 10 loops each)\n"
     ]
    }
   ],
   "source": [
    "%timeit np.arange(1E6, dtype=object).sum()"
   ]
  },
  {
   "cell_type": "code",
   "execution_count": 236,
   "id": "a3390c42-9982-4f71-ae7f-4b580a113b18",
   "metadata": {},
   "outputs": [
    {
     "ename": "TypeError",
     "evalue": "unsupported operand type(s) for +: 'int' and 'NoneType'",
     "output_type": "error",
     "traceback": [
      "\u001b[1;31m---------------------------------------------------------------------------\u001b[0m",
      "\u001b[1;31mTypeError\u001b[0m                                 Traceback (most recent call last)",
      "Cell \u001b[1;32mIn[236], line 1\u001b[0m\n\u001b[1;32m----> 1\u001b[0m \u001b[43mvals1\u001b[49m\u001b[38;5;241;43m.\u001b[39;49m\u001b[43msum\u001b[49m\u001b[43m(\u001b[49m\u001b[43m)\u001b[49m\n",
      "File \u001b[1;32m~\\AppData\\Local\\Programs\\Python\\Python39\\lib\\site-packages\\numpy\\core\\_methods.py:49\u001b[0m, in \u001b[0;36m_sum\u001b[1;34m(a, axis, dtype, out, keepdims, initial, where)\u001b[0m\n\u001b[0;32m     47\u001b[0m \u001b[38;5;28;01mdef\u001b[39;00m \u001b[38;5;21m_sum\u001b[39m(a, axis\u001b[38;5;241m=\u001b[39m\u001b[38;5;28;01mNone\u001b[39;00m, dtype\u001b[38;5;241m=\u001b[39m\u001b[38;5;28;01mNone\u001b[39;00m, out\u001b[38;5;241m=\u001b[39m\u001b[38;5;28;01mNone\u001b[39;00m, keepdims\u001b[38;5;241m=\u001b[39m\u001b[38;5;28;01mFalse\u001b[39;00m,\n\u001b[0;32m     48\u001b[0m          initial\u001b[38;5;241m=\u001b[39m_NoValue, where\u001b[38;5;241m=\u001b[39m\u001b[38;5;28;01mTrue\u001b[39;00m):\n\u001b[1;32m---> 49\u001b[0m     \u001b[38;5;28;01mreturn\u001b[39;00m \u001b[43mumr_sum\u001b[49m\u001b[43m(\u001b[49m\u001b[43ma\u001b[49m\u001b[43m,\u001b[49m\u001b[43m \u001b[49m\u001b[43maxis\u001b[49m\u001b[43m,\u001b[49m\u001b[43m \u001b[49m\u001b[43mdtype\u001b[49m\u001b[43m,\u001b[49m\u001b[43m \u001b[49m\u001b[43mout\u001b[49m\u001b[43m,\u001b[49m\u001b[43m \u001b[49m\u001b[43mkeepdims\u001b[49m\u001b[43m,\u001b[49m\u001b[43m \u001b[49m\u001b[43minitial\u001b[49m\u001b[43m,\u001b[49m\u001b[43m \u001b[49m\u001b[43mwhere\u001b[49m\u001b[43m)\u001b[49m\n",
      "\u001b[1;31mTypeError\u001b[0m: unsupported operand type(s) for +: 'int' and 'NoneType'"
     ]
    }
   ],
   "source": [
    "vals1.sum()"
   ]
  },
  {
   "cell_type": "code",
   "execution_count": 238,
   "id": "ac198ccc-2c40-448e-87da-d9ee9bf26ead",
   "metadata": {},
   "outputs": [
    {
     "data": {
      "text/plain": [
       "dtype('float64')"
      ]
     },
     "execution_count": 238,
     "metadata": {},
     "output_type": "execute_result"
    }
   ],
   "source": [
    "vals2 = np.array([1, np.nan, 3, 4])\n",
    "vals2.dtype"
   ]
  },
  {
   "cell_type": "code",
   "execution_count": 239,
   "id": "f71eb7fe-fd93-442c-97ee-40a2d1ac6d40",
   "metadata": {},
   "outputs": [
    {
     "data": {
      "text/plain": [
       "nan"
      ]
     },
     "execution_count": 239,
     "metadata": {},
     "output_type": "execute_result"
    }
   ],
   "source": [
    "1 + np.nan"
   ]
  },
  {
   "cell_type": "code",
   "execution_count": 240,
   "id": "d9b52f02-455e-4c70-ab07-94accf24612e",
   "metadata": {},
   "outputs": [
    {
     "data": {
      "text/plain": [
       "nan"
      ]
     },
     "execution_count": 240,
     "metadata": {},
     "output_type": "execute_result"
    }
   ],
   "source": [
    "0 + np.nan"
   ]
  },
  {
   "cell_type": "code",
   "execution_count": 241,
   "id": "eba56ab4-68ae-43b9-9915-365c0cc8da9d",
   "metadata": {},
   "outputs": [
    {
     "data": {
      "text/plain": [
       "(nan, nan, nan)"
      ]
     },
     "execution_count": 241,
     "metadata": {},
     "output_type": "execute_result"
    }
   ],
   "source": [
    "vals2.sum(), vals2.min(), vals2.max()"
   ]
  },
  {
   "cell_type": "code",
   "execution_count": 242,
   "id": "dfc35044-cd92-47de-8808-549d20506bf6",
   "metadata": {},
   "outputs": [
    {
     "data": {
      "text/plain": [
       "(8.0, 1.0, 4.0)"
      ]
     },
     "execution_count": 242,
     "metadata": {},
     "output_type": "execute_result"
    }
   ],
   "source": [
    "np.nansum(vals2), np.nanmin(vals2), np.nanmax(vals2)"
   ]
  },
  {
   "cell_type": "code",
   "execution_count": 243,
   "id": "8c97fa6d-3f3d-4cba-aa01-ca9cfcb81cd4",
   "metadata": {},
   "outputs": [
    {
     "data": {
      "text/plain": [
       "0    1.0\n",
       "1    NaN\n",
       "2    2.0\n",
       "3    NaN\n",
       "dtype: float64"
      ]
     },
     "execution_count": 243,
     "metadata": {},
     "output_type": "execute_result"
    }
   ],
   "source": [
    "pd.Series([1, np.nan, 2, None])"
   ]
  },
  {
   "cell_type": "code",
   "execution_count": 245,
   "id": "f9cdf97e-0e25-4470-bdd0-29b80d6dbecb",
   "metadata": {},
   "outputs": [
    {
     "data": {
      "text/plain": [
       "0    0\n",
       "1    1\n",
       "dtype: int32"
      ]
     },
     "execution_count": 245,
     "metadata": {},
     "output_type": "execute_result"
    }
   ],
   "source": [
    "x = pd.Series(range(2), dtype=int)\n",
    "x"
   ]
  },
  {
   "cell_type": "code",
   "execution_count": 247,
   "id": "a617ce95-f26b-4386-aadc-c8761bc4c149",
   "metadata": {},
   "outputs": [
    {
     "data": {
      "text/plain": [
       "0    NaN\n",
       "1    1.0\n",
       "dtype: float64"
      ]
     },
     "execution_count": 247,
     "metadata": {},
     "output_type": "execute_result"
    }
   ],
   "source": [
    "x[0] = None\n",
    "x"
   ]
  },
  {
   "cell_type": "code",
   "execution_count": 248,
   "id": "de810e9c-4e88-449e-8add-6eb9b34ad5f2",
   "metadata": {},
   "outputs": [],
   "source": [
    "titanic_df = pd.read_csv('https://raw.githubusercontent.com/datasciencedojo/datasets/master/titanic.csv')"
   ]
  },
  {
   "cell_type": "markdown",
   "id": "c0d60e20-2a8a-421b-b64d-fc2c6c8542a5",
   "metadata": {},
   "source": [
    "## Pandas의 널러블(Nullable) 데이터 타입"
   ]
  },
  {
   "cell_type": "code",
   "execution_count": 249,
   "id": "408563ac-d13c-4641-a948-ed478abeabe8",
   "metadata": {},
   "outputs": [],
   "source": [
    "# 초기 버전 Pandas에서는 NaN과 None을 센티널 값으로 사용하는 것이 누락 데이터를 표현 -> 암시적 타입 캐스팅과 관련하여 어려움 ex) 누락된 데이터가 있는 실수 배열을 표현할 방법이 x\n",
    "# 문제 해결 : Pandas는 나중에 널러블 데이터 타입을 추가, 이름의 대소문자로 일반 데이터 타입과 널러블 데이터 타입을 구별하는 방식(np.int32 -> pd.Int32), 특별히 요청한 경우에만 사용"
   ]
  },
  {
   "cell_type": "code",
   "execution_count": 250,
   "id": "55cd1ea2-eb78-49e2-b4dc-7956ae05c573",
   "metadata": {},
   "outputs": [
    {
     "data": {
      "text/plain": [
       "0       1\n",
       "1    <NA>\n",
       "2       2\n",
       "3    <NA>\n",
       "4    <NA>\n",
       "dtype: Int32"
      ]
     },
     "execution_count": 250,
     "metadata": {},
     "output_type": "execute_result"
    }
   ],
   "source": [
    "pd.Series([1, np.nan, 2, None, pd.NA], dtype='Int32')"
   ]
  },
  {
   "cell_type": "markdown",
   "id": "22fab9ca-388d-4657-b1a3-5fb37490792d",
   "metadata": {},
   "source": [
    "## 널 값 연산하기"
   ]
  },
  {
   "cell_type": "code",
   "execution_count": 251,
   "id": "4cb7fd20-1e51-43fc-947c-637e62fb4b15",
   "metadata": {},
   "outputs": [],
   "source": [
    "# isnull(), notnull(), dropna(), fillna()"
   ]
  },
  {
   "cell_type": "code",
   "execution_count": 253,
   "id": "b783fc10-70ce-462f-8c17-e51a82a48706",
   "metadata": {},
   "outputs": [
    {
     "data": {
      "text/plain": [
       "0    False\n",
       "1     True\n",
       "2    False\n",
       "3     True\n",
       "dtype: bool"
      ]
     },
     "execution_count": 253,
     "metadata": {},
     "output_type": "execute_result"
    }
   ],
   "source": [
    "# 널 값 탐지\n",
    "data = pd.Series([1, np.nan, 'hello', None])\n",
    "data.isnull()"
   ]
  },
  {
   "cell_type": "code",
   "execution_count": 254,
   "id": "71ac35a0-f03b-4591-8736-3d402f82f526",
   "metadata": {},
   "outputs": [
    {
     "data": {
      "text/plain": [
       "0        1\n",
       "2    hello\n",
       "dtype: object"
      ]
     },
     "execution_count": 254,
     "metadata": {},
     "output_type": "execute_result"
    }
   ],
   "source": [
    "data[data.notnull()]"
   ]
  },
  {
   "cell_type": "code",
   "execution_count": 255,
   "id": "c92c23a0-f057-4f94-a19e-b19f4fc4cde9",
   "metadata": {},
   "outputs": [
    {
     "data": {
      "text/plain": [
       "0        1\n",
       "2    hello\n",
       "dtype: object"
      ]
     },
     "execution_count": 255,
     "metadata": {},
     "output_type": "execute_result"
    }
   ],
   "source": [
    "# 널 값 제거하기\n",
    "data.dropna()"
   ]
  },
  {
   "cell_type": "code",
   "execution_count": 258,
   "id": "4b28abdf-49ab-47d0-bbe7-24945c489f0d",
   "metadata": {},
   "outputs": [
    {
     "data": {
      "text/html": [
       "<div>\n",
       "<style scoped>\n",
       "    .dataframe tbody tr th:only-of-type {\n",
       "        vertical-align: middle;\n",
       "    }\n",
       "\n",
       "    .dataframe tbody tr th {\n",
       "        vertical-align: top;\n",
       "    }\n",
       "\n",
       "    .dataframe thead th {\n",
       "        text-align: right;\n",
       "    }\n",
       "</style>\n",
       "<table border=\"1\" class=\"dataframe\">\n",
       "  <thead>\n",
       "    <tr style=\"text-align: right;\">\n",
       "      <th></th>\n",
       "      <th>0</th>\n",
       "      <th>1</th>\n",
       "      <th>2</th>\n",
       "    </tr>\n",
       "  </thead>\n",
       "  <tbody>\n",
       "    <tr>\n",
       "      <th>0</th>\n",
       "      <td>1.0</td>\n",
       "      <td>NaN</td>\n",
       "      <td>2</td>\n",
       "    </tr>\n",
       "    <tr>\n",
       "      <th>1</th>\n",
       "      <td>2.0</td>\n",
       "      <td>3.0</td>\n",
       "      <td>5</td>\n",
       "    </tr>\n",
       "    <tr>\n",
       "      <th>2</th>\n",
       "      <td>NaN</td>\n",
       "      <td>4.0</td>\n",
       "      <td>6</td>\n",
       "    </tr>\n",
       "  </tbody>\n",
       "</table>\n",
       "</div>"
      ],
      "text/plain": [
       "     0    1  2\n",
       "0  1.0  NaN  2\n",
       "1  2.0  3.0  5\n",
       "2  NaN  4.0  6"
      ]
     },
     "execution_count": 258,
     "metadata": {},
     "output_type": "execute_result"
    }
   ],
   "source": [
    "df = pd.DataFrame([[1,      np.nan, 2],\n",
    "                   [2,      3,      5],\n",
    "                   [np.nan, 4,      6]])\n",
    "df"
   ]
  },
  {
   "cell_type": "code",
   "execution_count": 261,
   "id": "83dba71b-061f-4f2b-b441-29332a620ebf",
   "metadata": {},
   "outputs": [
    {
     "data": {
      "text/html": [
       "<div>\n",
       "<style scoped>\n",
       "    .dataframe tbody tr th:only-of-type {\n",
       "        vertical-align: middle;\n",
       "    }\n",
       "\n",
       "    .dataframe tbody tr th {\n",
       "        vertical-align: top;\n",
       "    }\n",
       "\n",
       "    .dataframe thead th {\n",
       "        text-align: right;\n",
       "    }\n",
       "</style>\n",
       "<table border=\"1\" class=\"dataframe\">\n",
       "  <thead>\n",
       "    <tr style=\"text-align: right;\">\n",
       "      <th></th>\n",
       "      <th>0</th>\n",
       "      <th>1</th>\n",
       "      <th>2</th>\n",
       "    </tr>\n",
       "  </thead>\n",
       "  <tbody>\n",
       "    <tr>\n",
       "      <th>1</th>\n",
       "      <td>2.0</td>\n",
       "      <td>3.0</td>\n",
       "      <td>5</td>\n",
       "    </tr>\n",
       "  </tbody>\n",
       "</table>\n",
       "</div>"
      ],
      "text/plain": [
       "     0    1  2\n",
       "1  2.0  3.0  5"
      ]
     },
     "execution_count": 261,
     "metadata": {},
     "output_type": "execute_result"
    }
   ],
   "source": [
    "df.dropna() # DataFrame에서는 단일 값만 삭제x, 전체 행이나 전체 열을 삭제하는 것만 가능"
   ]
  },
  {
   "cell_type": "code",
   "execution_count": 262,
   "id": "ef80f72a-fbd0-451b-a38a-eca4b1d3e633",
   "metadata": {},
   "outputs": [
    {
     "data": {
      "text/html": [
       "<div>\n",
       "<style scoped>\n",
       "    .dataframe tbody tr th:only-of-type {\n",
       "        vertical-align: middle;\n",
       "    }\n",
       "\n",
       "    .dataframe tbody tr th {\n",
       "        vertical-align: top;\n",
       "    }\n",
       "\n",
       "    .dataframe thead th {\n",
       "        text-align: right;\n",
       "    }\n",
       "</style>\n",
       "<table border=\"1\" class=\"dataframe\">\n",
       "  <thead>\n",
       "    <tr style=\"text-align: right;\">\n",
       "      <th></th>\n",
       "      <th>2</th>\n",
       "    </tr>\n",
       "  </thead>\n",
       "  <tbody>\n",
       "    <tr>\n",
       "      <th>0</th>\n",
       "      <td>2</td>\n",
       "    </tr>\n",
       "    <tr>\n",
       "      <th>1</th>\n",
       "      <td>5</td>\n",
       "    </tr>\n",
       "    <tr>\n",
       "      <th>2</th>\n",
       "      <td>6</td>\n",
       "    </tr>\n",
       "  </tbody>\n",
       "</table>\n",
       "</div>"
      ],
      "text/plain": [
       "   2\n",
       "0  2\n",
       "1  5\n",
       "2  6"
      ]
     },
     "execution_count": 262,
     "metadata": {},
     "output_type": "execute_result"
    }
   ],
   "source": [
    "df.dropna(axis='columns')"
   ]
  },
  {
   "cell_type": "code",
   "execution_count": 263,
   "id": "53e91347-d62e-4a65-95f3-7023feeb40f7",
   "metadata": {},
   "outputs": [
    {
     "data": {
      "text/html": [
       "<div>\n",
       "<style scoped>\n",
       "    .dataframe tbody tr th:only-of-type {\n",
       "        vertical-align: middle;\n",
       "    }\n",
       "\n",
       "    .dataframe tbody tr th {\n",
       "        vertical-align: top;\n",
       "    }\n",
       "\n",
       "    .dataframe thead th {\n",
       "        text-align: right;\n",
       "    }\n",
       "</style>\n",
       "<table border=\"1\" class=\"dataframe\">\n",
       "  <thead>\n",
       "    <tr style=\"text-align: right;\">\n",
       "      <th></th>\n",
       "      <th>0</th>\n",
       "      <th>1</th>\n",
       "      <th>2</th>\n",
       "      <th>3</th>\n",
       "    </tr>\n",
       "  </thead>\n",
       "  <tbody>\n",
       "    <tr>\n",
       "      <th>0</th>\n",
       "      <td>1.0</td>\n",
       "      <td>NaN</td>\n",
       "      <td>2</td>\n",
       "      <td>NaN</td>\n",
       "    </tr>\n",
       "    <tr>\n",
       "      <th>1</th>\n",
       "      <td>2.0</td>\n",
       "      <td>3.0</td>\n",
       "      <td>5</td>\n",
       "      <td>NaN</td>\n",
       "    </tr>\n",
       "    <tr>\n",
       "      <th>2</th>\n",
       "      <td>NaN</td>\n",
       "      <td>4.0</td>\n",
       "      <td>6</td>\n",
       "      <td>NaN</td>\n",
       "    </tr>\n",
       "  </tbody>\n",
       "</table>\n",
       "</div>"
      ],
      "text/plain": [
       "     0    1  2   3\n",
       "0  1.0  NaN  2 NaN\n",
       "1  2.0  3.0  5 NaN\n",
       "2  NaN  4.0  6 NaN"
      ]
     },
     "execution_count": 263,
     "metadata": {},
     "output_type": "execute_result"
    }
   ],
   "source": [
    "df[3] = np.nan\n",
    "df"
   ]
  },
  {
   "cell_type": "code",
   "execution_count": 264,
   "id": "6f7de630-e9be-4195-8617-ef95cfef65d2",
   "metadata": {},
   "outputs": [
    {
     "data": {
      "text/html": [
       "<div>\n",
       "<style scoped>\n",
       "    .dataframe tbody tr th:only-of-type {\n",
       "        vertical-align: middle;\n",
       "    }\n",
       "\n",
       "    .dataframe tbody tr th {\n",
       "        vertical-align: top;\n",
       "    }\n",
       "\n",
       "    .dataframe thead th {\n",
       "        text-align: right;\n",
       "    }\n",
       "</style>\n",
       "<table border=\"1\" class=\"dataframe\">\n",
       "  <thead>\n",
       "    <tr style=\"text-align: right;\">\n",
       "      <th></th>\n",
       "      <th>0</th>\n",
       "      <th>1</th>\n",
       "      <th>2</th>\n",
       "    </tr>\n",
       "  </thead>\n",
       "  <tbody>\n",
       "    <tr>\n",
       "      <th>0</th>\n",
       "      <td>1.0</td>\n",
       "      <td>NaN</td>\n",
       "      <td>2</td>\n",
       "    </tr>\n",
       "    <tr>\n",
       "      <th>1</th>\n",
       "      <td>2.0</td>\n",
       "      <td>3.0</td>\n",
       "      <td>5</td>\n",
       "    </tr>\n",
       "    <tr>\n",
       "      <th>2</th>\n",
       "      <td>NaN</td>\n",
       "      <td>4.0</td>\n",
       "      <td>6</td>\n",
       "    </tr>\n",
       "  </tbody>\n",
       "</table>\n",
       "</div>"
      ],
      "text/plain": [
       "     0    1  2\n",
       "0  1.0  NaN  2\n",
       "1  2.0  3.0  5\n",
       "2  NaN  4.0  6"
      ]
     },
     "execution_count": 264,
     "metadata": {},
     "output_type": "execute_result"
    }
   ],
   "source": [
    "df.dropna(axis='columns', how='all')"
   ]
  },
  {
   "cell_type": "code",
   "execution_count": 265,
   "id": "57c674b9-4172-48ce-b9c0-b0cfd573d104",
   "metadata": {},
   "outputs": [
    {
     "data": {
      "text/plain": [
       "0        1\n",
       "1        0\n",
       "2    hello\n",
       "3        0\n",
       "dtype: object"
      ]
     },
     "execution_count": 265,
     "metadata": {},
     "output_type": "execute_result"
    }
   ],
   "source": [
    "data.fillna(0)"
   ]
  },
  {
   "cell_type": "code",
   "execution_count": 266,
   "id": "02f95b67-d6c6-4557-bab2-2bac506c7d85",
   "metadata": {},
   "outputs": [
    {
     "name": "stdout",
     "output_type": "stream",
     "text": [
      "<class 'pandas.core.frame.DataFrame'>\n",
      "RangeIndex: 891 entries, 0 to 890\n",
      "Data columns (total 12 columns):\n",
      " #   Column       Non-Null Count  Dtype  \n",
      "---  ------       --------------  -----  \n",
      " 0   PassengerId  891 non-null    int64  \n",
      " 1   Survived     891 non-null    int64  \n",
      " 2   Pclass       891 non-null    int64  \n",
      " 3   Name         891 non-null    object \n",
      " 4   Sex          891 non-null    object \n",
      " 5   Age          714 non-null    float64\n",
      " 6   SibSp        891 non-null    int64  \n",
      " 7   Parch        891 non-null    int64  \n",
      " 8   Ticket       891 non-null    object \n",
      " 9   Fare         891 non-null    float64\n",
      " 10  Cabin        204 non-null    object \n",
      " 11  Embarked     889 non-null    object \n",
      "dtypes: float64(2), int64(5), object(5)\n",
      "memory usage: 83.7+ KB\n"
     ]
    }
   ],
   "source": [
    "titanic_df.info()"
   ]
  },
  {
   "cell_type": "code",
   "execution_count": 267,
   "id": "279ea041-2383-4965-aa4a-5b634a79977d",
   "metadata": {},
   "outputs": [
    {
     "data": {
      "text/plain": [
       "0        1\n",
       "1      NaN\n",
       "2    hello\n",
       "3     None\n",
       "dtype: object"
      ]
     },
     "execution_count": 267,
     "metadata": {},
     "output_type": "execute_result"
    }
   ],
   "source": [
    "data"
   ]
  },
  {
   "cell_type": "code",
   "execution_count": 270,
   "id": "4f03bf76-c17a-4474-b1f4-3d524652d0b8",
   "metadata": {},
   "outputs": [
    {
     "data": {
      "text/plain": [
       "0        1\n",
       "1        1\n",
       "2    hello\n",
       "3    hello\n",
       "dtype: object"
      ]
     },
     "execution_count": 270,
     "metadata": {},
     "output_type": "execute_result"
    }
   ],
   "source": [
    "data.ffill() # forward"
   ]
  },
  {
   "cell_type": "code",
   "execution_count": 271,
   "id": "01a5fe88-47cf-4344-a9b7-5d96b5057e9f",
   "metadata": {},
   "outputs": [
    {
     "data": {
      "text/plain": [
       "0        1\n",
       "1    hello\n",
       "2    hello\n",
       "3     None\n",
       "dtype: object"
      ]
     },
     "execution_count": 271,
     "metadata": {},
     "output_type": "execute_result"
    }
   ],
   "source": [
    "data.bfill() # back"
   ]
  },
  {
   "cell_type": "code",
   "execution_count": 273,
   "id": "3d860978-960b-4133-b844-bf4dddee4f52",
   "metadata": {},
   "outputs": [
    {
     "data": {
      "text/html": [
       "<div>\n",
       "<style scoped>\n",
       "    .dataframe tbody tr th:only-of-type {\n",
       "        vertical-align: middle;\n",
       "    }\n",
       "\n",
       "    .dataframe tbody tr th {\n",
       "        vertical-align: top;\n",
       "    }\n",
       "\n",
       "    .dataframe thead th {\n",
       "        text-align: right;\n",
       "    }\n",
       "</style>\n",
       "<table border=\"1\" class=\"dataframe\">\n",
       "  <thead>\n",
       "    <tr style=\"text-align: right;\">\n",
       "      <th></th>\n",
       "      <th>PassengerId</th>\n",
       "      <th>Survived</th>\n",
       "      <th>Pclass</th>\n",
       "      <th>Name</th>\n",
       "      <th>Sex</th>\n",
       "      <th>Age</th>\n",
       "      <th>SibSp</th>\n",
       "      <th>Parch</th>\n",
       "      <th>Ticket</th>\n",
       "      <th>Fare</th>\n",
       "      <th>Cabin</th>\n",
       "      <th>Embarked</th>\n",
       "    </tr>\n",
       "  </thead>\n",
       "  <tbody>\n",
       "    <tr>\n",
       "      <th>0</th>\n",
       "      <td>1</td>\n",
       "      <td>0</td>\n",
       "      <td>3</td>\n",
       "      <td>Braund, Mr. Owen Harris</td>\n",
       "      <td>male</td>\n",
       "      <td>22.0</td>\n",
       "      <td>1</td>\n",
       "      <td>0</td>\n",
       "      <td>A/5 21171</td>\n",
       "      <td>7.2500</td>\n",
       "      <td>NaN</td>\n",
       "      <td>S</td>\n",
       "    </tr>\n",
       "    <tr>\n",
       "      <th>1</th>\n",
       "      <td>2</td>\n",
       "      <td>1</td>\n",
       "      <td>1</td>\n",
       "      <td>Cumings, Mrs. John Bradley (Florence Briggs Th...</td>\n",
       "      <td>female</td>\n",
       "      <td>38.0</td>\n",
       "      <td>1</td>\n",
       "      <td>0</td>\n",
       "      <td>PC 17599</td>\n",
       "      <td>71.2833</td>\n",
       "      <td>C85</td>\n",
       "      <td>C</td>\n",
       "    </tr>\n",
       "    <tr>\n",
       "      <th>2</th>\n",
       "      <td>3</td>\n",
       "      <td>1</td>\n",
       "      <td>3</td>\n",
       "      <td>Heikkinen, Miss. Laina</td>\n",
       "      <td>female</td>\n",
       "      <td>26.0</td>\n",
       "      <td>0</td>\n",
       "      <td>0</td>\n",
       "      <td>STON/O2. 3101282</td>\n",
       "      <td>7.9250</td>\n",
       "      <td>NaN</td>\n",
       "      <td>S</td>\n",
       "    </tr>\n",
       "    <tr>\n",
       "      <th>3</th>\n",
       "      <td>4</td>\n",
       "      <td>1</td>\n",
       "      <td>1</td>\n",
       "      <td>Futrelle, Mrs. Jacques Heath (Lily May Peel)</td>\n",
       "      <td>female</td>\n",
       "      <td>35.0</td>\n",
       "      <td>1</td>\n",
       "      <td>0</td>\n",
       "      <td>113803</td>\n",
       "      <td>53.1000</td>\n",
       "      <td>C123</td>\n",
       "      <td>S</td>\n",
       "    </tr>\n",
       "    <tr>\n",
       "      <th>4</th>\n",
       "      <td>5</td>\n",
       "      <td>0</td>\n",
       "      <td>3</td>\n",
       "      <td>Allen, Mr. William Henry</td>\n",
       "      <td>male</td>\n",
       "      <td>35.0</td>\n",
       "      <td>0</td>\n",
       "      <td>0</td>\n",
       "      <td>373450</td>\n",
       "      <td>8.0500</td>\n",
       "      <td>NaN</td>\n",
       "      <td>S</td>\n",
       "    </tr>\n",
       "  </tbody>\n",
       "</table>\n",
       "</div>"
      ],
      "text/plain": [
       "   PassengerId  Survived  Pclass  \\\n",
       "0            1         0       3   \n",
       "1            2         1       1   \n",
       "2            3         1       3   \n",
       "3            4         1       1   \n",
       "4            5         0       3   \n",
       "\n",
       "                                                Name     Sex   Age  SibSp  \\\n",
       "0                            Braund, Mr. Owen Harris    male  22.0      1   \n",
       "1  Cumings, Mrs. John Bradley (Florence Briggs Th...  female  38.0      1   \n",
       "2                             Heikkinen, Miss. Laina  female  26.0      0   \n",
       "3       Futrelle, Mrs. Jacques Heath (Lily May Peel)  female  35.0      1   \n",
       "4                           Allen, Mr. William Henry    male  35.0      0   \n",
       "\n",
       "   Parch            Ticket     Fare Cabin Embarked  \n",
       "0      0         A/5 21171   7.2500   NaN        S  \n",
       "1      0          PC 17599  71.2833   C85        C  \n",
       "2      0  STON/O2. 3101282   7.9250   NaN        S  \n",
       "3      0            113803  53.1000  C123        S  \n",
       "4      0            373450   8.0500   NaN        S  "
      ]
     },
     "execution_count": 273,
     "metadata": {},
     "output_type": "execute_result"
    }
   ],
   "source": [
    "titanic_df.head()"
   ]
  },
  {
   "cell_type": "code",
   "execution_count": 274,
   "id": "2f3278ff-6de2-49b0-9241-45ea0f936469",
   "metadata": {},
   "outputs": [
    {
     "name": "stdout",
     "output_type": "stream",
     "text": [
      "<class 'pandas.core.frame.DataFrame'>\n",
      "RangeIndex: 891 entries, 0 to 890\n",
      "Data columns (total 12 columns):\n",
      " #   Column       Non-Null Count  Dtype  \n",
      "---  ------       --------------  -----  \n",
      " 0   PassengerId  891 non-null    int64  \n",
      " 1   Survived     891 non-null    int64  \n",
      " 2   Pclass       891 non-null    int64  \n",
      " 3   Name         891 non-null    object \n",
      " 4   Sex          891 non-null    object \n",
      " 5   Age          714 non-null    float64\n",
      " 6   SibSp        891 non-null    int64  \n",
      " 7   Parch        891 non-null    int64  \n",
      " 8   Ticket       891 non-null    object \n",
      " 9   Fare         891 non-null    float64\n",
      " 10  Cabin        204 non-null    object \n",
      " 11  Embarked     889 non-null    object \n",
      "dtypes: float64(2), int64(5), object(5)\n",
      "memory usage: 83.7+ KB\n"
     ]
    }
   ],
   "source": [
    "titanic_df.info()"
   ]
  },
  {
   "cell_type": "code",
   "execution_count": 276,
   "id": "37d26c02-9079-483b-8832-c9c5f4373acc",
   "metadata": {},
   "outputs": [
    {
     "data": {
      "text/html": [
       "<div>\n",
       "<style scoped>\n",
       "    .dataframe tbody tr th:only-of-type {\n",
       "        vertical-align: middle;\n",
       "    }\n",
       "\n",
       "    .dataframe tbody tr th {\n",
       "        vertical-align: top;\n",
       "    }\n",
       "\n",
       "    .dataframe thead th {\n",
       "        text-align: right;\n",
       "    }\n",
       "</style>\n",
       "<table border=\"1\" class=\"dataframe\">\n",
       "  <thead>\n",
       "    <tr style=\"text-align: right;\">\n",
       "      <th></th>\n",
       "      <th>PassengerId</th>\n",
       "      <th>Survived</th>\n",
       "      <th>Pclass</th>\n",
       "      <th>Name</th>\n",
       "      <th>Sex</th>\n",
       "      <th>Age</th>\n",
       "      <th>SibSp</th>\n",
       "      <th>Parch</th>\n",
       "      <th>Ticket</th>\n",
       "      <th>Fare</th>\n",
       "      <th>Cabin</th>\n",
       "      <th>Embarked</th>\n",
       "    </tr>\n",
       "  </thead>\n",
       "  <tbody>\n",
       "    <tr>\n",
       "      <th>0</th>\n",
       "      <td>1</td>\n",
       "      <td>0</td>\n",
       "      <td>3</td>\n",
       "      <td>Braund, Mr. Owen Harris</td>\n",
       "      <td>male</td>\n",
       "      <td>22.0</td>\n",
       "      <td>1</td>\n",
       "      <td>0</td>\n",
       "      <td>A/5 21171</td>\n",
       "      <td>7.2500</td>\n",
       "      <td>NaN</td>\n",
       "      <td>S</td>\n",
       "    </tr>\n",
       "    <tr>\n",
       "      <th>1</th>\n",
       "      <td>2</td>\n",
       "      <td>1</td>\n",
       "      <td>1</td>\n",
       "      <td>Cumings, Mrs. John Bradley (Florence Briggs Th...</td>\n",
       "      <td>female</td>\n",
       "      <td>38.0</td>\n",
       "      <td>1</td>\n",
       "      <td>0</td>\n",
       "      <td>PC 17599</td>\n",
       "      <td>71.2833</td>\n",
       "      <td>C85</td>\n",
       "      <td>C</td>\n",
       "    </tr>\n",
       "    <tr>\n",
       "      <th>2</th>\n",
       "      <td>3</td>\n",
       "      <td>1</td>\n",
       "      <td>3</td>\n",
       "      <td>Heikkinen, Miss. Laina</td>\n",
       "      <td>female</td>\n",
       "      <td>26.0</td>\n",
       "      <td>0</td>\n",
       "      <td>0</td>\n",
       "      <td>STON/O2. 3101282</td>\n",
       "      <td>7.9250</td>\n",
       "      <td>C85</td>\n",
       "      <td>S</td>\n",
       "    </tr>\n",
       "    <tr>\n",
       "      <th>3</th>\n",
       "      <td>4</td>\n",
       "      <td>1</td>\n",
       "      <td>1</td>\n",
       "      <td>Futrelle, Mrs. Jacques Heath (Lily May Peel)</td>\n",
       "      <td>female</td>\n",
       "      <td>35.0</td>\n",
       "      <td>1</td>\n",
       "      <td>0</td>\n",
       "      <td>113803</td>\n",
       "      <td>53.1000</td>\n",
       "      <td>C123</td>\n",
       "      <td>S</td>\n",
       "    </tr>\n",
       "    <tr>\n",
       "      <th>4</th>\n",
       "      <td>5</td>\n",
       "      <td>0</td>\n",
       "      <td>3</td>\n",
       "      <td>Allen, Mr. William Henry</td>\n",
       "      <td>male</td>\n",
       "      <td>35.0</td>\n",
       "      <td>0</td>\n",
       "      <td>0</td>\n",
       "      <td>373450</td>\n",
       "      <td>8.0500</td>\n",
       "      <td>C123</td>\n",
       "      <td>S</td>\n",
       "    </tr>\n",
       "    <tr>\n",
       "      <th>...</th>\n",
       "      <td>...</td>\n",
       "      <td>...</td>\n",
       "      <td>...</td>\n",
       "      <td>...</td>\n",
       "      <td>...</td>\n",
       "      <td>...</td>\n",
       "      <td>...</td>\n",
       "      <td>...</td>\n",
       "      <td>...</td>\n",
       "      <td>...</td>\n",
       "      <td>...</td>\n",
       "      <td>...</td>\n",
       "    </tr>\n",
       "    <tr>\n",
       "      <th>886</th>\n",
       "      <td>887</td>\n",
       "      <td>0</td>\n",
       "      <td>2</td>\n",
       "      <td>Montvila, Rev. Juozas</td>\n",
       "      <td>male</td>\n",
       "      <td>27.0</td>\n",
       "      <td>0</td>\n",
       "      <td>0</td>\n",
       "      <td>211536</td>\n",
       "      <td>13.0000</td>\n",
       "      <td>C50</td>\n",
       "      <td>S</td>\n",
       "    </tr>\n",
       "    <tr>\n",
       "      <th>887</th>\n",
       "      <td>888</td>\n",
       "      <td>1</td>\n",
       "      <td>1</td>\n",
       "      <td>Graham, Miss. Margaret Edith</td>\n",
       "      <td>female</td>\n",
       "      <td>19.0</td>\n",
       "      <td>0</td>\n",
       "      <td>0</td>\n",
       "      <td>112053</td>\n",
       "      <td>30.0000</td>\n",
       "      <td>B42</td>\n",
       "      <td>S</td>\n",
       "    </tr>\n",
       "    <tr>\n",
       "      <th>888</th>\n",
       "      <td>889</td>\n",
       "      <td>0</td>\n",
       "      <td>3</td>\n",
       "      <td>Johnston, Miss. Catherine Helen \"Carrie\"</td>\n",
       "      <td>female</td>\n",
       "      <td>19.0</td>\n",
       "      <td>1</td>\n",
       "      <td>2</td>\n",
       "      <td>W./C. 6607</td>\n",
       "      <td>23.4500</td>\n",
       "      <td>B42</td>\n",
       "      <td>S</td>\n",
       "    </tr>\n",
       "    <tr>\n",
       "      <th>889</th>\n",
       "      <td>890</td>\n",
       "      <td>1</td>\n",
       "      <td>1</td>\n",
       "      <td>Behr, Mr. Karl Howell</td>\n",
       "      <td>male</td>\n",
       "      <td>26.0</td>\n",
       "      <td>0</td>\n",
       "      <td>0</td>\n",
       "      <td>111369</td>\n",
       "      <td>30.0000</td>\n",
       "      <td>C148</td>\n",
       "      <td>C</td>\n",
       "    </tr>\n",
       "    <tr>\n",
       "      <th>890</th>\n",
       "      <td>891</td>\n",
       "      <td>0</td>\n",
       "      <td>3</td>\n",
       "      <td>Dooley, Mr. Patrick</td>\n",
       "      <td>male</td>\n",
       "      <td>32.0</td>\n",
       "      <td>0</td>\n",
       "      <td>0</td>\n",
       "      <td>370376</td>\n",
       "      <td>7.7500</td>\n",
       "      <td>C148</td>\n",
       "      <td>Q</td>\n",
       "    </tr>\n",
       "  </tbody>\n",
       "</table>\n",
       "<p>891 rows × 12 columns</p>\n",
       "</div>"
      ],
      "text/plain": [
       "     PassengerId  Survived  Pclass  \\\n",
       "0              1         0       3   \n",
       "1              2         1       1   \n",
       "2              3         1       3   \n",
       "3              4         1       1   \n",
       "4              5         0       3   \n",
       "..           ...       ...     ...   \n",
       "886          887         0       2   \n",
       "887          888         1       1   \n",
       "888          889         0       3   \n",
       "889          890         1       1   \n",
       "890          891         0       3   \n",
       "\n",
       "                                                  Name     Sex   Age  SibSp  \\\n",
       "0                              Braund, Mr. Owen Harris    male  22.0      1   \n",
       "1    Cumings, Mrs. John Bradley (Florence Briggs Th...  female  38.0      1   \n",
       "2                               Heikkinen, Miss. Laina  female  26.0      0   \n",
       "3         Futrelle, Mrs. Jacques Heath (Lily May Peel)  female  35.0      1   \n",
       "4                             Allen, Mr. William Henry    male  35.0      0   \n",
       "..                                                 ...     ...   ...    ...   \n",
       "886                              Montvila, Rev. Juozas    male  27.0      0   \n",
       "887                       Graham, Miss. Margaret Edith  female  19.0      0   \n",
       "888           Johnston, Miss. Catherine Helen \"Carrie\"  female  19.0      1   \n",
       "889                              Behr, Mr. Karl Howell    male  26.0      0   \n",
       "890                                Dooley, Mr. Patrick    male  32.0      0   \n",
       "\n",
       "     Parch            Ticket     Fare Cabin Embarked  \n",
       "0        0         A/5 21171   7.2500   NaN        S  \n",
       "1        0          PC 17599  71.2833   C85        C  \n",
       "2        0  STON/O2. 3101282   7.9250   C85        S  \n",
       "3        0            113803  53.1000  C123        S  \n",
       "4        0            373450   8.0500  C123        S  \n",
       "..     ...               ...      ...   ...      ...  \n",
       "886      0            211536  13.0000   C50        S  \n",
       "887      0            112053  30.0000   B42        S  \n",
       "888      2        W./C. 6607  23.4500   B42        S  \n",
       "889      0            111369  30.0000  C148        C  \n",
       "890      0            370376   7.7500  C148        Q  \n",
       "\n",
       "[891 rows x 12 columns]"
      ]
     },
     "execution_count": 276,
     "metadata": {},
     "output_type": "execute_result"
    }
   ],
   "source": [
    "titanic_df_ff = titanic_df.ffill()\n",
    "titanic_df_ff"
   ]
  },
  {
   "cell_type": "code",
   "execution_count": 7,
   "id": "ebb5f1a3-33f2-4551-8b41-1faa1377b5ba",
   "metadata": {},
   "outputs": [],
   "source": [
    "import pandas as pd\n",
    "import numpy as np"
   ]
  },
  {
   "cell_type": "code",
   "execution_count": 8,
   "id": "3e9a352f-1bf2-4f63-984c-c5245c429cf9",
   "metadata": {},
   "outputs": [],
   "source": [
    "titanic_df = pd.read_csv('https://raw.githubusercontent.com/datasciencedojo/datasets/master/titanic.csv')"
   ]
  },
  {
   "cell_type": "code",
   "execution_count": 9,
   "id": "f9094414-045d-407c-8f34-4b8a19bd411c",
   "metadata": {},
   "outputs": [],
   "source": [
    "avg_age = np.nanmean(titanic_df.Age.values)\n",
    "new_df = titanic_df.Age.fillna(avg_age)"
   ]
  },
  {
   "cell_type": "code",
   "execution_count": 10,
   "id": "f6a0bc21-add8-44fb-a991-92156a05ad6b",
   "metadata": {},
   "outputs": [
    {
     "data": {
      "text/plain": [
       "0      22.000000\n",
       "1      38.000000\n",
       "2      26.000000\n",
       "3      35.000000\n",
       "4      35.000000\n",
       "         ...    \n",
       "886    27.000000\n",
       "887    19.000000\n",
       "888    29.699118\n",
       "889    26.000000\n",
       "890    32.000000\n",
       "Name: Age, Length: 891, dtype: float64"
      ]
     },
     "execution_count": 10,
     "metadata": {},
     "output_type": "execute_result"
    }
   ],
   "source": [
    "new_df"
   ]
  },
  {
   "cell_type": "code",
   "execution_count": 11,
   "id": "db9d3bef-3b38-4065-90a1-d8524d457fd8",
   "metadata": {},
   "outputs": [
    {
     "name": "stdout",
     "output_type": "stream",
     "text": [
      "<class 'pandas.core.series.Series'>\n",
      "RangeIndex: 891 entries, 0 to 890\n",
      "Series name: Age\n",
      "Non-Null Count  Dtype  \n",
      "--------------  -----  \n",
      "891 non-null    float64\n",
      "dtypes: float64(1)\n",
      "memory usage: 7.1 KB\n"
     ]
    }
   ],
   "source": [
    "new_df.info()"
   ]
  },
  {
   "cell_type": "code",
   "execution_count": 12,
   "id": "8208a18e-d2f8-47ea-8be8-4306675477c4",
   "metadata": {},
   "outputs": [
    {
     "name": "stdout",
     "output_type": "stream",
     "text": [
      "<class 'pandas.core.frame.DataFrame'>\n",
      "RangeIndex: 891 entries, 0 to 890\n",
      "Data columns (total 12 columns):\n",
      " #   Column       Non-Null Count  Dtype  \n",
      "---  ------       --------------  -----  \n",
      " 0   PassengerId  891 non-null    int64  \n",
      " 1   Survived     891 non-null    int64  \n",
      " 2   Pclass       891 non-null    int64  \n",
      " 3   Name         891 non-null    object \n",
      " 4   Sex          891 non-null    object \n",
      " 5   Age          714 non-null    float64\n",
      " 6   SibSp        891 non-null    int64  \n",
      " 7   Parch        891 non-null    int64  \n",
      " 8   Ticket       891 non-null    object \n",
      " 9   Fare         891 non-null    float64\n",
      " 10  Cabin        204 non-null    object \n",
      " 11  Embarked     889 non-null    object \n",
      "dtypes: float64(2), int64(5), object(5)\n",
      "memory usage: 83.7+ KB\n"
     ]
    }
   ],
   "source": [
    "titanic_df.info()"
   ]
  },
  {
   "cell_type": "code",
   "execution_count": null,
   "id": "c4b6e32f-812d-4c6e-89bf-ac79c5f757cb",
   "metadata": {},
   "outputs": [],
   "source": []
  }
 ],
 "metadata": {
  "kernelspec": {
   "display_name": "Python 3 (ipykernel)",
   "language": "python",
   "name": "python3"
  },
  "language_info": {
   "codemirror_mode": {
    "name": "ipython",
    "version": 3
   },
   "file_extension": ".py",
   "mimetype": "text/x-python",
   "name": "python",
   "nbconvert_exporter": "python",
   "pygments_lexer": "ipython3",
   "version": "3.9.13"
  }
 },
 "nbformat": 4,
 "nbformat_minor": 5
}
