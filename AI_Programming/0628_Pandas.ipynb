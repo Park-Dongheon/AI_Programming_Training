{
 "cells": [
  {
   "cell_type": "markdown",
   "id": "8393a294-0da8-40f2-bbe9-047de05c3ec8",
   "metadata": {},
   "source": [
    "# Pandas"
   ]
  },
  {
   "cell_type": "markdown",
   "id": "8515c837-c3ae-40d8-a974-4472ee465c93",
   "metadata": {},
   "source": [
    "## 계층적 인덱싱"
   ]
  },
  {
   "cell_type": "code",
   "execution_count": 2,
   "id": "6bf9f274-2748-4363-aa4d-f23569c31b96",
   "metadata": {},
   "outputs": [],
   "source": [
    "# 한두 개보다 많은 키를 인덱스로 가지는 고차원 데이터를 저장하는 것이 필요\n",
    "# Pandas는 기본적으로 3차원 4차원 데이터를 처리할 수 있는 Panel과 Panel4D 객체를 제공\n",
    "# 하지만 실제로 더 일반적으로 사용되는 패턴은 단일 인덱스 내에 여러 인덱스 레벨을 포함하는 계층적 인덱싱(hierarchical indexing, 다중 인덱싱(multi-indexing))이라고 함\n",
    "# 이 방식으로 고차원 데이터를 익숙한 1차원 Series와 2차원 DataFrame 객체로 간결하게 표현 가능"
   ]
  },
  {
   "cell_type": "code",
   "execution_count": 4,
   "id": "f029f7e9-3c90-4a08-9c3f-8f18d07ef264",
   "metadata": {},
   "outputs": [],
   "source": [
    "import pandas as pd\n",
    "import numpy as np"
   ]
  },
  {
   "cell_type": "markdown",
   "id": "62f9f20b-4337-494d-9710-8d9decd9ad17",
   "metadata": {},
   "source": [
    "## 다중 인덱스된 Series\n",
    "+ 2차원 데이터 -> 1차원 Series에 표현"
   ]
  },
  {
   "cell_type": "code",
   "execution_count": 48,
   "id": "726a2331-b43d-49c2-8ba3-63a0823e09c7",
   "metadata": {},
   "outputs": [
    {
     "data": {
      "text/plain": [
       "(California, 2000)    33871648\n",
       "(California, 2010)    37253956\n",
       "(New York, 2000)      18976457\n",
       "(New York, 2010)      19378102\n",
       "(Texas, 2000)         20851820\n",
       "(Texas, 2010)         25145561\n",
       "dtype: int64"
      ]
     },
     "execution_count": 48,
     "metadata": {},
     "output_type": "execute_result"
    }
   ],
   "source": [
    "# 나쁜 방식\n",
    "\n",
    "# 두 연도에 대해 미국 주의 데이터를 추적한다고 가정, Pandas 도구를 사용 간단하게 파이썬 튜플을 키 값으로 사용하려고 할 수 있음\n",
    "# 이 다중 인덱스를 기반으로 시리즈를 인덱싱하거나 슬라이싱 할 수 있음\n",
    "index = [('California', 2000),('California', 2010),\n",
    "         ('New York', 2000),('New York', 2010),\n",
    "         ('Texas', 2000),('Texas', 2010)]\n",
    "population = [33871648, 37253956,\n",
    "              18976457, 19378102,\n",
    "              20851820, 25145561]\n",
    "pop = pd.Series(population, index=index)\n",
    "pop"
   ]
  },
  {
   "cell_type": "code",
   "execution_count": 17,
   "id": "905a4691-7789-4d9a-ba34-f7199c808eca",
   "metadata": {},
   "outputs": [
    {
     "data": {
      "text/plain": [
       "(California, 2010)    37253956\n",
       "(New York, 2000)      18976457\n",
       "(New York, 2010)      19378102\n",
       "(Texas, 2000)         20851820\n",
       "dtype: int64"
      ]
     },
     "execution_count": 17,
     "metadata": {},
     "output_type": "execute_result"
    }
   ],
   "source": [
    "pop[('California', 2010):('Texas', 2000)]"
   ]
  },
  {
   "cell_type": "code",
   "execution_count": 18,
   "id": "ac60372a-703d-41bc-8aac-be6fdec54951",
   "metadata": {},
   "outputs": [
    {
     "data": {
      "text/plain": [
       "(California, 2010)    37253956\n",
       "(New York, 2010)      19378102\n",
       "(Texas, 2010)         25145561\n",
       "dtype: int64"
      ]
     },
     "execution_count": 18,
     "metadata": {},
     "output_type": "execute_result"
    }
   ],
   "source": [
    "pop[[i for i in pop.index if i[1] == 2010]] # 2010년의 모든 값을 선택해야 한다면 다소 지저분하고 느리기까지한 데이터 먼징(munging)을 해야 함"
   ]
  },
  {
   "cell_type": "code",
   "execution_count": 19,
   "id": "0074867b-d843-4cb4-876f-eef118f62bb1",
   "metadata": {},
   "outputs": [],
   "source": [
    "# 결론 : 원하는 결과를 내줌, 하지만 Pandas 슬라이싱 구문만큼 깔끔하지도 않고 대규모 데이터의 경우에는 효율적이지 않음"
   ]
  },
  {
   "cell_type": "code",
   "execution_count": 47,
   "id": "c7156fce-73d9-448d-94e7-47e1e3f588be",
   "metadata": {},
   "outputs": [],
   "source": [
    "# 더 나은 방식: Pandas MultiIndex\n",
    "\n",
    "# 튜플을 기반으로 한 인덱싱은 근본적으로 가장 기초적인 다중 인덱스\n",
    "# Pandas의 MultiIndex 타입이 원하는 유형의 연산을 제공"
   ]
  },
  {
   "cell_type": "code",
   "execution_count": 21,
   "id": "6c1445e6-68a4-4a95-b414-5a14158efdbd",
   "metadata": {},
   "outputs": [
    {
     "data": {
      "text/plain": [
       "MultiIndex([('California', 2000),\n",
       "            ('California', 2010),\n",
       "            (  'New York', 2000),\n",
       "            (  'New York', 2010),\n",
       "            (     'Texas', 2000),\n",
       "            (     'Texas', 2010)],\n",
       "           )"
      ]
     },
     "execution_count": 21,
     "metadata": {},
     "output_type": "execute_result"
    }
   ],
   "source": [
    "index = pd.MultiIndex.from_tuples(index) # MultiIndex는 다중 레벨의 인덱싱을 포함, 이 경우 주 이름과 연도는 물론이고 이 레벨을 인코딩하는 각 데이터 점에 대한 여러 레이블을 갖고 있음\n",
    "index"
   ]
  },
  {
   "cell_type": "code",
   "execution_count": 23,
   "id": "40cb3543-db29-4d7e-b15e-8d1dbf0c48c3",
   "metadata": {},
   "outputs": [
    {
     "data": {
      "text/plain": [
       "California  2000    33871648\n",
       "            2010    37253956\n",
       "New York    2000    18976457\n",
       "            2010    19378102\n",
       "Texas       2000    20851820\n",
       "            2010    25145561\n",
       "dtype: int64"
      ]
     },
     "execution_count": 23,
     "metadata": {},
     "output_type": "execute_result"
    }
   ],
   "source": [
    "pop = pop.reindex(index) # MultiIndex를 시리즈로 다시 인덱싱하면 데이터의 계층적 표현을 볼 수 있음\n",
    "pop"
   ]
  },
  {
   "cell_type": "code",
   "execution_count": null,
   "id": "09a52851-de9a-4dc9-8810-e3e6b1514910",
   "metadata": {},
   "outputs": [],
   "source": [
    "# Series 표현의 첫 두 열은 다중 인덱스 값을 보여줌, 세 번째 열은 그 데이터를 보여줌\n",
    "# 첫 번쨰 열의 항목 몇 개가 누락돼 있음\n",
    "# 다중 인덱스 표현에서 빈 항목은 윗줄과 같은 값을 가리킴"
   ]
  },
  {
   "cell_type": "code",
   "execution_count": 24,
   "id": "60ba491b-551c-4b87-8974-3d58a42c825b",
   "metadata": {},
   "outputs": [
    {
     "data": {
      "text/plain": [
       "California    37253956\n",
       "New York      19378102\n",
       "Texas         25145561\n",
       "dtype: int64"
      ]
     },
     "execution_count": 24,
     "metadata": {},
     "output_type": "execute_result"
    }
   ],
   "source": [
    "pop[:, 2010] # 두 번째 인덱스가 2010인 모든 데이터에 접근, Pandas 슬라이싱 표기법 사용"
   ]
  },
  {
   "cell_type": "code",
   "execution_count": 25,
   "id": "f6b8e0fd-0e2c-4e97-ace9-800060d682ce",
   "metadata": {},
   "outputs": [],
   "source": [
    "# 결과 : 키 값 하나로 인덱스가 구성, 단순한 튜플 기반의 다중 인덱싱 해법보다 훨씬 더 편리하며 연산도 훨씬 더 효율적"
   ]
  },
  {
   "cell_type": "code",
   "execution_count": 46,
   "id": "154381bc-70cd-40e9-b588-473eb06a9f4a",
   "metadata": {},
   "outputs": [],
   "source": [
    "# MultiIndex: 추가 차원\n",
    "\n",
    "# 인덱스와 열 레이블을 가진 간단한 DataFrame을 사용, 동일한 데이터를 쉽게 저장할 수 있음\n",
    "# Pandas는 이런 유사성을 염두에 두고 만들어짐\n",
    "# unstack() 메서드는 다중 인덱스를 가진 Series를 전형적인 인덱스를 가진 DataFrame으로 빠르게 변환"
   ]
  },
  {
   "cell_type": "code",
   "execution_count": 27,
   "id": "76182f51-c07d-47b8-99d8-2f5054e20e35",
   "metadata": {},
   "outputs": [
    {
     "data": {
      "text/html": [
       "<div>\n",
       "<style scoped>\n",
       "    .dataframe tbody tr th:only-of-type {\n",
       "        vertical-align: middle;\n",
       "    }\n",
       "\n",
       "    .dataframe tbody tr th {\n",
       "        vertical-align: top;\n",
       "    }\n",
       "\n",
       "    .dataframe thead th {\n",
       "        text-align: right;\n",
       "    }\n",
       "</style>\n",
       "<table border=\"1\" class=\"dataframe\">\n",
       "  <thead>\n",
       "    <tr style=\"text-align: right;\">\n",
       "      <th></th>\n",
       "      <th>2000</th>\n",
       "      <th>2010</th>\n",
       "    </tr>\n",
       "  </thead>\n",
       "  <tbody>\n",
       "    <tr>\n",
       "      <th>California</th>\n",
       "      <td>33871648</td>\n",
       "      <td>37253956</td>\n",
       "    </tr>\n",
       "    <tr>\n",
       "      <th>New York</th>\n",
       "      <td>18976457</td>\n",
       "      <td>19378102</td>\n",
       "    </tr>\n",
       "    <tr>\n",
       "      <th>Texas</th>\n",
       "      <td>20851820</td>\n",
       "      <td>25145561</td>\n",
       "    </tr>\n",
       "  </tbody>\n",
       "</table>\n",
       "</div>"
      ],
      "text/plain": [
       "                2000      2010\n",
       "California  33871648  37253956\n",
       "New York    18976457  19378102\n",
       "Texas       20851820  25145561"
      ]
     },
     "execution_count": 27,
     "metadata": {},
     "output_type": "execute_result"
    }
   ],
   "source": [
    "pop_df = pop.unstack()\n",
    "pop_df"
   ]
  },
  {
   "cell_type": "code",
   "execution_count": 29,
   "id": "a558be3d-300a-4145-a03c-7f1e257fe00f",
   "metadata": {},
   "outputs": [
    {
     "data": {
      "text/plain": [
       "California  2000    33871648\n",
       "            2010    37253956\n",
       "New York    2000    18976457\n",
       "            2010    19378102\n",
       "Texas       2000    20851820\n",
       "            2010    25145561\n",
       "dtype: int64"
      ]
     },
     "execution_count": 29,
     "metadata": {},
     "output_type": "execute_result"
    }
   ],
   "source": [
    "pop_df.stack() # stack() 메서드는 이와 반대되는 연산을 제공"
   ]
  },
  {
   "cell_type": "code",
   "execution_count": 30,
   "id": "f26e73ca-3a87-42f6-a2d2-087615fa470a",
   "metadata": {},
   "outputs": [],
   "source": [
    "# 계층적 인덱싱을 왜 알아야 할까? => 2차원 데이터를 1차원 Series에 표현하기 위해 다중 인덱싱을 사용할 수 있는 것처럼 \n",
    "#                                 3차원이나 4차원 데이터를 Series나 DataFrame에 표현할 때도 사용할 수 있기 때문\n",
    "# 다중 인덱스에서 각 추가 레벨은 데이터의 추가적인 차원을 표현\n",
    "# 이 속성을 활용하면 표현할 수 있는 데이터 타임에 훨씬 더 많은 유연성을 제공"
   ]
  },
  {
   "cell_type": "code",
   "execution_count": 32,
   "id": "a07668f5-a6e3-4333-a94e-1af0c3abbb49",
   "metadata": {},
   "outputs": [
    {
     "data": {
      "text/html": [
       "<div>\n",
       "<style scoped>\n",
       "    .dataframe tbody tr th:only-of-type {\n",
       "        vertical-align: middle;\n",
       "    }\n",
       "\n",
       "    .dataframe tbody tr th {\n",
       "        vertical-align: top;\n",
       "    }\n",
       "\n",
       "    .dataframe thead th {\n",
       "        text-align: right;\n",
       "    }\n",
       "</style>\n",
       "<table border=\"1\" class=\"dataframe\">\n",
       "  <thead>\n",
       "    <tr style=\"text-align: right;\">\n",
       "      <th></th>\n",
       "      <th></th>\n",
       "      <th>total</th>\n",
       "      <th>under18</th>\n",
       "    </tr>\n",
       "  </thead>\n",
       "  <tbody>\n",
       "    <tr>\n",
       "      <th rowspan=\"2\" valign=\"top\">California</th>\n",
       "      <th>2000</th>\n",
       "      <td>33871648</td>\n",
       "      <td>9267089</td>\n",
       "    </tr>\n",
       "    <tr>\n",
       "      <th>2010</th>\n",
       "      <td>37253956</td>\n",
       "      <td>9284094</td>\n",
       "    </tr>\n",
       "    <tr>\n",
       "      <th rowspan=\"2\" valign=\"top\">New York</th>\n",
       "      <th>2000</th>\n",
       "      <td>18976457</td>\n",
       "      <td>4687374</td>\n",
       "    </tr>\n",
       "    <tr>\n",
       "      <th>2010</th>\n",
       "      <td>19378102</td>\n",
       "      <td>4318033</td>\n",
       "    </tr>\n",
       "    <tr>\n",
       "      <th rowspan=\"2\" valign=\"top\">Texas</th>\n",
       "      <th>2000</th>\n",
       "      <td>20851820</td>\n",
       "      <td>5906301</td>\n",
       "    </tr>\n",
       "    <tr>\n",
       "      <th>2010</th>\n",
       "      <td>25145561</td>\n",
       "      <td>6879014</td>\n",
       "    </tr>\n",
       "  </tbody>\n",
       "</table>\n",
       "</div>"
      ],
      "text/plain": [
       "                    total  under18\n",
       "California 2000  33871648  9267089\n",
       "           2010  37253956  9284094\n",
       "New York   2000  18976457  4687374\n",
       "           2010  19378102  4318033\n",
       "Texas      2000  20851820  5906301\n",
       "           2010  25145561  6879014"
      ]
     },
     "execution_count": 32,
     "metadata": {},
     "output_type": "execute_result"
    }
   ],
   "source": [
    "pop_df = pd.DataFrame({'total':pop,\n",
    "                       'under18':[9267089, 9284094,\n",
    "                                  4687374, 4318033,\n",
    "                                  5906301, 6879014]})\n",
    "# 연도별 각 주의 인구통계 데이터(18세 이하 인구수)를 별도의 열로 추가, MultiIndex를 이용하면 이 방식이 DataFrame에 열을 하나 추가하는 것만큼 쉬움\n",
    "pop_df"
   ]
  },
  {
   "cell_type": "code",
   "execution_count": 33,
   "id": "938c074d-e4c5-49ae-9ed3-7abc6219afd9",
   "metadata": {},
   "outputs": [
    {
     "data": {
      "text/html": [
       "<div>\n",
       "<style scoped>\n",
       "    .dataframe tbody tr th:only-of-type {\n",
       "        vertical-align: middle;\n",
       "    }\n",
       "\n",
       "    .dataframe tbody tr th {\n",
       "        vertical-align: top;\n",
       "    }\n",
       "\n",
       "    .dataframe thead th {\n",
       "        text-align: right;\n",
       "    }\n",
       "</style>\n",
       "<table border=\"1\" class=\"dataframe\">\n",
       "  <thead>\n",
       "    <tr style=\"text-align: right;\">\n",
       "      <th></th>\n",
       "      <th>2000</th>\n",
       "      <th>2010</th>\n",
       "    </tr>\n",
       "  </thead>\n",
       "  <tbody>\n",
       "    <tr>\n",
       "      <th>California</th>\n",
       "      <td>0.273594</td>\n",
       "      <td>0.249211</td>\n",
       "    </tr>\n",
       "    <tr>\n",
       "      <th>New York</th>\n",
       "      <td>0.247010</td>\n",
       "      <td>0.222831</td>\n",
       "    </tr>\n",
       "    <tr>\n",
       "      <th>Texas</th>\n",
       "      <td>0.283251</td>\n",
       "      <td>0.273568</td>\n",
       "    </tr>\n",
       "  </tbody>\n",
       "</table>\n",
       "</div>"
      ],
      "text/plain": [
       "                2000      2010\n",
       "California  0.273594  0.249211\n",
       "New York    0.247010  0.222831\n",
       "Texas       0.283251  0.273568"
      ]
     },
     "execution_count": 33,
     "metadata": {},
     "output_type": "execute_result"
    }
   ],
   "source": [
    "# 모든 유니버설 함수와 다른 기능들도 계층적 인덱스와 잘 동작\n",
    "# 위 데이터를 활용, 연도별로 18세 이하의 인구 비율을 계산\n",
    "f_u18 = pop_df['under18'] / pop_df['total']\n",
    "f_u18.unstack()"
   ]
  },
  {
   "cell_type": "code",
   "execution_count": 34,
   "id": "81d1332f-85ae-4a0c-8d3e-ae4c329bf0e8",
   "metadata": {},
   "outputs": [],
   "source": [
    "# 고차원 데이터도 빠르고 쉽게 가공하고 탐색 가능"
   ]
  },
  {
   "cell_type": "markdown",
   "id": "ce5abfc5-ee4a-4675-bae8-5e465fa1c851",
   "metadata": {},
   "source": [
    "## MultiIndex 생성 메서드"
   ]
  },
  {
   "cell_type": "code",
   "execution_count": 62,
   "id": "48e4e74b-e274-4134-9d41-cff0195a621f",
   "metadata": {},
   "outputs": [
    {
     "data": {
      "text/html": [
       "<div>\n",
       "<style scoped>\n",
       "    .dataframe tbody tr th:only-of-type {\n",
       "        vertical-align: middle;\n",
       "    }\n",
       "\n",
       "    .dataframe tbody tr th {\n",
       "        vertical-align: top;\n",
       "    }\n",
       "\n",
       "    .dataframe thead th {\n",
       "        text-align: right;\n",
       "    }\n",
       "</style>\n",
       "<table border=\"1\" class=\"dataframe\">\n",
       "  <thead>\n",
       "    <tr style=\"text-align: right;\">\n",
       "      <th></th>\n",
       "      <th></th>\n",
       "      <th>data1</th>\n",
       "      <th>data2</th>\n",
       "    </tr>\n",
       "  </thead>\n",
       "  <tbody>\n",
       "    <tr>\n",
       "      <th rowspan=\"2\" valign=\"top\">a</th>\n",
       "      <th>1</th>\n",
       "      <td>0.045855</td>\n",
       "      <td>0.014836</td>\n",
       "    </tr>\n",
       "    <tr>\n",
       "      <th>2</th>\n",
       "      <td>0.228579</td>\n",
       "      <td>0.360512</td>\n",
       "    </tr>\n",
       "    <tr>\n",
       "      <th rowspan=\"2\" valign=\"top\">b</th>\n",
       "      <th>1</th>\n",
       "      <td>0.881530</td>\n",
       "      <td>0.941299</td>\n",
       "    </tr>\n",
       "    <tr>\n",
       "      <th>2</th>\n",
       "      <td>0.701916</td>\n",
       "      <td>0.913719</td>\n",
       "    </tr>\n",
       "  </tbody>\n",
       "</table>\n",
       "</div>"
      ],
      "text/plain": [
       "        data1     data2\n",
       "a 1  0.045855  0.014836\n",
       "  2  0.228579  0.360512\n",
       "b 1  0.881530  0.941299\n",
       "  2  0.701916  0.913719"
      ]
     },
     "execution_count": 62,
     "metadata": {},
     "output_type": "execute_result"
    }
   ],
   "source": [
    "# 다중 인덱스를 가진 Series나 DataFrame을 생성하는 가장 간단한 방식은 생성자에 2개 이상의 인덱스 배열 리스트를 전달하는 것\n",
    "df = pd.DataFrame(np.random.rand(4, 2),\n",
    "                  index=[['a', 'a', 'b', 'b'], [1, 2, 1, 2]],\n",
    "                  columns=['data1', 'data2'])\n",
    "df"
   ]
  },
  {
   "cell_type": "code",
   "execution_count": 55,
   "id": "d343936b-fb7c-4bfb-b6db-0f055314f716",
   "metadata": {},
   "outputs": [
    {
     "data": {
      "text/plain": [
       "California  2000    33871648\n",
       "            2010    37253956\n",
       "Texas       2000    20851820\n",
       "            2010    25145561\n",
       "New York    2000    18976457\n",
       "            2010    19378102\n",
       "dtype: int64"
      ]
     },
     "execution_count": 55,
     "metadata": {},
     "output_type": "execute_result"
    }
   ],
   "source": [
    "# MultiIndx를 생성하는 작업은 백그라운드에서 일어남\n",
    "# 적당한 튜플을 키로 갖는 딕셔너리를 전달하면 Pandas는 자동으로 이것을 인식해 기본 MultiIndex를 사용\n",
    "data = {('California', 2000): 33871648,\n",
    "        ('California', 2010): 37253956,\n",
    "        ('Texas', 2000): 20851820,\n",
    "        ('Texas', 2010): 25145561,\n",
    "        ('New York', 2000): 18976457,\n",
    "        ('New York', 2010): 19378102}\n",
    "pd.Series(data)"
   ]
  },
  {
   "cell_type": "code",
   "execution_count": 56,
   "id": "751030cd-ed81-4d22-a213-aae2331eff90",
   "metadata": {},
   "outputs": [
    {
     "data": {
      "text/plain": [
       "MultiIndex([('a', 1),\n",
       "            ('a', 2),\n",
       "            ('b', 1),\n",
       "            ('b', 2)],\n",
       "           )"
      ]
     },
     "execution_count": 56,
     "metadata": {},
     "output_type": "execute_result"
    }
   ],
   "source": [
    "# 명시적 MultiIndex 생성자\n",
    "\n",
    "# 인덱스가 생성되는 방법에 더 많은 유연성을 제공하기 위해 pd.MultiIndex의 클래스 메서드 생성자를 사용\n",
    "# ex) 각 레벨 내에 인덱스 값을 제공하는 간단한 배열 리스트로부터 MultiIndex를 생성 가능\n",
    "pd.MultiIndex.from_arrays([['a', 'a', 'b', 'b'], [1, 2, 1, 2]])"
   ]
  },
  {
   "cell_type": "code",
   "execution_count": 57,
   "id": "67b9b92a-51dd-476c-9af0-866a7966af15",
   "metadata": {},
   "outputs": [
    {
     "data": {
      "text/plain": [
       "MultiIndex([('a', 1),\n",
       "            ('a', 2),\n",
       "            ('b', 1),\n",
       "            ('b', 2)],\n",
       "           )"
      ]
     },
     "execution_count": 57,
     "metadata": {},
     "output_type": "execute_result"
    }
   ],
   "source": [
    "pd.MultiIndex.from_tuples([('a',1), ('a',2), ('b',1), ('b',2)]) # 각 점의 여러 인덱스 값을 제공하는 튜플 리스트로부터 생성 가능"
   ]
  },
  {
   "cell_type": "code",
   "execution_count": 58,
   "id": "f0a6c3b1-a67d-42a2-9539-76f8d328c847",
   "metadata": {},
   "outputs": [
    {
     "data": {
      "text/plain": [
       "MultiIndex([('a', 1),\n",
       "            ('a', 2),\n",
       "            ('b', 1),\n",
       "            ('b', 2)],\n",
       "           )"
      ]
     },
     "execution_count": 58,
     "metadata": {},
     "output_type": "execute_result"
    }
   ],
   "source": [
    "pd.MultiIndex.from_product([['a', 'b'], [1, 2]]) # 단일 인덱스의 데카르트 곱(Cartesian product)으로부터 MultiIndex를 생성 가능"
   ]
  },
  {
   "cell_type": "code",
   "execution_count": 59,
   "id": "4a5b0a9a-a4b9-4509-85e3-ca69cd4cdc2d",
   "metadata": {},
   "outputs": [
    {
     "data": {
      "text/plain": [
       "MultiIndex([('a', 1),\n",
       "            ('a', 2),\n",
       "            ('b', 1),\n",
       "            ('b', 2)],\n",
       "           )"
      ]
     },
     "execution_count": 59,
     "metadata": {},
     "output_type": "execute_result"
    }
   ],
   "source": [
    "# 이 외 : levels(각 레벨에서 사용할 수 있는 인덱스 값을 담고 있는 리스트의 리스트)와 labels(이 레이블을 참조하는 리스트의 리스트)를 전달함으로써 그 내부 인코딩을 사용해 직접 MultiIndex를 생성 가능\n",
    "pd.MultiIndex(levels=[['a', 'b'], [1, 2]],\n",
    "              codes=[[0, 0, 1, 1], [0, 1, 0, 1]])"
   ]
  },
  {
   "cell_type": "code",
   "execution_count": 60,
   "id": "058e077d-69f6-4447-8bf3-d4a44b2cceb0",
   "metadata": {},
   "outputs": [],
   "source": [
    "# Series나 DataFrame을 생성할 때 index 인수로 이 객체를 기존 Series나 DataFrame의 reindex 메서드에 전달 가능"
   ]
  },
  {
   "cell_type": "code",
   "execution_count": 64,
   "id": "c669ae43-cf83-468a-a1b8-150ea702a679",
   "metadata": {},
   "outputs": [
    {
     "data": {
      "text/plain": [
       "(California, 2000)    33871648\n",
       "(California, 2010)    37253956\n",
       "(New York, 2000)      18976457\n",
       "(New York, 2010)      19378102\n",
       "(Texas, 2000)         20851820\n",
       "(Texas, 2010)         25145561\n",
       "dtype: int64"
      ]
     },
     "execution_count": 64,
     "metadata": {},
     "output_type": "execute_result"
    }
   ],
   "source": [
    "index = [('California', 2000),('California', 2010),\n",
    "         ('New York', 2000),('New York', 2010),\n",
    "         ('Texas', 2000),('Texas', 2010)]\n",
    "population = [33871648, 37253956,\n",
    "              18976457, 19378102,\n",
    "              20851820, 25145561]\n",
    "pop = pd.Series(population, index=index)\n",
    "pop"
   ]
  },
  {
   "cell_type": "code",
   "execution_count": 66,
   "id": "55a63a84-87dd-4cba-8534-b8c1628a0d1a",
   "metadata": {},
   "outputs": [],
   "source": [
    "# MultiIndex 생성\n",
    "multi_index = pd.MultiIndex.from_tuples(index, names=['state', 'year'])\n",
    "\n",
    "# Series 생성\n",
    "pop = pd.Series(population, index=multi_index)"
   ]
  },
  {
   "cell_type": "code",
   "execution_count": 67,
   "id": "6a8b3bd5-4ca9-4af6-8055-1c5485e93ffa",
   "metadata": {},
   "outputs": [
    {
     "data": {
      "text/plain": [
       "state       year\n",
       "California  2000    33871648\n",
       "            2010    37253956\n",
       "New York    2000    18976457\n",
       "            2010    19378102\n",
       "Texas       2000    20851820\n",
       "            2010    25145561\n",
       "dtype: int64"
      ]
     },
     "execution_count": 67,
     "metadata": {},
     "output_type": "execute_result"
    }
   ],
   "source": [
    "# MultiIndex 레벨 이름\n",
    "\n",
    "# MultiIndex의 레벨에 이름을 지정하는 것이 편리할 수 있음\n",
    "# 위의 MultiIndex 생성자에 names 인수를 전달하거나 생성 후에 인덱스의 names 속성을 설정해 이름을 지정 가능\n",
    "pop.index.names = ['state', 'year']\n",
    "pop"
   ]
  },
  {
   "cell_type": "code",
   "execution_count": 69,
   "id": "9b33ac5e-3cdd-4fd5-940c-87df87fe474b",
   "metadata": {},
   "outputs": [],
   "source": [
    "# 결과 : 관련 데이터세트가 많으면 이것이 다양한 인덱스 값의 의미를 파악할 수 있는 유용한 방식이 될 수 있음"
   ]
  },
  {
   "cell_type": "code",
   "execution_count": 70,
   "id": "ac12efda-3ff8-4ed7-9a8b-e5968c908cce",
   "metadata": {},
   "outputs": [],
   "source": [
    "# 열의 MultiIndex\n",
    "\n",
    "# DataFrame에서 행과 열은 완전히 대칭적이며 행이 인덱스의 여러 레벨을 가질 수 있듯이 열도 여러 레벨을 가질 수 있음"
   ]
  },
  {
   "cell_type": "code",
   "execution_count": 74,
   "id": "ebc52d34-ba36-43ef-9304-8c3a44ec2f5f",
   "metadata": {},
   "outputs": [
    {
     "data": {
      "text/html": [
       "<div>\n",
       "<style scoped>\n",
       "    .dataframe tbody tr th:only-of-type {\n",
       "        vertical-align: middle;\n",
       "    }\n",
       "\n",
       "    .dataframe tbody tr th {\n",
       "        vertical-align: top;\n",
       "    }\n",
       "\n",
       "    .dataframe thead tr th {\n",
       "        text-align: left;\n",
       "    }\n",
       "\n",
       "    .dataframe thead tr:last-of-type th {\n",
       "        text-align: right;\n",
       "    }\n",
       "</style>\n",
       "<table border=\"1\" class=\"dataframe\">\n",
       "  <thead>\n",
       "    <tr>\n",
       "      <th></th>\n",
       "      <th>subject</th>\n",
       "      <th colspan=\"2\" halign=\"left\">Bob</th>\n",
       "      <th colspan=\"2\" halign=\"left\">Guido</th>\n",
       "      <th colspan=\"2\" halign=\"left\">Sue</th>\n",
       "    </tr>\n",
       "    <tr>\n",
       "      <th></th>\n",
       "      <th>type</th>\n",
       "      <th>HR</th>\n",
       "      <th>Temp</th>\n",
       "      <th>HR</th>\n",
       "      <th>Temp</th>\n",
       "      <th>HR</th>\n",
       "      <th>Temp</th>\n",
       "    </tr>\n",
       "    <tr>\n",
       "      <th>year</th>\n",
       "      <th>visit</th>\n",
       "      <th></th>\n",
       "      <th></th>\n",
       "      <th></th>\n",
       "      <th></th>\n",
       "      <th></th>\n",
       "      <th></th>\n",
       "    </tr>\n",
       "  </thead>\n",
       "  <tbody>\n",
       "    <tr>\n",
       "      <th rowspan=\"2\" valign=\"top\">2013</th>\n",
       "      <th>1</th>\n",
       "      <td>40.0</td>\n",
       "      <td>38.1</td>\n",
       "      <td>21.0</td>\n",
       "      <td>37.5</td>\n",
       "      <td>41.0</td>\n",
       "      <td>36.8</td>\n",
       "    </tr>\n",
       "    <tr>\n",
       "      <th>2</th>\n",
       "      <td>38.0</td>\n",
       "      <td>38.2</td>\n",
       "      <td>24.0</td>\n",
       "      <td>37.3</td>\n",
       "      <td>17.0</td>\n",
       "      <td>37.9</td>\n",
       "    </tr>\n",
       "    <tr>\n",
       "      <th rowspan=\"2\" valign=\"top\">2014</th>\n",
       "      <th>1</th>\n",
       "      <td>42.0</td>\n",
       "      <td>38.3</td>\n",
       "      <td>43.0</td>\n",
       "      <td>36.1</td>\n",
       "      <td>27.0</td>\n",
       "      <td>37.4</td>\n",
       "    </tr>\n",
       "    <tr>\n",
       "      <th>2</th>\n",
       "      <td>50.0</td>\n",
       "      <td>35.2</td>\n",
       "      <td>56.0</td>\n",
       "      <td>37.0</td>\n",
       "      <td>40.0</td>\n",
       "      <td>35.5</td>\n",
       "    </tr>\n",
       "  </tbody>\n",
       "</table>\n",
       "</div>"
      ],
      "text/plain": [
       "subject      Bob       Guido         Sue      \n",
       "type          HR  Temp    HR  Temp    HR  Temp\n",
       "year visit                                    \n",
       "2013 1      40.0  38.1  21.0  37.5  41.0  36.8\n",
       "     2      38.0  38.2  24.0  37.3  17.0  37.9\n",
       "2014 1      42.0  38.3  43.0  36.1  27.0  37.4\n",
       "     2      50.0  35.2  56.0  37.0  40.0  35.5"
      ]
     },
     "execution_count": 74,
     "metadata": {},
     "output_type": "execute_result"
    }
   ],
   "source": [
    "# 가상 의료 데이터\n",
    "# 계층적 인덱스와 열\n",
    "index = pd.MultiIndex.from_product([[2013, 2014], [1, 2]],\n",
    "                                   names=['year', 'visit'])\n",
    "columns = pd.MultiIndex.from_product([['Bob', 'Guido', 'Sue'], ['HR', 'Temp']],\n",
    "                                     names=['subject', 'type'])\n",
    "\n",
    "# 일부 데이터 모형 만들기\n",
    "data = np.round(np.random.randn(4, 6), 1)\n",
    "data[:, ::2] *= 10\n",
    "data += 37\n",
    "\n",
    "# DataFrame 생성하기\n",
    "health_data = pd.DataFrame(data, index=index, columns=columns)\n",
    "health_data"
   ]
  },
  {
   "cell_type": "code",
   "execution_count": 75,
   "id": "421396fc-c544-40a5-bffc-a6b561c85014",
   "metadata": {},
   "outputs": [],
   "source": [
    "# 행과 열 모두에 대한 멀티 인덱싱이 어떤 경우에 매우 유용하게 쓰이는지 알 수 있음\n",
    "# 기본적으로 4차원 데이터, 여기서 차원은 대상(subject), 측정 유형(type), 연도(year), 방문 횟수(visit)\n",
    "# ex) 사람 이름으로 최상위 열의 인덱스를 지정하고 그 사람의 정보를 포함하는 전체 DataFrame을 가져올 수 있음"
   ]
  },
  {
   "cell_type": "code",
   "execution_count": 76,
   "id": "4ca3c5e4-36b5-4570-b766-1e39c757d9c3",
   "metadata": {},
   "outputs": [
    {
     "data": {
      "text/html": [
       "<div>\n",
       "<style scoped>\n",
       "    .dataframe tbody tr th:only-of-type {\n",
       "        vertical-align: middle;\n",
       "    }\n",
       "\n",
       "    .dataframe tbody tr th {\n",
       "        vertical-align: top;\n",
       "    }\n",
       "\n",
       "    .dataframe thead th {\n",
       "        text-align: right;\n",
       "    }\n",
       "</style>\n",
       "<table border=\"1\" class=\"dataframe\">\n",
       "  <thead>\n",
       "    <tr style=\"text-align: right;\">\n",
       "      <th></th>\n",
       "      <th>type</th>\n",
       "      <th>HR</th>\n",
       "      <th>Temp</th>\n",
       "    </tr>\n",
       "    <tr>\n",
       "      <th>year</th>\n",
       "      <th>visit</th>\n",
       "      <th></th>\n",
       "      <th></th>\n",
       "    </tr>\n",
       "  </thead>\n",
       "  <tbody>\n",
       "    <tr>\n",
       "      <th rowspan=\"2\" valign=\"top\">2013</th>\n",
       "      <th>1</th>\n",
       "      <td>21.0</td>\n",
       "      <td>37.5</td>\n",
       "    </tr>\n",
       "    <tr>\n",
       "      <th>2</th>\n",
       "      <td>24.0</td>\n",
       "      <td>37.3</td>\n",
       "    </tr>\n",
       "    <tr>\n",
       "      <th rowspan=\"2\" valign=\"top\">2014</th>\n",
       "      <th>1</th>\n",
       "      <td>43.0</td>\n",
       "      <td>36.1</td>\n",
       "    </tr>\n",
       "    <tr>\n",
       "      <th>2</th>\n",
       "      <td>56.0</td>\n",
       "      <td>37.0</td>\n",
       "    </tr>\n",
       "  </tbody>\n",
       "</table>\n",
       "</div>"
      ],
      "text/plain": [
       "type          HR  Temp\n",
       "year visit            \n",
       "2013 1      21.0  37.5\n",
       "     2      24.0  37.3\n",
       "2014 1      43.0  36.1\n",
       "     2      56.0  37.0"
      ]
     },
     "execution_count": 76,
     "metadata": {},
     "output_type": "execute_result"
    }
   ],
   "source": [
    "health_data['Guido']"
   ]
  },
  {
   "cell_type": "markdown",
   "id": "efcc766a-749c-492b-8da9-7bc762eb49ae",
   "metadata": {},
   "source": [
    "## MultiIndex 인덱싱 및 슬라이싱"
   ]
  },
  {
   "cell_type": "code",
   "execution_count": 77,
   "id": "647cb3ae-7eae-49de-97b9-9422f24a8d37",
   "metadata": {},
   "outputs": [],
   "source": [
    "# MultiIndex의 인덱싱과 슬라이싱은 직관적으로 설계, 인덱스를 추가된 차원으로 생각하면 이해 쉬움\n",
    "# 다중 인덱스를 가진 Series 인덱싱 살펴본 후, 다중 인덱스를 가진 DataFrame을 살펴 봄"
   ]
  },
  {
   "cell_type": "code",
   "execution_count": 78,
   "id": "f5ec7fd0-3e31-407a-b510-d4240dbc3927",
   "metadata": {},
   "outputs": [
    {
     "data": {
      "text/plain": [
       "state       year\n",
       "California  2000    33871648\n",
       "            2010    37253956\n",
       "New York    2000    18976457\n",
       "            2010    19378102\n",
       "Texas       2000    20851820\n",
       "            2010    25145561\n",
       "dtype: int64"
      ]
     },
     "execution_count": 78,
     "metadata": {},
     "output_type": "execute_result"
    }
   ],
   "source": [
    "# 다중 인덱스를 가진 Series\n",
    "\n",
    "# 주별 인구수 Series\n",
    "pop"
   ]
  },
  {
   "cell_type": "code",
   "execution_count": 79,
   "id": "2266a38f-42aa-4d11-9c11-b0cc35b3a808",
   "metadata": {},
   "outputs": [
    {
     "data": {
      "text/plain": [
       "33871648"
      ]
     },
     "execution_count": 79,
     "metadata": {},
     "output_type": "execute_result"
    }
   ],
   "source": [
    "pop['California', 2000] # 여러 용어로 인덱싱해서 단일 요소에 접근 가능"
   ]
  },
  {
   "cell_type": "code",
   "execution_count": 80,
   "id": "d6dcbc7d-c9ad-4582-aec2-9744433d5478",
   "metadata": {},
   "outputs": [
    {
     "data": {
      "text/plain": [
       "year\n",
       "2000    33871648\n",
       "2010    37253956\n",
       "dtype: int64"
      ]
     },
     "execution_count": 80,
     "metadata": {},
     "output_type": "execute_result"
    }
   ],
   "source": [
    "# MultiIndex는 부분 인덱싱(partial indexing)이나 인덱스 레벨 중 하나만 인덱싱하는 것도 지원\n",
    "# 그 결과 더 낮은 수준의 인덱스를 유지하는 다른 Series를 얻게 됨\n",
    "pop['California']"
   ]
  },
  {
   "cell_type": "code",
   "execution_count": 81,
   "id": "077d897b-1199-4a59-8934-1c4084c31a0e",
   "metadata": {},
   "outputs": [
    {
     "data": {
      "text/plain": [
       "state       year\n",
       "California  2000    33871648\n",
       "            2010    37253956\n",
       "New York    2000    18976457\n",
       "            2010    19378102\n",
       "dtype: int64"
      ]
     },
     "execution_count": 81,
     "metadata": {},
     "output_type": "execute_result"
    }
   ],
   "source": [
    "# MultiIndex가 정렬돼 있다면 부분 슬라이싱도 가능\n",
    "pop.loc['California':'New York']"
   ]
  },
  {
   "cell_type": "code",
   "execution_count": 82,
   "id": "b7f730af-bc2b-4502-9adb-50ea2fc1bfb2",
   "metadata": {},
   "outputs": [
    {
     "data": {
      "text/plain": [
       "state\n",
       "California    33871648\n",
       "New York      18976457\n",
       "Texas         20851820\n",
       "dtype: int64"
      ]
     },
     "execution_count": 82,
     "metadata": {},
     "output_type": "execute_result"
    }
   ],
   "source": [
    "# 인덱스가 정렬돼 있다면 첫 번째 인덱스에 빈 슬라이스를 전달함으로써 더 낮은 레벨에서 부분 인덱싱을 수행 가능\n",
    "pop[:, 2000]"
   ]
  },
  {
   "cell_type": "code",
   "execution_count": 83,
   "id": "fe5a4de5-e3fc-43db-ab64-91a3dffdf698",
   "metadata": {},
   "outputs": [
    {
     "data": {
      "text/plain": [
       "state       year\n",
       "California  2000    33871648\n",
       "            2010    37253956\n",
       "Texas       2010    25145561\n",
       "dtype: int64"
      ]
     },
     "execution_count": 83,
     "metadata": {},
     "output_type": "execute_result"
    }
   ],
   "source": [
    "# 다른 유형의 데이터 인덱싱과 선택 방식 역시 적용 가능, ex) 부울 마스크를 이용해 데이터를 선택 가능\n",
    "pop[pop > 22000000]"
   ]
  },
  {
   "cell_type": "code",
   "execution_count": 84,
   "id": "73f27d0b-bd7f-465b-903a-def2ae7b013f",
   "metadata": {},
   "outputs": [
    {
     "data": {
      "text/plain": [
       "state       year\n",
       "California  2000    33871648\n",
       "            2010    37253956\n",
       "Texas       2000    20851820\n",
       "            2010    25145561\n",
       "dtype: int64"
      ]
     },
     "execution_count": 84,
     "metadata": {},
     "output_type": "execute_result"
    }
   ],
   "source": [
    "# 팬시 인덱싱(fancy Indexing)을 이용한 데이터 선택도 가능\n",
    "pop[['California', 'Texas']]"
   ]
  },
  {
   "cell_type": "code",
   "execution_count": 85,
   "id": "5c4c7d9e-033b-4029-9928-3eb56055d676",
   "metadata": {},
   "outputs": [],
   "source": [
    "# 다중 인덱스를 가진 DataFrame\n",
    "\n",
    "# 다중 인덱스를 가진 DataFrame도 비슷한 방식으로 동작"
   ]
  },
  {
   "cell_type": "code",
   "execution_count": 86,
   "id": "9262b387-332e-4a79-a683-94fac295414b",
   "metadata": {},
   "outputs": [
    {
     "data": {
      "text/html": [
       "<div>\n",
       "<style scoped>\n",
       "    .dataframe tbody tr th:only-of-type {\n",
       "        vertical-align: middle;\n",
       "    }\n",
       "\n",
       "    .dataframe tbody tr th {\n",
       "        vertical-align: top;\n",
       "    }\n",
       "\n",
       "    .dataframe thead tr th {\n",
       "        text-align: left;\n",
       "    }\n",
       "\n",
       "    .dataframe thead tr:last-of-type th {\n",
       "        text-align: right;\n",
       "    }\n",
       "</style>\n",
       "<table border=\"1\" class=\"dataframe\">\n",
       "  <thead>\n",
       "    <tr>\n",
       "      <th></th>\n",
       "      <th>subject</th>\n",
       "      <th colspan=\"2\" halign=\"left\">Bob</th>\n",
       "      <th colspan=\"2\" halign=\"left\">Guido</th>\n",
       "      <th colspan=\"2\" halign=\"left\">Sue</th>\n",
       "    </tr>\n",
       "    <tr>\n",
       "      <th></th>\n",
       "      <th>type</th>\n",
       "      <th>HR</th>\n",
       "      <th>Temp</th>\n",
       "      <th>HR</th>\n",
       "      <th>Temp</th>\n",
       "      <th>HR</th>\n",
       "      <th>Temp</th>\n",
       "    </tr>\n",
       "    <tr>\n",
       "      <th>year</th>\n",
       "      <th>visit</th>\n",
       "      <th></th>\n",
       "      <th></th>\n",
       "      <th></th>\n",
       "      <th></th>\n",
       "      <th></th>\n",
       "      <th></th>\n",
       "    </tr>\n",
       "  </thead>\n",
       "  <tbody>\n",
       "    <tr>\n",
       "      <th rowspan=\"2\" valign=\"top\">2013</th>\n",
       "      <th>1</th>\n",
       "      <td>40.0</td>\n",
       "      <td>38.1</td>\n",
       "      <td>21.0</td>\n",
       "      <td>37.5</td>\n",
       "      <td>41.0</td>\n",
       "      <td>36.8</td>\n",
       "    </tr>\n",
       "    <tr>\n",
       "      <th>2</th>\n",
       "      <td>38.0</td>\n",
       "      <td>38.2</td>\n",
       "      <td>24.0</td>\n",
       "      <td>37.3</td>\n",
       "      <td>17.0</td>\n",
       "      <td>37.9</td>\n",
       "    </tr>\n",
       "    <tr>\n",
       "      <th rowspan=\"2\" valign=\"top\">2014</th>\n",
       "      <th>1</th>\n",
       "      <td>42.0</td>\n",
       "      <td>38.3</td>\n",
       "      <td>43.0</td>\n",
       "      <td>36.1</td>\n",
       "      <td>27.0</td>\n",
       "      <td>37.4</td>\n",
       "    </tr>\n",
       "    <tr>\n",
       "      <th>2</th>\n",
       "      <td>50.0</td>\n",
       "      <td>35.2</td>\n",
       "      <td>56.0</td>\n",
       "      <td>37.0</td>\n",
       "      <td>40.0</td>\n",
       "      <td>35.5</td>\n",
       "    </tr>\n",
       "  </tbody>\n",
       "</table>\n",
       "</div>"
      ],
      "text/plain": [
       "subject      Bob       Guido         Sue      \n",
       "type          HR  Temp    HR  Temp    HR  Temp\n",
       "year visit                                    \n",
       "2013 1      40.0  38.1  21.0  37.5  41.0  36.8\n",
       "     2      38.0  38.2  24.0  37.3  17.0  37.9\n",
       "2014 1      42.0  38.3  43.0  36.1  27.0  37.4\n",
       "     2      50.0  35.2  56.0  37.0  40.0  35.5"
      ]
     },
     "execution_count": 86,
     "metadata": {},
     "output_type": "execute_result"
    }
   ],
   "source": [
    "# 의료 DataFrame\n",
    "health_data"
   ]
  },
  {
   "cell_type": "code",
   "execution_count": 87,
   "id": "69fd8f67-7ebf-4cdc-a200-ff20371b7ec8",
   "metadata": {},
   "outputs": [
    {
     "data": {
      "text/plain": [
       "year  visit\n",
       "2013  1        21.0\n",
       "      2        24.0\n",
       "2014  1        43.0\n",
       "      2        56.0\n",
       "Name: (Guido, HR), dtype: float64"
      ]
     },
     "execution_count": 87,
     "metadata": {},
     "output_type": "execute_result"
    }
   ],
   "source": [
    "health_data['Guido', 'HR']"
   ]
  },
  {
   "cell_type": "markdown",
   "id": "f3c7bb52-a251-4c53-8ca5-1cc72608fde8",
   "metadata": {},
   "source": [
    "### 다중 인덱스 재정렬하기"
   ]
  },
  {
   "cell_type": "code",
   "execution_count": 88,
   "id": "1b0fc3f9-5541-45d1-ba83-75aafb11f2ac",
   "metadata": {},
   "outputs": [],
   "source": [
    "# 정렬된 인덱스와 정렬되지 않은 인덱스"
   ]
  },
  {
   "cell_type": "code",
   "execution_count": 89,
   "id": "d5798ffe-cbcc-406c-9272-3ad1ba76a89c",
   "metadata": {},
   "outputs": [],
   "source": [
    "# 인덱스 스태킹 및 언스태킹"
   ]
  },
  {
   "cell_type": "code",
   "execution_count": 90,
   "id": "93dc50a5-c597-4365-85d9-b27e21d73a2b",
   "metadata": {},
   "outputs": [],
   "source": [
    "# 인덱스 설정 및 재설정 <-- 중요!"
   ]
  },
  {
   "cell_type": "markdown",
   "id": "0d96b937-22ed-49d7-a678-3e506b484328",
   "metadata": {},
   "source": [
    "### 데이터세트 결합: Concat과 Append(없어짐)"
   ]
  },
  {
   "cell_type": "code",
   "execution_count": 91,
   "id": "29025feb-b96b-46c8-81bd-8be24fab1bef",
   "metadata": {},
   "outputs": [],
   "source": [
    "# 두 개의 다른 데이터를 매우 간단하게 연결하는 것부터 데이터 간 겹치는 부분을 제대로 처리하는 복잡한 데이터베이스 스타일을 조인하고 병합하는 것까지 다양하게 사용\n",
    "# Series와 DataFrame은 이 유형의 연산을 염두에 두고 만들어진 것\n",
    "# Pandas는 이러한 유형의 데이터 랭글링(data wrangling)을 빠르고 간단하게 할 수 있는 함수와 메서드를 제공"
   ]
  },
  {
   "cell_type": "code",
   "execution_count": 92,
   "id": "47ff7936-a123-4a99-b056-13eec50dbdfe",
   "metadata": {},
   "outputs": [],
   "source": [
    "import pandas as pd\n",
    "import numpy as np"
   ]
  },
  {
   "cell_type": "code",
   "execution_count": 93,
   "id": "4ac3ad3e-66c1-4eb7-9abf-2d0dd28aed93",
   "metadata": {},
   "outputs": [
    {
     "data": {
      "text/html": [
       "<div>\n",
       "<style scoped>\n",
       "    .dataframe tbody tr th:only-of-type {\n",
       "        vertical-align: middle;\n",
       "    }\n",
       "\n",
       "    .dataframe tbody tr th {\n",
       "        vertical-align: top;\n",
       "    }\n",
       "\n",
       "    .dataframe thead th {\n",
       "        text-align: right;\n",
       "    }\n",
       "</style>\n",
       "<table border=\"1\" class=\"dataframe\">\n",
       "  <thead>\n",
       "    <tr style=\"text-align: right;\">\n",
       "      <th></th>\n",
       "      <th>A</th>\n",
       "      <th>B</th>\n",
       "      <th>C</th>\n",
       "    </tr>\n",
       "  </thead>\n",
       "  <tbody>\n",
       "    <tr>\n",
       "      <th>0</th>\n",
       "      <td>A0</td>\n",
       "      <td>B0</td>\n",
       "      <td>C0</td>\n",
       "    </tr>\n",
       "    <tr>\n",
       "      <th>1</th>\n",
       "      <td>A1</td>\n",
       "      <td>B1</td>\n",
       "      <td>C1</td>\n",
       "    </tr>\n",
       "    <tr>\n",
       "      <th>2</th>\n",
       "      <td>A2</td>\n",
       "      <td>B2</td>\n",
       "      <td>C2</td>\n",
       "    </tr>\n",
       "  </tbody>\n",
       "</table>\n",
       "</div>"
      ],
      "text/plain": [
       "    A   B   C\n",
       "0  A0  B0  C0\n",
       "1  A1  B1  C1\n",
       "2  A2  B2  C2"
      ]
     },
     "execution_count": 93,
     "metadata": {},
     "output_type": "execute_result"
    }
   ],
   "source": [
    "def make_df(cols, ind):\n",
    "    \"\"\"빠르게 DataFrame 생성\"\"\"\n",
    "    data = {c: [str(c) + str(i) for i in ind]\n",
    "            for c in cols}\n",
    "    return pd.DataFrame(data, ind)\n",
    "\n",
    "# DataFrame 예제\n",
    "make_df('ABC', range(3))"
   ]
  },
  {
   "cell_type": "code",
   "execution_count": 94,
   "id": "53434544-b0ac-4e52-a853-95e015aa16a9",
   "metadata": {},
   "outputs": [],
   "source": [
    "# 여러 개의 데이터프레임을 나란히 표시할 수 있는 간단한 클래스\n",
    "# IPython/Jupyter가 객체를 표시하는 데 사용하는 특수 _repr_html_ 메서드를 사용\n",
    "class display(object):\n",
    "    \"\"\"Display HTML representation of multiple objects\"\"\"\n",
    "    template = \"\"\"<div style=\"float: left; padding: 10px;\" >\"\"\"\n",
    "    def __init__(self, *args):\n",
    "        self.args = args\n",
    "    def _repr_html(self):\n",
    "        return '\\n'.join(self.template.format(a, eval(a)._repr_html_())\n",
    "            for a in self.args)\n",
    "    def __repr__(self):\n",
    "        return '\\n\\n'.join(a + '\\n' + repr(eval(a))\n",
    "            for a in self.args)"
   ]
  },
  {
   "cell_type": "markdown",
   "id": "b1516214-d1d0-48fd-9ed1-18b207c4d40f",
   "metadata": {},
   "source": [
    "### 복습: NumPy 배열 연결"
   ]
  },
  {
   "cell_type": "code",
   "execution_count": 95,
   "id": "4cca7252-20e3-4476-97ee-cc9f6c6d264c",
   "metadata": {},
   "outputs": [
    {
     "data": {
      "text/plain": [
       "array([1, 2, 3, 4, 5, 6, 7, 8, 9])"
      ]
     },
     "execution_count": 95,
     "metadata": {},
     "output_type": "execute_result"
    }
   ],
   "source": [
    "# Series와 DataFrame 객체의 연결은 np.concatenate 함수를 사용하는 NumPy 배열 연결과 매우 유사\n",
    "# 이 함수를 이용하면 두 개 이상의 배열의 콘텐츠를 하나의 배열로 결합할 수 있음\n",
    "x = [1, 2, 3]\n",
    "y = [4, 5, 6]\n",
    "z = [7, 8, 9]\n",
    "np.concatenate([x, y, z])"
   ]
  },
  {
   "cell_type": "code",
   "execution_count": 96,
   "id": "c9124723-258b-46d5-a35e-c75751f2935c",
   "metadata": {},
   "outputs": [
    {
     "data": {
      "text/plain": [
       "array([[1, 2, 1, 2],\n",
       "       [3, 4, 3, 4]])"
      ]
     },
     "execution_count": 96,
     "metadata": {},
     "output_type": "execute_result"
    }
   ],
   "source": [
    "# 첫 번째 인수는 연결할 배열의 리스트나 튜플, axis 키워드를 사용해 결과를 어느 축에 따라 연결할 것인지 지정 가능\n",
    "x = [[1, 2],\n",
    "     [3, 4]]\n",
    "np.concatenate([x, x], axis=1)"
   ]
  },
  {
   "cell_type": "markdown",
   "id": "2b0863f8-2ac1-4406-95d3-acf6bcc4d054",
   "metadata": {},
   "source": [
    "### pd.concat을 이용한 간단한 연결"
   ]
  },
  {
   "cell_type": "code",
   "execution_count": 97,
   "id": "67d04098-8807-410c-9888-1dbf20c30376",
   "metadata": {},
   "outputs": [],
   "source": [
    "# Pandas에는 np.concateante와 구문이 매우 비슷하지만 다양한 옵션을 가진 pd.concat() 함수가 있음"
   ]
  },
  {
   "cell_type": "code",
   "execution_count": 99,
   "id": "568da4cf-45ab-4446-bc7d-a142841d7255",
   "metadata": {},
   "outputs": [],
   "source": [
    "# Pandas 0.19 버전에서 pd.concat() 함수 시그니처\n",
    "#pd.concat(objs, axis=0, join='outer', join_axes=None, ignore_index=False,\n",
    "#         keys=None, levels=None, names=None, verify_integrity=False,\n",
    "#          sort=False, copy=True)"
   ]
  },
  {
   "cell_type": "code",
   "execution_count": 100,
   "id": "73bbe27a-1660-4a45-bd6e-4fcf4d5f3075",
   "metadata": {},
   "outputs": [
    {
     "data": {
      "text/plain": [
       "1    A\n",
       "2    B\n",
       "3    C\n",
       "4    D\n",
       "5    E\n",
       "6    F\n",
       "dtype: object"
      ]
     },
     "execution_count": 100,
     "metadata": {},
     "output_type": "execute_result"
    }
   ],
   "source": [
    "# np.concatenate()를 배열을 간단하게 연결하는 데 사용할 수 있는 것처럼 pd.concat()은 Series나 DataFrame 객체를 간단하게 연결할 때 사용\n",
    "ser1 = pd.Series(['A', 'B', 'C'], index=[1, 2, 3])\n",
    "ser2 = pd.Series(['D', 'E', 'F'], index=[4, 5, 6])\n",
    "pd.concat([ser1, ser2])"
   ]
  },
  {
   "cell_type": "code",
   "execution_count": 107,
   "id": "035f4215-e639-453f-898b-8f95e5dc81e2",
   "metadata": {},
   "outputs": [
    {
     "name": "stdout",
     "output_type": "stream",
     "text": [
      "    A   B\n",
      "1  A1  B1\n",
      "2  A2  B2\n",
      "\n",
      "    A   B\n",
      "3  A3  B3\n",
      "4  A4  B4\n",
      "\n",
      "    A   B\n",
      "1  A1  B1\n",
      "2  A2  B2\n",
      "3  A3  B3\n",
      "4  A4  B4\n"
     ]
    }
   ],
   "source": [
    "# pd.concat()을 이용하면 DataFrame 같은 고차원 객체를 연결 가능\n",
    "df1 = make_df('AB', [1, 2])\n",
    "df2 = make_df('AB', [3, 4])\n",
    "print(df1.to_string() + \"\\n\"); print(df2.to_string() + \"\\n\"); print(pd.concat([df1, df2]).to_string())"
   ]
  },
  {
   "cell_type": "code",
   "execution_count": 108,
   "id": "a16d9c1a-9529-4253-83fb-96d0f9d6a987",
   "metadata": {},
   "outputs": [
    {
     "name": "stdout",
     "output_type": "stream",
     "text": [
      "    A   B\n",
      "0  A0  B0\n",
      "1  A1  B1\n",
      "\n",
      "    A   B\n",
      "0  A2  B2\n",
      "1  A3  B3\n",
      "\n",
      "    A   B\n",
      "0  A0  B0\n",
      "1  A1  B1\n",
      "0  A2  B2\n",
      "1  A3  B3\n"
     ]
    }
   ],
   "source": [
    "# 인덱스 복제\n",
    "\n",
    "# np.concatenate와 pd.concat의 중요한 차이 : Pandas에서의 연결은 그 결과가 복제된 인덱스를 가지더라도 인덱스를 유지한다는 데 있음\n",
    "x = make_df('AB', [0, 1])\n",
    "y = make_df('AB', [2, 3])\n",
    "y.index = x.index # 복제 인덱스 생성!\n",
    "print(x.to_string() + \"\\n\"); print(y.to_string() + \"\\n\"); print(pd.concat([x, y]).to_string())"
   ]
  },
  {
   "cell_type": "code",
   "execution_count": 109,
   "id": "7c9bbe32-913a-4f61-a1a2-215c42d81954",
   "metadata": {},
   "outputs": [],
   "source": [
    "# 결과 : 인덱스가 반복, DataFrame 내에서는 유효하지만 결과가 바람직하지 않은 경우가 있음 -> pd.concat()은 이 문제를 처리하는 몇 가지 방법을 제공"
   ]
  },
  {
   "cell_type": "code",
   "execution_count": 110,
   "id": "d110d9b6-328b-46fc-bc6b-5662d71243a0",
   "metadata": {},
   "outputs": [],
   "source": [
    "# 1. 반복을 에러로 잡아낸다\n",
    "\n",
    "# pd.concat()의 결과에서 인덱스가 겹치지 않는지 간단히 검증하고 싶으면 verify_integrity 플래그를 지정\n",
    "# 이 플래그를 True로 설정하면 연결 작업에서 중복 인덱스가 있을 때 예외가 발생"
   ]
  },
  {
   "cell_type": "code",
   "execution_count": 113,
   "id": "05fde2c6-f8e7-404d-a99d-3ac1806f66ae",
   "metadata": {},
   "outputs": [
    {
     "name": "stdout",
     "output_type": "stream",
     "text": [
      "ValueError: Indexes have overlapping values: Index([0, 1], dtype='int64')\n"
     ]
    }
   ],
   "source": [
    "# 확인을 위해 오류를 잡아내고 메시지를 출력\n",
    "try:\n",
    "    pd.concat([x, y], verify_integrity=True)\n",
    "except ValueError as e:\n",
    "    print(\"ValueError:\", e)"
   ]
  },
  {
   "cell_type": "code",
   "execution_count": 117,
   "id": "8e7fe673-c7d2-4d5e-b875-674abf5df48f",
   "metadata": {},
   "outputs": [
    {
     "name": "stdout",
     "output_type": "stream",
     "text": [
      "    A   B\n",
      "0  A0  B0\n",
      "1  A1  B1\n",
      "\n",
      "    A   B\n",
      "0  A2  B2\n",
      "1  A3  B3\n",
      "\n",
      "    A   B\n",
      "0  A0  B0\n",
      "1  A1  B1\n",
      "2  A2  B2\n",
      "3  A3  B3\n"
     ]
    }
   ],
   "source": [
    "# 2. 인덱스를 무시한다\n",
    "\n",
    "# 인덱스 자체가 중요하지 않은 경우에는 그냥 인덱스를 무시, ignore_index 플래그를 사용해 이 옵션을 지정 가능\n",
    "# 이 플래그를 True로 설정하면 연결 작업은 결과 Series에 새로운 정수 인덱스를 생성\n",
    "print(x.to_string() + \"\\n\"); print(y.to_string() + \"\\n\"); print(pd.concat([x, y], ignore_index=True).to_string())"
   ]
  },
  {
   "cell_type": "code",
   "execution_count": 118,
   "id": "ef842936-cb48-4dea-b7dd-59be3ce5d549",
   "metadata": {},
   "outputs": [],
   "source": [
    "# 3. 다중 인덱스 키를 추가한다\n",
    "\n"
   ]
  },
  {
   "cell_type": "code",
   "execution_count": 119,
   "id": "840f01b2-b4c3-4090-8448-293def3e6dee",
   "metadata": {},
   "outputs": [],
   "source": [
    "# 조인을 이용한 연결"
   ]
  },
  {
   "cell_type": "code",
   "execution_count": 120,
   "id": "d528dbfe-3417-4ca1-9c5c-ff51f7508a0f",
   "metadata": {},
   "outputs": [],
   "source": [
    "# 데이터세트 결합하기: 병합과 조인"
   ]
  },
  {
   "cell_type": "code",
   "execution_count": 122,
   "id": "ce27aa87-d28f-44a4-b6b0-126bba951716",
   "metadata": {},
   "outputs": [],
   "source": [
    "import pandas as pd\n",
    "import numpy as np\n",
    "\n",
    "class display(object):\n",
    "    \"\"\"Display HTML representation of multiple objects\"\"\"\n",
    "    template = \"\"\"<div style=\"float: left; padding: 10px;\">\n",
    "    <p style='font-family:\"Courier New\", Courier, monospace'>{0}{1}\"\"\"\n",
    "    def __init__(self, *args):\n",
    "        self.args = args\n",
    "    def _repr_html_(self):\n",
    "        return '\\n'.join(self.template.format(a, eval(a)._repr_html_())\n",
    "                         for a in self.args)\n",
    "    def __repr__(self):\n",
    "        return '\\n\\n'.join(a + '\\n' + repr(eval(a))\n",
    "                           for a in self.args)"
   ]
  },
  {
   "cell_type": "markdown",
   "id": "d74e2cf3-8550-4c22-b1ce-14beb58c16af",
   "metadata": {},
   "source": [
    "### 관계 대수"
   ]
  },
  {
   "cell_type": "markdown",
   "id": "77176a50-8cd8-4600-bafc-b08cde5ab87a",
   "metadata": {},
   "source": [
    "### 조인 작업의 분류"
   ]
  },
  {
   "cell_type": "code",
   "execution_count": 123,
   "id": "9f73542a-2ccb-4e41-a5ba-22809c3e6275",
   "metadata": {},
   "outputs": [],
   "source": [
    "#일대일 조인\n",
    "\n",
    "df1 = pd.DataFrame()"
   ]
  },
  {
   "cell_type": "markdown",
   "id": "9db60d84-fa31-44ef-a273-7e4c7a99d792",
   "metadata": {},
   "source": [
    "### 예제: 미국 주 데이터"
   ]
  },
  {
   "cell_type": "code",
   "execution_count": 125,
   "id": "535498d0-41d1-4264-a4a4-929b05d942d4",
   "metadata": {},
   "outputs": [
    {
     "name": "stdout",
     "output_type": "stream",
     "text": [
      "  state/region     ages  year  population\n",
      "0           AL  under18  2012   1117489.0\n",
      "1           AL    total  2012   4817528.0\n",
      "2           AL  under18  2010   1130966.0\n",
      "3           AL    total  2010   4785570.0\n",
      "4           AL  under18  2011   1125763.0\n",
      "\n",
      "        state  area (sq. mi)\n",
      "0     Alabama          52423\n",
      "1      Alaska         656425\n",
      "2     Arizona         114006\n",
      "3    Arkansas          53182\n",
      "4  California         163707\n",
      "\n",
      "        state abbreviation\n",
      "0     Alabama           AL\n",
      "1      Alaska           AK\n",
      "2     Arizona           AZ\n",
      "3    Arkansas           AR\n",
      "4  California           CA\n"
     ]
    }
   ],
   "source": [
    "pop = pd.read_csv('data/state-population.csv')\n",
    "areas = pd.read_csv('data/state-areas.csv')\n",
    "abbrevs = pd.read_csv('data/state-abbrevs.csv')\n",
    "\n",
    "print(pop.head().to_string() + \"\\n\"); print(areas.head().to_string() + \"\\n\"); print(abbrevs.head());"
   ]
  },
  {
   "cell_type": "code",
   "execution_count": 126,
   "id": "a22bc3eb-0b93-4c2b-8344-ea575bc7f186",
   "metadata": {},
   "outputs": [
    {
     "data": {
      "text/html": [
       "<div>\n",
       "<style scoped>\n",
       "    .dataframe tbody tr th:only-of-type {\n",
       "        vertical-align: middle;\n",
       "    }\n",
       "\n",
       "    .dataframe tbody tr th {\n",
       "        vertical-align: top;\n",
       "    }\n",
       "\n",
       "    .dataframe thead th {\n",
       "        text-align: right;\n",
       "    }\n",
       "</style>\n",
       "<table border=\"1\" class=\"dataframe\">\n",
       "  <thead>\n",
       "    <tr style=\"text-align: right;\">\n",
       "      <th></th>\n",
       "      <th>state</th>\n",
       "      <th>abbreviation</th>\n",
       "    </tr>\n",
       "  </thead>\n",
       "  <tbody>\n",
       "    <tr>\n",
       "      <th>0</th>\n",
       "      <td>Alabama</td>\n",
       "      <td>AL</td>\n",
       "    </tr>\n",
       "    <tr>\n",
       "      <th>1</th>\n",
       "      <td>Alaska</td>\n",
       "      <td>AK</td>\n",
       "    </tr>\n",
       "    <tr>\n",
       "      <th>2</th>\n",
       "      <td>Arizona</td>\n",
       "      <td>AZ</td>\n",
       "    </tr>\n",
       "    <tr>\n",
       "      <th>3</th>\n",
       "      <td>Arkansas</td>\n",
       "      <td>AR</td>\n",
       "    </tr>\n",
       "    <tr>\n",
       "      <th>4</th>\n",
       "      <td>California</td>\n",
       "      <td>CA</td>\n",
       "    </tr>\n",
       "  </tbody>\n",
       "</table>\n",
       "</div>"
      ],
      "text/plain": [
       "        state abbreviation\n",
       "0     Alabama           AL\n",
       "1      Alaska           AK\n",
       "2     Arizona           AZ\n",
       "3    Arkansas           AR\n",
       "4  California           CA"
      ]
     },
     "execution_count": 126,
     "metadata": {},
     "output_type": "execute_result"
    }
   ],
   "source": [
    "abbrevs.head()"
   ]
  },
  {
   "cell_type": "code",
   "execution_count": 129,
   "id": "6922e8e3-3ea8-4bd4-8266-5270038d2d81",
   "metadata": {},
   "outputs": [
    {
     "data": {
      "text/html": [
       "<div>\n",
       "<style scoped>\n",
       "    .dataframe tbody tr th:only-of-type {\n",
       "        vertical-align: middle;\n",
       "    }\n",
       "\n",
       "    .dataframe tbody tr th {\n",
       "        vertical-align: top;\n",
       "    }\n",
       "\n",
       "    .dataframe thead th {\n",
       "        text-align: right;\n",
       "    }\n",
       "</style>\n",
       "<table border=\"1\" class=\"dataframe\">\n",
       "  <thead>\n",
       "    <tr style=\"text-align: right;\">\n",
       "      <th></th>\n",
       "      <th>state/region</th>\n",
       "      <th>ages</th>\n",
       "      <th>year</th>\n",
       "      <th>population</th>\n",
       "      <th>state</th>\n",
       "    </tr>\n",
       "  </thead>\n",
       "  <tbody>\n",
       "    <tr>\n",
       "      <th>0</th>\n",
       "      <td>AK</td>\n",
       "      <td>total</td>\n",
       "      <td>1990</td>\n",
       "      <td>553290.0</td>\n",
       "      <td>Alaska</td>\n",
       "    </tr>\n",
       "    <tr>\n",
       "      <th>1</th>\n",
       "      <td>AK</td>\n",
       "      <td>under18</td>\n",
       "      <td>1990</td>\n",
       "      <td>177502.0</td>\n",
       "      <td>Alaska</td>\n",
       "    </tr>\n",
       "    <tr>\n",
       "      <th>2</th>\n",
       "      <td>AK</td>\n",
       "      <td>total</td>\n",
       "      <td>1992</td>\n",
       "      <td>588736.0</td>\n",
       "      <td>Alaska</td>\n",
       "    </tr>\n",
       "    <tr>\n",
       "      <th>3</th>\n",
       "      <td>AK</td>\n",
       "      <td>under18</td>\n",
       "      <td>1991</td>\n",
       "      <td>182180.0</td>\n",
       "      <td>Alaska</td>\n",
       "    </tr>\n",
       "    <tr>\n",
       "      <th>4</th>\n",
       "      <td>AK</td>\n",
       "      <td>under18</td>\n",
       "      <td>1992</td>\n",
       "      <td>184878.0</td>\n",
       "      <td>Alaska</td>\n",
       "    </tr>\n",
       "  </tbody>\n",
       "</table>\n",
       "</div>"
      ],
      "text/plain": [
       "  state/region     ages  year  population   state\n",
       "0           AK    total  1990    553290.0  Alaska\n",
       "1           AK  under18  1990    177502.0  Alaska\n",
       "2           AK    total  1992    588736.0  Alaska\n",
       "3           AK  under18  1991    182180.0  Alaska\n",
       "4           AK  under18  1992    184878.0  Alaska"
      ]
     },
     "execution_count": 129,
     "metadata": {},
     "output_type": "execute_result"
    }
   ],
   "source": [
    "merged = pd.merge(pop, abbrevs, how='outer', left_on='state/region', right_on='abbreviation')\n",
    "merged = merged.drop('abbreviation', axis=1) # 중복 정보 삭제\n",
    "merged.head()"
   ]
  },
  {
   "cell_type": "code",
   "execution_count": 130,
   "id": "e3655749-4ca0-4f42-a783-2463ec6dee69",
   "metadata": {},
   "outputs": [
    {
     "data": {
      "text/plain": [
       "state/region    False\n",
       "ages            False\n",
       "year            False\n",
       "population       True\n",
       "state            True\n",
       "dtype: bool"
      ]
     },
     "execution_count": 130,
     "metadata": {},
     "output_type": "execute_result"
    }
   ],
   "source": [
    "merged.isnull().any()"
   ]
  },
  {
   "cell_type": "code",
   "execution_count": 132,
   "id": "0aa2d2fc-6a49-4c50-93d8-d43808e760fe",
   "metadata": {},
   "outputs": [
    {
     "data": {
      "text/html": [
       "<div>\n",
       "<style scoped>\n",
       "    .dataframe tbody tr th:only-of-type {\n",
       "        vertical-align: middle;\n",
       "    }\n",
       "\n",
       "    .dataframe tbody tr th {\n",
       "        vertical-align: top;\n",
       "    }\n",
       "\n",
       "    .dataframe thead th {\n",
       "        text-align: right;\n",
       "    }\n",
       "</style>\n",
       "<table border=\"1\" class=\"dataframe\">\n",
       "  <thead>\n",
       "    <tr style=\"text-align: right;\">\n",
       "      <th></th>\n",
       "      <th>state/region</th>\n",
       "      <th>ages</th>\n",
       "      <th>year</th>\n",
       "      <th>population</th>\n",
       "      <th>state</th>\n",
       "    </tr>\n",
       "  </thead>\n",
       "  <tbody>\n",
       "    <tr>\n",
       "      <th>1872</th>\n",
       "      <td>PR</td>\n",
       "      <td>under18</td>\n",
       "      <td>1990</td>\n",
       "      <td>NaN</td>\n",
       "      <td>NaN</td>\n",
       "    </tr>\n",
       "    <tr>\n",
       "      <th>1873</th>\n",
       "      <td>PR</td>\n",
       "      <td>total</td>\n",
       "      <td>1990</td>\n",
       "      <td>NaN</td>\n",
       "      <td>NaN</td>\n",
       "    </tr>\n",
       "    <tr>\n",
       "      <th>1874</th>\n",
       "      <td>PR</td>\n",
       "      <td>total</td>\n",
       "      <td>1991</td>\n",
       "      <td>NaN</td>\n",
       "      <td>NaN</td>\n",
       "    </tr>\n",
       "    <tr>\n",
       "      <th>1875</th>\n",
       "      <td>PR</td>\n",
       "      <td>under18</td>\n",
       "      <td>1991</td>\n",
       "      <td>NaN</td>\n",
       "      <td>NaN</td>\n",
       "    </tr>\n",
       "    <tr>\n",
       "      <th>1876</th>\n",
       "      <td>PR</td>\n",
       "      <td>total</td>\n",
       "      <td>1993</td>\n",
       "      <td>NaN</td>\n",
       "      <td>NaN</td>\n",
       "    </tr>\n",
       "  </tbody>\n",
       "</table>\n",
       "</div>"
      ],
      "text/plain": [
       "     state/region     ages  year  population state\n",
       "1872           PR  under18  1990         NaN   NaN\n",
       "1873           PR    total  1990         NaN   NaN\n",
       "1874           PR    total  1991         NaN   NaN\n",
       "1875           PR  under18  1991         NaN   NaN\n",
       "1876           PR    total  1993         NaN   NaN"
      ]
     },
     "execution_count": 132,
     "metadata": {},
     "output_type": "execute_result"
    }
   ],
   "source": [
    "merged[merged['population'].isnull()].head()"
   ]
  },
  {
   "cell_type": "code",
   "execution_count": 133,
   "id": "029c39c6-c01e-4607-9201-244987188110",
   "metadata": {},
   "outputs": [
    {
     "data": {
      "text/plain": [
       "array(['PR', 'USA'], dtype=object)"
      ]
     },
     "execution_count": 133,
     "metadata": {},
     "output_type": "execute_result"
    }
   ],
   "source": [
    "merged.loc[merged.state.isnull(), 'state/region'].unique()"
   ]
  },
  {
   "cell_type": "code",
   "execution_count": 136,
   "id": "1d410796-2fda-4889-a2f4-59ce8411a609",
   "metadata": {},
   "outputs": [
    {
     "data": {
      "text/plain": [
       "state/region    False\n",
       "ages            False\n",
       "year            False\n",
       "population       True\n",
       "state           False\n",
       "dtype: bool"
      ]
     },
     "execution_count": 136,
     "metadata": {},
     "output_type": "execute_result"
    }
   ],
   "source": [
    "merged.loc[merged['state/region'] == 'PR', 'state'] = 'Puerto Rico'\n",
    "merged.loc[merged['state/region'] == 'USA', 'state'] = 'United States'\n",
    "merged.isnull().any()"
   ]
  },
  {
   "cell_type": "code",
   "execution_count": 137,
   "id": "00d41908-5b37-4aec-aa76-e00a7bfb8c6e",
   "metadata": {},
   "outputs": [
    {
     "data": {
      "text/html": [
       "<div>\n",
       "<style scoped>\n",
       "    .dataframe tbody tr th:only-of-type {\n",
       "        vertical-align: middle;\n",
       "    }\n",
       "\n",
       "    .dataframe tbody tr th {\n",
       "        vertical-align: top;\n",
       "    }\n",
       "\n",
       "    .dataframe thead th {\n",
       "        text-align: right;\n",
       "    }\n",
       "</style>\n",
       "<table border=\"1\" class=\"dataframe\">\n",
       "  <thead>\n",
       "    <tr style=\"text-align: right;\">\n",
       "      <th></th>\n",
       "      <th>state/region</th>\n",
       "      <th>ages</th>\n",
       "      <th>year</th>\n",
       "      <th>population</th>\n",
       "      <th>state</th>\n",
       "      <th>area (sq. mi)</th>\n",
       "    </tr>\n",
       "  </thead>\n",
       "  <tbody>\n",
       "    <tr>\n",
       "      <th>0</th>\n",
       "      <td>AK</td>\n",
       "      <td>total</td>\n",
       "      <td>1990</td>\n",
       "      <td>553290.0</td>\n",
       "      <td>Alaska</td>\n",
       "      <td>656425.0</td>\n",
       "    </tr>\n",
       "    <tr>\n",
       "      <th>1</th>\n",
       "      <td>AK</td>\n",
       "      <td>under18</td>\n",
       "      <td>1990</td>\n",
       "      <td>177502.0</td>\n",
       "      <td>Alaska</td>\n",
       "      <td>656425.0</td>\n",
       "    </tr>\n",
       "    <tr>\n",
       "      <th>2</th>\n",
       "      <td>AK</td>\n",
       "      <td>total</td>\n",
       "      <td>1992</td>\n",
       "      <td>588736.0</td>\n",
       "      <td>Alaska</td>\n",
       "      <td>656425.0</td>\n",
       "    </tr>\n",
       "    <tr>\n",
       "      <th>3</th>\n",
       "      <td>AK</td>\n",
       "      <td>under18</td>\n",
       "      <td>1991</td>\n",
       "      <td>182180.0</td>\n",
       "      <td>Alaska</td>\n",
       "      <td>656425.0</td>\n",
       "    </tr>\n",
       "    <tr>\n",
       "      <th>4</th>\n",
       "      <td>AK</td>\n",
       "      <td>under18</td>\n",
       "      <td>1992</td>\n",
       "      <td>184878.0</td>\n",
       "      <td>Alaska</td>\n",
       "      <td>656425.0</td>\n",
       "    </tr>\n",
       "  </tbody>\n",
       "</table>\n",
       "</div>"
      ],
      "text/plain": [
       "  state/region     ages  year  population   state  area (sq. mi)\n",
       "0           AK    total  1990    553290.0  Alaska       656425.0\n",
       "1           AK  under18  1990    177502.0  Alaska       656425.0\n",
       "2           AK    total  1992    588736.0  Alaska       656425.0\n",
       "3           AK  under18  1991    182180.0  Alaska       656425.0\n",
       "4           AK  under18  1992    184878.0  Alaska       656425.0"
      ]
     },
     "execution_count": 137,
     "metadata": {},
     "output_type": "execute_result"
    }
   ],
   "source": [
    "final = pd.merge(merged, areas, on='state', how='left')\n",
    "final.head()"
   ]
  },
  {
   "cell_type": "code",
   "execution_count": 138,
   "id": "52b310a1-0b70-450a-8893-1cade2f811dc",
   "metadata": {},
   "outputs": [
    {
     "data": {
      "text/plain": [
       "state/region     False\n",
       "ages             False\n",
       "year             False\n",
       "population        True\n",
       "state            False\n",
       "area (sq. mi)     True\n",
       "dtype: bool"
      ]
     },
     "execution_count": 138,
     "metadata": {},
     "output_type": "execute_result"
    }
   ],
   "source": [
    "final.isnull().any()"
   ]
  },
  {
   "cell_type": "code",
   "execution_count": 140,
   "id": "7bffc122-4481-473e-8979-029848592301",
   "metadata": {},
   "outputs": [
    {
     "data": {
      "text/plain": [
       "array(['United States'], dtype=object)"
      ]
     },
     "execution_count": 140,
     "metadata": {},
     "output_type": "execute_result"
    }
   ],
   "source": [
    "final['state'][final['area (sq. mi)'].isnull()].unique()"
   ]
  },
  {
   "cell_type": "code",
   "execution_count": 141,
   "id": "4c7bc5cb-a662-4630-967f-f3b72a6ccfd6",
   "metadata": {},
   "outputs": [
    {
     "data": {
      "text/html": [
       "<div>\n",
       "<style scoped>\n",
       "    .dataframe tbody tr th:only-of-type {\n",
       "        vertical-align: middle;\n",
       "    }\n",
       "\n",
       "    .dataframe tbody tr th {\n",
       "        vertical-align: top;\n",
       "    }\n",
       "\n",
       "    .dataframe thead th {\n",
       "        text-align: right;\n",
       "    }\n",
       "</style>\n",
       "<table border=\"1\" class=\"dataframe\">\n",
       "  <thead>\n",
       "    <tr style=\"text-align: right;\">\n",
       "      <th></th>\n",
       "      <th>state/region</th>\n",
       "      <th>ages</th>\n",
       "      <th>year</th>\n",
       "      <th>population</th>\n",
       "      <th>state</th>\n",
       "      <th>area (sq. mi)</th>\n",
       "    </tr>\n",
       "  </thead>\n",
       "  <tbody>\n",
       "    <tr>\n",
       "      <th>0</th>\n",
       "      <td>AK</td>\n",
       "      <td>total</td>\n",
       "      <td>1990</td>\n",
       "      <td>553290.0</td>\n",
       "      <td>Alaska</td>\n",
       "      <td>656425.0</td>\n",
       "    </tr>\n",
       "    <tr>\n",
       "      <th>1</th>\n",
       "      <td>AK</td>\n",
       "      <td>under18</td>\n",
       "      <td>1990</td>\n",
       "      <td>177502.0</td>\n",
       "      <td>Alaska</td>\n",
       "      <td>656425.0</td>\n",
       "    </tr>\n",
       "    <tr>\n",
       "      <th>2</th>\n",
       "      <td>AK</td>\n",
       "      <td>total</td>\n",
       "      <td>1992</td>\n",
       "      <td>588736.0</td>\n",
       "      <td>Alaska</td>\n",
       "      <td>656425.0</td>\n",
       "    </tr>\n",
       "    <tr>\n",
       "      <th>3</th>\n",
       "      <td>AK</td>\n",
       "      <td>under18</td>\n",
       "      <td>1991</td>\n",
       "      <td>182180.0</td>\n",
       "      <td>Alaska</td>\n",
       "      <td>656425.0</td>\n",
       "    </tr>\n",
       "    <tr>\n",
       "      <th>4</th>\n",
       "      <td>AK</td>\n",
       "      <td>under18</td>\n",
       "      <td>1992</td>\n",
       "      <td>184878.0</td>\n",
       "      <td>Alaska</td>\n",
       "      <td>656425.0</td>\n",
       "    </tr>\n",
       "  </tbody>\n",
       "</table>\n",
       "</div>"
      ],
      "text/plain": [
       "  state/region     ages  year  population   state  area (sq. mi)\n",
       "0           AK    total  1990    553290.0  Alaska       656425.0\n",
       "1           AK  under18  1990    177502.0  Alaska       656425.0\n",
       "2           AK    total  1992    588736.0  Alaska       656425.0\n",
       "3           AK  under18  1991    182180.0  Alaska       656425.0\n",
       "4           AK  under18  1992    184878.0  Alaska       656425.0"
      ]
     },
     "execution_count": 141,
     "metadata": {},
     "output_type": "execute_result"
    }
   ],
   "source": [
    "final.dropna(inplace=True)\n",
    "final.head()"
   ]
  },
  {
   "cell_type": "code",
   "execution_count": 152,
   "id": "8710cfd7-0369-4821-bd2b-e2c131b5c5d7",
   "metadata": {},
   "outputs": [
    {
     "data": {
      "text/html": [
       "<div>\n",
       "<style scoped>\n",
       "    .dataframe tbody tr th:only-of-type {\n",
       "        vertical-align: middle;\n",
       "    }\n",
       "\n",
       "    .dataframe tbody tr th {\n",
       "        vertical-align: top;\n",
       "    }\n",
       "\n",
       "    .dataframe thead th {\n",
       "        text-align: right;\n",
       "    }\n",
       "</style>\n",
       "<table border=\"1\" class=\"dataframe\">\n",
       "  <thead>\n",
       "    <tr style=\"text-align: right;\">\n",
       "      <th></th>\n",
       "      <th>state/region</th>\n",
       "      <th>ages</th>\n",
       "      <th>year</th>\n",
       "      <th>population</th>\n",
       "      <th>state</th>\n",
       "      <th>area (sq. mi)</th>\n",
       "    </tr>\n",
       "  </thead>\n",
       "  <tbody>\n",
       "    <tr>\n",
       "      <th>43</th>\n",
       "      <td>AK</td>\n",
       "      <td>total</td>\n",
       "      <td>2010</td>\n",
       "      <td>713868.0</td>\n",
       "      <td>Alaska</td>\n",
       "      <td>656425.0</td>\n",
       "    </tr>\n",
       "    <tr>\n",
       "      <th>51</th>\n",
       "      <td>AL</td>\n",
       "      <td>total</td>\n",
       "      <td>2010</td>\n",
       "      <td>4785570.0</td>\n",
       "      <td>Alabama</td>\n",
       "      <td>52423.0</td>\n",
       "    </tr>\n",
       "    <tr>\n",
       "      <th>141</th>\n",
       "      <td>AR</td>\n",
       "      <td>total</td>\n",
       "      <td>2010</td>\n",
       "      <td>2922280.0</td>\n",
       "      <td>Arkansas</td>\n",
       "      <td>53182.0</td>\n",
       "    </tr>\n",
       "    <tr>\n",
       "      <th>149</th>\n",
       "      <td>AZ</td>\n",
       "      <td>total</td>\n",
       "      <td>2010</td>\n",
       "      <td>6408790.0</td>\n",
       "      <td>Arizona</td>\n",
       "      <td>114006.0</td>\n",
       "    </tr>\n",
       "    <tr>\n",
       "      <th>197</th>\n",
       "      <td>CA</td>\n",
       "      <td>total</td>\n",
       "      <td>2010</td>\n",
       "      <td>37333601.0</td>\n",
       "      <td>California</td>\n",
       "      <td>163707.0</td>\n",
       "    </tr>\n",
       "  </tbody>\n",
       "</table>\n",
       "</div>"
      ],
      "text/plain": [
       "    state/region   ages  year  population       state  area (sq. mi)\n",
       "43            AK  total  2010    713868.0      Alaska       656425.0\n",
       "51            AL  total  2010   4785570.0     Alabama        52423.0\n",
       "141           AR  total  2010   2922280.0    Arkansas        53182.0\n",
       "149           AZ  total  2010   6408790.0     Arizona       114006.0\n",
       "197           CA  total  2010  37333601.0  California       163707.0"
      ]
     },
     "execution_count": 152,
     "metadata": {},
     "output_type": "execute_result"
    }
   ],
   "source": [
    "data2010 = final.query(\"year == 2010 & ages == 'total'\")\n",
    "data2010.head()"
   ]
  },
  {
   "cell_type": "code",
   "execution_count": 153,
   "id": "9c559aac-ff29-4980-89cf-2c7fa13530ed",
   "metadata": {},
   "outputs": [],
   "source": [
    "data2010.set_index('state', inplace=True)\n",
    "density = data2010['population'] / data2010['area (sq. mi)']"
   ]
  },
  {
   "cell_type": "code",
   "execution_count": 154,
   "id": "0ed3b5c8-6827-4982-8868-1b994b8c852a",
   "metadata": {},
   "outputs": [
    {
     "data": {
      "text/plain": [
       "state\n",
       "District of Columbia    8898.897059\n",
       "Puerto Rico             1058.665149\n",
       "New Jersey              1009.253268\n",
       "Rhode Island             681.339159\n",
       "Connecticut              645.600649\n",
       "dtype: float64"
      ]
     },
     "execution_count": 154,
     "metadata": {},
     "output_type": "execute_result"
    }
   ],
   "source": [
    "density.sort_values(ascending=False, inplace=True)\n",
    "density.head()"
   ]
  },
  {
   "cell_type": "code",
   "execution_count": 155,
   "id": "d3f1c970-96e8-4a2f-92c6-9d7fd9565e1d",
   "metadata": {},
   "outputs": [
    {
     "data": {
      "text/plain": [
       "state\n",
       "South Dakota    10.583512\n",
       "North Dakota     9.537565\n",
       "Montana          6.736171\n",
       "Wyoming          5.768079\n",
       "Alaska           1.087509\n",
       "dtype: float64"
      ]
     },
     "execution_count": 155,
     "metadata": {},
     "output_type": "execute_result"
    }
   ],
   "source": [
    "density.tail()"
   ]
  },
  {
   "cell_type": "code",
   "execution_count": 163,
   "id": "4c7af8d6-9b17-4f1b-b429-15e6e2ac2803",
   "metadata": {},
   "outputs": [
    {
     "data": {
      "text/plain": [
       "((5, 4), (5, 2))"
      ]
     },
     "execution_count": 163,
     "metadata": {},
     "output_type": "execute_result"
    }
   ],
   "source": [
    "pop.head().shape, areas.head().shape"
   ]
  },
  {
   "cell_type": "code",
   "execution_count": 165,
   "id": "fab9f2ac-8fad-48d8-8e91-35093d5b241a",
   "metadata": {},
   "outputs": [
    {
     "data": {
      "text/plain": [
       "(5, 5)"
      ]
     },
     "execution_count": 165,
     "metadata": {},
     "output_type": "execute_result"
    }
   ],
   "source": [
    "merged.head().shape"
   ]
  },
  {
   "cell_type": "code",
   "execution_count": 169,
   "id": "f286cee8-5bfa-4b4d-812c-767e245effff",
   "metadata": {},
   "outputs": [
    {
     "data": {
      "text/plain": [
       "(array(['AK', 'AL', 'AR', 'AZ', 'CA', 'CO', 'CT', 'DC', 'DE', 'FL', 'GA',\n",
       "        'HI', 'IA', 'ID', 'IL', 'IN', 'KS', 'KY', 'LA', 'MA', 'MD', 'ME',\n",
       "        'MI', 'MN', 'MO', 'MS', 'MT', 'NC', 'ND', 'NE', 'NH', 'NJ', 'NM',\n",
       "        'NV', 'NY', 'OH', 'OK', 'OR', 'PA', 'PR', 'RI', 'SC', 'SD', 'TN',\n",
       "        'TX', 'USA', 'UT', 'VA', 'VT', 'WA', 'WI', 'WV', 'WY'],\n",
       "       dtype=object),\n",
       " 53)"
      ]
     },
     "execution_count": 169,
     "metadata": {},
     "output_type": "execute_result"
    }
   ],
   "source": [
    "merged['state/region'].unique(), len(pop['state/region'].unique())"
   ]
  },
  {
   "cell_type": "code",
   "execution_count": 170,
   "id": "65836259-9f46-4746-954f-f69010690db9",
   "metadata": {},
   "outputs": [
    {
     "data": {
      "text/plain": [
       "(2544, 5)"
      ]
     },
     "execution_count": 170,
     "metadata": {},
     "output_type": "execute_result"
    }
   ],
   "source": [
    "merged.shape"
   ]
  },
  {
   "cell_type": "code",
   "execution_count": 171,
   "id": "4c76bb78-f24e-4a7d-88bc-404d7a235cd9",
   "metadata": {},
   "outputs": [
    {
     "data": {
      "text/html": [
       "<div>\n",
       "<style scoped>\n",
       "    .dataframe tbody tr th:only-of-type {\n",
       "        vertical-align: middle;\n",
       "    }\n",
       "\n",
       "    .dataframe tbody tr th {\n",
       "        vertical-align: top;\n",
       "    }\n",
       "\n",
       "    .dataframe thead th {\n",
       "        text-align: right;\n",
       "    }\n",
       "</style>\n",
       "<table border=\"1\" class=\"dataframe\">\n",
       "  <thead>\n",
       "    <tr style=\"text-align: right;\">\n",
       "      <th></th>\n",
       "      <th>state/region</th>\n",
       "      <th>ages</th>\n",
       "      <th>year</th>\n",
       "      <th>population</th>\n",
       "      <th>state</th>\n",
       "    </tr>\n",
       "  </thead>\n",
       "  <tbody>\n",
       "    <tr>\n",
       "      <th>0</th>\n",
       "      <td>AK</td>\n",
       "      <td>total</td>\n",
       "      <td>1990</td>\n",
       "      <td>553290.0</td>\n",
       "      <td>Alaska</td>\n",
       "    </tr>\n",
       "    <tr>\n",
       "      <th>1</th>\n",
       "      <td>AK</td>\n",
       "      <td>under18</td>\n",
       "      <td>1990</td>\n",
       "      <td>177502.0</td>\n",
       "      <td>Alaska</td>\n",
       "    </tr>\n",
       "    <tr>\n",
       "      <th>2</th>\n",
       "      <td>AK</td>\n",
       "      <td>total</td>\n",
       "      <td>1992</td>\n",
       "      <td>588736.0</td>\n",
       "      <td>Alaska</td>\n",
       "    </tr>\n",
       "    <tr>\n",
       "      <th>3</th>\n",
       "      <td>AK</td>\n",
       "      <td>under18</td>\n",
       "      <td>1991</td>\n",
       "      <td>182180.0</td>\n",
       "      <td>Alaska</td>\n",
       "    </tr>\n",
       "    <tr>\n",
       "      <th>4</th>\n",
       "      <td>AK</td>\n",
       "      <td>under18</td>\n",
       "      <td>1992</td>\n",
       "      <td>184878.0</td>\n",
       "      <td>Alaska</td>\n",
       "    </tr>\n",
       "  </tbody>\n",
       "</table>\n",
       "</div>"
      ],
      "text/plain": [
       "  state/region     ages  year  population   state\n",
       "0           AK    total  1990    553290.0  Alaska\n",
       "1           AK  under18  1990    177502.0  Alaska\n",
       "2           AK    total  1992    588736.0  Alaska\n",
       "3           AK  under18  1991    182180.0  Alaska\n",
       "4           AK  under18  1992    184878.0  Alaska"
      ]
     },
     "execution_count": 171,
     "metadata": {},
     "output_type": "execute_result"
    }
   ],
   "source": [
    "merged.head()"
   ]
  },
  {
   "cell_type": "markdown",
   "id": "18457416-0901-474f-a8d1-3e85d72984c8",
   "metadata": {},
   "source": [
    "### GroupBy: 분할, 적용, 결합"
   ]
  },
  {
   "cell_type": "code",
   "execution_count": null,
   "id": "8a736fef-29ed-4cac-a7e9-ee4f778f5a23",
   "metadata": {},
   "outputs": [],
   "source": [
    "# 간단한 집계 : 데이터세트의 전반적인 특성을 알려줌,\n",
    "# 조건부 집계 : groupby 연산으로 구현\n",
    "# SQL 데이터베이서 언어에서 유래, R 분석 권위자 해들리 위컴(Hadley Wickham)이 최초로 고안한 용어 분할(split), 적용(apply), 결합(comvine)"
   ]
  },
  {
   "cell_type": "code",
   "execution_count": 173,
   "id": "25c8237f-da38-48fd-b8e5-56349ef33942",
   "metadata": {},
   "outputs": [],
   "source": [
    "# 분할, 적용(요약 집계), 결합\n",
    "\n",
    "# -분할 : 지정된 키 값을 기준으로 DataFrame을 나누고 분류하는 단계\n",
    "# -적용 : 개별 그룹 내에서 일반적으로 집계, 변환, 필터링 같은 함수를 계산\n",
    "# -결합 : 이 연산의 결과를 결과 배열에 병합"
   ]
  },
  {
   "cell_type": "code",
   "execution_count": 175,
   "id": "4ff77158-d4a1-4633-a1eb-7dfaebd3ca09",
   "metadata": {},
   "outputs": [
    {
     "data": {
      "text/html": [
       "<div>\n",
       "<style scoped>\n",
       "    .dataframe tbody tr th:only-of-type {\n",
       "        vertical-align: middle;\n",
       "    }\n",
       "\n",
       "    .dataframe tbody tr th {\n",
       "        vertical-align: top;\n",
       "    }\n",
       "\n",
       "    .dataframe thead th {\n",
       "        text-align: right;\n",
       "    }\n",
       "</style>\n",
       "<table border=\"1\" class=\"dataframe\">\n",
       "  <thead>\n",
       "    <tr style=\"text-align: right;\">\n",
       "      <th></th>\n",
       "      <th>key</th>\n",
       "      <th>data</th>\n",
       "    </tr>\n",
       "  </thead>\n",
       "  <tbody>\n",
       "    <tr>\n",
       "      <th>0</th>\n",
       "      <td>A</td>\n",
       "      <td>0</td>\n",
       "    </tr>\n",
       "    <tr>\n",
       "      <th>1</th>\n",
       "      <td>B</td>\n",
       "      <td>1</td>\n",
       "    </tr>\n",
       "    <tr>\n",
       "      <th>2</th>\n",
       "      <td>C</td>\n",
       "      <td>2</td>\n",
       "    </tr>\n",
       "    <tr>\n",
       "      <th>3</th>\n",
       "      <td>A</td>\n",
       "      <td>3</td>\n",
       "    </tr>\n",
       "    <tr>\n",
       "      <th>4</th>\n",
       "      <td>B</td>\n",
       "      <td>4</td>\n",
       "    </tr>\n",
       "    <tr>\n",
       "      <th>5</th>\n",
       "      <td>C</td>\n",
       "      <td>5</td>\n",
       "    </tr>\n",
       "  </tbody>\n",
       "</table>\n",
       "</div>"
      ],
      "text/plain": [
       "  key  data\n",
       "0   A     0\n",
       "1   B     1\n",
       "2   C     2\n",
       "3   A     3\n",
       "4   B     4\n",
       "5   C     5"
      ]
     },
     "execution_count": 175,
     "metadata": {},
     "output_type": "execute_result"
    }
   ],
   "source": [
    "df = pd.DataFrame({'key' : ['A', 'B', 'C', 'A', 'B', 'C'],\n",
    "                   'data' : range(6)}, columns = ['key', 'data'])\n",
    "df"
   ]
  },
  {
   "cell_type": "code",
   "execution_count": 178,
   "id": "a480b7e0-b3c1-46de-8c96-ffc982b77f60",
   "metadata": {},
   "outputs": [
    {
     "data": {
      "text/plain": [
       "<pandas.core.groupby.generic.DataFrameGroupBy object at 0x0000022A18B5A490>"
      ]
     },
     "execution_count": 178,
     "metadata": {},
     "output_type": "execute_result"
    }
   ],
   "source": [
    "df.groupby('key') # DataFrame의 groupby() 메서드에 원하는 키 열의 이름을 전달해 가장 기본적인 분할-적용-결합 연산을 계산"
   ]
  },
  {
   "cell_type": "code",
   "execution_count": 181,
   "id": "f96412f6-d83b-4a41-8017-1b23f4ee971c",
   "metadata": {},
   "outputs": [
    {
     "data": {
      "text/html": [
       "<div>\n",
       "<style scoped>\n",
       "    .dataframe tbody tr th:only-of-type {\n",
       "        vertical-align: middle;\n",
       "    }\n",
       "\n",
       "    .dataframe tbody tr th {\n",
       "        vertical-align: top;\n",
       "    }\n",
       "\n",
       "    .dataframe thead th {\n",
       "        text-align: right;\n",
       "    }\n",
       "</style>\n",
       "<table border=\"1\" class=\"dataframe\">\n",
       "  <thead>\n",
       "    <tr style=\"text-align: right;\">\n",
       "      <th></th>\n",
       "      <th>data</th>\n",
       "    </tr>\n",
       "    <tr>\n",
       "      <th>key</th>\n",
       "      <th></th>\n",
       "    </tr>\n",
       "  </thead>\n",
       "  <tbody>\n",
       "    <tr>\n",
       "      <th>A</th>\n",
       "      <td>3</td>\n",
       "    </tr>\n",
       "    <tr>\n",
       "      <th>B</th>\n",
       "      <td>5</td>\n",
       "    </tr>\n",
       "    <tr>\n",
       "      <th>C</th>\n",
       "      <td>7</td>\n",
       "    </tr>\n",
       "  </tbody>\n",
       "</table>\n",
       "</div>"
      ],
      "text/plain": [
       "     data\n",
       "key      \n",
       "A       3\n",
       "B       5\n",
       "C       7"
      ]
     },
     "execution_count": 181,
     "metadata": {},
     "output_type": "execute_result"
    }
   ],
   "source": [
    "# DataFrame의 집합이 아니라 DataFrameGroupBy 객체가 반환\n",
    "\n",
    "df.groupby('key').sum()"
   ]
  },
  {
   "cell_type": "code",
   "execution_count": 193,
   "id": "12cc87d9-37d7-4119-8887-8ec0c7888094",
   "metadata": {},
   "outputs": [
    {
     "name": "stdout",
     "output_type": "stream",
     "text": [
      "Requirement already satisfied: seaborn in c:\\users\\user\\appdata\\local\\programs\\python\\python39\\lib\\site-packages (0.13.2)\n",
      "Requirement already satisfied: numpy!=1.24.0,>=1.20 in c:\\users\\user\\appdata\\local\\programs\\python\\python39\\lib\\site-packages (from seaborn) (1.26.4)\n",
      "Requirement already satisfied: pandas>=1.2 in c:\\users\\user\\appdata\\local\\programs\\python\\python39\\lib\\site-packages (from seaborn) (2.2.2)\n",
      "Requirement already satisfied: matplotlib!=3.6.1,>=3.4 in c:\\users\\user\\appdata\\local\\programs\\python\\python39\\lib\\site-packages (from seaborn) (3.9.0)\n",
      "Requirement already satisfied: contourpy>=1.0.1 in c:\\users\\user\\appdata\\local\\programs\\python\\python39\\lib\\site-packages (from matplotlib!=3.6.1,>=3.4->seaborn) (1.2.1)\n",
      "Requirement already satisfied: cycler>=0.10 in c:\\users\\user\\appdata\\local\\programs\\python\\python39\\lib\\site-packages (from matplotlib!=3.6.1,>=3.4->seaborn) (0.12.1)\n",
      "Requirement already satisfied: fonttools>=4.22.0 in c:\\users\\user\\appdata\\local\\programs\\python\\python39\\lib\\site-packages (from matplotlib!=3.6.1,>=3.4->seaborn) (4.51.0)\n",
      "Requirement already satisfied: kiwisolver>=1.3.1 in c:\\users\\user\\appdata\\local\\programs\\python\\python39\\lib\\site-packages (from matplotlib!=3.6.1,>=3.4->seaborn) (1.4.5)\n",
      "Requirement already satisfied: packaging>=20.0 in c:\\users\\user\\appdata\\local\\programs\\python\\python39\\lib\\site-packages (from matplotlib!=3.6.1,>=3.4->seaborn) (24.0)\n",
      "Requirement already satisfied: pillow>=8 in c:\\users\\user\\appdata\\local\\programs\\python\\python39\\lib\\site-packages (from matplotlib!=3.6.1,>=3.4->seaborn) (10.3.0)\n",
      "Requirement already satisfied: pyparsing>=2.3.1 in c:\\users\\user\\appdata\\local\\programs\\python\\python39\\lib\\site-packages (from matplotlib!=3.6.1,>=3.4->seaborn) (3.1.2)\n",
      "Requirement already satisfied: python-dateutil>=2.7 in c:\\users\\user\\appdata\\local\\programs\\python\\python39\\lib\\site-packages (from matplotlib!=3.6.1,>=3.4->seaborn) (2.9.0.post0)\n",
      "Requirement already satisfied: importlib-resources>=3.2.0 in c:\\users\\user\\appdata\\local\\programs\\python\\python39\\lib\\site-packages (from matplotlib!=3.6.1,>=3.4->seaborn) (6.4.0)\n",
      "Requirement already satisfied: pytz>=2020.1 in c:\\users\\user\\appdata\\local\\programs\\python\\python39\\lib\\site-packages (from pandas>=1.2->seaborn) (2024.1)\n",
      "Requirement already satisfied: tzdata>=2022.7 in c:\\users\\user\\appdata\\local\\programs\\python\\python39\\lib\\site-packages (from pandas>=1.2->seaborn) (2024.1)\n",
      "Requirement already satisfied: zipp>=3.1.0 in c:\\users\\user\\appdata\\local\\programs\\python\\python39\\lib\\site-packages (from importlib-resources>=3.2.0->matplotlib!=3.6.1,>=3.4->seaborn) (3.18.2)\n",
      "Requirement already satisfied: six>=1.5 in c:\\users\\user\\appdata\\local\\programs\\python\\python39\\lib\\site-packages (from python-dateutil>=2.7->matplotlib!=3.6.1,>=3.4->seaborn) (1.16.0)\n",
      "Note: you may need to restart the kernel to use updated packages.\n"
     ]
    }
   ],
   "source": [
    "pip install seaborn"
   ]
  },
  {
   "cell_type": "code",
   "execution_count": 3,
   "id": "d9ca30c1-cb05-4b4a-8f2d-4b9508072d42",
   "metadata": {},
   "outputs": [
    {
     "data": {
      "text/plain": [
       "(1035, 6)"
      ]
     },
     "execution_count": 3,
     "metadata": {},
     "output_type": "execute_result"
    }
   ],
   "source": [
    "import seaborn as sns\n",
    "df = sns.load_dataset('planets')\n",
    "df.shape"
   ]
  },
  {
   "cell_type": "code",
   "execution_count": 11,
   "id": "f9f13217-a9f2-4df2-aaf7-1ba9a0db3c3a",
   "metadata": {},
   "outputs": [
    {
     "data": {
      "text/html": [
       "<div>\n",
       "<style scoped>\n",
       "    .dataframe tbody tr th:only-of-type {\n",
       "        vertical-align: middle;\n",
       "    }\n",
       "\n",
       "    .dataframe tbody tr th {\n",
       "        vertical-align: top;\n",
       "    }\n",
       "\n",
       "    .dataframe thead th {\n",
       "        text-align: right;\n",
       "    }\n",
       "</style>\n",
       "<table border=\"1\" class=\"dataframe\">\n",
       "  <thead>\n",
       "    <tr style=\"text-align: right;\">\n",
       "      <th></th>\n",
       "      <th>method</th>\n",
       "      <th>number</th>\n",
       "      <th>orbital_period</th>\n",
       "      <th>mass</th>\n",
       "      <th>distance</th>\n",
       "      <th>year</th>\n",
       "    </tr>\n",
       "  </thead>\n",
       "  <tbody>\n",
       "    <tr>\n",
       "      <th>0</th>\n",
       "      <td>Radial Velocity</td>\n",
       "      <td>1</td>\n",
       "      <td>269.300000</td>\n",
       "      <td>7.10</td>\n",
       "      <td>77.40</td>\n",
       "      <td>2006</td>\n",
       "    </tr>\n",
       "    <tr>\n",
       "      <th>1</th>\n",
       "      <td>Radial Velocity</td>\n",
       "      <td>1</td>\n",
       "      <td>874.774000</td>\n",
       "      <td>2.21</td>\n",
       "      <td>56.95</td>\n",
       "      <td>2008</td>\n",
       "    </tr>\n",
       "    <tr>\n",
       "      <th>2</th>\n",
       "      <td>Radial Velocity</td>\n",
       "      <td>1</td>\n",
       "      <td>763.000000</td>\n",
       "      <td>2.60</td>\n",
       "      <td>19.84</td>\n",
       "      <td>2011</td>\n",
       "    </tr>\n",
       "    <tr>\n",
       "      <th>3</th>\n",
       "      <td>Radial Velocity</td>\n",
       "      <td>1</td>\n",
       "      <td>326.030000</td>\n",
       "      <td>19.40</td>\n",
       "      <td>110.62</td>\n",
       "      <td>2007</td>\n",
       "    </tr>\n",
       "    <tr>\n",
       "      <th>4</th>\n",
       "      <td>Radial Velocity</td>\n",
       "      <td>1</td>\n",
       "      <td>516.220000</td>\n",
       "      <td>10.50</td>\n",
       "      <td>119.47</td>\n",
       "      <td>2009</td>\n",
       "    </tr>\n",
       "    <tr>\n",
       "      <th>...</th>\n",
       "      <td>...</td>\n",
       "      <td>...</td>\n",
       "      <td>...</td>\n",
       "      <td>...</td>\n",
       "      <td>...</td>\n",
       "      <td>...</td>\n",
       "    </tr>\n",
       "    <tr>\n",
       "      <th>1030</th>\n",
       "      <td>Transit</td>\n",
       "      <td>1</td>\n",
       "      <td>3.941507</td>\n",
       "      <td>NaN</td>\n",
       "      <td>172.00</td>\n",
       "      <td>2006</td>\n",
       "    </tr>\n",
       "    <tr>\n",
       "      <th>1031</th>\n",
       "      <td>Transit</td>\n",
       "      <td>1</td>\n",
       "      <td>2.615864</td>\n",
       "      <td>NaN</td>\n",
       "      <td>148.00</td>\n",
       "      <td>2007</td>\n",
       "    </tr>\n",
       "    <tr>\n",
       "      <th>1032</th>\n",
       "      <td>Transit</td>\n",
       "      <td>1</td>\n",
       "      <td>3.191524</td>\n",
       "      <td>NaN</td>\n",
       "      <td>174.00</td>\n",
       "      <td>2007</td>\n",
       "    </tr>\n",
       "    <tr>\n",
       "      <th>1033</th>\n",
       "      <td>Transit</td>\n",
       "      <td>1</td>\n",
       "      <td>4.125083</td>\n",
       "      <td>NaN</td>\n",
       "      <td>293.00</td>\n",
       "      <td>2008</td>\n",
       "    </tr>\n",
       "    <tr>\n",
       "      <th>1034</th>\n",
       "      <td>Transit</td>\n",
       "      <td>1</td>\n",
       "      <td>4.187757</td>\n",
       "      <td>NaN</td>\n",
       "      <td>260.00</td>\n",
       "      <td>2008</td>\n",
       "    </tr>\n",
       "  </tbody>\n",
       "</table>\n",
       "<p>1035 rows × 6 columns</p>\n",
       "</div>"
      ],
      "text/plain": [
       "               method  number  orbital_period   mass  distance  year\n",
       "0     Radial Velocity       1      269.300000   7.10     77.40  2006\n",
       "1     Radial Velocity       1      874.774000   2.21     56.95  2008\n",
       "2     Radial Velocity       1      763.000000   2.60     19.84  2011\n",
       "3     Radial Velocity       1      326.030000  19.40    110.62  2007\n",
       "4     Radial Velocity       1      516.220000  10.50    119.47  2009\n",
       "...               ...     ...             ...    ...       ...   ...\n",
       "1030          Transit       1        3.941507    NaN    172.00  2006\n",
       "1031          Transit       1        2.615864    NaN    148.00  2007\n",
       "1032          Transit       1        3.191524    NaN    174.00  2007\n",
       "1033          Transit       1        4.125083    NaN    293.00  2008\n",
       "1034          Transit       1        4.187757    NaN    260.00  2008\n",
       "\n",
       "[1035 rows x 6 columns]"
      ]
     },
     "execution_count": 11,
     "metadata": {},
     "output_type": "execute_result"
    }
   ],
   "source": [
    "df"
   ]
  },
  {
   "cell_type": "code",
   "execution_count": 5,
   "id": "6f984f4e-bd9f-439e-b353-c1cedeb9c345",
   "metadata": {},
   "outputs": [
    {
     "data": {
      "text/html": [
       "<div>\n",
       "<style scoped>\n",
       "    .dataframe tbody tr th:only-of-type {\n",
       "        vertical-align: middle;\n",
       "    }\n",
       "\n",
       "    .dataframe tbody tr th {\n",
       "        vertical-align: top;\n",
       "    }\n",
       "\n",
       "    .dataframe thead th {\n",
       "        text-align: right;\n",
       "    }\n",
       "</style>\n",
       "<table border=\"1\" class=\"dataframe\">\n",
       "  <thead>\n",
       "    <tr style=\"text-align: right;\">\n",
       "      <th></th>\n",
       "      <th>number</th>\n",
       "      <th>orbital_period</th>\n",
       "      <th>mass</th>\n",
       "      <th>distance</th>\n",
       "      <th>year</th>\n",
       "    </tr>\n",
       "  </thead>\n",
       "  <tbody>\n",
       "    <tr>\n",
       "      <th>count</th>\n",
       "      <td>498.00000</td>\n",
       "      <td>498.000000</td>\n",
       "      <td>498.000000</td>\n",
       "      <td>498.000000</td>\n",
       "      <td>498.000000</td>\n",
       "    </tr>\n",
       "    <tr>\n",
       "      <th>mean</th>\n",
       "      <td>1.73494</td>\n",
       "      <td>835.778671</td>\n",
       "      <td>2.509320</td>\n",
       "      <td>52.068213</td>\n",
       "      <td>2007.377510</td>\n",
       "    </tr>\n",
       "    <tr>\n",
       "      <th>std</th>\n",
       "      <td>1.17572</td>\n",
       "      <td>1469.128259</td>\n",
       "      <td>3.636274</td>\n",
       "      <td>46.596041</td>\n",
       "      <td>4.167284</td>\n",
       "    </tr>\n",
       "    <tr>\n",
       "      <th>min</th>\n",
       "      <td>1.00000</td>\n",
       "      <td>1.328300</td>\n",
       "      <td>0.003600</td>\n",
       "      <td>1.350000</td>\n",
       "      <td>1989.000000</td>\n",
       "    </tr>\n",
       "    <tr>\n",
       "      <th>25%</th>\n",
       "      <td>1.00000</td>\n",
       "      <td>38.272250</td>\n",
       "      <td>0.212500</td>\n",
       "      <td>24.497500</td>\n",
       "      <td>2005.000000</td>\n",
       "    </tr>\n",
       "    <tr>\n",
       "      <th>50%</th>\n",
       "      <td>1.00000</td>\n",
       "      <td>357.000000</td>\n",
       "      <td>1.245000</td>\n",
       "      <td>39.940000</td>\n",
       "      <td>2009.000000</td>\n",
       "    </tr>\n",
       "    <tr>\n",
       "      <th>75%</th>\n",
       "      <td>2.00000</td>\n",
       "      <td>999.600000</td>\n",
       "      <td>2.867500</td>\n",
       "      <td>59.332500</td>\n",
       "      <td>2011.000000</td>\n",
       "    </tr>\n",
       "    <tr>\n",
       "      <th>max</th>\n",
       "      <td>6.00000</td>\n",
       "      <td>17337.500000</td>\n",
       "      <td>25.000000</td>\n",
       "      <td>354.000000</td>\n",
       "      <td>2014.000000</td>\n",
       "    </tr>\n",
       "  </tbody>\n",
       "</table>\n",
       "</div>"
      ],
      "text/plain": [
       "          number  orbital_period        mass    distance         year\n",
       "count  498.00000      498.000000  498.000000  498.000000   498.000000\n",
       "mean     1.73494      835.778671    2.509320   52.068213  2007.377510\n",
       "std      1.17572     1469.128259    3.636274   46.596041     4.167284\n",
       "min      1.00000        1.328300    0.003600    1.350000  1989.000000\n",
       "25%      1.00000       38.272250    0.212500   24.497500  2005.000000\n",
       "50%      1.00000      357.000000    1.245000   39.940000  2009.000000\n",
       "75%      2.00000      999.600000    2.867500   59.332500  2011.000000\n",
       "max      6.00000    17337.500000   25.000000  354.000000  2014.000000"
      ]
     },
     "execution_count": 5,
     "metadata": {},
     "output_type": "execute_result"
    }
   ],
   "source": [
    "df.dropna().describe()"
   ]
  },
  {
   "cell_type": "code",
   "execution_count": 6,
   "id": "3b8b5ed1-c3db-4642-90af-36bd4c2ae70f",
   "metadata": {},
   "outputs": [
    {
     "data": {
      "text/plain": [
       "<pandas.core.groupby.generic.DataFrameGroupBy object at 0x000002447900F2B0>"
      ]
     },
     "execution_count": 6,
     "metadata": {},
     "output_type": "execute_result"
    }
   ],
   "source": [
    "# GroupBy 객체\n",
    "\n",
    "df.groupby('method')"
   ]
  },
  {
   "cell_type": "code",
   "execution_count": 7,
   "id": "71f199fb-d644-4651-a3e3-f831c9912046",
   "metadata": {},
   "outputs": [
    {
     "data": {
      "text/plain": [
       "<pandas.core.groupby.generic.SeriesGroupBy object at 0x0000024479201F70>"
      ]
     },
     "execution_count": 7,
     "metadata": {},
     "output_type": "execute_result"
    }
   ],
   "source": [
    "df.groupby('method')['orbital_period']"
   ]
  },
  {
   "cell_type": "code",
   "execution_count": 8,
   "id": "1f6c0fa1-4b34-45d7-b087-bc27f9c41bcb",
   "metadata": {},
   "outputs": [
    {
     "data": {
      "text/plain": [
       "method\n",
       "Astrometry                         631.180000\n",
       "Eclipse Timing Variations         4343.500000\n",
       "Imaging                          27500.000000\n",
       "Microlensing                      3300.000000\n",
       "Orbital Brightness Modulation        0.342887\n",
       "Pulsar Timing                       66.541900\n",
       "Pulsation Timing Variations       1170.000000\n",
       "Radial Velocity                    360.200000\n",
       "Transit                              5.714932\n",
       "Transit Timing Variations           57.011000\n",
       "Name: orbital_period, dtype: float64"
      ]
     },
     "execution_count": 8,
     "metadata": {},
     "output_type": "execute_result"
    }
   ],
   "source": [
    "df.groupby('method')['orbital_period'].median() # 궤도 주기(일 단위)"
   ]
  },
  {
   "cell_type": "code",
   "execution_count": 12,
   "id": "d772532b-2a7a-4f9d-9f7d-e84b0fe64538",
   "metadata": {},
   "outputs": [
    {
     "data": {
      "text/plain": [
       "method\n",
       "Astrometry                          631.180000\n",
       "Eclipse Timing Variations          4751.644444\n",
       "Imaging                          118247.737500\n",
       "Microlensing                       3153.571429\n",
       "Orbital Brightness Modulation         0.709307\n",
       "Pulsar Timing                      7343.021201\n",
       "Pulsation Timing Variations        1170.000000\n",
       "Radial Velocity                     823.354680\n",
       "Transit                              21.102073\n",
       "Transit Timing Variations            79.783500\n",
       "Name: orbital_period, dtype: float64"
      ]
     },
     "execution_count": 12,
     "metadata": {},
     "output_type": "execute_result"
    }
   ],
   "source": [
    "result = df.groupby(['method'])['orbital_period'].mean() # 궤도 주기(일 단위)\n",
    "result"
   ]
  },
  {
   "cell_type": "code",
   "execution_count": 10,
   "id": "fe346ae9-2809-4786-9d66-cc754845a2c0",
   "metadata": {},
   "outputs": [
    {
     "name": "stdout",
     "output_type": "stream",
     "text": [
      "Astrometry                     shape=(2, 6)\n",
      "Eclipse Timing Variations      shape=(9, 6)\n",
      "Imaging                        shape=(38, 6)\n",
      "Microlensing                   shape=(23, 6)\n",
      "Orbital Brightness Modulation  shape=(3, 6)\n",
      "Pulsar Timing                  shape=(5, 6)\n",
      "Pulsation Timing Variations    shape=(1, 6)\n",
      "Radial Velocity                shape=(553, 6)\n",
      "Transit                        shape=(397, 6)\n",
      "Transit Timing Variations      shape=(4, 6)\n"
     ]
    }
   ],
   "source": [
    "# 그룹 내 반복\n",
    "\n",
    "# GroupBy 객체는 그룹을 직접 순회할 수 있도록 지원, 각 그룹을 Series나 DataFrame으로 반환\n",
    "for (method, group) in df.groupby('method'):\n",
    "    print(\"{0:30s} shape={1}\".format(method, group.shape))"
   ]
  },
  {
   "cell_type": "code",
   "execution_count": null,
   "id": "205fd710-99d5-4768-9182-fc6b4eff915c",
   "metadata": {},
   "outputs": [],
   "source": [
    "# 디스패치 메서드(Dispatch Method)\n",
    "\n",
    "# GroupBy 객체가 명시적으로 구현하지 않은 메서드는 그것이 DataFrame 객체든 Series 객체든 상관 없이 "
   ]
  }
 ],
 "metadata": {
  "kernelspec": {
   "display_name": "Python 3 (ipykernel)",
   "language": "python",
   "name": "python3"
  },
  "language_info": {
   "codemirror_mode": {
    "name": "ipython",
    "version": 3
   },
   "file_extension": ".py",
   "mimetype": "text/x-python",
   "name": "python",
   "nbconvert_exporter": "python",
   "pygments_lexer": "ipython3",
   "version": "3.9.13"
  }
 },
 "nbformat": 4,
 "nbformat_minor": 5
}
